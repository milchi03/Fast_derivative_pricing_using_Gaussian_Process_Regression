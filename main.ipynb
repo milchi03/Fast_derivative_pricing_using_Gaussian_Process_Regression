{
 "cells": [
  {
   "cell_type": "markdown",
   "id": "87a6f995",
   "metadata": {},
   "source": [
    "## Overview"
   ]
  },
  {
   "cell_type": "markdown",
   "id": "dcb462c6",
   "metadata": {},
   "source": [
    "This notebook contains a complete implementation of a Gaussian Process Regressor (GPR) with a squared exponential kernel using Numpy for matrix operations and Plotly for visualisation. It is an adaption of the code provided by Fabian Rang from GitLab https://gitlab.com/youtube-optimization-geeks/uncertainty-quantification."
   ]
  },
  {
   "cell_type": "markdown",
   "id": "bfc98796",
   "metadata": {},
   "source": [
    "## Packages"
   ]
  },
  {
   "cell_type": "code",
   "execution_count": 8,
   "id": "b48ebe22",
   "metadata": {},
   "outputs": [],
   "source": [
    "import numpy as np\n",
    "import plotly.graph_objects as go\n",
    "from ipywidgets import interact, widgets\n",
    "from scipy.special import kv, gamma\n",
    "import matplotlib.pyplot as plt"
   ]
  },
  {
   "cell_type": "markdown",
   "id": "4575ccbd",
   "metadata": {},
   "source": [
    "## Plotting helper functions"
   ]
  },
  {
   "cell_type": "markdown",
   "id": "caa8c0bf",
   "metadata": {},
   "source": [
    "To have nice visualizations of the later GPR, we use Plotly and to have structured and lean code, we define a few commonly used 'helpers' here. "
   ]
  },
  {
   "cell_type": "code",
   "execution_count": 9,
   "id": "ad8a0219",
   "metadata": {
    "code_folding": [
     0
    ]
   },
   "outputs": [],
   "source": [
    "def update_layout_of_graph(fig: go.Figure,title: str = 'Plot')->go.Figure:\n",
    "    fig.update_layout(\n",
    "        width=800,\n",
    "        height=600,\n",
    "        autosize=False,\n",
    "        plot_bgcolor='rgba(0,0,0,0)',\n",
    "        title=title,\n",
    "        \n",
    "    )\n",
    "    fig.update_layout(plot_bgcolor='rgba(0,0,0,0)',\n",
    "                      xaxis_title = 'input values',\n",
    "                      yaxis_title = 'output values',\n",
    "                      legend=dict(yanchor=\"top\",\n",
    "                                  y=0.9,\n",
    "                                  xanchor=\"right\",\n",
    "                                  x=0.95),\n",
    "                      title={\n",
    "                          'x': 0.5,\n",
    "                          'xanchor': 'center'\n",
    "                      })\n",
    "    fig.update_xaxes(showline=True, linewidth=1, linecolor='black')\n",
    "    fig.update_yaxes(showline=True, linewidth=1, linecolor='black')\n",
    "    return fig\n",
    "\n",
    "def line_scatter(\n",
    "    visible: bool = True,\n",
    "    x_lines: np.array = np.array([]),\n",
    "    y_lines: np.array = np.array([]),\n",
    "    name_line: str = 'Predicted function',\n",
    "    showlegend: bool = True,\n",
    ") -> go.Scatter:\n",
    "    # Adding the lines\n",
    "    return go.Scatter(\n",
    "        visible=visible,\n",
    "        line=dict(color=\"blue\", width=2),\n",
    "        x=x_lines,\n",
    "        y=y_lines,\n",
    "        name=name_line,\n",
    "        showlegend= showlegend\n",
    "    )\n",
    "\n",
    "def dot_scatter(\n",
    "    visible: bool = True,\n",
    "    x_dots: np.array = np.array([]),\n",
    "    y_dots: np.array = np.array([]),\n",
    "    name_dots: str = 'Observed points',\n",
    "    showlegend: bool = True\n",
    ") -> go.Scatter:\n",
    "    # Adding the dots\n",
    "    return go.Scatter(\n",
    "        x=x_dots,\n",
    "        visible=visible,\n",
    "        y=y_dots,\n",
    "        mode=\"markers\",\n",
    "        name=name_dots,\n",
    "        marker=dict(color='red', size=8),\n",
    "        showlegend=showlegend\n",
    "    )\n",
    "\n",
    "def uncertainty_area_scatter(\n",
    "        visible: bool = True,\n",
    "        x_lines: np.array = np.array([]),\n",
    "        y_upper: np.array = np.array([]),\n",
    "        y_lower: np.array = np.array([]),\n",
    "        name: str = \"mean plus/minus standard deviation\",\n",
    ") -> go.Scatter:\n",
    "\n",
    "    return go.Scatter(\n",
    "        visible=visible,\n",
    "        x=np.concatenate((x_lines, x_lines[::-1])),  # x, then x reversed\n",
    "        # upper, then lower reversed\n",
    "        y=np.concatenate((y_upper, y_lower[::-1])),\n",
    "        fill='toself',\n",
    "        fillcolor='rgba(189,195,199,0.5)',\n",
    "        line=dict(color='rgba(200,200,200,0)'),\n",
    "        hoverinfo=\"skip\",\n",
    "        showlegend=True,\n",
    "        name= name,\n",
    "    )\n",
    "\n",
    "def add_slider_GPR(figure: go.Figure, parameters):\n",
    "    figure.data[0].visible = True\n",
    "    figure.data[1].visible = True\n",
    "\n",
    "    # Create and add slider\n",
    "    steps = []\n",
    "    for i in range(int((len(figure.data) - 1) / 2)):\n",
    "        step = dict(\n",
    "            method=\"update\",\n",
    "            label=f'{parameters[i]: .2f}',\n",
    "            args=[{\n",
    "                \"visible\": [False] * (len(figure.data) - 1) + [True]\n",
    "            }],\n",
    "        )\n",
    "        step[\"args\"][0][\"visible\"][2 *\n",
    "                                   i] = True  # Toggle i'th trace to \"visible\"\n",
    "        step[\"args\"][0][\"visible\"][2 * i + 1] = True\n",
    "        steps.append(step)\n",
    "\n",
    "    sliders = [dict(\n",
    "        active=0,\n",
    "        pad={\"t\": 50},\n",
    "        steps=steps,\n",
    "    )]\n",
    "    figure.update_layout(sliders=sliders, )\n",
    "    return figure\n",
    "\n",
    "def add_slider_to_function(figure:go.Figure, parameters):\n",
    "    figure.data[0].visible = True\n",
    "\n",
    "    # Create and add slider\n",
    "    steps = []\n",
    "    for i in range(len(figure.data)):\n",
    "        step = dict(\n",
    "            method=\"update\",\n",
    "            label=f'{parameters[i]: .2f}',\n",
    "            args=[{\n",
    "                \"visible\": [False] *len(figure.data) \n",
    "            }],\n",
    "        )\n",
    "        step[\"args\"][0][\"visible\"][i] = True  # Toggle i'th trace to \"visible\"\n",
    "        steps.append(step)\n",
    "\n",
    "    sliders = [dict(\n",
    "        active=0,\n",
    "        pad={\"t\": 50},\n",
    "        steps=steps,\n",
    "    )]\n",
    "    figure.update_layout(sliders=sliders, )\n",
    "    return figure"
   ]
  },
  {
   "cell_type": "markdown",
   "id": "9058664e",
   "metadata": {},
   "source": [
    "## Implementation of GPR with squared exponential kernel"
   ]
  },
  {
   "cell_type": "markdown",
   "id": "fa792ab3",
   "metadata": {},
   "source": [
    "In order to define a Gaussian Process Regressor (GPR), we need a covariance function (also called a kernel). The choice of this function determines the \"shape\" of the GPR and influences how the model generalizes to unseen data. Below are some commonly used kernels as stated in Rasmussen Table 4.1.:\n",
    "\n",
    "### 1. Squared Exponential Kernel\n",
    "The **squared exponential kernel** is widely used in Gaussian Process models and is defined as:\n",
    "$$ k(x_1, x_2) := \\sigma^2 \\exp\\left(-\\frac{\\|x_1 - x_2\\|^2_2}{2 l^2}\\right) $$\n",
    "where $ l > 0 $ is the length scale and  $\\sigma^2 > 0$ is the signal variance.\n",
    "\n",
    "- $ \\sigma $ controls the amplitude of variation in the function.\n",
    "- $ l $ controls the smoothness of the function, with smaller values making the function decay more rapidly with distance, while larger values smooth it out.\n",
    "\n",
    "### 2. Constant Kernel\n",
    "The **constant kernel** is defined as:\n",
    "$$ k(x_1, x_2) := \\sigma_0^2 $$\n",
    "where $ \\sigma_0^2 $ is a constant.\n",
    "\n",
    "This kernel is **stationary** but **degenerate** (more on that in 4.2.1), meaning it produces covariance matrices with finite rank, which limits its flexibility. Degenerate matrices have finite rank, resulting in limited expressiveness. The constant kernel is useful for modeling functions that are approximately constant across the input space. I find it mostly interesting to see what other kernels do, therefore this primitive selection.\n",
    "\n",
    "### 3. Matérn Kernel\n",
    "The **Matérn kernel** is a more general kernel with the **squared exponential kernel**. It is defined as:\n",
    "$$ k(x_1, x_2) := \\frac{1}{2^{\\nu-1} \\Gamma(\\nu)} \\left( \\frac{\\sqrt{2 \\nu} \\, \\|x_1 - x_2\\|}{l} \\right)^\\nu K_\\nu \\left( \\frac{\\sqrt{2 \\nu} \\, \\|x_1 - x_2\\|}{l} \\right) $$\n",
    "where:\n",
    "- $ l $  is the length scale.\n",
    "- $ \\nu > 0 $ controls the smoothness of the function, with higher values of $ \\nu $ making the function smoother.\n",
    "- $ K_\\nu $ is the modified Bessel function of the second kind. (I don't know what that is but I will keep it because it may be interesting to try out a highly complicated model)\n",
    "- $ \\Gamma $ is the gamma function.\n",
    "\n",
    "The Matérn kernel is often chosen for applications where controlling the smoothness of the function is important, as it allows for a range of behaviors. With $ \\nu = 0.5 $, the Matérn kernel becomes equivalent to the exponential kernel (that we did not cover here but it also a classic), and as $ \\nu \\to \\infty $, it approaches the squared exponential kernel. (Source: https://en.wikipedia.org/wiki/Mat%C3%A9rn_covariance_function)."
   ]
  },
  {
   "cell_type": "code",
   "execution_count": 10,
   "id": "cbc55090",
   "metadata": {},
   "outputs": [],
   "source": [
    "class SquaredExponentialKernel:\n",
    "    def __init__(self, sigma_f: float = 1, length: float = 1):\n",
    "        self.sigma_f = sigma_f\n",
    "        self.length = length\n",
    "\n",
    "    def __call__(self, argument_1: np.array, argument_2: np.array) -> float:\n",
    "        return float(self.sigma_f *\n",
    "                     np.exp(-(np.linalg.norm(argument_1 - argument_2)**2) /\n",
    "                            (2 * self.length**2)))\n",
    "    \n",
    "class ConstantKernel:\n",
    "    def __init__(self, sigma_0: float = 1):\n",
    "        self.sigma_0 = sigma_0\n",
    "    \n",
    "    def __call__(self, argument_1: np.array, argument_2: np.array) -> float:\n",
    "        return(self.sigma_0 ** 2)\n",
    "    \n",
    "class MaternKernel:\n",
    "    def __init__(self, sigma_f: float = 1, length: float = 1, nu: float = 1.5):\n",
    "        self.sigma_f = sigma_f\n",
    "        self.length = length\n",
    "        self.nu = nu\n",
    "\n",
    "    def __call__(self, argument_1: np.array, argument_2: np.array) -> float:\n",
    "        r = np.linalg.norm(argument_1 - argument_2) #Euclidean distance between the two points\n",
    "        \n",
    "        # Special case for r = 0 to avoid division by zero\n",
    "        if r == 0.0:\n",
    "            return self.sigma_f ** 2\n",
    "        \n",
    "        # Calculate the kernel value based on the Matérn function formula\n",
    "        factor = (2 ** (1 - self.nu)) / gamma(self.nu)\n",
    "        scaled_distance = (np.sqrt(2 * self.nu) * r) / self.length\n",
    "        bessel_term = kv(self.nu, scaled_distance)  # Modified Bessel function of the second kind\n",
    "        \n",
    "        return float(self.sigma_f ** 2 * factor * (scaled_distance ** self.nu) * bessel_term)"
   ]
  },
  {
   "cell_type": "markdown",
   "id": "b23258da",
   "metadata": {},
   "source": [
    "Let us visualize these kernels. We will start with the **squared exponential kernel**."
   ]
  },
  {
   "cell_type": "code",
   "execution_count": 11,
   "id": "e1cd79c0",
   "metadata": {},
   "outputs": [
    {
     "data": {
      "image/png": "[encoded data removed]",
      "text/plain": [
       "<Figure size 1000x600 with 1 Axes>"
      ]
     },
     "metadata": {},
     "output_type": "display_data"
    }
   ],
   "source": [
    "# Define fixed parameters for length and argument_2\n",
    "length = 1.0  # Set the length directly\n",
    "argument_2 = 0  # Set argument_2 directly\n",
    "\n",
    "# Generate x values\n",
    "x_lines = np.arange(-10, 10, 0.1)\n",
    "\n",
    "# Initialize kernel\n",
    "kernel = SquaredExponentialKernel(length=length)\n",
    "\n",
    "# Compute y values using fixed argument_2\n",
    "y_lines = np.array([kernel(x, argument_2) for x in x_lines])\n",
    "\n",
    "# Plot using matplotlib\n",
    "plt.figure(figsize=(10, 6))\n",
    "plt.plot(x_lines, y_lines, label=\"Squared Exponential Kernel\", color=\"blue\")\n",
    "plt.title(\"Squared Exponential Kernel\")\n",
    "plt.xlabel(\"x\")\n",
    "plt.ylabel(\"Kernel Output\")\n",
    "plt.legend()\n",
    "plt.grid(True)\n",
    "plt.show()"
   ]
  },
  {
   "cell_type": "markdown",
   "id": "18f81bfc",
   "metadata": {},
   "source": [
    "Let us shortly recall the formula:\n",
    "Given training points $\\mathbf{x}_1, \\dots, \\mathbf{x}_n \\in \\mathbb{R}^m$ with values $y_1, \\dots, y_n \\in \\mathbb{R}$, $\\mathbf{y} = (y_i) \\in \\mathbb{R}^n$ with noise in each point $\\mathcal{N} \\sim (0, \\sigma_n)$, and points $\\mathbf{x}_{n+1}, \\dots, \\mathbf{x}_k \\in \\mathbb{R}^m$ for which we want to predict the output, adapting our probability distribution leads to:\n",
    "\n",
    "$$\n",
    "f_* | X_*, X, y \\sim \\mathcal{N}\\left(K(X, X_*) \\cdot (K(X, X) + \\sigma^2 \\cdot I)^{-1} \\cdot \\mathbf{y},\n",
    "K(X_*, X_*) - K(X, X_*) \\cdot (K(X, X) + \\sigma^2 \\cdot I)^{-1} \\cdot K(X, X_*)\\right)\n",
    "$$\n",
    "\n",
    "where $K : (\\mathbb{R}^m)^k \\times (\\mathbb{R}^m)^l \\to \\mathbb{R}^{k \\times l}$ is defined as the matrix:\n",
    "\n",
    "$$\n",
    "K(X, X') = \\begin{bmatrix}\n",
    "    k(\\mathbf{x}_1, \\mathbf{x}'_1) & \\dots & k(\\mathbf{x}_1, \\mathbf{x}'_l) \\\\\n",
    "    \\vdots & \\ddots & \\vdots \\\\\n",
    "    k(\\mathbf{x}_k, \\mathbf{x}'_1) & \\dots & k(\\mathbf{x}_k, \\mathbf{x}'_l)\n",
    "\\end{bmatrix}\n",
    "$$\n",
    "\n",
    "the covariance matrix of $X$ and $X'$ with $X, X' \\in \\{X, X_*\\}$. This can either be the covariance matrix of training data $K(X, X)$, of test data $K(X_*, X_*)$, or of training with test data $K(X, X_*)$. $\\sigma_n$ is some noise parameter which makes sense as one should not assume $y=f(x)$ for our purposes but some error $y=f(x)+\\epsilon$. For the noise free case, set $\\sigma_n=0$."
   ]
  },
  {
   "cell_type": "markdown",
   "id": "f62091b9",
   "metadata": {},
   "source": [
    "DERIVE $f_* | X_*, X, y$. Understand why transpose!"
   ]
  },
  {
   "cell_type": "code",
   "execution_count": 12,
   "id": "06c65a7a",
   "metadata": {},
   "outputs": [],
   "source": [
    "# Helper function to calculate the respective covariance matrices\n",
    "def cov_matrix(x1, x2, cov_function) -> np.array:\n",
    "    return np.array([[cov_function(a, b) for a in x1] for b in x2])"
   ]
  },
  {
   "cell_type": "code",
   "execution_count": 13,
   "id": "d9bdfc5b",
   "metadata": {},
   "outputs": [],
   "source": [
    "class GPR:\n",
    "    def __init__(self, data_x, data_y, covariance_function=SquaredExponentialKernel(), white_noise_sigma: float = 0):\n",
    "        self.noise = white_noise_sigma\n",
    "        self.data_x = data_x\n",
    "        self.data_y = data_y\n",
    "        self.covariance_function = covariance_function\n",
    "\n",
    "        # Store the inverse of covariance matrix of input since it is needed for every prediction\n",
    "        self._inverse_of_covariance_matrix_of_input_noise_adj = np.linalg.inv(\n",
    "            cov_matrix(data_x, data_x, covariance_function) + self.noise * np.identity(len(self.data_x)))\n",
    "\n",
    "        self._memory = None  # Will later store a dictionary containing mean, covariance matrix, and variance of the predictions.\n",
    "\n",
    "    # Function to predict output at new input values. Store the mean and covariance matrix in memory.\n",
    "    def predict(self, test_data: np.ndarray) -> np.ndarray:\n",
    "        # Calculate covariance matrices\n",
    "        KXX_star = cov_matrix(test_data, self.data_x, self.covariance_function)  # K(X, X_*)\n",
    "        KXX_star = KXX_star.T\n",
    "        # Check if KXX_star has fewer rows than columns\n",
    "        #if KXX_star.shape[0] < KXX_star.shape[1]:\n",
    "            \n",
    "        #    print(\"Transposed KXX_star to match required shape. New shape:\", KXX_star.shape)\n",
    "        #else:\n",
    "        #    print(\"KXX_star shape is suitable, no transpose needed:\", KXX_star.shape)\n",
    "\n",
    "        KX_starX_star = cov_matrix(test_data, test_data, self.covariance_function)  # K(X_*, X_*)\n",
    "\n",
    "        # Mean prediction using formula: K(X, X_*) * (K(X, X) + sigma^2 * I)^(-1) * y\n",
    "        #Debug\n",
    "        print(\"Debugging shape dimensions:\")\n",
    "        print(f\"KXX_star shape: {KXX_star.shape}, expected shape: (number of test points, number of data points)\")\n",
    "        print(f\"Inverse of covariance matrix shape: {self._inverse_of_covariance_matrix_of_input_noise_adj.shape}, expected shape: ({len(self.data_x)}, {len(self.data_x)})\")\n",
    "        print(f\"Data_y shape: {self.data_y.shape}, expected shape: ({len(self.data_x)},)\")\n",
    "        print(f\"Resulting shape of (inverse covariance matrix * data_y): {(self._inverse_of_covariance_matrix_of_input_noise_adj @ self.data_y).shape}\")\n",
    "        mean_test_data = KXX_star @ (self._inverse_of_covariance_matrix_of_input_noise_adj @ self.data_y)  # in n x 1\n",
    "\n",
    "        # Covariance prediction using formula: K(X_*, X_*) - K(X, X_*) * (K(X, X) + sigma^2 * I)^(-1) * K(X, X_*)^T\n",
    "        cov_test_data = KX_starX_star - KXX_star @ (self._inverse_of_covariance_matrix_of_input_noise_adj @ KXX_star.T)  # in n x n\n",
    "\n",
    "        # Variance (diagonal elements of the covariance matrix).\n",
    "        var_test_data = np.diag(cov_test_data)  # in n x 1\n",
    "\n",
    "        # Store results in memory\n",
    "        self._memory = {\n",
    "            'mean': mean_test_data,\n",
    "            'covariance_matrix': cov_test_data,\n",
    "            'variance': var_test_data\n",
    "        }\n",
    "        \n",
    "        return mean_test_data"
   ]
  },
  {
   "cell_type": "markdown",
   "id": "9e6b586e",
   "metadata": {},
   "source": [
    "That's it. The GPR is ready to be used! "
   ]
  },
  {
   "cell_type": "markdown",
   "id": "a5e2f744",
   "metadata": {},
   "source": [
    "## Testing"
   ]
  },
  {
   "cell_type": "markdown",
   "id": "decbe1a4",
   "metadata": {},
   "source": [
    "Let us initialize our GPR on a set of values and visualize the GPR. "
   ]
  },
  {
   "cell_type": "markdown",
   "id": "4a9aa377",
   "metadata": {},
   "source": [
    "### Initializing training data"
   ]
  },
  {
   "cell_type": "code",
   "execution_count": 16,
   "id": "12f59452",
   "metadata": {},
   "outputs": [],
   "source": [
    "x_values = np.array([0, 0.3, 1, 3.1, 4.7])\n",
    "y_values = np.array([1, 0, 1.4, 0, -0.9])\n",
    "x = np.arange(-1, 7, 0.1)"
   ]
  },
  {
   "cell_type": "markdown",
   "id": "8410f233",
   "metadata": {},
   "source": [
    "### Plot the output"
   ]
  },
  {
   "cell_type": "markdown",
   "id": "fe426230",
   "metadata": {},
   "source": [
    "Let us define a helper function which returns a list of all plots of data points, mean, etc. needed to plot a GPR."
   ]
  },
  {
   "cell_type": "code",
   "execution_count": 17,
   "id": "b99b06c2",
   "metadata": {},
   "outputs": [],
   "source": [
    "def plot_GPR(data_x, data_y, model, x, visible=True) -> list:\n",
    "    mean = model.predict(x)\n",
    "\n",
    "    std = np.sqrt(model._memory['variance'])\n",
    "    data = []\n",
    "\n",
    "    for i in range(1, 4):\n",
    "        data.append(\n",
    "            uncertainty_area_scatter(\n",
    "                x_lines=x,\n",
    "                y_lower=mean - i * std,\n",
    "                y_upper=mean + i * std,\n",
    "                name=f\"mean plus/minus {i}*standard deviation\",\n",
    "                visible=visible))\n",
    "\n",
    "    data.append(line_scatter(x_lines=x, y_lines=mean, visible=visible))\n",
    "    data.append(dot_scatter(x_dots=data_x, y_dots=data_y, visible=visible))\n",
    "    return data"
   ]
  },
  {
   "cell_type": "markdown",
   "id": "51cd9df1",
   "metadata": {},
   "source": [
    "Now, we can visualize our first GPR."
   ]
  },
  {
   "cell_type": "code",
   "execution_count": 18,
   "id": "9a82c61f",
   "metadata": {},
   "outputs": [
    {
     "name": "stdout",
     "output_type": "stream",
     "text": [
      "Debugging shape dimensions:\n",
      "KXX_star shape: (80, 5), expected shape: (number of test points, number of data points)\n",
      "Inverse of covariance matrix shape: (5, 5), expected shape: (5, 5)\n",
      "Data_y shape: (5,), expected shape: (5,)\n",
      "Resulting shape of (inverse covariance matrix * data_y): (5,)\n"
     ]
    },
    {
     "data": {
      "application/vnd.plotly.v1+json": {
       "config": {
        "plotlyServerURL": "https://plot.ly"
       },
       "data": [
        {
         "fill": "toself",
         "fillcolor": "rgba(189,195,199,0.5)",
         "hoverinfo": "skip",
         "line": {
          "color": "rgba(200,200,200,0)"
         },
         "name": "mean plus/minus 1*standard deviation",
         "showlegend": true,
         "type": "scatter",
         "visible": true,
         "x": [
          -1,
          -0.9,
          -0.8,
          -0.7000000000000001,
          -0.6000000000000001,
          -0.5000000000000001,
          -0.40000000000000013,
          -0.30000000000000016,
          -0.20000000000000018,
          -0.1000000000000002,
          -2.220446049250313e-16,
          0.09999999999999964,
          0.19999999999999973,
          0.2999999999999998,
          0.3999999999999997,
          0.49999999999999956,
          0.5999999999999996,
          0.6999999999999997,
          0.7999999999999996,
          0.8999999999999995,
          0.9999999999999996,
          1.0999999999999996,
          1.1999999999999993,
          1.2999999999999994,
          1.3999999999999995,
          1.4999999999999996,
          1.5999999999999996,
          1.6999999999999993,
          1.7999999999999994,
          1.8999999999999995,
          1.9999999999999991,
          2.099999999999999,
          2.1999999999999993,
          2.2999999999999994,
          2.3999999999999995,
          2.499999999999999,
          2.599999999999999,
          2.6999999999999993,
          2.799999999999999,
          2.899999999999999,
          2.999999999999999,
          3.0999999999999988,
          3.1999999999999993,
          3.299999999999999,
          3.3999999999999986,
          3.499999999999999,
          3.5999999999999988,
          3.6999999999999993,
          3.799999999999999,
          3.8999999999999986,
          3.999999999999999,
          4.099999999999999,
          4.199999999999999,
          4.299999999999999,
          4.399999999999999,
          4.499999999999999,
          4.599999999999999,
          4.699999999999998,
          4.799999999999999,
          4.899999999999999,
          4.999999999999998,
          5.099999999999999,
          5.199999999999998,
          5.299999999999999,
          5.399999999999999,
          5.499999999999998,
          5.599999999999999,
          5.699999999999998,
          5.799999999999999,
          5.899999999999999,
          5.999999999999998,
          6.099999999999999,
          6.199999999999998,
          6.299999999999998,
          6.399999999999999,
          6.499999999999998,
          6.599999999999998,
          6.699999999999998,
          6.799999999999998,
          6.899999999999999,
          6.899999999999999,
          6.799999999999998,
          6.699999999999998,
          6.599999999999998,
          6.499999999999998,
          6.399999999999999,
          6.299999999999998,
          6.199999999999998,
          6.099999999999999,
          5.999999999999998,
          5.899999999999999,
          5.799999999999999,
          5.699999999999998,
          5.599999999999999,
          5.499999999999998,
          5.399999999999999,
          5.299999999999999,
          5.199999999999998,
          5.099999999999999,
          4.999999999999998,
          4.899999999999999,
          4.799999999999999,
          4.699999999999998,
          4.599999999999999,
          4.499999999999999,
          4.399999999999999,
          4.299999999999999,
          4.199999999999999,
          4.099999999999999,
          3.999999999999999,
          3.8999999999999986,
          3.799999999999999,
          3.6999999999999993,
          3.5999999999999988,
          3.499999999999999,
          3.3999999999999986,
          3.299999999999999,
          3.1999999999999993,
          3.0999999999999988,
          2.999999999999999,
          2.899999999999999,
          2.799999999999999,
          2.6999999999999993,
          2.599999999999999,
          2.499999999999999,
          2.3999999999999995,
          2.2999999999999994,
          2.1999999999999993,
          2.099999999999999,
          1.9999999999999991,
          1.8999999999999995,
          1.7999999999999994,
          1.6999999999999993,
          1.5999999999999996,
          1.4999999999999996,
          1.3999999999999995,
          1.2999999999999994,
          1.1999999999999993,
          1.0999999999999996,
          0.9999999999999996,
          0.8999999999999995,
          0.7999999999999996,
          0.6999999999999997,
          0.5999999999999996,
          0.49999999999999956,
          0.3999999999999997,
          0.2999999999999998,
          0.19999999999999973,
          0.09999999999999964,
          -2.220446049250313e-16,
          -0.1000000000000002,
          -0.20000000000000018,
          -0.30000000000000016,
          -0.40000000000000013,
          -0.5000000000000001,
          -0.6000000000000001,
          -0.7000000000000001,
          -0.8,
          -0.9,
          -1
         ],
         "y": [
          5.262357882265224,
          5.133039372661258,
          4.9074042920915355,
          4.588398429420188,
          4.184177603088233,
          3.7080938282191265,
          3.178300429269922,
          2.616971213538915,
          2.049163653937842,
          1.5013910486935045,
          1.0000000809340222,
          0.5832553081026726,
          0.24326069940198838,
          6.322026341211575e-8,
          -0.11293900107017969,
          -0.10483322359685994,
          0.020495189421964856,
          0.25247989673286275,
          0.5745558299563485,
          0.9653187153503499,
          1.400000055755028,
          1.9085426744068084,
          2.4253186095085217,
          2.9232697589063097,
          3.37725050531129,
          3.7654048441000922,
          4.070235138195842,
          4.2793074485919576,
          4.385573026377225,
          4.3873188145465205,
          4.287788564817569,
          4.094538050286245,
          3.8186014761562155,
          3.4735512342711736,
          3.074530248342346,
          2.6373267124120354,
          2.1775469268116163,
          1.7099252794647295,
          1.2477932330517467,
          0.8027131973420694,
          0.3842696890521943,
          3.219646771412954e-15,
          -0.18452742684846032,
          -0.33300646848483395,
          -0.4487235110832658,
          -0.5359789982274775,
          -0.5996803046116627,
          -0.6449637613780992,
          -0.6768631557698408,
          -0.7000365123853051,
          -0.7185577687983362,
          -0.7357753080561509,
          -0.7542353365930026,
          -0.7756648608415821,
          -0.8010065336158045,
          -0.8304958961146857,
          -0.8637704989428707,
          -0.9000000000000008,
          -0.7583873232690409,
          -0.6135189161932393,
          -0.4681276629374118,
          -0.32466114981869937,
          -0.18525749081449222,
          -0.05172647770486305,
          0.07446233963909288,
          0.1921832201269547,
          0.30064844674076174,
          0.3993927974479129,
          0.48824859208631677,
          0.5673123725990354,
          0.6369049500402254,
          0.697527087301643,
          0.7498134143912523,
          0.7944872465227266,
          0.8323187764025374,
          0.8640886597473666,
          0.8905583659799344,
          0.912447917735055,
          0.9304209058140083,
          0.9450760483374463,
          -1.0463487070333872,
          -1.0563920839857495,
          -1.0676668833514054,
          -1.0800333391998138,
          -1.093247777303786,
          -1.1069513085398883,
          -1.1206655257940148,
          -1.1337973233751706,
          -1.1456543744137346,
          -1.1554719426286102,
          -1.1624506554154317,
          -1.1658037323526718,
          -1.1648110562805862,
          -1.1588764917863688,
          -1.1475840811177997,
          -1.1307482474800075,
          -1.1084529633206541,
          -1.0810750348523288,
          -1.0492872341616268,
          -1.0140379748424422,
          -0.9765055476704831,
          -0.9380265526900528,
          -0.9000000000000008,
          -1.0353667533709143,
          -1.161270758453195,
          -1.2743014485457116,
          -1.3708900137300646,
          -1.4473489127148647,
          -1.4999178493288732,
          -1.5248196257818534,
          -1.5183300230739074,
          -1.476866229683344,
          -1.3970981967680067,
          -1.2760865038074831,
          -1.1114487568078761,
          -0.9015541358562355,
          -0.6457424476247553,
          -0.34456000021221234,
          3.219646771412954e-15,
          0.22243468954777482,
          0.482816104972833,
          0.7790258333238734,
          1.1065368417461292,
          1.4582847904894978,
          1.8246928858983478,
          2.193875520597661,
          2.5520361254291197,
          2.884061398282108,
          3.174297964720383,
          3.407479624279675,
          3.5697551572869615,
          3.649750082226623,
          3.639582826611989,
          3.535748526778683,
          3.3397838089283196,
          3.0586345316190906,
          2.704665851898379,
          2.295279369645958,
          1.8521337125208093,
          1.3999999442449482,
          0.9270626757610706,
          0.5157106244485468,
          0.18884771188013194,
          -0.035224741646607376,
          -0.14405005061458645,
          -0.13186769878880053,
          -6.322028212056634e-8,
          0.230794011741943,
          0.5694735692051915,
          0.9999999190659791,
          1.4695776379703338,
          1.9657608970462372,
          2.461732888786469,
          2.931767895909605,
          3.3527447540922295,
          3.705386832122276,
          3.975152629620395,
          4.152736107869315,
          4.234172059414918,
          4.22057535265146
         ]
        },
        {
         "fill": "toself",
         "fillcolor": "rgba(189,195,199,0.5)",
         "hoverinfo": "skip",
         "line": {
          "color": "rgba(200,200,200,0)"
         },
         "name": "mean plus/minus 2*standard deviation",
         "showlegend": true,
         "type": "scatter",
         "visible": true,
         "x": [
          -1,
          -0.9,
          -0.8,
          -0.7000000000000001,
          -0.6000000000000001,
          -0.5000000000000001,
          -0.40000000000000013,
          -0.30000000000000016,
          -0.20000000000000018,
          -0.1000000000000002,
          -2.220446049250313e-16,
          0.09999999999999964,
          0.19999999999999973,
          0.2999999999999998,
          0.3999999999999997,
          0.49999999999999956,
          0.5999999999999996,
          0.6999999999999997,
          0.7999999999999996,
          0.8999999999999995,
          0.9999999999999996,
          1.0999999999999996,
          1.1999999999999993,
          1.2999999999999994,
          1.3999999999999995,
          1.4999999999999996,
          1.5999999999999996,
          1.6999999999999993,
          1.7999999999999994,
          1.8999999999999995,
          1.9999999999999991,
          2.099999999999999,
          2.1999999999999993,
          2.2999999999999994,
          2.3999999999999995,
          2.499999999999999,
          2.599999999999999,
          2.6999999999999993,
          2.799999999999999,
          2.899999999999999,
          2.999999999999999,
          3.0999999999999988,
          3.1999999999999993,
          3.299999999999999,
          3.3999999999999986,
          3.499999999999999,
          3.5999999999999988,
          3.6999999999999993,
          3.799999999999999,
          3.8999999999999986,
          3.999999999999999,
          4.099999999999999,
          4.199999999999999,
          4.299999999999999,
          4.399999999999999,
          4.499999999999999,
          4.599999999999999,
          4.699999999999998,
          4.799999999999999,
          4.899999999999999,
          4.999999999999998,
          5.099999999999999,
          5.199999999999998,
          5.299999999999999,
          5.399999999999999,
          5.499999999999998,
          5.599999999999999,
          5.699999999999998,
          5.799999999999999,
          5.899999999999999,
          5.999999999999998,
          6.099999999999999,
          6.199999999999998,
          6.299999999999998,
          6.399999999999999,
          6.499999999999998,
          6.599999999999998,
          6.699999999999998,
          6.799999999999998,
          6.899999999999999,
          6.899999999999999,
          6.799999999999998,
          6.699999999999998,
          6.599999999999998,
          6.499999999999998,
          6.399999999999999,
          6.299999999999998,
          6.199999999999998,
          6.099999999999999,
          5.999999999999998,
          5.899999999999999,
          5.799999999999999,
          5.699999999999998,
          5.599999999999999,
          5.499999999999998,
          5.399999999999999,
          5.299999999999999,
          5.199999999999998,
          5.099999999999999,
          4.999999999999998,
          4.899999999999999,
          4.799999999999999,
          4.699999999999998,
          4.599999999999999,
          4.499999999999999,
          4.399999999999999,
          4.299999999999999,
          4.199999999999999,
          4.099999999999999,
          3.999999999999999,
          3.8999999999999986,
          3.799999999999999,
          3.6999999999999993,
          3.5999999999999988,
          3.499999999999999,
          3.3999999999999986,
          3.299999999999999,
          3.1999999999999993,
          3.0999999999999988,
          2.999999999999999,
          2.899999999999999,
          2.799999999999999,
          2.6999999999999993,
          2.599999999999999,
          2.499999999999999,
          2.3999999999999995,
          2.2999999999999994,
          2.1999999999999993,
          2.099999999999999,
          1.9999999999999991,
          1.8999999999999995,
          1.7999999999999994,
          1.6999999999999993,
          1.5999999999999996,
          1.4999999999999996,
          1.3999999999999995,
          1.2999999999999994,
          1.1999999999999993,
          1.0999999999999996,
          0.9999999999999996,
          0.8999999999999995,
          0.7999999999999996,
          0.6999999999999997,
          0.5999999999999996,
          0.49999999999999956,
          0.3999999999999997,
          0.2999999999999998,
          0.19999999999999973,
          0.09999999999999964,
          -2.220446049250313e-16,
          -0.1000000000000002,
          -0.20000000000000018,
          -0.30000000000000016,
          -0.40000000000000013,
          -0.5000000000000001,
          -0.6000000000000001,
          -0.7000000000000001,
          -0.8,
          -0.9,
          -1
         ],
         "y": [
          5.783249147072107,
          5.5824730292844285,
          5.2847383842026465,
          4.895021329320084,
          4.423572988571211,
          3.8857683652825745,
          3.301566695950081,
          2.6945903759151375,
          2.0908650323836446,
          1.5172977540550896,
          1.0000001618680439,
          0.5901461775514131,
          0.2494940432320111,
          1.264405361784568e-7,
          -0.10347465221086928,
          -0.08522481008799668,
          0.04835515495625097,
          0.28429598915922816,
          0.6039784327102493,
          0.9844467351449894,
          1.4000001115100678,
          1.936747155349808,
          2.490338229439804,
          3.032571712410275,
          3.53655849215739,
          3.9782153616859786,
          4.337478443904421,
          4.599169759581941,
          4.753484498452526,
          4.7961006431763,
          4.727943035086516,
          4.554658093069177,
          4.285871515093269,
          3.934308788692201,
          3.514857612214689,
          3.043643625668879,
          2.5371779949726756,
          2.0116194983240296,
          1.4821769329156835,
          0.9626617435266875,
          0.46518718880440396,
          3.219646771412954e-15,
          -0.1045111401665843,
          -0.17663847891487333,
          -0.22230819869678103,
          -0.24824411893727816,
          -0.2614772050137525,
          -0.26889654368314553,
          -0.2768616188130891,
          -0.29088975704100384,
          -0.31542684030657764,
          -0.35370403741978984,
          -0.4076785485320715,
          -0.4780522843973408,
          -0.564359076150851,
          -0.6651084649454311,
          -0.7779723717288488,
          -0.9000000000000008,
          -0.668567708558535,
          -0.43202560045461724,
          -0.19517250698489663,
          0.03765189235276434,
          0.26265128120442605,
          0.47663676510303254,
          0.677067633198643,
          0.862066870749332,
          1.0304109160043269,
          1.1814947243121625,
          1.315274754305811,
          1.4321938866062691,
          1.5330933963746431,
          1.619117818159332,
          1.6916187832744636,
          1.7520636326810972,
          1.80195381887375,
          1.8427568782729429,
          1.8758542185698084,
          1.902505318278285,
          1.9238274007138871,
          1.9407884260228632,
          -2.042061084718804,
          -2.0497985788856283,
          -2.0577242838946352,
          -2.065329191789688,
          -2.0719159958293623,
          -2.076586351011101,
          -2.0782419119523854,
          -2.075602692258382,
          -2.0672451052714234,
          -2.051660388963028,
          -2.027332169422665,
          -1.9928298945721659,
          -1.9469129831448355,
          -1.8886389610499341,
          -1.8174677317401768,
          -1.7333535410395577,
          -1.6368162061285498,
          -1.528983806871247,
          -1.4116002763330906,
          -1.2869931307949574,
          -1.1579988634091052,
          -1.0278461674005586,
          -0.9000000000000008,
          -1.1211648805849364,
          -1.3266581896224494,
          -1.5109489060106651,
          -1.668502590174306,
          -1.7939057007757957,
          -1.881989119965234,
          -1.927950554273612,
          -1.9274767784182087,
          -1.8768677666400957,
          -1.7731654144629605,
          -1.614289603405393,
          -1.3991836360980756,
          -1.1279694482427203,
          -0.8021104371947159,
          -0.4245762868940884,
          3.219646771412954e-15,
          0.1415171897955651,
          0.3228675587882148,
          0.5446421334599367,
          0.8048426228868291,
          1.0986537223284385,
          1.4183759726415042,
          1.7535481567253186,
          2.0912785710080923,
          2.4167913593450545,
          2.714177921937451,
          2.967325154010728,
          3.160973328657182,
          3.2818386101513215,
          3.319720515622005,
          3.2685052210701033,
          3.1269732913424333,
          2.8993265447729906,
          2.5953638983944134,
          2.230259749714676,
          1.8239292315778097,
          1.3999998884899085,
          0.9079346559664311,
          0.4862880216946459,
          0.15703161945376654,
          -0.06308470718089348,
          -0.1636584641234497,
          -0.14133204764811097,
          -1.2644055488690738e-7,
          0.22456066791192028,
          0.562582699756451,
          0.9999998381319576,
          1.4536709326087487,
          1.924059518600435,
          2.3841137264102463,
          2.808501629229446,
          3.1750702170287814,
          3.465991446639298,
          3.6685297297204986,
          3.7754020157582047,
          3.7847384027917483,
          3.699684087844578
         ]
        },
        {
         "fill": "toself",
         "fillcolor": "rgba(189,195,199,0.5)",
         "hoverinfo": "skip",
         "line": {
          "color": "rgba(200,200,200,0)"
         },
         "name": "mean plus/minus 3*standard deviation",
         "showlegend": true,
         "type": "scatter",
         "visible": true,
         "x": [
          -1,
          -0.9,
          -0.8,
          -0.7000000000000001,
          -0.6000000000000001,
          -0.5000000000000001,
          -0.40000000000000013,
          -0.30000000000000016,
          -0.20000000000000018,
          -0.1000000000000002,
          -2.220446049250313e-16,
          0.09999999999999964,
          0.19999999999999973,
          0.2999999999999998,
          0.3999999999999997,
          0.49999999999999956,
          0.5999999999999996,
          0.6999999999999997,
          0.7999999999999996,
          0.8999999999999995,
          0.9999999999999996,
          1.0999999999999996,
          1.1999999999999993,
          1.2999999999999994,
          1.3999999999999995,
          1.4999999999999996,
          1.5999999999999996,
          1.6999999999999993,
          1.7999999999999994,
          1.8999999999999995,
          1.9999999999999991,
          2.099999999999999,
          2.1999999999999993,
          2.2999999999999994,
          2.3999999999999995,
          2.499999999999999,
          2.599999999999999,
          2.6999999999999993,
          2.799999999999999,
          2.899999999999999,
          2.999999999999999,
          3.0999999999999988,
          3.1999999999999993,
          3.299999999999999,
          3.3999999999999986,
          3.499999999999999,
          3.5999999999999988,
          3.6999999999999993,
          3.799999999999999,
          3.8999999999999986,
          3.999999999999999,
          4.099999999999999,
          4.199999999999999,
          4.299999999999999,
          4.399999999999999,
          4.499999999999999,
          4.599999999999999,
          4.699999999999998,
          4.799999999999999,
          4.899999999999999,
          4.999999999999998,
          5.099999999999999,
          5.199999999999998,
          5.299999999999999,
          5.399999999999999,
          5.499999999999998,
          5.599999999999999,
          5.699999999999998,
          5.799999999999999,
          5.899999999999999,
          5.999999999999998,
          6.099999999999999,
          6.199999999999998,
          6.299999999999998,
          6.399999999999999,
          6.499999999999998,
          6.599999999999998,
          6.699999999999998,
          6.799999999999998,
          6.899999999999999,
          6.899999999999999,
          6.799999999999998,
          6.699999999999998,
          6.599999999999998,
          6.499999999999998,
          6.399999999999999,
          6.299999999999998,
          6.199999999999998,
          6.099999999999999,
          5.999999999999998,
          5.899999999999999,
          5.799999999999999,
          5.699999999999998,
          5.599999999999999,
          5.499999999999998,
          5.399999999999999,
          5.299999999999999,
          5.199999999999998,
          5.099999999999999,
          4.999999999999998,
          4.899999999999999,
          4.799999999999999,
          4.699999999999998,
          4.599999999999999,
          4.499999999999999,
          4.399999999999999,
          4.299999999999999,
          4.199999999999999,
          4.099999999999999,
          3.999999999999999,
          3.8999999999999986,
          3.799999999999999,
          3.6999999999999993,
          3.5999999999999988,
          3.499999999999999,
          3.3999999999999986,
          3.299999999999999,
          3.1999999999999993,
          3.0999999999999988,
          2.999999999999999,
          2.899999999999999,
          2.799999999999999,
          2.6999999999999993,
          2.599999999999999,
          2.499999999999999,
          2.3999999999999995,
          2.2999999999999994,
          2.1999999999999993,
          2.099999999999999,
          1.9999999999999991,
          1.8999999999999995,
          1.7999999999999994,
          1.6999999999999993,
          1.5999999999999996,
          1.4999999999999996,
          1.3999999999999995,
          1.2999999999999994,
          1.1999999999999993,
          1.0999999999999996,
          0.9999999999999996,
          0.8999999999999995,
          0.7999999999999996,
          0.6999999999999997,
          0.5999999999999996,
          0.49999999999999956,
          0.3999999999999997,
          0.2999999999999998,
          0.19999999999999973,
          0.09999999999999964,
          -2.220446049250313e-16,
          -0.1000000000000002,
          -0.20000000000000018,
          -0.30000000000000016,
          -0.40000000000000013,
          -0.5000000000000001,
          -0.6000000000000001,
          -0.7000000000000001,
          -0.8,
          -0.9,
          -1
         ],
         "y": [
          6.304140411878989,
          6.0319066859075985,
          5.662072476313757,
          5.20164422921998,
          4.66296837405419,
          4.063442902346023,
          3.4248329626302394,
          2.7722095382913605,
          2.132566410829447,
          1.533204459416675,
          1.0000002428020653,
          0.5970370470001537,
          0.2557273870620338,
          1.8966080894479785e-7,
          -0.09401030335155885,
          -0.06561639657913343,
          0.0762151204905371,
          0.31611208158559356,
          0.6334010354641502,
          1.003574754939629,
          1.4000001672651077,
          1.9649516362928074,
          2.555357849371086,
          3.1418736659142406,
          3.6958664790034894,
          4.191025879271865,
          4.604721749613001,
          4.919032070571926,
          5.121395970527828,
          5.204882471806079,
          5.168097505355463,
          5.014778135852109,
          4.753141554030322,
          4.395066343113228,
          3.9551849760870312,
          3.4499605389257226,
          2.896809063133735,
          2.3133137171833296,
          1.7165606327796201,
          1.1226102897113057,
          0.5461046885566136,
          3.219646771412954e-15,
          -0.024494853484708284,
          -0.020270489344912712,
          0.004107113689703734,
          0.039490760352921206,
          0.07672589458415768,
          0.10717067401180813,
          0.12313991814366254,
          0.1182569983032975,
          0.08770408818518094,
          0.028367233216571197,
          -0.061121760471140485,
          -0.1804397079530995,
          -0.3277116186858975,
          -0.4997210337761765,
          -0.6921742445148269,
          -0.9000000000000008,
          -0.578748093848029,
          -0.2505322847159953,
          0.07778264896761855,
          0.399964934524228,
          0.7105600532233443,
          1.005000007910928,
          1.2796729267581934,
          1.531950521371709,
          1.7601733852678922,
          1.9635966511764122,
          2.142300916525305,
          2.2970754006135023,
          2.429281842709061,
          2.5407085490170207,
          2.633424152157675,
          2.709640018839468,
          2.7715888613449633,
          2.821425096798519,
          2.8611500711596825,
          2.8925627188215155,
          2.9172338956137662,
          2.9365008037082796,
          -3.0377734624042207,
          -3.0432050737855074,
          -3.0477816844378656,
          -3.050625044379562,
          -3.050584214354939,
          -3.046221393482314,
          -3.0358182981107564,
          -3.017408061141593,
          -2.9888358361291125,
          -2.9478488352974455,
          -2.892213683429899,
          -2.81985605679166,
          -2.7290149100090852,
          -2.618401430313499,
          -2.487351382362554,
          -2.335958834599108,
          -2.1651794489364455,
          -1.9768925788901652,
          -1.7739133185045541,
          -1.5599482867474725,
          -1.3394921791477272,
          -1.1176657821110645,
          -0.9000000000000008,
          -1.2069630077989582,
          -1.4920456207917039,
          -1.7475963634756186,
          -1.9661151666185472,
          -2.140462488836727,
          -2.2640603906015953,
          -2.3310814827653705,
          -2.33662353376251,
          -2.2768693035968472,
          -2.149232632157914,
          -1.9524927030033035,
          -1.686918515388275,
          -1.354384760629205,
          -0.9584784267646765,
          -0.5045925735759644,
          3.219646771412954e-15,
          0.060599690043355386,
          0.16291901260359665,
          0.31025843359600014,
          0.5031484040275289,
          0.7390226541673792,
          1.0120590593846606,
          1.313220792852976,
          1.6305210165870654,
          1.949521320408001,
          2.2540578791545194,
          2.5271706837417813,
          2.7521915000274024,
          2.91392713807602,
          2.9998582046320204,
          3.001261915361524,
          2.914162773756547,
          2.740018557926891,
          2.486061944890448,
          2.165240129783394,
          1.7957247506348102,
          1.3999998327348686,
          0.8888066361717915,
          0.4568654189407451,
          0.12521552702740116,
          -0.0909446727151796,
          -0.18326687763231295,
          -0.15079639650742138,
          -1.8966082765324843e-7,
          0.2183273240818976,
          0.5556918303077104,
          0.999999757197936,
          1.4377642272471634,
          1.8823581401546325,
          2.3064945640340233,
          2.6852353625492875,
          2.997395679965333,
          3.2265960611563194,
          3.3619068298206023,
          3.398067923647094,
          3.3353047461685783,
          3.1787928230376954
         ]
        },
        {
         "line": {
          "color": "blue",
          "width": 2
         },
         "name": "Predicted function",
         "showlegend": true,
         "type": "scatter",
         "visible": true,
         "x": [
          -1,
          -0.9,
          -0.8,
          -0.7000000000000001,
          -0.6000000000000001,
          -0.5000000000000001,
          -0.40000000000000013,
          -0.30000000000000016,
          -0.20000000000000018,
          -0.1000000000000002,
          -2.220446049250313e-16,
          0.09999999999999964,
          0.19999999999999973,
          0.2999999999999998,
          0.3999999999999997,
          0.49999999999999956,
          0.5999999999999996,
          0.6999999999999997,
          0.7999999999999996,
          0.8999999999999995,
          0.9999999999999996,
          1.0999999999999996,
          1.1999999999999993,
          1.2999999999999994,
          1.3999999999999995,
          1.4999999999999996,
          1.5999999999999996,
          1.6999999999999993,
          1.7999999999999994,
          1.8999999999999995,
          1.9999999999999991,
          2.099999999999999,
          2.1999999999999993,
          2.2999999999999994,
          2.3999999999999995,
          2.499999999999999,
          2.599999999999999,
          2.6999999999999993,
          2.799999999999999,
          2.899999999999999,
          2.999999999999999,
          3.0999999999999988,
          3.1999999999999993,
          3.299999999999999,
          3.3999999999999986,
          3.499999999999999,
          3.5999999999999988,
          3.6999999999999993,
          3.799999999999999,
          3.8999999999999986,
          3.999999999999999,
          4.099999999999999,
          4.199999999999999,
          4.299999999999999,
          4.399999999999999,
          4.499999999999999,
          4.599999999999999,
          4.699999999999998,
          4.799999999999999,
          4.899999999999999,
          4.999999999999998,
          5.099999999999999,
          5.199999999999998,
          5.299999999999999,
          5.399999999999999,
          5.499999999999998,
          5.599999999999999,
          5.699999999999998,
          5.799999999999999,
          5.899999999999999,
          5.999999999999998,
          6.099999999999999,
          6.199999999999998,
          6.299999999999998,
          6.399999999999999,
          6.499999999999998,
          6.599999999999998,
          6.699999999999998,
          6.799999999999998,
          6.899999999999999
         ],
         "y": [
          4.741466617458342,
          4.683605716038088,
          4.530070199980425,
          4.281775529520291,
          3.9447822176052543,
          3.530419291155678,
          3.0550341625897635,
          2.539352051162692,
          2.0074622754920397,
          1.4854843433319191,
          1.0000000000000007,
          0.576364438653932,
          0.2370273555719657,
          -9.354225293661811e-15,
          -0.12240334992949012,
          -0.12444163710572319,
          -0.007364776112321259,
          0.22066380430649735,
          0.5451332272024476,
          0.9461906955557102,
          1.3999999999999881,
          1.8803381934638088,
          2.36029898957724,
          2.8139678054023443,
          3.21794251846519,
          3.552594326514206,
          3.8029918324872622,
          3.959445137601973,
          4.017661554301924,
          3.9785369859167408,
          3.847634094548622,
          3.634418007503314,
          3.351331437219162,
          3.0127936798501467,
          2.6342028844700036,
          2.2310097991551916,
          1.817915858650557,
          1.4082310606054294,
          1.0134095331878101,
          0.6427646511574512,
          0.30335218929998453,
          3.219646771412954e-15,
          -0.26454371353033634,
          -0.4893744580547946,
          -0.6751388234697506,
          -0.8237138775176769,
          -0.9378834042095728,
          -1.021030979073053,
          -1.0768646927265924,
          -1.1091832677296063,
          -1.1216886972900948,
          -1.117846578692512,
          -1.1007921246539336,
          -1.0732774372858234,
          -1.037653991080758,
          -0.9958833272839402,
          -0.9495686261568925,
          -0.9000000000000008,
          -0.8482069379795468,
          -0.7950122319318612,
          -0.741082818889927,
          -0.6869741919901631,
          -0.6331662628334105,
          -0.5800897205127586,
          -0.5281429539204573,
          -0.4777004304954225,
          -0.4291140225228035,
          -0.3827091294163366,
          -0.33877757013317744,
          -0.29756914140819807,
          -0.25928349629419234,
          -0.22406364355604577,
          -0.1919919544919592,
          -0.16308913963564414,
          -0.13731626606867545,
          -0.11457955877820969,
          -0.09473748660993966,
          -0.07760948280817519,
          -0.0629855890858706,
          -0.050636329347970445
         ]
        },
        {
         "marker": {
          "color": "red",
          "size": 8
         },
         "mode": "markers",
         "name": "Observed points",
         "showlegend": true,
         "type": "scatter",
         "visible": true,
         "x": [
          0,
          0.3,
          1,
          3.1,
          4.7
         ],
         "y": [
          1,
          0,
          1.4,
          0,
          -0.9
         ]
        }
       ],
       "layout": {
        "autosize": false,
        "height": 600,
        "legend": {
         "x": 0.95,
         "xanchor": "right",
         "y": 0.9,
         "yanchor": "top"
        },
        "plot_bgcolor": "rgba(0,0,0,0)",
        "template": {
         "data": {
          "bar": [
           {
            "error_x": {
             "color": "#2a3f5f"
            },
            "error_y": {
             "color": "#2a3f5f"
            },
            "marker": {
             "line": {
              "color": "#E5ECF6",
              "width": 0.5
             },
             "pattern": {
              "fillmode": "overlay",
              "size": 10,
              "solidity": 0.2
             }
            },
            "type": "bar"
           }
          ],
          "barpolar": [
           {
            "marker": {
             "line": {
              "color": "#E5ECF6",
              "width": 0.5
             },
             "pattern": {
              "fillmode": "overlay",
              "size": 10,
              "solidity": 0.2
             }
            },
            "type": "barpolar"
           }
          ],
          "carpet": [
           {
            "aaxis": {
             "endlinecolor": "#2a3f5f",
             "gridcolor": "white",
             "linecolor": "white",
             "minorgridcolor": "white",
             "startlinecolor": "#2a3f5f"
            },
            "baxis": {
             "endlinecolor": "#2a3f5f",
             "gridcolor": "white",
             "linecolor": "white",
             "minorgridcolor": "white",
             "startlinecolor": "#2a3f5f"
            },
            "type": "carpet"
           }
          ],
          "choropleth": [
           {
            "colorbar": {
             "outlinewidth": 0,
             "ticks": ""
            },
            "type": "choropleth"
           }
          ],
          "contour": [
           {
            "colorbar": {
             "outlinewidth": 0,
             "ticks": ""
            },
            "colorscale": [
             [
              0,
              "#0d0887"
             ],
             [
              0.1111111111111111,
              "#46039f"
             ],
             [
              0.2222222222222222,
              "#7201a8"
             ],
             [
              0.3333333333333333,
              "#9c179e"
             ],
             [
              0.4444444444444444,
              "#bd3786"
             ],
             [
              0.5555555555555556,
              "#d8576b"
             ],
             [
              0.6666666666666666,
              "#ed7953"
             ],
             [
              0.7777777777777778,
              "#fb9f3a"
             ],
             [
              0.8888888888888888,
              "#fdca26"
             ],
             [
              1,
              "#f0f921"
             ]
            ],
            "type": "contour"
           }
          ],
          "contourcarpet": [
           {
            "colorbar": {
             "outlinewidth": 0,
             "ticks": ""
            },
            "type": "contourcarpet"
           }
          ],
          "heatmap": [
           {
            "colorbar": {
             "outlinewidth": 0,
             "ticks": ""
            },
            "colorscale": [
             [
              0,
              "#0d0887"
             ],
             [
              0.1111111111111111,
              "#46039f"
             ],
             [
              0.2222222222222222,
              "#7201a8"
             ],
             [
              0.3333333333333333,
              "#9c179e"
             ],
             [
              0.4444444444444444,
              "#bd3786"
             ],
             [
              0.5555555555555556,
              "#d8576b"
             ],
             [
              0.6666666666666666,
              "#ed7953"
             ],
             [
              0.7777777777777778,
              "#fb9f3a"
             ],
             [
              0.8888888888888888,
              "#fdca26"
             ],
             [
              1,
              "#f0f921"
             ]
            ],
            "type": "heatmap"
           }
          ],
          "heatmapgl": [
           {
            "colorbar": {
             "outlinewidth": 0,
             "ticks": ""
            },
            "colorscale": [
             [
              0,
              "#0d0887"
             ],
             [
              0.1111111111111111,
              "#46039f"
             ],
             [
              0.2222222222222222,
              "#7201a8"
             ],
             [
              0.3333333333333333,
              "#9c179e"
             ],
             [
              0.4444444444444444,
              "#bd3786"
             ],
             [
              0.5555555555555556,
              "#d8576b"
             ],
             [
              0.6666666666666666,
              "#ed7953"
             ],
             [
              0.7777777777777778,
              "#fb9f3a"
             ],
             [
              0.8888888888888888,
              "#fdca26"
             ],
             [
              1,
              "#f0f921"
             ]
            ],
            "type": "heatmapgl"
           }
          ],
          "histogram": [
           {
            "marker": {
             "pattern": {
              "fillmode": "overlay",
              "size": 10,
              "solidity": 0.2
             }
            },
            "type": "histogram"
           }
          ],
          "histogram2d": [
           {
            "colorbar": {
             "outlinewidth": 0,
             "ticks": ""
            },
            "colorscale": [
             [
              0,
              "#0d0887"
             ],
             [
              0.1111111111111111,
              "#46039f"
             ],
             [
              0.2222222222222222,
              "#7201a8"
             ],
             [
              0.3333333333333333,
              "#9c179e"
             ],
             [
              0.4444444444444444,
              "#bd3786"
             ],
             [
              0.5555555555555556,
              "#d8576b"
             ],
             [
              0.6666666666666666,
              "#ed7953"
             ],
             [
              0.7777777777777778,
              "#fb9f3a"
             ],
             [
              0.8888888888888888,
              "#fdca26"
             ],
             [
              1,
              "#f0f921"
             ]
            ],
            "type": "histogram2d"
           }
          ],
          "histogram2dcontour": [
           {
            "colorbar": {
             "outlinewidth": 0,
             "ticks": ""
            },
            "colorscale": [
             [
              0,
              "#0d0887"
             ],
             [
              0.1111111111111111,
              "#46039f"
             ],
             [
              0.2222222222222222,
              "#7201a8"
             ],
             [
              0.3333333333333333,
              "#9c179e"
             ],
             [
              0.4444444444444444,
              "#bd3786"
             ],
             [
              0.5555555555555556,
              "#d8576b"
             ],
             [
              0.6666666666666666,
              "#ed7953"
             ],
             [
              0.7777777777777778,
              "#fb9f3a"
             ],
             [
              0.8888888888888888,
              "#fdca26"
             ],
             [
              1,
              "#f0f921"
             ]
            ],
            "type": "histogram2dcontour"
           }
          ],
          "mesh3d": [
           {
            "colorbar": {
             "outlinewidth": 0,
             "ticks": ""
            },
            "type": "mesh3d"
           }
          ],
          "parcoords": [
           {
            "line": {
             "colorbar": {
              "outlinewidth": 0,
              "ticks": ""
             }
            },
            "type": "parcoords"
           }
          ],
          "pie": [
           {
            "automargin": true,
            "type": "pie"
           }
          ],
          "scatter": [
           {
            "fillpattern": {
             "fillmode": "overlay",
             "size": 10,
             "solidity": 0.2
            },
            "type": "scatter"
           }
          ],
          "scatter3d": [
           {
            "line": {
             "colorbar": {
              "outlinewidth": 0,
              "ticks": ""
             }
            },
            "marker": {
             "colorbar": {
              "outlinewidth": 0,
              "ticks": ""
             }
            },
            "type": "scatter3d"
           }
          ],
          "scattercarpet": [
           {
            "marker": {
             "colorbar": {
              "outlinewidth": 0,
              "ticks": ""
             }
            },
            "type": "scattercarpet"
           }
          ],
          "scattergeo": [
           {
            "marker": {
             "colorbar": {
              "outlinewidth": 0,
              "ticks": ""
             }
            },
            "type": "scattergeo"
           }
          ],
          "scattergl": [
           {
            "marker": {
             "colorbar": {
              "outlinewidth": 0,
              "ticks": ""
             }
            },
            "type": "scattergl"
           }
          ],
          "scattermapbox": [
           {
            "marker": {
             "colorbar": {
              "outlinewidth": 0,
              "ticks": ""
             }
            },
            "type": "scattermapbox"
           }
          ],
          "scatterpolar": [
           {
            "marker": {
             "colorbar": {
              "outlinewidth": 0,
              "ticks": ""
             }
            },
            "type": "scatterpolar"
           }
          ],
          "scatterpolargl": [
           {
            "marker": {
             "colorbar": {
              "outlinewidth": 0,
              "ticks": ""
             }
            },
            "type": "scatterpolargl"
           }
          ],
          "scatterternary": [
           {
            "marker": {
             "colorbar": {
              "outlinewidth": 0,
              "ticks": ""
             }
            },
            "type": "scatterternary"
           }
          ],
          "surface": [
           {
            "colorbar": {
             "outlinewidth": 0,
             "ticks": ""
            },
            "colorscale": [
             [
              0,
              "#0d0887"
             ],
             [
              0.1111111111111111,
              "#46039f"
             ],
             [
              0.2222222222222222,
              "#7201a8"
             ],
             [
              0.3333333333333333,
              "#9c179e"
             ],
             [
              0.4444444444444444,
              "#bd3786"
             ],
             [
              0.5555555555555556,
              "#d8576b"
             ],
             [
              0.6666666666666666,
              "#ed7953"
             ],
             [
              0.7777777777777778,
              "#fb9f3a"
             ],
             [
              0.8888888888888888,
              "#fdca26"
             ],
             [
              1,
              "#f0f921"
             ]
            ],
            "type": "surface"
           }
          ],
          "table": [
           {
            "cells": {
             "fill": {
              "color": "#EBF0F8"
             },
             "line": {
              "color": "white"
             }
            },
            "header": {
             "fill": {
              "color": "#C8D4E3"
             },
             "line": {
              "color": "white"
             }
            },
            "type": "table"
           }
          ]
         },
         "layout": {
          "annotationdefaults": {
           "arrowcolor": "#2a3f5f",
           "arrowhead": 0,
           "arrowwidth": 1
          },
          "autotypenumbers": "strict",
          "coloraxis": {
           "colorbar": {
            "outlinewidth": 0,
            "ticks": ""
           }
          },
          "colorscale": {
           "diverging": [
            [
             0,
             "#8e0152"
            ],
            [
             0.1,
             "#c51b7d"
            ],
            [
             0.2,
             "#de77ae"
            ],
            [
             0.3,
             "#f1b6da"
            ],
            [
             0.4,
             "#fde0ef"
            ],
            [
             0.5,
             "#f7f7f7"
            ],
            [
             0.6,
             "#e6f5d0"
            ],
            [
             0.7,
             "#b8e186"
            ],
            [
             0.8,
             "#7fbc41"
            ],
            [
             0.9,
             "#4d9221"
            ],
            [
             1,
             "#276419"
            ]
           ],
           "sequential": [
            [
             0,
             "#0d0887"
            ],
            [
             0.1111111111111111,
             "#46039f"
            ],
            [
             0.2222222222222222,
             "#7201a8"
            ],
            [
             0.3333333333333333,
             "#9c179e"
            ],
            [
             0.4444444444444444,
             "#bd3786"
            ],
            [
             0.5555555555555556,
             "#d8576b"
            ],
            [
             0.6666666666666666,
             "#ed7953"
            ],
            [
             0.7777777777777778,
             "#fb9f3a"
            ],
            [
             0.8888888888888888,
             "#fdca26"
            ],
            [
             1,
             "#f0f921"
            ]
           ],
           "sequentialminus": [
            [
             0,
             "#0d0887"
            ],
            [
             0.1111111111111111,
             "#46039f"
            ],
            [
             0.2222222222222222,
             "#7201a8"
            ],
            [
             0.3333333333333333,
             "#9c179e"
            ],
            [
             0.4444444444444444,
             "#bd3786"
            ],
            [
             0.5555555555555556,
             "#d8576b"
            ],
            [
             0.6666666666666666,
             "#ed7953"
            ],
            [
             0.7777777777777778,
             "#fb9f3a"
            ],
            [
             0.8888888888888888,
             "#fdca26"
            ],
            [
             1,
             "#f0f921"
            ]
           ]
          },
          "colorway": [
           "#636efa",
           "#EF553B",
           "#00cc96",
           "#ab63fa",
           "#FFA15A",
           "#19d3f3",
           "#FF6692",
           "#B6E880",
           "#FF97FF",
           "#FECB52"
          ],
          "font": {
           "color": "#2a3f5f"
          },
          "geo": {
           "bgcolor": "white",
           "lakecolor": "white",
           "landcolor": "#E5ECF6",
           "showlakes": true,
           "showland": true,
           "subunitcolor": "white"
          },
          "hoverlabel": {
           "align": "left"
          },
          "hovermode": "closest",
          "mapbox": {
           "style": "light"
          },
          "paper_bgcolor": "white",
          "plot_bgcolor": "#E5ECF6",
          "polar": {
           "angularaxis": {
            "gridcolor": "white",
            "linecolor": "white",
            "ticks": ""
           },
           "bgcolor": "#E5ECF6",
           "radialaxis": {
            "gridcolor": "white",
            "linecolor": "white",
            "ticks": ""
           }
          },
          "scene": {
           "xaxis": {
            "backgroundcolor": "#E5ECF6",
            "gridcolor": "white",
            "gridwidth": 2,
            "linecolor": "white",
            "showbackground": true,
            "ticks": "",
            "zerolinecolor": "white"
           },
           "yaxis": {
            "backgroundcolor": "#E5ECF6",
            "gridcolor": "white",
            "gridwidth": 2,
            "linecolor": "white",
            "showbackground": true,
            "ticks": "",
            "zerolinecolor": "white"
           },
           "zaxis": {
            "backgroundcolor": "#E5ECF6",
            "gridcolor": "white",
            "gridwidth": 2,
            "linecolor": "white",
            "showbackground": true,
            "ticks": "",
            "zerolinecolor": "white"
           }
          },
          "shapedefaults": {
           "line": {
            "color": "#2a3f5f"
           }
          },
          "ternary": {
           "aaxis": {
            "gridcolor": "white",
            "linecolor": "white",
            "ticks": ""
           },
           "baxis": {
            "gridcolor": "white",
            "linecolor": "white",
            "ticks": ""
           },
           "bgcolor": "#E5ECF6",
           "caxis": {
            "gridcolor": "white",
            "linecolor": "white",
            "ticks": ""
           }
          },
          "title": {
           "x": 0.05
          },
          "xaxis": {
           "automargin": true,
           "gridcolor": "white",
           "linecolor": "white",
           "ticks": "",
           "title": {
            "standoff": 15
           },
           "zerolinecolor": "white",
           "zerolinewidth": 2
          },
          "yaxis": {
           "automargin": true,
           "gridcolor": "white",
           "linecolor": "white",
           "ticks": "",
           "title": {
            "standoff": 15
           },
           "zerolinecolor": "white",
           "zerolinewidth": 2
          }
         }
        },
        "title": {
         "text": "GPR with length 1, sigma 0 and noise 0",
         "x": 0.5,
         "xanchor": "center"
        },
        "width": 800,
        "xaxis": {
         "linecolor": "black",
         "linewidth": 1,
         "showline": true,
         "title": {
          "text": "input values"
         }
        },
        "yaxis": {
         "linecolor": "black",
         "linewidth": 1,
         "showline": true,
         "title": {
          "text": "output values"
         }
        }
       }
      }
     },
     "metadata": {},
     "output_type": "display_data"
    }
   ],
   "source": [
    "model = GPR(x_values, y_values)\n",
    "data = plot_GPR(data_x=x_values, data_y=y_values, x=x, model=model)\n",
    "fig4 = go.Figure(data=data)\n",
    "fig4 = update_layout_of_graph(fig=fig4,\n",
    "                              title='GPR with length 1, sigma 0 and noise 0')\n",
    "\n",
    "fig4.show()"
   ]
  },
  {
   "cell_type": "markdown",
   "id": "1d17146a",
   "metadata": {},
   "source": [
    "### Visualization of effect of free parameters"
   ]
  },
  {
   "cell_type": "markdown",
   "id": "e7e03650",
   "metadata": {},
   "source": [
    "Awesome! Now that we can make predictions with our GPR, lets visualize how the GPR changes if we change the free parameters, i.e. length-scale, variance and white noise."
   ]
  },
  {
   "cell_type": "code",
   "execution_count": null,
   "id": "cd6e6019",
   "metadata": {},
   "outputs": [
    {
     "name": "stdout",
     "output_type": "stream",
     "text": [
      "Debugging shape dimensions:\n",
      "KXX_star shape: (80, 5), expected shape: (number of test points, number of data points)\n",
      "Inverse of covariance matrix shape: (5, 5), expected shape: (5, 5)\n",
      "Data_y shape: (5,), expected shape: (5,)\n",
      "Resulting shape of (inverse covariance matrix * data_y): (5,)\n"
     ]
    },
    {
     "data": {
      "application/vnd.jupyter.widget-view+json": {
       "model_id": "8a92a764f00742a2832d79d7120660b8",
       "version_major": 2,
       "version_minor": 0
      },
      "text/plain": [
       "interactive(children=(FloatSlider(value=1.0, description='sigma', max=3.0, min=0.01, step=0.01), FloatSlider(v…"
      ]
     },
     "metadata": {},
     "output_type": "display_data"
    }
   ],
   "source": [
    "model = GPR(x_values,\n",
    "            y_values,\n",
    "            covariance_function=SquaredExponentialKernel(length=0.5),\n",
    "            white_noise_sigma=0.1)\n",
    "\n",
    "data = plot_GPR(x_values, y_values, model=model, x=x)\n",
    "\n",
    "fig3 = go.FigureWidget(data=data)\n",
    "\n",
    "\n",
    "# we update the y values of our 4 scatter plots \n",
    "@interact(sigma=(0.01, 3, 0.01), length=(0.01, 3, 0.01), noise=(0, 3, 0.1))\n",
    "def update(sigma=1, length=0.5, noise=0.1):\n",
    "    with fig3.batch_update():\n",
    "        model = GPR(x_values,\n",
    "                    y_values,\n",
    "                    covariance_function=SquaredExponentialKernel(\n",
    "                        sigma_f=sigma, length=length),\n",
    "                    white_noise_sigma=noise)\n",
    "\n",
    "        mean = model.predict(x)\n",
    "        y_upper = mean + np.sqrt(model._memory['variance'])\n",
    "        y_lower = mean - np.sqrt(model._memory['variance'])\n",
    "\n",
    "        \n",
    "        for i in range(1, 4):\n",
    "            y_upper = mean + i * np.sqrt(model._memory['variance'])\n",
    "            y_lower = mean - i * np.sqrt(model._memory['variance'])\n",
    "            fig3.data[i-1].y = np.concatenate((y_upper, y_lower[::-1]))\n",
    "        \n",
    "        fig3.data[3].y = mean\n",
    "\n",
    "\n",
    "fig3 = update_layout_of_graph(\n",
    "    fig3, title=\"GPR with varying length, sigma and white noise\")\n",
    "fig3"
   ]
  },
  {
   "cell_type": "markdown",
   "id": "eb3b9fbf",
   "metadata": {},
   "source": [
    "## Application in the paper\n"
   ]
  },
  {
   "cell_type": "markdown",
   "id": "945d6eea",
   "metadata": {},
   "source": [
    "Now that we saw a bit about arbitraty values. So where is the application of the paper? Well, we will start with it now. Firstly, we will not replicate any functions used in the paper is this is unneccessary complex. We want to emphazise what can be done by looking at a simple option pricing formula. As my functions are too simple and don't do hyperparameter optimization I decided to rely on code provided by rasmussen via their Octave package, downloadable here: https://gaussianprocess.org/gpml/code/matlab/doc/."
   ]
  }
 ],
 "metadata": {
  "kernelspec": {
   "display_name": "base",
   "language": "python",
   "name": "python3"
  },
  "language_info": {
   "codemirror_mode": {
    "name": "ipython",
    "version": 3
   },
   "file_extension": ".py",
   "mimetype": "text/x-python",
   "name": "python",
   "nbconvert_exporter": "python",
   "pygments_lexer": "ipython3",
   "version": "3.11.7"
  },
  "toc": {
   "base_numbering": 1,
   "nav_menu": {},
   "number_sections": true,
   "sideBar": true,
   "skip_h1_title": false,
   "title_cell": "Table of Contents",
   "title_sidebar": "Contents",
   "toc_cell": false,
   "toc_position": {},
   "toc_section_display": true,
   "toc_window_display": false
  },
  "varInspector": {
   "cols": {
    "lenName": 16,
    "lenType": 16,
    "lenVar": 40
   },
   "kernels_config": {
    "python": {
     "delete_cmd_postfix": "",
     "delete_cmd_prefix": "del ",
     "library": "var_list.py",
     "varRefreshCmd": "print(var_dic_list())"
    },
    "r": {
     "delete_cmd_postfix": ") ",
     "delete_cmd_prefix": "rm(",
     "library": "var_list.r",
     "varRefreshCmd": "cat(var_dic_list()) "
    }
   },
   "types_to_exclude": [
    "module",
    "function",
    "builtin_function_or_method",
    "instance",
    "_Feature"
   ],
   "window_display": false
  }
 },
 "nbformat": 4,
 "nbformat_minor": 5
}
