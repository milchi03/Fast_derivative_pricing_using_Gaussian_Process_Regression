{
 "cells": [
  {
   "cell_type": "markdown",
   "id": "87a6f995",
   "metadata": {},
   "source": [
    "## Overview"
   ]
  },
  {
   "cell_type": "markdown",
   "id": "dcb462c6",
   "metadata": {},
   "source": [
    "This notebook contains a complete implementation of a Gaussian Process Regressor (GPR) with a squared exponential kernel using Numpy for matrix operations and Plotly for visualisation. It is an adaption of the code provided by Fabian Rang from GitLab https://gitlab.com/youtube-optimization-geeks/uncertainty-quantification."
   ]
  },
  {
   "cell_type": "markdown",
   "id": "bfc98796",
   "metadata": {},
   "source": [
    "## Packages"
   ]
  },
  {
   "cell_type": "code",
   "execution_count": 2,
   "id": "b48ebe22",
   "metadata": {},
   "outputs": [],
   "source": [
    "import numpy as np\n",
    "import plotly.graph_objects as go\n",
    "from ipywidgets import interact\n",
    "from scipy.special import kv, gamma\n",
    "import matplotlib.pyplot as plt"
   ]
  },
  {
   "cell_type": "markdown",
   "id": "4575ccbd",
   "metadata": {},
   "source": [
    "## Plotting helper functions"
   ]
  },
  {
   "cell_type": "markdown",
   "id": "caa8c0bf",
   "metadata": {},
   "source": [
    "To have nice visualizations of the later GPR, we use Plotly and to have structured and lean code, we define a few commonly used 'helpers' here. "
   ]
  },
  {
   "cell_type": "code",
   "execution_count": 3,
   "id": "ad8a0219",
   "metadata": {
    "code_folding": [
     0
    ]
   },
   "outputs": [],
   "source": [
    "def update_layout_of_graph(fig: go.Figure,title: str = 'Plot')->go.Figure:\n",
    "    fig.update_layout(\n",
    "        width=800,\n",
    "        height=600,\n",
    "        autosize=False,\n",
    "        plot_bgcolor='rgba(0,0,0,0)',\n",
    "        title=title,\n",
    "        \n",
    "    )\n",
    "    fig.update_layout(plot_bgcolor='rgba(0,0,0,0)',\n",
    "                      xaxis_title = 'input values',\n",
    "                      yaxis_title = 'output values',\n",
    "                      legend=dict(yanchor=\"top\",\n",
    "                                  y=0.9,\n",
    "                                  xanchor=\"right\",\n",
    "                                  x=0.95),\n",
    "                      title={\n",
    "                          'x': 0.5,\n",
    "                          'xanchor': 'center'\n",
    "                      })\n",
    "    fig.update_xaxes(showline=True, linewidth=1, linecolor='black')\n",
    "    fig.update_yaxes(showline=True, linewidth=1, linecolor='black')\n",
    "    return fig\n",
    "\n",
    "def line_scatter(\n",
    "    visible: bool = True,\n",
    "    x_lines: np.array = np.array([]),\n",
    "    y_lines: np.array = np.array([]),\n",
    "    name_line: str = 'Predicted function',\n",
    "    showlegend: bool = True,\n",
    ") -> go.Scatter:\n",
    "    # Adding the lines\n",
    "    return go.Scatter(\n",
    "        visible=visible,\n",
    "        line=dict(color=\"blue\", width=2),\n",
    "        x=x_lines,\n",
    "        y=y_lines,\n",
    "        name=name_line,\n",
    "        showlegend= showlegend\n",
    "    )\n",
    "\n",
    "def dot_scatter(\n",
    "    visible: bool = True,\n",
    "    x_dots: np.array = np.array([]),\n",
    "    y_dots: np.array = np.array([]),\n",
    "    name_dots: str = 'Observed points',\n",
    "    showlegend: bool = True\n",
    ") -> go.Scatter:\n",
    "    # Adding the dots\n",
    "    return go.Scatter(\n",
    "        x=x_dots,\n",
    "        visible=visible,\n",
    "        y=y_dots,\n",
    "        mode=\"markers\",\n",
    "        name=name_dots,\n",
    "        marker=dict(color='red', size=8),\n",
    "        showlegend=showlegend\n",
    "    )\n",
    "\n",
    "def uncertainty_area_scatter(\n",
    "        visible: bool = True,\n",
    "        x_lines: np.array = np.array([]),\n",
    "        y_upper: np.array = np.array([]),\n",
    "        y_lower: np.array = np.array([]),\n",
    "        name: str = \"mean plus/minus standard deviation\",\n",
    ") -> go.Scatter:\n",
    "\n",
    "    return go.Scatter(\n",
    "        visible=visible,\n",
    "        x=np.concatenate((x_lines, x_lines[::-1])),  # x, then x reversed\n",
    "        # upper, then lower reversed\n",
    "        y=np.concatenate((y_upper, y_lower[::-1])),\n",
    "        fill='toself',\n",
    "        fillcolor='rgba(189,195,199,0.5)',\n",
    "        line=dict(color='rgba(200,200,200,0)'),\n",
    "        hoverinfo=\"skip\",\n",
    "        showlegend=True,\n",
    "        name= name,\n",
    "    )\n",
    "\n",
    "def add_slider_GPR(figure: go.Figure, parameters):\n",
    "    figure.data[0].visible = True\n",
    "    figure.data[1].visible = True\n",
    "\n",
    "    # Create and add slider\n",
    "    steps = []\n",
    "    for i in range(int((len(figure.data) - 1) / 2)):\n",
    "        step = dict(\n",
    "            method=\"update\",\n",
    "            label=f'{parameters[i]: .2f}',\n",
    "            args=[{\n",
    "                \"visible\": [False] * (len(figure.data) - 1) + [True]\n",
    "            }],\n",
    "        )\n",
    "        step[\"args\"][0][\"visible\"][2 *\n",
    "                                   i] = True  # Toggle i'th trace to \"visible\"\n",
    "        step[\"args\"][0][\"visible\"][2 * i + 1] = True\n",
    "        steps.append(step)\n",
    "\n",
    "    sliders = [dict(\n",
    "        active=0,\n",
    "        pad={\"t\": 50},\n",
    "        steps=steps,\n",
    "    )]\n",
    "    figure.update_layout(sliders=sliders, )\n",
    "    return figure\n",
    "\n",
    "def add_slider_to_function(figure:go.Figure, parameters):\n",
    "    figure.data[0].visible = True\n",
    "\n",
    "    # Create and add slider\n",
    "    steps = []\n",
    "    for i in range(len(figure.data)):\n",
    "        step = dict(\n",
    "            method=\"update\",\n",
    "            label=f'{parameters[i]: .2f}',\n",
    "            args=[{\n",
    "                \"visible\": [False] *len(figure.data) \n",
    "            }],\n",
    "        )\n",
    "        step[\"args\"][0][\"visible\"][i] = True  # Toggle i'th trace to \"visible\"\n",
    "        steps.append(step)\n",
    "\n",
    "    sliders = [dict(\n",
    "        active=0,\n",
    "        pad={\"t\": 50},\n",
    "        steps=steps,\n",
    "    )]\n",
    "    figure.update_layout(sliders=sliders, )\n",
    "    return figure"
   ]
  },
  {
   "cell_type": "markdown",
   "id": "9058664e",
   "metadata": {},
   "source": [
    "## Implementation of GPR with squared exponential kernel"
   ]
  },
  {
   "cell_type": "markdown",
   "id": "fa792ab3",
   "metadata": {},
   "source": [
    "In order to define a Gaussian Process Regressor (GPR), we need a covariance function (also called a kernel). The choice of this function determines the \"shape\" of the GPR and influences how the model generalizes to unseen data. Below are some commonly used kernels as stated in Rasmussen Table 4.1.:\n",
    "\n",
    "### 1. Squared Exponential Kernel\n",
    "The **squared exponential kernel** is widely used in Gaussian Process models and is defined as:\n",
    "$$ k(x_1, x_2) := \\sigma^2 \\exp\\left(-\\frac{\\|x_1 - x_2\\|^2_2}{2 l^2}\\right) $$\n",
    "where $ l > 0 $ is the length scale and  $\\sigma^2 > 0$ is the signal variance.\n",
    "\n",
    "- $ \\sigma $ controls the amplitude of variation in the function.\n",
    "- $ l $ controls the smoothness of the function, with smaller values making the function decay more rapidly with distance, while larger values smooth it out.\n",
    "\n",
    "### 2. Constant Kernel\n",
    "The **constant kernel** is defined as:\n",
    "$$ k(x_1, x_2) := \\sigma_0^2 $$\n",
    "where $ \\sigma_0^2 $ is a constant.\n",
    "\n",
    "This kernel is **stationary** but **degenerate** (more on that in 4.2.1), meaning it produces covariance matrices with finite rank, which limits its flexibility. Degenerate matrices have finite rank, resulting in limited expressiveness. The constant kernel is useful for modeling functions that are approximately constant across the input space. I find it mostly interesting to see what other kernels do, therefore this primitive selection.\n",
    "\n",
    "### 3. Matérn Kernel\n",
    "The **Matérn kernel** is a more general kernel with the **squared exponential kernel**. It is defined as:\n",
    "$$ k(x_1, x_2) := \\frac{1}{2^{\\nu-1} \\Gamma(\\nu)} \\left( \\frac{\\sqrt{2 \\nu} \\, \\|x_1 - x_2\\|}{l} \\right)^\\nu K_\\nu \\left( \\frac{\\sqrt{2 \\nu} \\, \\|x_1 - x_2\\|}{l} \\right) $$\n",
    "where:\n",
    "- $ l $  is the length scale.\n",
    "- $ \\nu > 0 $ controls the smoothness of the function, with higher values of $ \\nu $ making the function smoother.\n",
    "- $ K_\\nu $ is the modified Bessel function of the second kind. (I don't know what that is but I will keep it because it may be interesting to try out a highly complicated model)\n",
    "- $ \\Gamma $ is the gamma function.\n",
    "\n",
    "The Matérn kernel is often chosen for applications where controlling the smoothness of the function is important, as it allows for a range of behaviors. With $ \\nu = 0.5 $, the Matérn kernel becomes equivalent to the exponential kernel (that we did not cover here but it also a classic), and as $ \\nu \\to \\infty $, it approaches the squared exponential kernel. (Source: https://en.wikipedia.org/wiki/Mat%C3%A9rn_covariance_function)."
   ]
  },
  {
   "cell_type": "code",
   "execution_count": 4,
   "id": "cbc55090",
   "metadata": {},
   "outputs": [],
   "source": [
    "class SquaredExponentialKernel:\n",
    "    def __init__(self, sigma_f: float = 1, length: float = 1):\n",
    "        self.sigma_f = sigma_f\n",
    "        self.length = length\n",
    "\n",
    "    def __call__(self, argument_1: np.array, argument_2: np.array) -> float:\n",
    "        return float(self.sigma_f *\n",
    "                     np.exp(-(np.linalg.norm(argument_1 - argument_2)**2) /\n",
    "                            (2 * self.length**2)))\n",
    "    \n",
    "class ConstantKernel:\n",
    "    def __init__(self, sigma_0: float = 1):\n",
    "        self.sigma_0 = sigma_0\n",
    "    \n",
    "    def __call__(self, argument_1: np.array, argument_2: np.array) -> float:\n",
    "        return(self.sigma_0 ** 2)\n",
    "    \n",
    "class MaternKernel:\n",
    "    def __init__(self, sigma_f: float = 1, length: float = 1, nu: float = 1.5):\n",
    "        self.sigma_f = sigma_f\n",
    "        self.length = length\n",
    "        self.nu = nu\n",
    "\n",
    "    def __call__(self, argument_1: np.array, argument_2: np.array) -> float:\n",
    "        r = np.linalg.norm(argument_1 - argument_2) #Euclidean distance between the two points\n",
    "        \n",
    "        # Special case for r = 0 to avoid division by zero\n",
    "        if r == 0.0:\n",
    "            return self.sigma_f ** 2\n",
    "        \n",
    "        # Calculate the kernel value based on the Matérn function formula\n",
    "        factor = (2 ** (1 - self.nu)) / gamma(self.nu)\n",
    "        scaled_distance = (np.sqrt(2 * self.nu) * r) / self.length\n",
    "        bessel_term = kv(self.nu, scaled_distance)  # Modified Bessel function of the second kind\n",
    "        \n",
    "        return float(self.sigma_f ** 2 * factor * (scaled_distance ** self.nu) * bessel_term)"
   ]
  },
  {
   "cell_type": "markdown",
   "id": "b23258da",
   "metadata": {},
   "source": [
    "Let us visualize these kernels. We will start with the **squared exponential kernel**."
   ]
  },
  {
   "cell_type": "code",
   "execution_count": 5,
   "id": "e1cd79c0",
   "metadata": {},
   "outputs": [
    {
     "data": {
      "image/png": "[encoded data removed]",
      "text/plain": [
       "<Figure size 1000x600 with 1 Axes>"
      ]
     },
     "metadata": {},
     "output_type": "display_data"
    }
   ],
   "source": [
    "# Define fixed parameters for length and argument_2\n",
    "length = 1.0  # Set the length directly\n",
    "argument_2 = 0  # Set argument_2 directly\n",
    "\n",
    "# Generate x values\n",
    "x_lines = np.arange(-10, 10, 0.1)\n",
    "\n",
    "# Initialize kernel\n",
    "kernel = SquaredExponentialKernel(length=length)\n",
    "\n",
    "# Compute y values using fixed argument_2\n",
    "y_lines = np.array([kernel(x, argument_2) for x in x_lines])\n",
    "\n",
    "# Plot using matplotlib\n",
    "plt.figure(figsize=(10, 6))\n",
    "plt.plot(x_lines, y_lines, label=\"Squared Exponential Kernel\", color=\"blue\")\n",
    "plt.title(\"Squared Exponential Kernel\")\n",
    "plt.xlabel(\"x\")\n",
    "plt.ylabel(\"Kernel Output\")\n",
    "plt.legend()\n",
    "plt.grid(True)\n",
    "plt.show()"
   ]
  },
  {
   "cell_type": "markdown",
   "id": "18f81bfc",
   "metadata": {},
   "source": [
    "Let us shortly recall the formula:\n",
    "Given training points $\\mathbf{x}_1, \\dots, \\mathbf{x}_n \\in \\mathbb{R}^m$ with values $y_1, \\dots, y_n \\in \\mathbb{R}$, $\\mathbf{y} = (y_i) \\in \\mathbb{R}^n$ with noise in each point $\\mathcal{N} \\sim (0, \\sigma_n)$, and points $\\mathbf{x}_{n+1}, \\dots, \\mathbf{x}_k \\in \\mathbb{R}^m$ for which we want to predict the output, adapting our probability distribution leads to:\n",
    "\n",
    "$$\n",
    "f_* | X_*, X, y \\sim \\mathcal{N}\\left(K(X, X_*) \\cdot (K(X, X) + \\sigma^2 \\cdot I)^{-1} \\cdot \\mathbf{y},\n",
    "K(X_*, X_*) - K(X, X_*) \\cdot (K(X, X) + \\sigma^2 \\cdot I)^{-1} \\cdot K(X, X_*)\\right)\n",
    "$$\n",
    "\n",
    "where $K : (\\mathbb{R}^m)^k \\times (\\mathbb{R}^m)^l \\to \\mathbb{R}^{k \\times l}$ is defined as the matrix:\n",
    "\n",
    "$$\n",
    "K(X, X') = \\begin{bmatrix}\n",
    "    k(\\mathbf{x}_1, \\mathbf{x}'_1) & \\dots & k(\\mathbf{x}_1, \\mathbf{x}'_l) \\\\\n",
    "    \\vdots & \\ddots & \\vdots \\\\\n",
    "    k(\\mathbf{x}_k, \\mathbf{x}'_1) & \\dots & k(\\mathbf{x}_k, \\mathbf{x}'_l)\n",
    "\\end{bmatrix}\n",
    "$$\n",
    "\n",
    "the covariance matrix of $X$ and $X'$ with $X, X' \\in \\{X, X_*\\}$. This can either be the covariance matrix of training data $K(X, X)$, of test data $K(X_*, X_*)$, or of training with test data $K(X, X_*)$. $\\sigma_n$ is some noise parameter which makes sense as one should not assume $y=f(x)$ for our purposes but some error $y=f(x)+\\epsilon$. For the noise free case, set $\\sigma_n=0$."
   ]
  },
  {
   "cell_type": "code",
   "execution_count": 6,
   "id": "06c65a7a",
   "metadata": {},
   "outputs": [],
   "source": [
    "# Helper function to calculate the respective covariance matrices\n",
    "def cov_matrix(x1, x2, cov_function) -> np.array:\n",
    "    return np.array([[cov_function(a, b) for a in x1] for b in x2])"
   ]
  },
  {
   "cell_type": "code",
   "execution_count": 9,
   "id": "d9bdfc5b",
   "metadata": {},
   "outputs": [],
   "source": [
    "class GPR:\n",
    "    def __init__(self, data_x, data_y, covariance_function=SquaredExponentialKernel(), white_noise_sigma: float = 0):\n",
    "        self.noise = white_noise_sigma\n",
    "        self.data_x = data_x\n",
    "        self.data_y = data_y\n",
    "        self.covariance_function = covariance_function\n",
    "\n",
    "        # Store the inverse of covariance matrix of input since it is needed for every prediction\n",
    "        self._inverse_of_covariance_matrix_of_input_noise_adj = np.linalg.inv(\n",
    "            cov_matrix(data_x, data_x, covariance_function) + self.noise * np.identity(len(self.data_x)))\n",
    "\n",
    "        self._memory = None  # Will later store a dictionary containing mean, covariance matrix, and variance of the predictions.\n",
    "\n",
    "    # Function to predict output at new input values. Store the mean and covariance matrix in memory.\n",
    "    def predict(self, test_data: np.ndarray) -> np.ndarray:\n",
    "        # Calculate covariance matrices\n",
    "        KXX_star = cov_matrix(test_data, self.data_x, self.covariance_function)  # K(X, X_*)\n",
    "        KXX_star = KXX_star.T\n",
    "        # Check if KXX_star has fewer rows than columns\n",
    "        #if KXX_star.shape[0] < KXX_star.shape[1]:\n",
    "            \n",
    "        #    print(\"Transposed KXX_star to match required shape. New shape:\", KXX_star.shape)\n",
    "        #else:\n",
    "        #    print(\"KXX_star shape is suitable, no transpose needed:\", KXX_star.shape)\n",
    "\n",
    "        KX_starX_star = cov_matrix(test_data, test_data, self.covariance_function)  # K(X_*, X_*)\n",
    "\n",
    "        # Mean prediction using formula: K(X, X_*) * (K(X, X) + sigma^2 * I)^(-1) * y\n",
    "        #Debug\n",
    "        print(\"Debugging shape dimensions:\")\n",
    "        print(f\"KXX_star shape: {KXX_star.shape}, expected shape: (number of test points, number of data points)\")\n",
    "        print(f\"Inverse of covariance matrix shape: {self._inverse_of_covariance_matrix_of_input_noise_adj.shape}, expected shape: ({len(self.data_x)}, {len(self.data_x)})\")\n",
    "        print(f\"Data_y shape: {self.data_y.shape}, expected shape: ({len(self.data_x)},)\")\n",
    "        print(f\"Resulting shape of (inverse covariance matrix * data_y): {(self._inverse_of_covariance_matrix_of_input_noise_adj @ self.data_y).shape}\")\n",
    "        mean_test_data = KXX_star @ (self._inverse_of_covariance_matrix_of_input_noise_adj @ self.data_y)  # in n x 1\n",
    "\n",
    "        # Covariance prediction using formula: K(X_*, X_*) - K(X, X_*) * (K(X, X) + sigma^2 * I)^(-1) * K(X, X_*)^T\n",
    "        cov_test_data = KX_starX_star - KXX_star @ (self._inverse_of_covariance_matrix_of_input_noise_adj @ KXX_star.T)  # in n x n\n",
    "\n",
    "        # Variance (diagonal elements of the covariance matrix).\n",
    "        var_test_data = np.diag(cov_test_data)  # in n x 1\n",
    "\n",
    "        # Store results in memory\n",
    "        self._memory = {\n",
    "            'mean': mean_test_data,\n",
    "            'covariance_matrix': cov_test_data,\n",
    "            'variance': var_test_data\n",
    "        }\n",
    "        \n",
    "        return mean_test_data"
   ]
  },
  {
   "cell_type": "markdown",
   "id": "9e6b586e",
   "metadata": {},
   "source": [
    "That's it. The GPR is ready to be used! "
   ]
  },
  {
   "cell_type": "markdown",
   "id": "a5e2f744",
   "metadata": {},
   "source": [
    "## Testing"
   ]
  },
  {
   "cell_type": "markdown",
   "id": "decbe1a4",
   "metadata": {},
   "source": [
    "Let us initialize our GPR on a set of values and visualize the GPR. "
   ]
  },
  {
   "cell_type": "markdown",
   "id": "4a9aa377",
   "metadata": {},
   "source": [
    "### Initializing training data"
   ]
  },
  {
   "cell_type": "code",
   "execution_count": 15,
   "id": "12f59452",
   "metadata": {},
   "outputs": [],
   "source": [
    "x_values = np.arange(0, 5, 1)\n",
    "y_values = np.sin(x_values)\n",
    "x = np.arange(-1, 7, 0.1)"
   ]
  },
  {
   "cell_type": "markdown",
   "id": "8410f233",
   "metadata": {},
   "source": [
    "### Plot the output"
   ]
  },
  {
   "cell_type": "markdown",
   "id": "fe426230",
   "metadata": {},
   "source": [
    "Let us define a helper function which returns a list of all plots of data points, mean, etc. needed to plot a GPR."
   ]
  },
  {
   "cell_type": "code",
   "execution_count": 16,
   "id": "b99b06c2",
   "metadata": {},
   "outputs": [],
   "source": [
    "def plot_GPR(data_x, data_y, model, x, visible=True) -> list:\n",
    "    mean = model.predict(x)\n",
    "\n",
    "    std = np.sqrt(model._memory['variance'])\n",
    "    data = []\n",
    "\n",
    "    for i in range(1, 4):\n",
    "        data.append(\n",
    "            uncertainty_area_scatter(\n",
    "                x_lines=x,\n",
    "                y_lower=mean - i * std,\n",
    "                y_upper=mean + i * std,\n",
    "                name=f\"mean plus/minus {i}*standard deviation\",\n",
    "                visible=visible))\n",
    "\n",
    "    data.append(line_scatter(x_lines=x, y_lines=mean, visible=visible))\n",
    "    data.append(dot_scatter(x_dots=data_x, y_dots=data_y, visible=visible))\n",
    "    return data"
   ]
  },
  {
   "cell_type": "markdown",
   "id": "51cd9df1",
   "metadata": {},
   "source": [
    "Now, we can visualize our first GPR."
   ]
  },
  {
   "cell_type": "code",
   "execution_count": 17,
   "id": "9a82c61f",
   "metadata": {},
   "outputs": [
    {
     "name": "stdout",
     "output_type": "stream",
     "text": [
      "Debugging shape dimensions:\n",
      "KXX_star shape: (80, 5), expected shape: (number of test points, number of data points)\n",
      "Inverse of covariance matrix shape: (5, 5), expected shape: (5, 5)\n",
      "Data_y shape: (5,), expected shape: (5,)\n",
      "Resulting shape of (inverse covariance matrix * data_y): (5,)\n"
     ]
    },
    {
     "data": {
      "application/vnd.plotly.v1+json": {
       "config": {
        "plotlyServerURL": "https://plot.ly"
       },
       "data": [
        {
         "fill": "toself",
         "fillcolor": "rgba(189,195,199,0.5)",
         "hoverinfo": "skip",
         "line": {
          "color": "rgba(200,200,200,0)"
         },
         "name": "mean plus/minus 1*standard deviation",
         "showlegend": true,
         "type": "scatter",
         "visible": true,
         "x": [
          -1,
          -0.9,
          -0.8,
          -0.7000000000000001,
          -0.6000000000000001,
          -0.5000000000000001,
          -0.40000000000000013,
          -0.30000000000000016,
          -0.20000000000000018,
          -0.1000000000000002,
          -2.220446049250313e-16,
          0.09999999999999964,
          0.19999999999999973,
          0.2999999999999998,
          0.3999999999999997,
          0.49999999999999956,
          0.5999999999999996,
          0.6999999999999997,
          0.7999999999999996,
          0.8999999999999995,
          0.9999999999999996,
          1.0999999999999996,
          1.1999999999999993,
          1.2999999999999994,
          1.3999999999999995,
          1.4999999999999996,
          1.5999999999999996,
          1.6999999999999993,
          1.7999999999999994,
          1.8999999999999995,
          1.9999999999999991,
          2.099999999999999,
          2.1999999999999993,
          2.2999999999999994,
          2.3999999999999995,
          2.499999999999999,
          2.599999999999999,
          2.6999999999999993,
          2.799999999999999,
          2.899999999999999,
          2.999999999999999,
          3.0999999999999988,
          3.1999999999999993,
          3.299999999999999,
          3.3999999999999986,
          3.499999999999999,
          3.5999999999999988,
          3.6999999999999993,
          3.799999999999999,
          3.8999999999999986,
          3.999999999999999,
          4.099999999999999,
          4.199999999999999,
          4.299999999999999,
          4.399999999999999,
          4.499999999999999,
          4.599999999999999,
          4.699999999999998,
          4.799999999999999,
          4.899999999999999,
          4.999999999999998,
          5.099999999999999,
          5.199999999999998,
          5.299999999999999,
          5.399999999999999,
          5.499999999999998,
          5.599999999999999,
          5.699999999999998,
          5.799999999999999,
          5.899999999999999,
          5.999999999999998,
          6.099999999999999,
          6.199999999999998,
          6.299999999999998,
          6.399999999999999,
          6.499999999999998,
          6.599999999999998,
          6.699999999999998,
          6.799999999999998,
          6.899999999999999,
          6.899999999999999,
          6.799999999999998,
          6.699999999999998,
          6.599999999999998,
          6.499999999999998,
          6.399999999999999,
          6.299999999999998,
          6.199999999999998,
          6.099999999999999,
          5.999999999999998,
          5.899999999999999,
          5.799999999999999,
          5.699999999999998,
          5.599999999999999,
          5.499999999999998,
          5.399999999999999,
          5.299999999999999,
          5.199999999999998,
          5.099999999999999,
          4.999999999999998,
          4.899999999999999,
          4.799999999999999,
          4.699999999999998,
          4.599999999999999,
          4.499999999999999,
          4.399999999999999,
          4.299999999999999,
          4.199999999999999,
          4.099999999999999,
          3.999999999999999,
          3.8999999999999986,
          3.799999999999999,
          3.6999999999999993,
          3.5999999999999988,
          3.499999999999999,
          3.3999999999999986,
          3.299999999999999,
          3.1999999999999993,
          3.0999999999999988,
          2.999999999999999,
          2.899999999999999,
          2.799999999999999,
          2.6999999999999993,
          2.599999999999999,
          2.499999999999999,
          2.3999999999999995,
          2.2999999999999994,
          2.1999999999999993,
          2.099999999999999,
          1.9999999999999991,
          1.8999999999999995,
          1.7999999999999994,
          1.6999999999999993,
          1.5999999999999996,
          1.4999999999999996,
          1.3999999999999995,
          1.2999999999999994,
          1.1999999999999993,
          1.0999999999999996,
          0.9999999999999996,
          0.8999999999999995,
          0.7999999999999996,
          0.6999999999999997,
          0.5999999999999996,
          0.49999999999999956,
          0.3999999999999997,
          0.2999999999999998,
          0.19999999999999973,
          0.09999999999999964,
          -2.220446049250313e-16,
          -0.1000000000000002,
          -0.20000000000000018,
          -0.30000000000000016,
          -0.40000000000000013,
          -0.5000000000000001,
          -0.6000000000000001,
          -0.7000000000000001,
          -0.8,
          -0.9,
          -1
         ],
         "y": [
          0.4292015168802666,
          0.3583619304493124,
          0.28737446542470874,
          0.21840333332498696,
          0.15387682405426578,
          0.09638992464424678,
          0.048580440128499436,
          0.01298432360905763,
          -0.008121604193013568,
          -0.012879315514069872,
          2.0708261494473135e-17,
          0.1262969919105746,
          0.24751841878429104,
          0.3611733800919227,
          0.4651755200393425,
          0.5579599782747405,
          0.6385631996615562,
          0.7066573985475644,
          0.7625350618764356,
          0.8070431249582424,
          0.841471003058017,
          0.9268455205341122,
          0.9972734900350748,
          1.0502342059140444,
          1.0840948035589528,
          1.0981751619632423,
          1.0927465166989783,
          1.0689641131124783,
          1.028739669390476,
          0.9745643999280135,
          0.9092974547032018,
          0.8901537976714556,
          0.8608504440289149,
          0.8194473238359994,
          0.7643466109388515,
          0.6944917104556396,
          0.6095320071470997,
          0.5099386600003304,
          0.3970608503772124,
          0.2731168873616281,
          0.14112003162067271,
          0.06735502795115245,
          -0.008921020135792553,
          -0.08882637142139707,
          -0.17315284497629035,
          -0.26225516991112513,
          -0.3559843161475663,
          -0.45366884267006874,
          -0.5541437813478182,
          -0.6558223779338638,
          -0.7568024847712156,
          -0.7392558931360237,
          -0.6996893707951373,
          -0.6401621169532209,
          -0.5633284725264269,
          -0.47226841208231274,
          -0.3703086547895868,
          -0.2608467462325662,
          -0.1471890811842208,
          -0.032411751677359546,
          0.08074945540752365,
          0.18997636651703742,
          0.2934122439486333,
          0.3896738416462908,
          0.47783550561708316,
          0.5573906786441933,
          0.6281970983231744,
          0.6904122651759681,
          0.7444254346791707,
          0.7907915396984861,
          0.8301712177206556,
          0.8632796826664143,
          0.8908457449000035,
          0.9135810302421167,
          0.9321585122882775,
          0.9471989091807452,
          0.959263285035783,
          0.968850257700322,
          0.9763964421584894,
          0.9822790517706177,
          -1.017310584520546,
          -1.022882542560107,
          -1.0299087469777393,
          -1.0386443803001781,
          -1.049345545322878,
          -1.062251359531174,
          -1.0775606675754599,
          -1.095403763912802,
          -1.1158102771281713,
          -1.1386752182300421,
          -1.163726017282738,
          -1.1904940198477258,
          -1.2182942454075132,
          -1.246217121629943,
          -1.2731353617135992,
          -1.2977281769737372,
          -1.3185236991692466,
          -1.3339589455449123,
          -1.342455024212763,
          -1.342503677843626,
          -1.3327598267585299,
          -1.31213362532145,
          -1.2798748142744176,
          -1.2356419541645105,
          -1.179549555764115,
          -1.112187234525837,
          -1.0346067993002028,
          -0.9482755592262198,
          -0.8549969382568628,
          -0.7568025058446399,
          -0.751012489865775,
          -0.7214246583904259,
          -0.6685013040706625,
          -0.5936435657430844,
          -0.4991497527818633,
          -0.3881166566405857,
          -0.2642882682157235,
          -0.1318606936493949,
          0.004744086765048901,
          0.14111998449906354,
          0.21367226362918146,
          0.2863204503934673,
          0.3602051866373501,
          0.43612856285117274,
          0.5144078947253947,
          0.5947685136495182,
          0.676287343315858,
          0.7573947639588965,
          0.8359371975323845,
          0.9092973989481619,
          0.9203477997889341,
          0.9252839893204575,
          0.9258041325923432,
          0.9231684194096412,
          0.9180913462330013,
          0.9106913592630247,
          0.9005007325510581,
          0.8865330900513217,
          0.867400896801658,
          0.8414709665577755,
          0.7444321837721282,
          0.6395953883628261,
          0.5311955017532366,
          0.4235993879972619,
          0.3210653954039996,
          0.2275162704438262,
          0.14634091869132893,
          0.08023754174168334,
          0.031106879978661107,
          2.0708261494473135e-17,
          -0.12862036063491092,
          -0.25670779262409793,
          -0.3814603587379255,
          -0.500278321870911,
          -0.6108912190375577,
          -0.7114564753206598,
          -0.8006247347168668,
          -0.8775700787125222,
          -0.94198614463186,
          -0.9940516163708852
         ]
        },
        {
         "fill": "toself",
         "fillcolor": "rgba(189,195,199,0.5)",
         "hoverinfo": "skip",
         "line": {
          "color": "rgba(200,200,200,0)"
         },
         "name": "mean plus/minus 2*standard deviation",
         "showlegend": true,
         "type": "scatter",
         "visible": true,
         "x": [
          -1,
          -0.9,
          -0.8,
          -0.7000000000000001,
          -0.6000000000000001,
          -0.5000000000000001,
          -0.40000000000000013,
          -0.30000000000000016,
          -0.20000000000000018,
          -0.1000000000000002,
          -2.220446049250313e-16,
          0.09999999999999964,
          0.19999999999999973,
          0.2999999999999998,
          0.3999999999999997,
          0.49999999999999956,
          0.5999999999999996,
          0.6999999999999997,
          0.7999999999999996,
          0.8999999999999995,
          0.9999999999999996,
          1.0999999999999996,
          1.1999999999999993,
          1.2999999999999994,
          1.3999999999999995,
          1.4999999999999996,
          1.5999999999999996,
          1.6999999999999993,
          1.7999999999999994,
          1.8999999999999995,
          1.9999999999999991,
          2.099999999999999,
          2.1999999999999993,
          2.2999999999999994,
          2.3999999999999995,
          2.499999999999999,
          2.599999999999999,
          2.6999999999999993,
          2.799999999999999,
          2.899999999999999,
          2.999999999999999,
          3.0999999999999988,
          3.1999999999999993,
          3.299999999999999,
          3.3999999999999986,
          3.499999999999999,
          3.5999999999999988,
          3.6999999999999993,
          3.799999999999999,
          3.8999999999999986,
          3.999999999999999,
          4.099999999999999,
          4.199999999999999,
          4.299999999999999,
          4.399999999999999,
          4.499999999999999,
          4.599999999999999,
          4.699999999999998,
          4.799999999999999,
          4.899999999999999,
          4.999999999999998,
          5.099999999999999,
          5.199999999999998,
          5.299999999999999,
          5.399999999999999,
          5.499999999999998,
          5.599999999999999,
          5.699999999999998,
          5.799999999999999,
          5.899999999999999,
          5.999999999999998,
          6.099999999999999,
          6.199999999999998,
          6.299999999999998,
          6.399999999999999,
          6.499999999999998,
          6.599999999999998,
          6.699999999999998,
          6.799999999999998,
          6.899999999999999,
          6.899999999999999,
          6.799999999999998,
          6.699999999999998,
          6.599999999999998,
          6.499999999999998,
          6.399999999999999,
          6.299999999999998,
          6.199999999999998,
          6.099999999999999,
          5.999999999999998,
          5.899999999999999,
          5.799999999999999,
          5.699999999999998,
          5.599999999999999,
          5.499999999999998,
          5.399999999999999,
          5.299999999999999,
          5.199999999999998,
          5.099999999999999,
          4.999999999999998,
          4.899999999999999,
          4.799999999999999,
          4.699999999999998,
          4.599999999999999,
          4.499999999999999,
          4.399999999999999,
          4.299999999999999,
          4.199999999999999,
          4.099999999999999,
          3.999999999999999,
          3.8999999999999986,
          3.799999999999999,
          3.6999999999999993,
          3.5999999999999988,
          3.499999999999999,
          3.3999999999999986,
          3.299999999999999,
          3.1999999999999993,
          3.0999999999999988,
          2.999999999999999,
          2.899999999999999,
          2.799999999999999,
          2.6999999999999993,
          2.599999999999999,
          2.499999999999999,
          2.3999999999999995,
          2.2999999999999994,
          2.1999999999999993,
          2.099999999999999,
          1.9999999999999991,
          1.8999999999999995,
          1.7999999999999994,
          1.6999999999999993,
          1.5999999999999996,
          1.4999999999999996,
          1.3999999999999995,
          1.2999999999999994,
          1.1999999999999993,
          1.0999999999999996,
          0.9999999999999996,
          0.8999999999999995,
          0.7999999999999996,
          0.6999999999999997,
          0.5999999999999996,
          0.49999999999999956,
          0.3999999999999997,
          0.2999999999999998,
          0.19999999999999973,
          0.09999999999999964,
          -2.220446049250313e-16,
          -0.1000000000000002,
          -0.20000000000000018,
          -0.30000000000000016,
          -0.40000000000000013,
          -0.5000000000000001,
          -0.6000000000000001,
          -0.7000000000000001,
          -0.8,
          -0.9,
          -1
         ],
         "y": [
          1.1408280835058424,
          1.0085359679898986,
          0.8698467374933243,
          0.7279173673459138,
          0.5865434737417285,
          0.45003049648514903,
          0.32300982112820464,
          0.21020666478254918,
          0.1161714900225286,
          0.04499120704635065,
          2.0708261494473135e-17,
          0.17389204787653134,
          0.3311588573055949,
          0.4685896107922196,
          0.5840051448371006,
          0.6764072697101111,
          0.7460451054937034,
          0.7943883469447282,
          0.8240048986332404,
          0.8383485955512995,
          0.8414710213081378,
          0.9565678324003392,
          1.0526436900269514,
          1.1251009425955374,
          1.170796525706917,
          1.188217069828363,
          1.1775355653436468,
          1.1405441033725459,
          1.0804675094254852,
          1.0016726999975532,
          0.9092974825807216,
          0.9172620977409912,
          0.9125782840639242,
          0.8910273140960701,
          0.849135659583518,
          0.784533618320762,
          0.6962337292950631,
          0.5848053966818205,
          0.45243105036908493,
          0.3028391992278514,
          0.14112005518147727,
          0.09866049854420421,
          0.05254881662100862,
          -0.001095423024233877,
          -0.06567093914414265,
          -0.14380787847575602,
          -0.23715469134980724,
          -0.34625261196977186,
          -0.4705033428265143,
          -0.6082273219679082,
          -0.7568024742345035,
          -0.6813853705756041,
          -0.5753962765795959,
          -0.4429397757797299,
          -0.2888990915267219,
          -0.1186278402414116,
          0.06235799489787508,
          0.24866728778835945,
          0.4352831908843938,
          0.6177622858632257,
          0.7923760220330984,
          0.9561920618819376,
          1.107097838695406,
          1.2437726120540595,
          1.3656173469124933,
          1.4726536988230896,
          1.565404208299733,
          1.6447655204677087,
          1.711885161942619,
          1.7680503181890983,
          1.8145944356960044,
          1.8528246625637073,
          1.8839704993064061,
          1.909151879150905,
          1.929363448198003,
          1.9454711364325568,
          1.9582171177037635,
          1.9682297600393526,
          1.9760359345177876,
          1.9820738699161995,
          -2.017105402666128,
          -2.022522034919405,
          -2.0292882493167697,
          -2.0375982129681587,
          -2.0476177725746894,
          -2.0594562954408997,
          -2.0731315164842483,
          -2.0885285183192046,
          -2.1053552570254643,
          -2.1230984362053906,
          -2.14098479577335,
          -2.157953747111174,
          -2.172647500699254,
          -2.1834242316065016,
          -2.1883983818924957,
          -2.1855100182691474,
          -2.172622469577015,
          -2.1476445402916853,
          -2.1086707195776633,
          -2.0541302444692007,
          -1.9829338642991152,
          -1.8946058973900648,
          -1.789388848295343,
          -1.6683086038519725,
          -1.5331901276050162,
          -1.3866166155255422,
          -1.2318291404736939,
          -1.072568653441761,
          -0.9128674608172824,
          -0.756802516381352,
          -0.7986075458317305,
          -0.8050650969117298,
          -0.7759175347709594,
          -0.7124731905408435,
          -0.6175970442172324,
          -0.4955985624727334,
          -0.35201921661288665,
          -0.19333053040619608,
          -0.02656138382800287,
          0.141119960938259,
          0.18394995176295814,
          0.23095025040159475,
          0.28533844995586005,
          0.3494268407032093,
          0.4243659868602724,
          0.5099794650048517,
          0.6047073530557874,
          0.7056669239238872,
          0.8088288974628489,
          0.909297371070642,
          0.8932394997193945,
          0.8735561492854482,
          0.8542241423322756,
          0.8383793707649727,
          0.8280494383678807,
          0.8239896371150607,
          0.8256339958695651,
          0.8311628900594452,
          0.837678584935431,
          0.8414709483076548,
          0.7131267131790711,
          0.5781255516060213,
          0.4434645533560728,
          0.3161174821651147,
          0.20261810396862906,
          0.10868664564606806,
          0.03892468799103202,
          -0.0034028967796205234,
          -0.016488175987295642,
          2.0708261494473135e-17,
          -0.18649088319533144,
          -0.38100088683964006,
          -0.578682699911417,
          -0.7747077028706162,
          -0.96453179087846,
          -1.1441231250081225,
          -1.3101387687377937,
          -1.4600423507811378,
          -1.5921601821724463,
          -1.7056781829964611
         ]
        },
        {
         "fill": "toself",
         "fillcolor": "rgba(189,195,199,0.5)",
         "hoverinfo": "skip",
         "line": {
          "color": "rgba(200,200,200,0)"
         },
         "name": "mean plus/minus 3*standard deviation",
         "showlegend": true,
         "type": "scatter",
         "visible": true,
         "x": [
          -1,
          -0.9,
          -0.8,
          -0.7000000000000001,
          -0.6000000000000001,
          -0.5000000000000001,
          -0.40000000000000013,
          -0.30000000000000016,
          -0.20000000000000018,
          -0.1000000000000002,
          -2.220446049250313e-16,
          0.09999999999999964,
          0.19999999999999973,
          0.2999999999999998,
          0.3999999999999997,
          0.49999999999999956,
          0.5999999999999996,
          0.6999999999999997,
          0.7999999999999996,
          0.8999999999999995,
          0.9999999999999996,
          1.0999999999999996,
          1.1999999999999993,
          1.2999999999999994,
          1.3999999999999995,
          1.4999999999999996,
          1.5999999999999996,
          1.6999999999999993,
          1.7999999999999994,
          1.8999999999999995,
          1.9999999999999991,
          2.099999999999999,
          2.1999999999999993,
          2.2999999999999994,
          2.3999999999999995,
          2.499999999999999,
          2.599999999999999,
          2.6999999999999993,
          2.799999999999999,
          2.899999999999999,
          2.999999999999999,
          3.0999999999999988,
          3.1999999999999993,
          3.299999999999999,
          3.3999999999999986,
          3.499999999999999,
          3.5999999999999988,
          3.6999999999999993,
          3.799999999999999,
          3.8999999999999986,
          3.999999999999999,
          4.099999999999999,
          4.199999999999999,
          4.299999999999999,
          4.399999999999999,
          4.499999999999999,
          4.599999999999999,
          4.699999999999998,
          4.799999999999999,
          4.899999999999999,
          4.999999999999998,
          5.099999999999999,
          5.199999999999998,
          5.299999999999999,
          5.399999999999999,
          5.499999999999998,
          5.599999999999999,
          5.699999999999998,
          5.799999999999999,
          5.899999999999999,
          5.999999999999998,
          6.099999999999999,
          6.199999999999998,
          6.299999999999998,
          6.399999999999999,
          6.499999999999998,
          6.599999999999998,
          6.699999999999998,
          6.799999999999998,
          6.899999999999999,
          6.899999999999999,
          6.799999999999998,
          6.699999999999998,
          6.599999999999998,
          6.499999999999998,
          6.399999999999999,
          6.299999999999998,
          6.199999999999998,
          6.099999999999999,
          5.999999999999998,
          5.899999999999999,
          5.799999999999999,
          5.699999999999998,
          5.599999999999999,
          5.499999999999998,
          5.399999999999999,
          5.299999999999999,
          5.199999999999998,
          5.099999999999999,
          4.999999999999998,
          4.899999999999999,
          4.799999999999999,
          4.699999999999998,
          4.599999999999999,
          4.499999999999999,
          4.399999999999999,
          4.299999999999999,
          4.199999999999999,
          4.099999999999999,
          3.999999999999999,
          3.8999999999999986,
          3.799999999999999,
          3.6999999999999993,
          3.5999999999999988,
          3.499999999999999,
          3.3999999999999986,
          3.299999999999999,
          3.1999999999999993,
          3.0999999999999988,
          2.999999999999999,
          2.899999999999999,
          2.799999999999999,
          2.6999999999999993,
          2.599999999999999,
          2.499999999999999,
          2.3999999999999995,
          2.2999999999999994,
          2.1999999999999993,
          2.099999999999999,
          1.9999999999999991,
          1.8999999999999995,
          1.7999999999999994,
          1.6999999999999993,
          1.5999999999999996,
          1.4999999999999996,
          1.3999999999999995,
          1.2999999999999994,
          1.1999999999999993,
          1.0999999999999996,
          0.9999999999999996,
          0.8999999999999995,
          0.7999999999999996,
          0.6999999999999997,
          0.5999999999999996,
          0.49999999999999956,
          0.3999999999999997,
          0.2999999999999998,
          0.19999999999999973,
          0.09999999999999964,
          -2.220446049250313e-16,
          -0.1000000000000002,
          -0.20000000000000018,
          -0.30000000000000016,
          -0.40000000000000013,
          -0.5000000000000001,
          -0.6000000000000001,
          -0.7000000000000001,
          -0.8,
          -0.9,
          -1
         ],
         "y": [
          1.8524546501314185,
          1.6587100055304849,
          1.4523190095619398,
          1.2374314013668408,
          1.0192101234291915,
          0.8036710683260514,
          0.5974392021279099,
          0.4074290059560407,
          0.24046458423807077,
          0.10286172960677117,
          2.0708261494473135e-17,
          0.2214871038424881,
          0.4147992958268988,
          0.5760058414925164,
          0.7028347696348587,
          0.7948545611454816,
          0.8535270113258506,
          0.8821192953418919,
          0.8854747353900452,
          0.8696540661443566,
          0.8414710395582585,
          0.9862901442665662,
          1.1080138900188279,
          1.1999676792770304,
          1.257498247854881,
          1.2782589776934836,
          1.2623246139883153,
          1.2121240936326134,
          1.1321953494604944,
          1.0287810000670927,
          0.9092975104582416,
          0.9443703978105267,
          0.9643061240989333,
          0.9626073043561407,
          0.9339247082281846,
          0.8745755261858844,
          0.7829354514430265,
          0.6596721333633105,
          0.5078012503609575,
          0.3325615110940747,
          0.14112007874228186,
          0.12996596913725597,
          0.11401865337780978,
          0.08663552537292929,
          0.04181096668800505,
          -0.025360587040386906,
          -0.11832506655204816,
          -0.23883638126947493,
          -0.3868629043052105,
          -0.5606322660019526,
          -0.7568024636977914,
          -0.6235148480151846,
          -0.45110318236405467,
          -0.24571743460623896,
          -0.014469710527016844,
          0.23501273159948943,
          0.495024644585337,
          0.7581813218092851,
          1.0177554629530086,
          1.267936323403811,
          1.5040025886586732,
          1.7224077572468377,
          1.9207834334421792,
          2.097871382461828,
          2.2533991882079034,
          2.3879167190019857,
          2.502611318276292,
          2.599118775759449,
          2.679344889206067,
          2.7453090966797102,
          2.799017653671353,
          2.842369642461,
          2.8770952537128087,
          2.9047227280596934,
          2.926568384107729,
          2.943743363684368,
          2.957170950371744,
          2.9676092623783834,
          2.9756754268770855,
          2.981868688061781,
          -3.0169002208117095,
          -3.022161527278703,
          -3.0286677516558003,
          -3.0365520456361392,
          -3.045889999826501,
          -3.0566612313506254,
          -3.0687023653930363,
          -3.0816532727256076,
          -3.0949002369227574,
          -3.1075216541807396,
          -3.1182435742639623,
          -3.125413474374622,
          -3.1270007559909945,
          -3.1206313415830604,
          -3.103661402071392,
          -3.0732918595645575,
          -3.0267212399847843,
          -2.961330135038458,
          -2.8748864149425635,
          -2.7657568110947754,
          -2.6331079018397006,
          -2.477078169458679,
          -2.298902882316269,
          -2.1009752535394344,
          -1.8868306994459172,
          -1.661045996525247,
          -1.4290514816471849,
          -1.1968617476573025,
          -0.9707379833777019,
          -0.7568025269180642,
          -0.8462026017976861,
          -0.8887055354330335,
          -0.8833337654712563,
          -0.8313028153386026,
          -0.7360443356526015,
          -0.6030804683048812,
          -0.4397501650100498,
          -0.25480036716299725,
          -0.05786685442105463,
          0.1411199373774544,
          0.15422763989673482,
          0.1755800504097222,
          0.21047171327436995,
          0.2627251185552459,
          0.33432407899514993,
          0.42519041636018506,
          0.5331273627957167,
          0.653939083888878,
          0.7817205973933135,
          0.909297343193122,
          0.8661311996498549,
          0.821828309250439,
          0.782644152072208,
          0.7535903221203041,
          0.7380075305027601,
          0.7372879149670966,
          0.7507672591880721,
          0.7757926900675687,
          0.8079562730692039,
          0.841470930057534,
          0.681821242586014,
          0.5166557148492166,
          0.355733604958909,
          0.20863557633296753,
          0.08417081253325853,
          -0.010142979151690046,
          -0.06849154270926489,
          -0.08704333530092437,
          -0.06408323195325238,
          2.0708261494473135e-17,
          -0.24436140575575196,
          -0.5052939810551822,
          -0.7759050410849085,
          -1.0491370838703213,
          -1.3181723627193622,
          -1.5767897746955852,
          -1.8196528027587207,
          -2.0425146228497533,
          -2.2423342197130323,
          -2.417304749622037
         ]
        },
        {
         "line": {
          "color": "blue",
          "width": 2
         },
         "name": "Predicted function",
         "showlegend": true,
         "type": "scatter",
         "visible": true,
         "x": [
          -1,
          -0.9,
          -0.8,
          -0.7000000000000001,
          -0.6000000000000001,
          -0.5000000000000001,
          -0.40000000000000013,
          -0.30000000000000016,
          -0.20000000000000018,
          -0.1000000000000002,
          -2.220446049250313e-16,
          0.09999999999999964,
          0.19999999999999973,
          0.2999999999999998,
          0.3999999999999997,
          0.49999999999999956,
          0.5999999999999996,
          0.6999999999999997,
          0.7999999999999996,
          0.8999999999999995,
          0.9999999999999996,
          1.0999999999999996,
          1.1999999999999993,
          1.2999999999999994,
          1.3999999999999995,
          1.4999999999999996,
          1.5999999999999996,
          1.6999999999999993,
          1.7999999999999994,
          1.8999999999999995,
          1.9999999999999991,
          2.099999999999999,
          2.1999999999999993,
          2.2999999999999994,
          2.3999999999999995,
          2.499999999999999,
          2.599999999999999,
          2.6999999999999993,
          2.799999999999999,
          2.899999999999999,
          2.999999999999999,
          3.0999999999999988,
          3.1999999999999993,
          3.299999999999999,
          3.3999999999999986,
          3.499999999999999,
          3.5999999999999988,
          3.6999999999999993,
          3.799999999999999,
          3.8999999999999986,
          3.999999999999999,
          4.099999999999999,
          4.199999999999999,
          4.299999999999999,
          4.399999999999999,
          4.499999999999999,
          4.599999999999999,
          4.699999999999998,
          4.799999999999999,
          4.899999999999999,
          4.999999999999998,
          5.099999999999999,
          5.199999999999998,
          5.299999999999999,
          5.399999999999999,
          5.499999999999998,
          5.599999999999999,
          5.699999999999998,
          5.799999999999999,
          5.899999999999999,
          5.999999999999998,
          6.099999999999999,
          6.199999999999998,
          6.299999999999998,
          6.399999999999999,
          6.499999999999998,
          6.599999999999998,
          6.699999999999998,
          6.799999999999998,
          6.899999999999999
         ],
         "y": [
          -0.2824250497453093,
          -0.2918121070912738,
          -0.2950978066439068,
          -0.2911107006959399,
          -0.278789825633197,
          -0.25725064719665547,
          -0.22584894087120577,
          -0.18423801756443392,
          -0.13241469840855574,
          -0.0707498380744904,
          2.0708261494473135e-17,
          0.07870193594461786,
          0.1638779802629872,
          0.2537571493916258,
          0.3463458952415843,
          0.43951268683937006,
          0.531081293829409,
          0.6189264501504005,
          0.7010652251196309,
          0.7757376543651853,
          0.8414709848078963,
          0.8971232086678851,
          0.9419032900431983,
          0.9753674692325512,
          0.9973930814109888,
          1.0081332540981218,
          1.0079574680543097,
          0.9973841228524107,
          0.9770118293554667,
          0.9474560998584738,
          0.9092974268256818,
          0.8630454976019201,
          0.8091226039939057,
          0.7478673335759287,
          0.6795575622941848,
          0.6044498025905172,
          0.5228302849991362,
          0.43507192331884026,
          0.34169065038533986,
          0.24339457549540477,
          0.14112000805986813,
          0.03604955735810067,
          -0.07039085689259372,
          -0.17655731981856027,
          -0.280634750808438,
          -0.3807024613464942,
          -0.47481394094532536,
          -0.5610850733703656,
          -0.637784219869122,
          -0.7034174338998194,
          -0.7568024953079278,
          -0.7971264156964433,
          -0.8239824650106785,
          -0.8373844581267119,
          -0.837757853526132,
          -0.8259089839232139,
          -0.8029753044770487,
          -0.7703607802534919,
          -0.7296613532528354,
          -0.6825857892179448,
          -0.6308771112180511,
          -0.5762393288478628,
          -0.5202733507981395,
          -0.4644249287614779,
          -0.409946335678327,
          -0.35787234153470293,
          -0.3090100116533843,
          -0.2639409901157726,
          -0.22303429258427754,
          -0.18646723879212587,
          -0.1542520002546932,
          -0.1262652972308785,
          -0.10227900950639923,
          -0.08198981866667163,
          -0.06504642362144819,
          -0.05107331807106632,
          -0.03969054763219755,
          -0.030529244638708646,
          -0.02324305020080876,
          -0.017515766374964138
         ]
        },
        {
         "marker": {
          "color": "red",
          "size": 8
         },
         "mode": "markers",
         "name": "Observed points",
         "showlegend": true,
         "type": "scatter",
         "visible": true,
         "x": [
          0,
          1,
          2,
          3,
          4
         ],
         "y": [
          0,
          0.8414709848078965,
          0.9092974268256817,
          0.1411200080598672,
          -0.7568024953079282
         ]
        }
       ],
       "layout": {
        "autosize": false,
        "height": 600,
        "legend": {
         "x": 0.95,
         "xanchor": "right",
         "y": 0.9,
         "yanchor": "top"
        },
        "plot_bgcolor": "rgba(0,0,0,0)",
        "template": {
         "data": {
          "bar": [
           {
            "error_x": {
             "color": "#2a3f5f"
            },
            "error_y": {
             "color": "#2a3f5f"
            },
            "marker": {
             "line": {
              "color": "#E5ECF6",
              "width": 0.5
             },
             "pattern": {
              "fillmode": "overlay",
              "size": 10,
              "solidity": 0.2
             }
            },
            "type": "bar"
           }
          ],
          "barpolar": [
           {
            "marker": {
             "line": {
              "color": "#E5ECF6",
              "width": 0.5
             },
             "pattern": {
              "fillmode": "overlay",
              "size": 10,
              "solidity": 0.2
             }
            },
            "type": "barpolar"
           }
          ],
          "carpet": [
           {
            "aaxis": {
             "endlinecolor": "#2a3f5f",
             "gridcolor": "white",
             "linecolor": "white",
             "minorgridcolor": "white",
             "startlinecolor": "#2a3f5f"
            },
            "baxis": {
             "endlinecolor": "#2a3f5f",
             "gridcolor": "white",
             "linecolor": "white",
             "minorgridcolor": "white",
             "startlinecolor": "#2a3f5f"
            },
            "type": "carpet"
           }
          ],
          "choropleth": [
           {
            "colorbar": {
             "outlinewidth": 0,
             "ticks": ""
            },
            "type": "choropleth"
           }
          ],
          "contour": [
           {
            "colorbar": {
             "outlinewidth": 0,
             "ticks": ""
            },
            "colorscale": [
             [
              0,
              "#0d0887"
             ],
             [
              0.1111111111111111,
              "#46039f"
             ],
             [
              0.2222222222222222,
              "#7201a8"
             ],
             [
              0.3333333333333333,
              "#9c179e"
             ],
             [
              0.4444444444444444,
              "#bd3786"
             ],
             [
              0.5555555555555556,
              "#d8576b"
             ],
             [
              0.6666666666666666,
              "#ed7953"
             ],
             [
              0.7777777777777778,
              "#fb9f3a"
             ],
             [
              0.8888888888888888,
              "#fdca26"
             ],
             [
              1,
              "#f0f921"
             ]
            ],
            "type": "contour"
           }
          ],
          "contourcarpet": [
           {
            "colorbar": {
             "outlinewidth": 0,
             "ticks": ""
            },
            "type": "contourcarpet"
           }
          ],
          "heatmap": [
           {
            "colorbar": {
             "outlinewidth": 0,
             "ticks": ""
            },
            "colorscale": [
             [
              0,
              "#0d0887"
             ],
             [
              0.1111111111111111,
              "#46039f"
             ],
             [
              0.2222222222222222,
              "#7201a8"
             ],
             [
              0.3333333333333333,
              "#9c179e"
             ],
             [
              0.4444444444444444,
              "#bd3786"
             ],
             [
              0.5555555555555556,
              "#d8576b"
             ],
             [
              0.6666666666666666,
              "#ed7953"
             ],
             [
              0.7777777777777778,
              "#fb9f3a"
             ],
             [
              0.8888888888888888,
              "#fdca26"
             ],
             [
              1,
              "#f0f921"
             ]
            ],
            "type": "heatmap"
           }
          ],
          "heatmapgl": [
           {
            "colorbar": {
             "outlinewidth": 0,
             "ticks": ""
            },
            "colorscale": [
             [
              0,
              "#0d0887"
             ],
             [
              0.1111111111111111,
              "#46039f"
             ],
             [
              0.2222222222222222,
              "#7201a8"
             ],
             [
              0.3333333333333333,
              "#9c179e"
             ],
             [
              0.4444444444444444,
              "#bd3786"
             ],
             [
              0.5555555555555556,
              "#d8576b"
             ],
             [
              0.6666666666666666,
              "#ed7953"
             ],
             [
              0.7777777777777778,
              "#fb9f3a"
             ],
             [
              0.8888888888888888,
              "#fdca26"
             ],
             [
              1,
              "#f0f921"
             ]
            ],
            "type": "heatmapgl"
           }
          ],
          "histogram": [
           {
            "marker": {
             "pattern": {
              "fillmode": "overlay",
              "size": 10,
              "solidity": 0.2
             }
            },
            "type": "histogram"
           }
          ],
          "histogram2d": [
           {
            "colorbar": {
             "outlinewidth": 0,
             "ticks": ""
            },
            "colorscale": [
             [
              0,
              "#0d0887"
             ],
             [
              0.1111111111111111,
              "#46039f"
             ],
             [
              0.2222222222222222,
              "#7201a8"
             ],
             [
              0.3333333333333333,
              "#9c179e"
             ],
             [
              0.4444444444444444,
              "#bd3786"
             ],
             [
              0.5555555555555556,
              "#d8576b"
             ],
             [
              0.6666666666666666,
              "#ed7953"
             ],
             [
              0.7777777777777778,
              "#fb9f3a"
             ],
             [
              0.8888888888888888,
              "#fdca26"
             ],
             [
              1,
              "#f0f921"
             ]
            ],
            "type": "histogram2d"
           }
          ],
          "histogram2dcontour": [
           {
            "colorbar": {
             "outlinewidth": 0,
             "ticks": ""
            },
            "colorscale": [
             [
              0,
              "#0d0887"
             ],
             [
              0.1111111111111111,
              "#46039f"
             ],
             [
              0.2222222222222222,
              "#7201a8"
             ],
             [
              0.3333333333333333,
              "#9c179e"
             ],
             [
              0.4444444444444444,
              "#bd3786"
             ],
             [
              0.5555555555555556,
              "#d8576b"
             ],
             [
              0.6666666666666666,
              "#ed7953"
             ],
             [
              0.7777777777777778,
              "#fb9f3a"
             ],
             [
              0.8888888888888888,
              "#fdca26"
             ],
             [
              1,
              "#f0f921"
             ]
            ],
            "type": "histogram2dcontour"
           }
          ],
          "mesh3d": [
           {
            "colorbar": {
             "outlinewidth": 0,
             "ticks": ""
            },
            "type": "mesh3d"
           }
          ],
          "parcoords": [
           {
            "line": {
             "colorbar": {
              "outlinewidth": 0,
              "ticks": ""
             }
            },
            "type": "parcoords"
           }
          ],
          "pie": [
           {
            "automargin": true,
            "type": "pie"
           }
          ],
          "scatter": [
           {
            "fillpattern": {
             "fillmode": "overlay",
             "size": 10,
             "solidity": 0.2
            },
            "type": "scatter"
           }
          ],
          "scatter3d": [
           {
            "line": {
             "colorbar": {
              "outlinewidth": 0,
              "ticks": ""
             }
            },
            "marker": {
             "colorbar": {
              "outlinewidth": 0,
              "ticks": ""
             }
            },
            "type": "scatter3d"
           }
          ],
          "scattercarpet": [
           {
            "marker": {
             "colorbar": {
              "outlinewidth": 0,
              "ticks": ""
             }
            },
            "type": "scattercarpet"
           }
          ],
          "scattergeo": [
           {
            "marker": {
             "colorbar": {
              "outlinewidth": 0,
              "ticks": ""
             }
            },
            "type": "scattergeo"
           }
          ],
          "scattergl": [
           {
            "marker": {
             "colorbar": {
              "outlinewidth": 0,
              "ticks": ""
             }
            },
            "type": "scattergl"
           }
          ],
          "scattermapbox": [
           {
            "marker": {
             "colorbar": {
              "outlinewidth": 0,
              "ticks": ""
             }
            },
            "type": "scattermapbox"
           }
          ],
          "scatterpolar": [
           {
            "marker": {
             "colorbar": {
              "outlinewidth": 0,
              "ticks": ""
             }
            },
            "type": "scatterpolar"
           }
          ],
          "scatterpolargl": [
           {
            "marker": {
             "colorbar": {
              "outlinewidth": 0,
              "ticks": ""
             }
            },
            "type": "scatterpolargl"
           }
          ],
          "scatterternary": [
           {
            "marker": {
             "colorbar": {
              "outlinewidth": 0,
              "ticks": ""
             }
            },
            "type": "scatterternary"
           }
          ],
          "surface": [
           {
            "colorbar": {
             "outlinewidth": 0,
             "ticks": ""
            },
            "colorscale": [
             [
              0,
              "#0d0887"
             ],
             [
              0.1111111111111111,
              "#46039f"
             ],
             [
              0.2222222222222222,
              "#7201a8"
             ],
             [
              0.3333333333333333,
              "#9c179e"
             ],
             [
              0.4444444444444444,
              "#bd3786"
             ],
             [
              0.5555555555555556,
              "#d8576b"
             ],
             [
              0.6666666666666666,
              "#ed7953"
             ],
             [
              0.7777777777777778,
              "#fb9f3a"
             ],
             [
              0.8888888888888888,
              "#fdca26"
             ],
             [
              1,
              "#f0f921"
             ]
            ],
            "type": "surface"
           }
          ],
          "table": [
           {
            "cells": {
             "fill": {
              "color": "#EBF0F8"
             },
             "line": {
              "color": "white"
             }
            },
            "header": {
             "fill": {
              "color": "#C8D4E3"
             },
             "line": {
              "color": "white"
             }
            },
            "type": "table"
           }
          ]
         },
         "layout": {
          "annotationdefaults": {
           "arrowcolor": "#2a3f5f",
           "arrowhead": 0,
           "arrowwidth": 1
          },
          "autotypenumbers": "strict",
          "coloraxis": {
           "colorbar": {
            "outlinewidth": 0,
            "ticks": ""
           }
          },
          "colorscale": {
           "diverging": [
            [
             0,
             "#8e0152"
            ],
            [
             0.1,
             "#c51b7d"
            ],
            [
             0.2,
             "#de77ae"
            ],
            [
             0.3,
             "#f1b6da"
            ],
            [
             0.4,
             "#fde0ef"
            ],
            [
             0.5,
             "#f7f7f7"
            ],
            [
             0.6,
             "#e6f5d0"
            ],
            [
             0.7,
             "#b8e186"
            ],
            [
             0.8,
             "#7fbc41"
            ],
            [
             0.9,
             "#4d9221"
            ],
            [
             1,
             "#276419"
            ]
           ],
           "sequential": [
            [
             0,
             "#0d0887"
            ],
            [
             0.1111111111111111,
             "#46039f"
            ],
            [
             0.2222222222222222,
             "#7201a8"
            ],
            [
             0.3333333333333333,
             "#9c179e"
            ],
            [
             0.4444444444444444,
             "#bd3786"
            ],
            [
             0.5555555555555556,
             "#d8576b"
            ],
            [
             0.6666666666666666,
             "#ed7953"
            ],
            [
             0.7777777777777778,
             "#fb9f3a"
            ],
            [
             0.8888888888888888,
             "#fdca26"
            ],
            [
             1,
             "#f0f921"
            ]
           ],
           "sequentialminus": [
            [
             0,
             "#0d0887"
            ],
            [
             0.1111111111111111,
             "#46039f"
            ],
            [
             0.2222222222222222,
             "#7201a8"
            ],
            [
             0.3333333333333333,
             "#9c179e"
            ],
            [
             0.4444444444444444,
             "#bd3786"
            ],
            [
             0.5555555555555556,
             "#d8576b"
            ],
            [
             0.6666666666666666,
             "#ed7953"
            ],
            [
             0.7777777777777778,
             "#fb9f3a"
            ],
            [
             0.8888888888888888,
             "#fdca26"
            ],
            [
             1,
             "#f0f921"
            ]
           ]
          },
          "colorway": [
           "#636efa",
           "#EF553B",
           "#00cc96",
           "#ab63fa",
           "#FFA15A",
           "#19d3f3",
           "#FF6692",
           "#B6E880",
           "#FF97FF",
           "#FECB52"
          ],
          "font": {
           "color": "#2a3f5f"
          },
          "geo": {
           "bgcolor": "white",
           "lakecolor": "white",
           "landcolor": "#E5ECF6",
           "showlakes": true,
           "showland": true,
           "subunitcolor": "white"
          },
          "hoverlabel": {
           "align": "left"
          },
          "hovermode": "closest",
          "mapbox": {
           "style": "light"
          },
          "paper_bgcolor": "white",
          "plot_bgcolor": "#E5ECF6",
          "polar": {
           "angularaxis": {
            "gridcolor": "white",
            "linecolor": "white",
            "ticks": ""
           },
           "bgcolor": "#E5ECF6",
           "radialaxis": {
            "gridcolor": "white",
            "linecolor": "white",
            "ticks": ""
           }
          },
          "scene": {
           "xaxis": {
            "backgroundcolor": "#E5ECF6",
            "gridcolor": "white",
            "gridwidth": 2,
            "linecolor": "white",
            "showbackground": true,
            "ticks": "",
            "zerolinecolor": "white"
           },
           "yaxis": {
            "backgroundcolor": "#E5ECF6",
            "gridcolor": "white",
            "gridwidth": 2,
            "linecolor": "white",
            "showbackground": true,
            "ticks": "",
            "zerolinecolor": "white"
           },
           "zaxis": {
            "backgroundcolor": "#E5ECF6",
            "gridcolor": "white",
            "gridwidth": 2,
            "linecolor": "white",
            "showbackground": true,
            "ticks": "",
            "zerolinecolor": "white"
           }
          },
          "shapedefaults": {
           "line": {
            "color": "#2a3f5f"
           }
          },
          "ternary": {
           "aaxis": {
            "gridcolor": "white",
            "linecolor": "white",
            "ticks": ""
           },
           "baxis": {
            "gridcolor": "white",
            "linecolor": "white",
            "ticks": ""
           },
           "bgcolor": "#E5ECF6",
           "caxis": {
            "gridcolor": "white",
            "linecolor": "white",
            "ticks": ""
           }
          },
          "title": {
           "x": 0.05
          },
          "xaxis": {
           "automargin": true,
           "gridcolor": "white",
           "linecolor": "white",
           "ticks": "",
           "title": {
            "standoff": 15
           },
           "zerolinecolor": "white",
           "zerolinewidth": 2
          },
          "yaxis": {
           "automargin": true,
           "gridcolor": "white",
           "linecolor": "white",
           "ticks": "",
           "title": {
            "standoff": 15
           },
           "zerolinecolor": "white",
           "zerolinewidth": 2
          }
         }
        },
        "title": {
         "text": "GPR with length 1, sigma 0 and noise 0",
         "x": 0.5,
         "xanchor": "center"
        },
        "width": 800,
        "xaxis": {
         "linecolor": "black",
         "linewidth": 1,
         "showline": true,
         "title": {
          "text": "input values"
         }
        },
        "yaxis": {
         "linecolor": "black",
         "linewidth": 1,
         "showline": true,
         "title": {
          "text": "output values"
         }
        }
       }
      }
     },
     "metadata": {},
     "output_type": "display_data"
    }
   ],
   "source": [
    "model = GPR(x_values, y_values)\n",
    "data = plot_GPR(data_x=x_values, data_y=y_values, x=x, model=model)\n",
    "fig4 = go.Figure(data=data)\n",
    "fig4 = update_layout_of_graph(fig=fig4,\n",
    "                              title='GPR with length 1, sigma 0 and noise 0')\n",
    "\n",
    "fig4.show()"
   ]
  },
  {
   "cell_type": "markdown",
   "id": "1d17146a",
   "metadata": {},
   "source": [
    "### Visualization of effect of free parameters"
   ]
  },
  {
   "cell_type": "markdown",
   "id": "e7e03650",
   "metadata": {},
   "source": [
    "Awesome! Now that we can make predictions with our GPR, lets visualize how the GPR changes if we change the free parameters, i.e. length-scale, variance and white noise."
   ]
  },
  {
   "cell_type": "code",
   "execution_count": null,
   "id": "cd6e6019",
   "metadata": {},
   "outputs": [
    {
     "name": "stdout",
     "output_type": "stream",
     "text": [
      "Debugging shape dimensions:\n",
      "KXX_star shape: (80, 5), expected shape: (number of test points, number of data points)\n",
      "Inverse of covariance matrix shape: (5, 5), expected shape: (5, 5)\n",
      "Data_y shape: (5,), expected shape: (5,)\n",
      "Resulting shape of (inverse covariance matrix * data_y): (5,)\n"
     ]
    },
    {
     "data": {
      "application/vnd.jupyter.widget-view+json": {
       "model_id": "87b774c2d9cb4777a0d6fa4b2ef1961a",
       "version_major": 2,
       "version_minor": 0
      },
      "text/plain": [
       "interactive(children=(FloatSlider(value=1.0, description='sigma', max=3.0, min=0.01, step=0.01), FloatSlider(v…"
      ]
     },
     "metadata": {},
     "output_type": "display_data"
    }
   ],
   "source": [
    "model = GPR(x_values,\n",
    "            y_values,\n",
    "            covariance_function=SquaredExponentialKernel(length=0.5),\n",
    "            white_noise_sigma=0.1)\n",
    "\n",
    "data = plot_GPR(x_values, y_values, model=model, x=x)\n",
    "\n",
    "fig3 = go.FigureWidget(data=data)\n",
    "\n",
    "\n",
    "# we update the y values of our 4 scatter plots \n",
    "@interact(sigma=(0.01, 3, 0.01), length=(0.01, 3, 0.01), noise=(0, 3, 0.1))\n",
    "def update(sigma=1, length=0.5, noise=0.1):\n",
    "    with fig3.batch_update():\n",
    "        model = GPR(x_values,\n",
    "                    y_values,\n",
    "                    covariance_function=SquaredExponentialKernel(\n",
    "                        sigma_f=sigma, length=length),\n",
    "                    white_noise_sigma=noise)\n",
    "\n",
    "        mean = model.predict(x)\n",
    "        y_upper = mean + np.sqrt(model._memory['variance'])\n",
    "        y_lower = mean - np.sqrt(model._memory['variance'])\n",
    "\n",
    "        \n",
    "        for i in range(1, 4):\n",
    "            y_upper = mean + i * np.sqrt(model._memory['variance'])\n",
    "            y_lower = mean - i * np.sqrt(model._memory['variance'])\n",
    "            fig3.data[i-1].y = np.concatenate((mean + i * np.sqrt(model._memory['variance']),\n",
    "                                   (mean - i * np.sqrt(model._memory['variance']))[::-1]))\n",
    "\n",
    "        \n",
    "        fig3.data[3].y = mean\n",
    "\n",
    "\n",
    "fig3 = update_layout_of_graph(\n",
    "    fig3, title=\"GPR with varying length, sigma and white noise\")\n",
    "fig3"
   ]
  },
  {
   "cell_type": "markdown",
   "id": "eb3b9fbf",
   "metadata": {},
   "source": [
    "## Application in the paper\n"
   ]
  },
  {
   "cell_type": "markdown",
   "id": "945d6eea",
   "metadata": {},
   "source": [
    "Now that we saw a bit about arbitraty values. So where is the application of the paper? Well, we will start with it now. Firstly, we will not replicate any functions used in the paper is this is unneccessary complex. We want to emphazise what can be done by looking at a simple option pricing formula. As my functions are too simple and don't do hyperparameter optimization I decided to rely on code provided by rasmussen via their Octave package, downloadable here: https://gaussianprocess.org/gpml/code/matlab/doc/."
   ]
  }
 ],
 "metadata": {
  "kernelspec": {
   "display_name": "base",
   "language": "python",
   "name": "python3"
  },
  "language_info": {
   "codemirror_mode": {
    "name": "ipython",
    "version": 3
   },
   "file_extension": ".py",
   "mimetype": "text/x-python",
   "name": "python",
   "nbconvert_exporter": "python",
   "pygments_lexer": "ipython3",
   "version": "3.11.7"
  },
  "toc": {
   "base_numbering": 1,
   "nav_menu": {},
   "number_sections": true,
   "sideBar": true,
   "skip_h1_title": false,
   "title_cell": "Table of Contents",
   "title_sidebar": "Contents",
   "toc_cell": false,
   "toc_position": {},
   "toc_section_display": true,
   "toc_window_display": false
  },
  "varInspector": {
   "cols": {
    "lenName": 16,
    "lenType": 16,
    "lenVar": 40
   },
   "kernels_config": {
    "python": {
     "delete_cmd_postfix": "",
     "delete_cmd_prefix": "del ",
     "library": "var_list.py",
     "varRefreshCmd": "print(var_dic_list())"
    },
    "r": {
     "delete_cmd_postfix": ") ",
     "delete_cmd_prefix": "rm(",
     "library": "var_list.r",
     "varRefreshCmd": "cat(var_dic_list()) "
    }
   },
   "types_to_exclude": [
    "module",
    "function",
    "builtin_function_or_method",
    "instance",
    "_Feature"
   ],
   "window_display": false
  }
 },
 "nbformat": 4,
 "nbformat_minor": 5
}
