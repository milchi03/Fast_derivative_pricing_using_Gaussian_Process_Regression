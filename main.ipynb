{
 "cells": [
  {
   "cell_type": "markdown",
   "id": "87a6f995",
   "metadata": {},
   "source": [
    "## Overview"
   ]
  },
  {
   "cell_type": "markdown",
   "id": "dcb462c6",
   "metadata": {},
   "source": [
    "This notebook contains a complete implementation of a Gaussian Process Regressor (GPR) with a squared exponential kernel using Numpy for matrix operations and Plotly for visualisation. \n",
    "\n",
    "The purpose of this notebook is to understand the main components of a GPR and to visualise the effects of certain parameters on the output. \n",
    "It is _not_ intended as a theoretical introduction to GPRs.\n",
    "A good introduction can be found [here](http://www.gaussianprocess.org/gpml/chapters/RW.pdf). \n",
    "\n",
    "Stable and effective implementations of GPR's are available, for example, in the [gpytorch](https://gpytorch.ai) package."
   ]
  },
  {
   "cell_type": "markdown",
   "id": "bfc98796",
   "metadata": {},
   "source": [
    "## Packages"
   ]
  },
  {
   "cell_type": "code",
   "execution_count": 1,
   "id": "b48ebe22",
   "metadata": {},
   "outputs": [],
   "source": [
    "import numpy as np\n",
    "import plotly.graph_objects as go\n",
    "from ipywidgets import interact, widgets\n",
    "from scipy.special import kv, gamma"
   ]
  },
  {
   "cell_type": "markdown",
   "id": "4575ccbd",
   "metadata": {},
   "source": [
    "## Plotting helper functions"
   ]
  },
  {
   "cell_type": "markdown",
   "id": "caa8c0bf",
   "metadata": {},
   "source": [
    "To have nice visualizations of the later GPR, we use Plotly and to have structured and lean code, we define a few commonly used 'helpers' here. "
   ]
  },
  {
   "cell_type": "code",
   "execution_count": 2,
   "id": "ad8a0219",
   "metadata": {
    "code_folding": [
     0
    ]
   },
   "outputs": [],
   "source": [
    "def update_layout_of_graph(fig: go.Figure,title: str = 'Plot')->go.Figure:\n",
    "    fig.update_layout(\n",
    "        width=800,\n",
    "        height=600,\n",
    "        autosize=False,\n",
    "        plot_bgcolor='rgba(0,0,0,0)',\n",
    "        title=title,\n",
    "        \n",
    "    )\n",
    "    fig.update_layout(plot_bgcolor='rgba(0,0,0,0)',\n",
    "                      xaxis_title = 'input values',\n",
    "                      yaxis_title = 'output values',\n",
    "                      legend=dict(yanchor=\"top\",\n",
    "                                  y=0.9,\n",
    "                                  xanchor=\"right\",\n",
    "                                  x=0.95),\n",
    "                      title={\n",
    "                          'x': 0.5,\n",
    "                          'xanchor': 'center'\n",
    "                      })\n",
    "    fig.update_xaxes(showline=True, linewidth=1, linecolor='black')\n",
    "    fig.update_yaxes(showline=True, linewidth=1, linecolor='black')\n",
    "    return fig\n",
    "\n",
    "def line_scatter(\n",
    "    visible: bool = True,\n",
    "    x_lines: np.array = np.array([]),\n",
    "    y_lines: np.array = np.array([]),\n",
    "    name_line: str = 'Predicted function',\n",
    "    showlegend: bool = True,\n",
    ") -> go.Scatter:\n",
    "    # Adding the lines\n",
    "    return go.Scatter(\n",
    "        visible=visible,\n",
    "        line=dict(color=\"blue\", width=2),\n",
    "        x=x_lines,\n",
    "        y=y_lines,\n",
    "        name=name_line,\n",
    "        showlegend= showlegend\n",
    "    )\n",
    "\n",
    "def dot_scatter(\n",
    "    visible: bool = True,\n",
    "    x_dots: np.array = np.array([]),\n",
    "    y_dots: np.array = np.array([]),\n",
    "    name_dots: str = 'Observed points',\n",
    "    showlegend: bool = True\n",
    ") -> go.Scatter:\n",
    "    # Adding the dots\n",
    "    return go.Scatter(\n",
    "        x=x_dots,\n",
    "        visible=visible,\n",
    "        y=y_dots,\n",
    "        mode=\"markers\",\n",
    "        name=name_dots,\n",
    "        marker=dict(color='red', size=8),\n",
    "        showlegend=showlegend\n",
    "    )\n",
    "\n",
    "def uncertainty_area_scatter(\n",
    "        visible: bool = True,\n",
    "        x_lines: np.array = np.array([]),\n",
    "        y_upper: np.array = np.array([]),\n",
    "        y_lower: np.array = np.array([]),\n",
    "        name: str = \"mean plus/minus standard deviation\",\n",
    ") -> go.Scatter:\n",
    "\n",
    "    return go.Scatter(\n",
    "        visible=visible,\n",
    "        x=np.concatenate((x_lines, x_lines[::-1])),  # x, then x reversed\n",
    "        # upper, then lower reversed\n",
    "        y=np.concatenate((y_upper, y_lower[::-1])),\n",
    "        fill='toself',\n",
    "        fillcolor='rgba(189,195,199,0.5)',\n",
    "        line=dict(color='rgba(200,200,200,0)'),\n",
    "        hoverinfo=\"skip\",\n",
    "        showlegend=True,\n",
    "        name= name,\n",
    "    )\n",
    "\n",
    "def add_slider_GPR(figure: go.Figure, parameters):\n",
    "    figure.data[0].visible = True\n",
    "    figure.data[1].visible = True\n",
    "\n",
    "    # Create and add slider\n",
    "    steps = []\n",
    "    for i in range(int((len(figure.data) - 1) / 2)):\n",
    "        step = dict(\n",
    "            method=\"update\",\n",
    "            label=f'{parameters[i]: .2f}',\n",
    "            args=[{\n",
    "                \"visible\": [False] * (len(figure.data) - 1) + [True]\n",
    "            }],\n",
    "        )\n",
    "        step[\"args\"][0][\"visible\"][2 *\n",
    "                                   i] = True  # Toggle i'th trace to \"visible\"\n",
    "        step[\"args\"][0][\"visible\"][2 * i + 1] = True\n",
    "        steps.append(step)\n",
    "\n",
    "    sliders = [dict(\n",
    "        active=0,\n",
    "        pad={\"t\": 50},\n",
    "        steps=steps,\n",
    "    )]\n",
    "    figure.update_layout(sliders=sliders, )\n",
    "    return figure\n",
    "\n",
    "def add_slider_to_function(figure:go.Figure, parameters):\n",
    "    figure.data[0].visible = True\n",
    "\n",
    "    # Create and add slider\n",
    "    steps = []\n",
    "    for i in range(len(figure.data)):\n",
    "        step = dict(\n",
    "            method=\"update\",\n",
    "            label=f'{parameters[i]: .2f}',\n",
    "            args=[{\n",
    "                \"visible\": [False] *len(figure.data) \n",
    "            }],\n",
    "        )\n",
    "        step[\"args\"][0][\"visible\"][i] = True  # Toggle i'th trace to \"visible\"\n",
    "        steps.append(step)\n",
    "\n",
    "    sliders = [dict(\n",
    "        active=0,\n",
    "        pad={\"t\": 50},\n",
    "        steps=steps,\n",
    "    )]\n",
    "    figure.update_layout(sliders=sliders, )\n",
    "    return figure"
   ]
  },
  {
   "cell_type": "markdown",
   "id": "9058664e",
   "metadata": {},
   "source": [
    "## Implementation of GPR with squared exponential kernel"
   ]
  },
  {
   "cell_type": "markdown",
   "id": "fa792ab3",
   "metadata": {},
   "source": [
    "In order to define a Gaussian Process Regressor (GPR), we need a covariance function (also called a kernel). The choice of this function determines the \"shape\" of the GPR and influences how the model generalizes to unseen data. Below are some commonly used kernels as stated in Rasmussen Table 4.1.:\n",
    "\n",
    "### 1. Squared Exponential Kernel\n",
    "The **squared exponential kernel** is widely used in Gaussian Process models and is defined as:\n",
    "$$ k(x_1, x_2) := \\sigma^2 \\exp\\left(-\\frac{\\|x_1 - x_2\\|^2_2}{2 l^2}\\right) $$\n",
    "where $ l > 0 $ is the length scale and  $\\sigma^2 > 0$ is the signal variance.\n",
    "\n",
    "- $ \\sigma $ controls the amplitude of variation in the function.\n",
    "- $ l $ controls the smoothness of the function, with smaller values making the function decay more rapidly with distance, while larger values smooth it out.\n",
    "\n",
    "### 2. Constant Kernel\n",
    "The **constant kernel** is defined as:\n",
    "$$ k(x_1, x_2) := \\sigma_0^2 $$\n",
    "where $ \\sigma_0^2 $ is a constant.\n",
    "\n",
    "This kernel is **stationary** but **degenerate** (more on that in 4.2.1), meaning it produces covariance matrices with finite rank, which limits its flexibility. Degenerate matrices have finite rank, resulting in limited expressiveness. The constant kernel is useful for modeling functions that are approximately constant across the input space. I find it mostly interesting to see what other kernels do, therefore this primitive selection.\n",
    "\n",
    "### 3. Matérn Kernel\n",
    "The **Matérn kernel** is a more general kernel with the **squared exponential kernel**. It is defined as:\n",
    "$$ k(x_1, x_2) := \\frac{1}{2^{\\nu-1} \\Gamma(\\nu)} \\left( \\frac{\\sqrt{2 \\nu} \\, \\|x_1 - x_2\\|}{l} \\right)^\\nu K_\\nu \\left( \\frac{\\sqrt{2 \\nu} \\, \\|x_1 - x_2\\|}{l} \\right) $$\n",
    "where:\n",
    "- $ l $  is the length scale.\n",
    "- $ \\nu > 0 $ controls the smoothness of the function, with higher values of $ \\nu $ making the function smoother.\n",
    "- $ K_\\nu $ is the modified Bessel function of the second kind. (I don't know what that is but I will keep it because it may be interesting to try out a highly complicated model)\n",
    "- $ \\Gamma $ is the gamma function.\n",
    "\n",
    "The Matérn kernel is often chosen for applications where controlling the smoothness of the function is important, as it allows for a range of behaviors. With $ \\nu = 0.5 $, the Matérn kernel becomes equivalent to the exponential kernel (that we did not cover here but it also a classic), and as $ \\nu \\to \\infty $, it approaches the squared exponential kernel. (Source: https://en.wikipedia.org/wiki/Mat%C3%A9rn_covariance_function)."
   ]
  },
  {
   "cell_type": "code",
   "execution_count": 17,
   "id": "cbc55090",
   "metadata": {},
   "outputs": [],
   "source": [
    "class SquaredExponentialKernel:\n",
    "    def __init__(self, sigma_f: float = 1, length: float = 1):\n",
    "        self.sigma_f = sigma_f\n",
    "        self.length = length\n",
    "\n",
    "    def __call__(self, argument_1: np.array, argument_2: np.array) -> float:\n",
    "        return float(self.sigma_f *\n",
    "                     np.exp(-(np.linalg.norm(argument_1 - argument_2)**2) /\n",
    "                            (2 * self.length**2)))\n",
    "    \n",
    "class ConstantKernel:\n",
    "    def __init__(self, sigma_0: float = 1):\n",
    "        self.sigma_0 = sigma_0\n",
    "    \n",
    "    def __call__(self, argument_1: np.array, argument_2: np.array) -> float:\n",
    "        return(self.sigma_0 ** 2)\n",
    "    \n",
    "class MaternKernel:\n",
    "    def __init__(self, sigma_f: float = 1, length: float = 1, nu: float = 1.5):\n",
    "        self.sigma_f = sigma_f\n",
    "        self.length = length\n",
    "        self.nu = nu\n",
    "\n",
    "    def __call__(self, argument_1: np.array, argument_2: np.array) -> float:\n",
    "        r = np.linalg.norm(argument_1 - argument_2) #Euclidean distance between the two points\n",
    "        \n",
    "        # Special case for r = 0 to avoid division by zero\n",
    "        if r == 0.0:\n",
    "            return self.sigma_f ** 2\n",
    "        \n",
    "        # Calculate the kernel value based on the Matérn function formula\n",
    "        factor = (2 ** (1 - self.nu)) / gamma(self.nu)\n",
    "        scaled_distance = (np.sqrt(2 * self.nu) * r) / self.length\n",
    "        bessel_term = kv(self.nu, scaled_distance)  # Modified Bessel function of the second kind\n",
    "        \n",
    "        return float(self.sigma_f ** 2 * factor * (scaled_distance ** self.nu) * bessel_term)"
   ]
  },
  {
   "cell_type": "markdown",
   "id": "b23258da",
   "metadata": {},
   "source": [
    "Let us visualize these kernels. We will start with the **squared exponential kernel**."
   ]
  },
  {
   "cell_type": "code",
   "execution_count": 4,
   "id": "e1cd79c0",
   "metadata": {},
   "outputs": [
    {
     "data": {
      "application/vnd.jupyter.widget-view+json": {
       "model_id": "6425badc614346e4ae8c1123a2012c58",
       "version_major": 2,
       "version_minor": 0
      },
      "text/plain": [
       "interactive(children=(FloatSlider(value=1.0, description='length', max=3.0, min=0.1), FloatSlider(value=0.0, d…"
      ]
     },
     "metadata": {},
     "output_type": "display_data"
    },
    {
     "data": {
      "application/vnd.plotly.v1+json": {
       "config": {
        "plotlyServerURL": "https://plot.ly"
       },
       "data": [
        {
         "line": {
          "color": "blue",
          "width": 2
         },
         "name": "Predicted function",
         "showlegend": true,
         "type": "scatter",
         "visible": true,
         "x": [
          -10,
          -9.9,
          -9.8,
          -9.700000000000001,
          -9.600000000000001,
          -9.500000000000002,
          -9.400000000000002,
          -9.300000000000002,
          -9.200000000000003,
          -9.100000000000003,
          -9.000000000000004,
          -8.900000000000004,
          -8.800000000000004,
          -8.700000000000005,
          -8.600000000000005,
          -8.500000000000005,
          -8.400000000000006,
          -8.300000000000006,
          -8.200000000000006,
          -8.100000000000007,
          -8.000000000000007,
          -7.9000000000000075,
          -7.800000000000008,
          -7.700000000000008,
          -7.6000000000000085,
          -7.500000000000009,
          -7.400000000000009,
          -7.30000000000001,
          -7.20000000000001,
          -7.10000000000001,
          -7.000000000000011,
          -6.900000000000011,
          -6.800000000000011,
          -6.700000000000012,
          -6.600000000000012,
          -6.500000000000012,
          -6.400000000000013,
          -6.300000000000013,
          -6.2000000000000135,
          -6.100000000000014,
          -6.000000000000014,
          -5.900000000000015,
          -5.800000000000015,
          -5.700000000000015,
          -5.600000000000016,
          -5.500000000000016,
          -5.400000000000016,
          -5.300000000000017,
          -5.200000000000017,
          -5.100000000000017,
          -5.000000000000018,
          -4.900000000000018,
          -4.8000000000000185,
          -4.700000000000019,
          -4.600000000000019,
          -4.5000000000000195,
          -4.40000000000002,
          -4.30000000000002,
          -4.200000000000021,
          -4.100000000000021,
          -4.000000000000021,
          -3.9000000000000217,
          -3.800000000000022,
          -3.7000000000000224,
          -3.6000000000000227,
          -3.500000000000023,
          -3.4000000000000234,
          -3.300000000000024,
          -3.200000000000024,
          -3.1000000000000245,
          -3.000000000000025,
          -2.9000000000000252,
          -2.8000000000000256,
          -2.700000000000026,
          -2.6000000000000263,
          -2.5000000000000266,
          -2.400000000000027,
          -2.3000000000000274,
          -2.2000000000000277,
          -2.100000000000028,
          -2.0000000000000284,
          -1.9000000000000288,
          -1.8000000000000291,
          -1.7000000000000295,
          -1.6000000000000298,
          -1.5000000000000302,
          -1.4000000000000306,
          -1.300000000000031,
          -1.2000000000000313,
          -1.1000000000000316,
          -1.000000000000032,
          -0.9000000000000323,
          -0.8000000000000327,
          -0.700000000000033,
          -0.6000000000000334,
          -0.5000000000000338,
          -0.4000000000000341,
          -0.30000000000003446,
          -0.20000000000003482,
          -0.10000000000003517,
          -3.552713678800501e-14,
          0.09999999999996412,
          0.19999999999996376,
          0.2999999999999634,
          0.39999999999996305,
          0.4999999999999627,
          0.5999999999999623,
          0.699999999999962,
          0.7999999999999616,
          0.8999999999999613,
          0.9999999999999609,
          1.0999999999999606,
          1.1999999999999602,
          1.2999999999999599,
          1.3999999999999595,
          1.4999999999999591,
          1.5999999999999588,
          1.6999999999999584,
          1.799999999999958,
          1.8999999999999577,
          1.9999999999999574,
          2.099999999999957,
          2.1999999999999567,
          2.2999999999999563,
          2.399999999999956,
          2.4999999999999556,
          2.5999999999999552,
          2.699999999999955,
          2.7999999999999545,
          2.899999999999954,
          2.999999999999954,
          3.0999999999999535,
          3.199999999999953,
          3.2999999999999527,
          3.3999999999999524,
          3.499999999999952,
          3.5999999999999517,
          3.6999999999999513,
          3.799999999999951,
          3.8999999999999506,
          3.9999999999999503,
          4.09999999999995,
          4.1999999999999496,
          4.299999999999949,
          4.399999999999949,
          4.4999999999999485,
          4.599999999999948,
          4.699999999999948,
          4.799999999999947,
          4.899999999999947,
          4.999999999999947,
          5.099999999999946,
          5.199999999999946,
          5.299999999999946,
          5.399999999999945,
          5.499999999999945,
          5.599999999999945,
          5.699999999999944,
          5.799999999999944,
          5.8999999999999435,
          5.999999999999943,
          6.099999999999945,
          6.1999999999999424,
          6.29999999999994,
          6.399999999999942,
          6.499999999999943,
          6.599999999999941,
          6.699999999999939,
          6.79999999999994,
          6.899999999999942,
          6.99999999999994,
          7.0999999999999375,
          7.199999999999939,
          7.29999999999994,
          7.399999999999938,
          7.499999999999936,
          7.5999999999999375,
          7.699999999999939,
          7.799999999999937,
          7.899999999999935,
          7.999999999999936,
          8.099999999999937,
          8.199999999999935,
          8.299999999999933,
          8.399999999999935,
          8.499999999999936,
          8.599999999999934,
          8.699999999999932,
          8.799999999999933,
          8.899999999999935,
          8.999999999999932,
          9.09999999999993,
          9.199999999999932,
          9.299999999999933,
          9.399999999999931,
          9.499999999999929,
          9.59999999999993,
          9.699999999999932,
          9.79999999999993,
          9.899999999999928
         ],
         "y": [
          1.9287498479639178e-22,
          5.216736662027038e-22,
          1.3969439431470891e-21,
          3.7035319776523184e-21,
          9.720985020300643e-21,
          2.5261637809256567e-20,
          6.499347972070755e-20,
          1.6555226620987275e-19,
          4.1750100558503957e-19,
          1.0424061783901304e-18,
          2.5767571091548894e-18,
          6.306189893986223e-18,
          1.5279799682872503e-17,
          3.665433395600889e-17,
          8.705426622295879e-17,
          2.046971713164117e-16,
          4.765304735298851e-16,
          1.0983141298285426e-15,
          2.506221887145132e-15,
          5.6619955169486286e-15,
          1.2664165549093456e-14,
          2.804404738222628e-14,
          6.148396412704385e-14,
          1.3345660848219038e-13,
          2.8679750088879044e-13,
          6.101936677604913e-13,
          1.2853372251335588e-12,
          2.6805476373124164e-12,
          5.53461007170062e-12,
          1.1313776200064483e-11,
          2.289734845645382e-11,
          4.58796248713895e-11,
          9.101470764487257e-11,
          1.7875588711278416e-10,
          3.4758912812396506e-10,
          6.691586091292236e-10,
          1.27540762952594e-9,
          2.406722436300847e-9,
          4.496349462280486e-9,
          8.316702456827624e-9,
          1.522997974471133e-8,
          2.7612424568277996e-8,
          4.956405319172075e-8,
          8.808179196459807e-8,
          1.5497531357027618e-7,
          2.699578503362775e-7,
          4.6557157157826726e-7,
          7.949393615348435e-7,
          0.000001343812277631402,
          0.0000022490559670321426,
          0.00000372665317207834,
          0.000006113567966370859,
          0.0000099295043058502,
          0.000015966783897803327,
          0.00002541934651619699,
          0.00004006529739294758,
          0.00006252150377481481,
          0.0000965934137221756,
          0.0001477483602320208,
          0.0002237457937206011,
          0.00033546262790248323,
          0.0004979554215032314,
          0.000731802418880411,
          0.0010647662366678316,
          0.0015338106793243377,
          0.002187491118182708,
          0.0030887154082365246,
          0.004317840007632741,
          0.005976022895005481,
          0.008188701014373457,
          0.011108996538241477,
          0.014920786069066756,
          0.01984109474436887,
          0.0261214098539164,
          0.03404745473459702,
          0.04393693362340449,
          0.05613476283413009,
          0.0710053537396325,
          0.08892161745938093,
          0.11025052530447871,
          0.135335283236605,
          0.16447445657714588,
          0.1978986990836043,
          0.23574607655585172,
          0.27803730045318087,
          0.32465246735833503,
          0.37531109885138353,
          0.4295573582107219,
          0.4867522559599534,
          0.5460744266396904,
          0.606530659712614,
          0.666976810858455,
          0.726149037073672,
          0.78270453824185,
          0.8352702114112552,
          0.8824969025845805,
          0.9231163463866232,
          0.9559974818330901,
          0.9801986733067485,
          0.9950124791926788,
          1,
          0.9950124791926859,
          0.9801986733067624,
          0.9559974818331104,
          0.9231163463866494,
          0.8824969025846119,
          0.8352702114112909,
          0.782704538241889,
          0.7261490370737133,
          0.6669768108584976,
          0.6065306597126571,
          0.5460744266397332,
          0.4867522559599949,
          0.4295573582107616,
          0.37531109885142083,
          0.3246524673583696,
          0.27803730045321245,
          0.2357460765558802,
          0.1978986990836296,
          0.16447445657716808,
          0.13533528323662422,
          0.11025052530449515,
          0.08892161745939484,
          0.0710053537396441,
          0.05613476283413966,
          0.0439369336234123,
          0.03404745473460331,
          0.02612140985392141,
          0.019841094744372817,
          0.01492078606906983,
          0.011108996538243847,
          0.008188701014375261,
          0.00597602289500684,
          0.004317840007633753,
          0.003088715408237271,
          0.0021874911181832524,
          0.0015338106793247302,
          0.0010647662366681115,
          0.0007318024188806086,
          0.0004979554215033694,
          0.0003354626279025786,
          0.00022374579372066625,
          0.00014774836023206486,
          0.00009659341372220511,
          0.00006252150377483437,
          0.00004006529739296032,
          0.0000254193465162053,
          0.00001596678389780866,
          0.000009929504305853587,
          0.000006113567966372988,
          0.000003726653172079664,
          0.000002249055967032958,
          0.0000013438122776318986,
          7.949393615351428e-7,
          4.6557157157844593e-7,
          2.699578503363834e-7,
          1.5497531357033785e-7,
          8.808179196463373e-8,
          4.956405319174118e-8,
          2.761242456828957e-8,
          1.5229979744717824e-8,
          8.31670245683114e-9,
          4.496349462282467e-9,
          2.4067224363019582e-9,
          1.2754076295265198e-9,
          6.691586091295255e-10,
          3.4758912812412807e-10,
          1.7875588711287114e-10,
          9.101470764491654e-11,
          4.587962487141134e-11,
          2.289734845646521e-11,
          1.1313776200070312e-11,
          5.5346100717034514e-12,
          2.6805476373137783e-12,
          1.2853372251342348e-12,
          6.101936677608251e-13,
          2.867975008889453e-13,
          1.3345660848226152e-13,
          6.148396412707793e-14,
          2.804404738224242e-14,
          1.2664165549100655e-14,
          5.661995516951807e-15,
          2.5062218871465923e-15,
          1.0983141298292058e-15,
          4.765304735301695e-16,
          2.0469717131653097e-16,
          8.705426622301198e-17,
          3.665433395603207e-17,
          1.527979968288206e-17,
          6.3061898939900765e-18,
          2.5767571091565372e-18,
          1.0424061783908193e-18,
          4.175010055853125e-19,
          1.6555226620997978e-19,
          6.499347972075095e-20,
          2.526163780927398e-20,
          9.720985020307274e-21,
          3.703531977654792e-21,
          1.3969439431480619e-21,
          5.216736662030781e-22
         ]
        }
       ],
       "layout": {
        "autosize": false,
        "height": 600,
        "legend": {
         "x": 0.95,
         "xanchor": "right",
         "y": 0.9,
         "yanchor": "top"
        },
        "plot_bgcolor": "rgba(0,0,0,0)",
        "template": {
         "data": {
          "bar": [
           {
            "error_x": {
             "color": "#2a3f5f"
            },
            "error_y": {
             "color": "#2a3f5f"
            },
            "marker": {
             "line": {
              "color": "#E5ECF6",
              "width": 0.5
             },
             "pattern": {
              "fillmode": "overlay",
              "size": 10,
              "solidity": 0.2
             }
            },
            "type": "bar"
           }
          ],
          "barpolar": [
           {
            "marker": {
             "line": {
              "color": "#E5ECF6",
              "width": 0.5
             },
             "pattern": {
              "fillmode": "overlay",
              "size": 10,
              "solidity": 0.2
             }
            },
            "type": "barpolar"
           }
          ],
          "carpet": [
           {
            "aaxis": {
             "endlinecolor": "#2a3f5f",
             "gridcolor": "white",
             "linecolor": "white",
             "minorgridcolor": "white",
             "startlinecolor": "#2a3f5f"
            },
            "baxis": {
             "endlinecolor": "#2a3f5f",
             "gridcolor": "white",
             "linecolor": "white",
             "minorgridcolor": "white",
             "startlinecolor": "#2a3f5f"
            },
            "type": "carpet"
           }
          ],
          "choropleth": [
           {
            "colorbar": {
             "outlinewidth": 0,
             "ticks": ""
            },
            "type": "choropleth"
           }
          ],
          "contour": [
           {
            "colorbar": {
             "outlinewidth": 0,
             "ticks": ""
            },
            "colorscale": [
             [
              0,
              "#0d0887"
             ],
             [
              0.1111111111111111,
              "#46039f"
             ],
             [
              0.2222222222222222,
              "#7201a8"
             ],
             [
              0.3333333333333333,
              "#9c179e"
             ],
             [
              0.4444444444444444,
              "#bd3786"
             ],
             [
              0.5555555555555556,
              "#d8576b"
             ],
             [
              0.6666666666666666,
              "#ed7953"
             ],
             [
              0.7777777777777778,
              "#fb9f3a"
             ],
             [
              0.8888888888888888,
              "#fdca26"
             ],
             [
              1,
              "#f0f921"
             ]
            ],
            "type": "contour"
           }
          ],
          "contourcarpet": [
           {
            "colorbar": {
             "outlinewidth": 0,
             "ticks": ""
            },
            "type": "contourcarpet"
           }
          ],
          "heatmap": [
           {
            "colorbar": {
             "outlinewidth": 0,
             "ticks": ""
            },
            "colorscale": [
             [
              0,
              "#0d0887"
             ],
             [
              0.1111111111111111,
              "#46039f"
             ],
             [
              0.2222222222222222,
              "#7201a8"
             ],
             [
              0.3333333333333333,
              "#9c179e"
             ],
             [
              0.4444444444444444,
              "#bd3786"
             ],
             [
              0.5555555555555556,
              "#d8576b"
             ],
             [
              0.6666666666666666,
              "#ed7953"
             ],
             [
              0.7777777777777778,
              "#fb9f3a"
             ],
             [
              0.8888888888888888,
              "#fdca26"
             ],
             [
              1,
              "#f0f921"
             ]
            ],
            "type": "heatmap"
           }
          ],
          "heatmapgl": [
           {
            "colorbar": {
             "outlinewidth": 0,
             "ticks": ""
            },
            "colorscale": [
             [
              0,
              "#0d0887"
             ],
             [
              0.1111111111111111,
              "#46039f"
             ],
             [
              0.2222222222222222,
              "#7201a8"
             ],
             [
              0.3333333333333333,
              "#9c179e"
             ],
             [
              0.4444444444444444,
              "#bd3786"
             ],
             [
              0.5555555555555556,
              "#d8576b"
             ],
             [
              0.6666666666666666,
              "#ed7953"
             ],
             [
              0.7777777777777778,
              "#fb9f3a"
             ],
             [
              0.8888888888888888,
              "#fdca26"
             ],
             [
              1,
              "#f0f921"
             ]
            ],
            "type": "heatmapgl"
           }
          ],
          "histogram": [
           {
            "marker": {
             "pattern": {
              "fillmode": "overlay",
              "size": 10,
              "solidity": 0.2
             }
            },
            "type": "histogram"
           }
          ],
          "histogram2d": [
           {
            "colorbar": {
             "outlinewidth": 0,
             "ticks": ""
            },
            "colorscale": [
             [
              0,
              "#0d0887"
             ],
             [
              0.1111111111111111,
              "#46039f"
             ],
             [
              0.2222222222222222,
              "#7201a8"
             ],
             [
              0.3333333333333333,
              "#9c179e"
             ],
             [
              0.4444444444444444,
              "#bd3786"
             ],
             [
              0.5555555555555556,
              "#d8576b"
             ],
             [
              0.6666666666666666,
              "#ed7953"
             ],
             [
              0.7777777777777778,
              "#fb9f3a"
             ],
             [
              0.8888888888888888,
              "#fdca26"
             ],
             [
              1,
              "#f0f921"
             ]
            ],
            "type": "histogram2d"
           }
          ],
          "histogram2dcontour": [
           {
            "colorbar": {
             "outlinewidth": 0,
             "ticks": ""
            },
            "colorscale": [
             [
              0,
              "#0d0887"
             ],
             [
              0.1111111111111111,
              "#46039f"
             ],
             [
              0.2222222222222222,
              "#7201a8"
             ],
             [
              0.3333333333333333,
              "#9c179e"
             ],
             [
              0.4444444444444444,
              "#bd3786"
             ],
             [
              0.5555555555555556,
              "#d8576b"
             ],
             [
              0.6666666666666666,
              "#ed7953"
             ],
             [
              0.7777777777777778,
              "#fb9f3a"
             ],
             [
              0.8888888888888888,
              "#fdca26"
             ],
             [
              1,
              "#f0f921"
             ]
            ],
            "type": "histogram2dcontour"
           }
          ],
          "mesh3d": [
           {
            "colorbar": {
             "outlinewidth": 0,
             "ticks": ""
            },
            "type": "mesh3d"
           }
          ],
          "parcoords": [
           {
            "line": {
             "colorbar": {
              "outlinewidth": 0,
              "ticks": ""
             }
            },
            "type": "parcoords"
           }
          ],
          "pie": [
           {
            "automargin": true,
            "type": "pie"
           }
          ],
          "scatter": [
           {
            "fillpattern": {
             "fillmode": "overlay",
             "size": 10,
             "solidity": 0.2
            },
            "type": "scatter"
           }
          ],
          "scatter3d": [
           {
            "line": {
             "colorbar": {
              "outlinewidth": 0,
              "ticks": ""
             }
            },
            "marker": {
             "colorbar": {
              "outlinewidth": 0,
              "ticks": ""
             }
            },
            "type": "scatter3d"
           }
          ],
          "scattercarpet": [
           {
            "marker": {
             "colorbar": {
              "outlinewidth": 0,
              "ticks": ""
             }
            },
            "type": "scattercarpet"
           }
          ],
          "scattergeo": [
           {
            "marker": {
             "colorbar": {
              "outlinewidth": 0,
              "ticks": ""
             }
            },
            "type": "scattergeo"
           }
          ],
          "scattergl": [
           {
            "marker": {
             "colorbar": {
              "outlinewidth": 0,
              "ticks": ""
             }
            },
            "type": "scattergl"
           }
          ],
          "scattermapbox": [
           {
            "marker": {
             "colorbar": {
              "outlinewidth": 0,
              "ticks": ""
             }
            },
            "type": "scattermapbox"
           }
          ],
          "scatterpolar": [
           {
            "marker": {
             "colorbar": {
              "outlinewidth": 0,
              "ticks": ""
             }
            },
            "type": "scatterpolar"
           }
          ],
          "scatterpolargl": [
           {
            "marker": {
             "colorbar": {
              "outlinewidth": 0,
              "ticks": ""
             }
            },
            "type": "scatterpolargl"
           }
          ],
          "scatterternary": [
           {
            "marker": {
             "colorbar": {
              "outlinewidth": 0,
              "ticks": ""
             }
            },
            "type": "scatterternary"
           }
          ],
          "surface": [
           {
            "colorbar": {
             "outlinewidth": 0,
             "ticks": ""
            },
            "colorscale": [
             [
              0,
              "#0d0887"
             ],
             [
              0.1111111111111111,
              "#46039f"
             ],
             [
              0.2222222222222222,
              "#7201a8"
             ],
             [
              0.3333333333333333,
              "#9c179e"
             ],
             [
              0.4444444444444444,
              "#bd3786"
             ],
             [
              0.5555555555555556,
              "#d8576b"
             ],
             [
              0.6666666666666666,
              "#ed7953"
             ],
             [
              0.7777777777777778,
              "#fb9f3a"
             ],
             [
              0.8888888888888888,
              "#fdca26"
             ],
             [
              1,
              "#f0f921"
             ]
            ],
            "type": "surface"
           }
          ],
          "table": [
           {
            "cells": {
             "fill": {
              "color": "#EBF0F8"
             },
             "line": {
              "color": "white"
             }
            },
            "header": {
             "fill": {
              "color": "#C8D4E3"
             },
             "line": {
              "color": "white"
             }
            },
            "type": "table"
           }
          ]
         },
         "layout": {
          "annotationdefaults": {
           "arrowcolor": "#2a3f5f",
           "arrowhead": 0,
           "arrowwidth": 1
          },
          "autotypenumbers": "strict",
          "coloraxis": {
           "colorbar": {
            "outlinewidth": 0,
            "ticks": ""
           }
          },
          "colorscale": {
           "diverging": [
            [
             0,
             "#8e0152"
            ],
            [
             0.1,
             "#c51b7d"
            ],
            [
             0.2,
             "#de77ae"
            ],
            [
             0.3,
             "#f1b6da"
            ],
            [
             0.4,
             "#fde0ef"
            ],
            [
             0.5,
             "#f7f7f7"
            ],
            [
             0.6,
             "#e6f5d0"
            ],
            [
             0.7,
             "#b8e186"
            ],
            [
             0.8,
             "#7fbc41"
            ],
            [
             0.9,
             "#4d9221"
            ],
            [
             1,
             "#276419"
            ]
           ],
           "sequential": [
            [
             0,
             "#0d0887"
            ],
            [
             0.1111111111111111,
             "#46039f"
            ],
            [
             0.2222222222222222,
             "#7201a8"
            ],
            [
             0.3333333333333333,
             "#9c179e"
            ],
            [
             0.4444444444444444,
             "#bd3786"
            ],
            [
             0.5555555555555556,
             "#d8576b"
            ],
            [
             0.6666666666666666,
             "#ed7953"
            ],
            [
             0.7777777777777778,
             "#fb9f3a"
            ],
            [
             0.8888888888888888,
             "#fdca26"
            ],
            [
             1,
             "#f0f921"
            ]
           ],
           "sequentialminus": [
            [
             0,
             "#0d0887"
            ],
            [
             0.1111111111111111,
             "#46039f"
            ],
            [
             0.2222222222222222,
             "#7201a8"
            ],
            [
             0.3333333333333333,
             "#9c179e"
            ],
            [
             0.4444444444444444,
             "#bd3786"
            ],
            [
             0.5555555555555556,
             "#d8576b"
            ],
            [
             0.6666666666666666,
             "#ed7953"
            ],
            [
             0.7777777777777778,
             "#fb9f3a"
            ],
            [
             0.8888888888888888,
             "#fdca26"
            ],
            [
             1,
             "#f0f921"
            ]
           ]
          },
          "colorway": [
           "#636efa",
           "#EF553B",
           "#00cc96",
           "#ab63fa",
           "#FFA15A",
           "#19d3f3",
           "#FF6692",
           "#B6E880",
           "#FF97FF",
           "#FECB52"
          ],
          "font": {
           "color": "#2a3f5f"
          },
          "geo": {
           "bgcolor": "white",
           "lakecolor": "white",
           "landcolor": "#E5ECF6",
           "showlakes": true,
           "showland": true,
           "subunitcolor": "white"
          },
          "hoverlabel": {
           "align": "left"
          },
          "hovermode": "closest",
          "mapbox": {
           "style": "light"
          },
          "paper_bgcolor": "white",
          "plot_bgcolor": "#E5ECF6",
          "polar": {
           "angularaxis": {
            "gridcolor": "white",
            "linecolor": "white",
            "ticks": ""
           },
           "bgcolor": "#E5ECF6",
           "radialaxis": {
            "gridcolor": "white",
            "linecolor": "white",
            "ticks": ""
           }
          },
          "scene": {
           "xaxis": {
            "backgroundcolor": "#E5ECF6",
            "gridcolor": "white",
            "gridwidth": 2,
            "linecolor": "white",
            "showbackground": true,
            "ticks": "",
            "zerolinecolor": "white"
           },
           "yaxis": {
            "backgroundcolor": "#E5ECF6",
            "gridcolor": "white",
            "gridwidth": 2,
            "linecolor": "white",
            "showbackground": true,
            "ticks": "",
            "zerolinecolor": "white"
           },
           "zaxis": {
            "backgroundcolor": "#E5ECF6",
            "gridcolor": "white",
            "gridwidth": 2,
            "linecolor": "white",
            "showbackground": true,
            "ticks": "",
            "zerolinecolor": "white"
           }
          },
          "shapedefaults": {
           "line": {
            "color": "#2a3f5f"
           }
          },
          "ternary": {
           "aaxis": {
            "gridcolor": "white",
            "linecolor": "white",
            "ticks": ""
           },
           "baxis": {
            "gridcolor": "white",
            "linecolor": "white",
            "ticks": ""
           },
           "bgcolor": "#E5ECF6",
           "caxis": {
            "gridcolor": "white",
            "linecolor": "white",
            "ticks": ""
           }
          },
          "title": {
           "x": 0.05
          },
          "xaxis": {
           "automargin": true,
           "gridcolor": "white",
           "linecolor": "white",
           "ticks": "",
           "title": {
            "standoff": 15
           },
           "zerolinecolor": "white",
           "zerolinewidth": 2
          },
          "yaxis": {
           "automargin": true,
           "gridcolor": "white",
           "linecolor": "white",
           "ticks": "",
           "title": {
            "standoff": 15
           },
           "zerolinecolor": "white",
           "zerolinewidth": 2
          }
         }
        },
        "title": {
         "text": "Squared Exponential Kernel",
         "x": 0.5,
         "xanchor": "center"
        },
        "width": 800,
        "xaxis": {
         "linecolor": "black",
         "linewidth": 1,
         "showline": true,
         "title": {
          "text": "input values"
         }
        },
        "yaxis": {
         "linecolor": "black",
         "linewidth": 1,
         "showline": true,
         "title": {
          "text": "output values"
         }
        }
       }
      }
     },
     "metadata": {},
     "output_type": "display_data"
    }
   ],
   "source": [
    "x_lines = np.arange(-10, 10, 0.1)\n",
    "kernel = SquaredExponentialKernel()\n",
    "\n",
    "fig0 = go.Figure(data=[\n",
    "    line_scatter(\n",
    "        x_lines=x_lines,\n",
    "        y_lines=np.array([kernel(x, 0) for x in x_lines]),\n",
    "    )\n",
    "])\n",
    "\n",
    "fig0 = update_layout_of_graph(fig0, title='Squared Exponential Kernel')\n",
    "\n",
    "# Define the update function for interact\n",
    "@interact(length=(0.1, 3, 0.1), argument_2=(-10, 10, 0.1))\n",
    "def update(length=1, argument_2=0):\n",
    "    kernel = SquaredExponentialKernel(length=length)\n",
    "    fig0.data[0].y = np.array([kernel(x, argument_2) for x in x_lines])\n",
    "    fig0.show()\n",
    "\n"
   ]
  },
  {
   "cell_type": "markdown",
   "id": "b6f6cb45",
   "metadata": {},
   "source": [
    "The **constant kernel**."
   ]
  },
  {
   "cell_type": "code",
   "execution_count": 19,
   "id": "e44568e7",
   "metadata": {},
   "outputs": [
    {
     "data": {
      "application/vnd.jupyter.widget-view+json": {
       "model_id": "05dcd374184345d49c4ddab7a2727370",
       "version_major": 2,
       "version_minor": 0
      },
      "text/plain": [
       "interactive(children=(FloatSlider(value=1.0, description='sigma_0', max=3.0, min=0.1), FloatSlider(value=0.0, …"
      ]
     },
     "metadata": {},
     "output_type": "display_data"
    },
    {
     "data": {
      "application/vnd.plotly.v1+json": {
       "config": {
        "plotlyServerURL": "https://plot.ly"
       },
       "data": [
        {
         "mode": "lines",
         "type": "scatter",
         "x": [
          -10,
          -9.9,
          -9.8,
          -9.700000000000001,
          -9.600000000000001,
          -9.500000000000002,
          -9.400000000000002,
          -9.300000000000002,
          -9.200000000000003,
          -9.100000000000003,
          -9.000000000000004,
          -8.900000000000004,
          -8.800000000000004,
          -8.700000000000005,
          -8.600000000000005,
          -8.500000000000005,
          -8.400000000000006,
          -8.300000000000006,
          -8.200000000000006,
          -8.100000000000007,
          -8.000000000000007,
          -7.9000000000000075,
          -7.800000000000008,
          -7.700000000000008,
          -7.6000000000000085,
          -7.500000000000009,
          -7.400000000000009,
          -7.30000000000001,
          -7.20000000000001,
          -7.10000000000001,
          -7.000000000000011,
          -6.900000000000011,
          -6.800000000000011,
          -6.700000000000012,
          -6.600000000000012,
          -6.500000000000012,
          -6.400000000000013,
          -6.300000000000013,
          -6.2000000000000135,
          -6.100000000000014,
          -6.000000000000014,
          -5.900000000000015,
          -5.800000000000015,
          -5.700000000000015,
          -5.600000000000016,
          -5.500000000000016,
          -5.400000000000016,
          -5.300000000000017,
          -5.200000000000017,
          -5.100000000000017,
          -5.000000000000018,
          -4.900000000000018,
          -4.8000000000000185,
          -4.700000000000019,
          -4.600000000000019,
          -4.5000000000000195,
          -4.40000000000002,
          -4.30000000000002,
          -4.200000000000021,
          -4.100000000000021,
          -4.000000000000021,
          -3.9000000000000217,
          -3.800000000000022,
          -3.7000000000000224,
          -3.6000000000000227,
          -3.500000000000023,
          -3.4000000000000234,
          -3.300000000000024,
          -3.200000000000024,
          -3.1000000000000245,
          -3.000000000000025,
          -2.9000000000000252,
          -2.8000000000000256,
          -2.700000000000026,
          -2.6000000000000263,
          -2.5000000000000266,
          -2.400000000000027,
          -2.3000000000000274,
          -2.2000000000000277,
          -2.100000000000028,
          -2.0000000000000284,
          -1.9000000000000288,
          -1.8000000000000291,
          -1.7000000000000295,
          -1.6000000000000298,
          -1.5000000000000302,
          -1.4000000000000306,
          -1.300000000000031,
          -1.2000000000000313,
          -1.1000000000000316,
          -1.000000000000032,
          -0.9000000000000323,
          -0.8000000000000327,
          -0.700000000000033,
          -0.6000000000000334,
          -0.5000000000000338,
          -0.4000000000000341,
          -0.30000000000003446,
          -0.20000000000003482,
          -0.10000000000003517,
          -3.552713678800501e-14,
          0.09999999999996412,
          0.19999999999996376,
          0.2999999999999634,
          0.39999999999996305,
          0.4999999999999627,
          0.5999999999999623,
          0.699999999999962,
          0.7999999999999616,
          0.8999999999999613,
          0.9999999999999609,
          1.0999999999999606,
          1.1999999999999602,
          1.2999999999999599,
          1.3999999999999595,
          1.4999999999999591,
          1.5999999999999588,
          1.6999999999999584,
          1.799999999999958,
          1.8999999999999577,
          1.9999999999999574,
          2.099999999999957,
          2.1999999999999567,
          2.2999999999999563,
          2.399999999999956,
          2.4999999999999556,
          2.5999999999999552,
          2.699999999999955,
          2.7999999999999545,
          2.899999999999954,
          2.999999999999954,
          3.0999999999999535,
          3.199999999999953,
          3.2999999999999527,
          3.3999999999999524,
          3.499999999999952,
          3.5999999999999517,
          3.6999999999999513,
          3.799999999999951,
          3.8999999999999506,
          3.9999999999999503,
          4.09999999999995,
          4.1999999999999496,
          4.299999999999949,
          4.399999999999949,
          4.4999999999999485,
          4.599999999999948,
          4.699999999999948,
          4.799999999999947,
          4.899999999999947,
          4.999999999999947,
          5.099999999999946,
          5.199999999999946,
          5.299999999999946,
          5.399999999999945,
          5.499999999999945,
          5.599999999999945,
          5.699999999999944,
          5.799999999999944,
          5.8999999999999435,
          5.999999999999943,
          6.099999999999945,
          6.1999999999999424,
          6.29999999999994,
          6.399999999999942,
          6.499999999999943,
          6.599999999999941,
          6.699999999999939,
          6.79999999999994,
          6.899999999999942,
          6.99999999999994,
          7.0999999999999375,
          7.199999999999939,
          7.29999999999994,
          7.399999999999938,
          7.499999999999936,
          7.5999999999999375,
          7.699999999999939,
          7.799999999999937,
          7.899999999999935,
          7.999999999999936,
          8.099999999999937,
          8.199999999999935,
          8.299999999999933,
          8.399999999999935,
          8.499999999999936,
          8.599999999999934,
          8.699999999999932,
          8.799999999999933,
          8.899999999999935,
          8.999999999999932,
          9.09999999999993,
          9.199999999999932,
          9.299999999999933,
          9.399999999999931,
          9.499999999999929,
          9.59999999999993,
          9.699999999999932,
          9.79999999999993,
          9.899999999999928
         ],
         "y": [
          1,
          1,
          1,
          1,
          1,
          1,
          1,
          1,
          1,
          1,
          1,
          1,
          1,
          1,
          1,
          1,
          1,
          1,
          1,
          1,
          1,
          1,
          1,
          1,
          1,
          1,
          1,
          1,
          1,
          1,
          1,
          1,
          1,
          1,
          1,
          1,
          1,
          1,
          1,
          1,
          1,
          1,
          1,
          1,
          1,
          1,
          1,
          1,
          1,
          1,
          1,
          1,
          1,
          1,
          1,
          1,
          1,
          1,
          1,
          1,
          1,
          1,
          1,
          1,
          1,
          1,
          1,
          1,
          1,
          1,
          1,
          1,
          1,
          1,
          1,
          1,
          1,
          1,
          1,
          1,
          1,
          1,
          1,
          1,
          1,
          1,
          1,
          1,
          1,
          1,
          1,
          1,
          1,
          1,
          1,
          1,
          1,
          1,
          1,
          1,
          1,
          1,
          1,
          1,
          1,
          1,
          1,
          1,
          1,
          1,
          1,
          1,
          1,
          1,
          1,
          1,
          1,
          1,
          1,
          1,
          1,
          1,
          1,
          1,
          1,
          1,
          1,
          1,
          1,
          1,
          1,
          1,
          1,
          1,
          1,
          1,
          1,
          1,
          1,
          1,
          1,
          1,
          1,
          1,
          1,
          1,
          1,
          1,
          1,
          1,
          1,
          1,
          1,
          1,
          1,
          1,
          1,
          1,
          1,
          1,
          1,
          1,
          1,
          1,
          1,
          1,
          1,
          1,
          1,
          1,
          1,
          1,
          1,
          1,
          1,
          1,
          1,
          1,
          1,
          1,
          1,
          1,
          1,
          1,
          1,
          1,
          1,
          1,
          1,
          1,
          1,
          1,
          1,
          1,
          1,
          1,
          1,
          1,
          1,
          1
         ]
        }
       ],
       "layout": {
        "template": {
         "data": {
          "bar": [
           {
            "error_x": {
             "color": "#2a3f5f"
            },
            "error_y": {
             "color": "#2a3f5f"
            },
            "marker": {
             "line": {
              "color": "#E5ECF6",
              "width": 0.5
             },
             "pattern": {
              "fillmode": "overlay",
              "size": 10,
              "solidity": 0.2
             }
            },
            "type": "bar"
           }
          ],
          "barpolar": [
           {
            "marker": {
             "line": {
              "color": "#E5ECF6",
              "width": 0.5
             },
             "pattern": {
              "fillmode": "overlay",
              "size": 10,
              "solidity": 0.2
             }
            },
            "type": "barpolar"
           }
          ],
          "carpet": [
           {
            "aaxis": {
             "endlinecolor": "#2a3f5f",
             "gridcolor": "white",
             "linecolor": "white",
             "minorgridcolor": "white",
             "startlinecolor": "#2a3f5f"
            },
            "baxis": {
             "endlinecolor": "#2a3f5f",
             "gridcolor": "white",
             "linecolor": "white",
             "minorgridcolor": "white",
             "startlinecolor": "#2a3f5f"
            },
            "type": "carpet"
           }
          ],
          "choropleth": [
           {
            "colorbar": {
             "outlinewidth": 0,
             "ticks": ""
            },
            "type": "choropleth"
           }
          ],
          "contour": [
           {
            "colorbar": {
             "outlinewidth": 0,
             "ticks": ""
            },
            "colorscale": [
             [
              0,
              "#0d0887"
             ],
             [
              0.1111111111111111,
              "#46039f"
             ],
             [
              0.2222222222222222,
              "#7201a8"
             ],
             [
              0.3333333333333333,
              "#9c179e"
             ],
             [
              0.4444444444444444,
              "#bd3786"
             ],
             [
              0.5555555555555556,
              "#d8576b"
             ],
             [
              0.6666666666666666,
              "#ed7953"
             ],
             [
              0.7777777777777778,
              "#fb9f3a"
             ],
             [
              0.8888888888888888,
              "#fdca26"
             ],
             [
              1,
              "#f0f921"
             ]
            ],
            "type": "contour"
           }
          ],
          "contourcarpet": [
           {
            "colorbar": {
             "outlinewidth": 0,
             "ticks": ""
            },
            "type": "contourcarpet"
           }
          ],
          "heatmap": [
           {
            "colorbar": {
             "outlinewidth": 0,
             "ticks": ""
            },
            "colorscale": [
             [
              0,
              "#0d0887"
             ],
             [
              0.1111111111111111,
              "#46039f"
             ],
             [
              0.2222222222222222,
              "#7201a8"
             ],
             [
              0.3333333333333333,
              "#9c179e"
             ],
             [
              0.4444444444444444,
              "#bd3786"
             ],
             [
              0.5555555555555556,
              "#d8576b"
             ],
             [
              0.6666666666666666,
              "#ed7953"
             ],
             [
              0.7777777777777778,
              "#fb9f3a"
             ],
             [
              0.8888888888888888,
              "#fdca26"
             ],
             [
              1,
              "#f0f921"
             ]
            ],
            "type": "heatmap"
           }
          ],
          "heatmapgl": [
           {
            "colorbar": {
             "outlinewidth": 0,
             "ticks": ""
            },
            "colorscale": [
             [
              0,
              "#0d0887"
             ],
             [
              0.1111111111111111,
              "#46039f"
             ],
             [
              0.2222222222222222,
              "#7201a8"
             ],
             [
              0.3333333333333333,
              "#9c179e"
             ],
             [
              0.4444444444444444,
              "#bd3786"
             ],
             [
              0.5555555555555556,
              "#d8576b"
             ],
             [
              0.6666666666666666,
              "#ed7953"
             ],
             [
              0.7777777777777778,
              "#fb9f3a"
             ],
             [
              0.8888888888888888,
              "#fdca26"
             ],
             [
              1,
              "#f0f921"
             ]
            ],
            "type": "heatmapgl"
           }
          ],
          "histogram": [
           {
            "marker": {
             "pattern": {
              "fillmode": "overlay",
              "size": 10,
              "solidity": 0.2
             }
            },
            "type": "histogram"
           }
          ],
          "histogram2d": [
           {
            "colorbar": {
             "outlinewidth": 0,
             "ticks": ""
            },
            "colorscale": [
             [
              0,
              "#0d0887"
             ],
             [
              0.1111111111111111,
              "#46039f"
             ],
             [
              0.2222222222222222,
              "#7201a8"
             ],
             [
              0.3333333333333333,
              "#9c179e"
             ],
             [
              0.4444444444444444,
              "#bd3786"
             ],
             [
              0.5555555555555556,
              "#d8576b"
             ],
             [
              0.6666666666666666,
              "#ed7953"
             ],
             [
              0.7777777777777778,
              "#fb9f3a"
             ],
             [
              0.8888888888888888,
              "#fdca26"
             ],
             [
              1,
              "#f0f921"
             ]
            ],
            "type": "histogram2d"
           }
          ],
          "histogram2dcontour": [
           {
            "colorbar": {
             "outlinewidth": 0,
             "ticks": ""
            },
            "colorscale": [
             [
              0,
              "#0d0887"
             ],
             [
              0.1111111111111111,
              "#46039f"
             ],
             [
              0.2222222222222222,
              "#7201a8"
             ],
             [
              0.3333333333333333,
              "#9c179e"
             ],
             [
              0.4444444444444444,
              "#bd3786"
             ],
             [
              0.5555555555555556,
              "#d8576b"
             ],
             [
              0.6666666666666666,
              "#ed7953"
             ],
             [
              0.7777777777777778,
              "#fb9f3a"
             ],
             [
              0.8888888888888888,
              "#fdca26"
             ],
             [
              1,
              "#f0f921"
             ]
            ],
            "type": "histogram2dcontour"
           }
          ],
          "mesh3d": [
           {
            "colorbar": {
             "outlinewidth": 0,
             "ticks": ""
            },
            "type": "mesh3d"
           }
          ],
          "parcoords": [
           {
            "line": {
             "colorbar": {
              "outlinewidth": 0,
              "ticks": ""
             }
            },
            "type": "parcoords"
           }
          ],
          "pie": [
           {
            "automargin": true,
            "type": "pie"
           }
          ],
          "scatter": [
           {
            "fillpattern": {
             "fillmode": "overlay",
             "size": 10,
             "solidity": 0.2
            },
            "type": "scatter"
           }
          ],
          "scatter3d": [
           {
            "line": {
             "colorbar": {
              "outlinewidth": 0,
              "ticks": ""
             }
            },
            "marker": {
             "colorbar": {
              "outlinewidth": 0,
              "ticks": ""
             }
            },
            "type": "scatter3d"
           }
          ],
          "scattercarpet": [
           {
            "marker": {
             "colorbar": {
              "outlinewidth": 0,
              "ticks": ""
             }
            },
            "type": "scattercarpet"
           }
          ],
          "scattergeo": [
           {
            "marker": {
             "colorbar": {
              "outlinewidth": 0,
              "ticks": ""
             }
            },
            "type": "scattergeo"
           }
          ],
          "scattergl": [
           {
            "marker": {
             "colorbar": {
              "outlinewidth": 0,
              "ticks": ""
             }
            },
            "type": "scattergl"
           }
          ],
          "scattermapbox": [
           {
            "marker": {
             "colorbar": {
              "outlinewidth": 0,
              "ticks": ""
             }
            },
            "type": "scattermapbox"
           }
          ],
          "scatterpolar": [
           {
            "marker": {
             "colorbar": {
              "outlinewidth": 0,
              "ticks": ""
             }
            },
            "type": "scatterpolar"
           }
          ],
          "scatterpolargl": [
           {
            "marker": {
             "colorbar": {
              "outlinewidth": 0,
              "ticks": ""
             }
            },
            "type": "scatterpolargl"
           }
          ],
          "scatterternary": [
           {
            "marker": {
             "colorbar": {
              "outlinewidth": 0,
              "ticks": ""
             }
            },
            "type": "scatterternary"
           }
          ],
          "surface": [
           {
            "colorbar": {
             "outlinewidth": 0,
             "ticks": ""
            },
            "colorscale": [
             [
              0,
              "#0d0887"
             ],
             [
              0.1111111111111111,
              "#46039f"
             ],
             [
              0.2222222222222222,
              "#7201a8"
             ],
             [
              0.3333333333333333,
              "#9c179e"
             ],
             [
              0.4444444444444444,
              "#bd3786"
             ],
             [
              0.5555555555555556,
              "#d8576b"
             ],
             [
              0.6666666666666666,
              "#ed7953"
             ],
             [
              0.7777777777777778,
              "#fb9f3a"
             ],
             [
              0.8888888888888888,
              "#fdca26"
             ],
             [
              1,
              "#f0f921"
             ]
            ],
            "type": "surface"
           }
          ],
          "table": [
           {
            "cells": {
             "fill": {
              "color": "#EBF0F8"
             },
             "line": {
              "color": "white"
             }
            },
            "header": {
             "fill": {
              "color": "#C8D4E3"
             },
             "line": {
              "color": "white"
             }
            },
            "type": "table"
           }
          ]
         },
         "layout": {
          "annotationdefaults": {
           "arrowcolor": "#2a3f5f",
           "arrowhead": 0,
           "arrowwidth": 1
          },
          "autotypenumbers": "strict",
          "coloraxis": {
           "colorbar": {
            "outlinewidth": 0,
            "ticks": ""
           }
          },
          "colorscale": {
           "diverging": [
            [
             0,
             "#8e0152"
            ],
            [
             0.1,
             "#c51b7d"
            ],
            [
             0.2,
             "#de77ae"
            ],
            [
             0.3,
             "#f1b6da"
            ],
            [
             0.4,
             "#fde0ef"
            ],
            [
             0.5,
             "#f7f7f7"
            ],
            [
             0.6,
             "#e6f5d0"
            ],
            [
             0.7,
             "#b8e186"
            ],
            [
             0.8,
             "#7fbc41"
            ],
            [
             0.9,
             "#4d9221"
            ],
            [
             1,
             "#276419"
            ]
           ],
           "sequential": [
            [
             0,
             "#0d0887"
            ],
            [
             0.1111111111111111,
             "#46039f"
            ],
            [
             0.2222222222222222,
             "#7201a8"
            ],
            [
             0.3333333333333333,
             "#9c179e"
            ],
            [
             0.4444444444444444,
             "#bd3786"
            ],
            [
             0.5555555555555556,
             "#d8576b"
            ],
            [
             0.6666666666666666,
             "#ed7953"
            ],
            [
             0.7777777777777778,
             "#fb9f3a"
            ],
            [
             0.8888888888888888,
             "#fdca26"
            ],
            [
             1,
             "#f0f921"
            ]
           ],
           "sequentialminus": [
            [
             0,
             "#0d0887"
            ],
            [
             0.1111111111111111,
             "#46039f"
            ],
            [
             0.2222222222222222,
             "#7201a8"
            ],
            [
             0.3333333333333333,
             "#9c179e"
            ],
            [
             0.4444444444444444,
             "#bd3786"
            ],
            [
             0.5555555555555556,
             "#d8576b"
            ],
            [
             0.6666666666666666,
             "#ed7953"
            ],
            [
             0.7777777777777778,
             "#fb9f3a"
            ],
            [
             0.8888888888888888,
             "#fdca26"
            ],
            [
             1,
             "#f0f921"
            ]
           ]
          },
          "colorway": [
           "#636efa",
           "#EF553B",
           "#00cc96",
           "#ab63fa",
           "#FFA15A",
           "#19d3f3",
           "#FF6692",
           "#B6E880",
           "#FF97FF",
           "#FECB52"
          ],
          "font": {
           "color": "#2a3f5f"
          },
          "geo": {
           "bgcolor": "white",
           "lakecolor": "white",
           "landcolor": "#E5ECF6",
           "showlakes": true,
           "showland": true,
           "subunitcolor": "white"
          },
          "hoverlabel": {
           "align": "left"
          },
          "hovermode": "closest",
          "mapbox": {
           "style": "light"
          },
          "paper_bgcolor": "white",
          "plot_bgcolor": "#E5ECF6",
          "polar": {
           "angularaxis": {
            "gridcolor": "white",
            "linecolor": "white",
            "ticks": ""
           },
           "bgcolor": "#E5ECF6",
           "radialaxis": {
            "gridcolor": "white",
            "linecolor": "white",
            "ticks": ""
           }
          },
          "scene": {
           "xaxis": {
            "backgroundcolor": "#E5ECF6",
            "gridcolor": "white",
            "gridwidth": 2,
            "linecolor": "white",
            "showbackground": true,
            "ticks": "",
            "zerolinecolor": "white"
           },
           "yaxis": {
            "backgroundcolor": "#E5ECF6",
            "gridcolor": "white",
            "gridwidth": 2,
            "linecolor": "white",
            "showbackground": true,
            "ticks": "",
            "zerolinecolor": "white"
           },
           "zaxis": {
            "backgroundcolor": "#E5ECF6",
            "gridcolor": "white",
            "gridwidth": 2,
            "linecolor": "white",
            "showbackground": true,
            "ticks": "",
            "zerolinecolor": "white"
           }
          },
          "shapedefaults": {
           "line": {
            "color": "#2a3f5f"
           }
          },
          "ternary": {
           "aaxis": {
            "gridcolor": "white",
            "linecolor": "white",
            "ticks": ""
           },
           "baxis": {
            "gridcolor": "white",
            "linecolor": "white",
            "ticks": ""
           },
           "bgcolor": "#E5ECF6",
           "caxis": {
            "gridcolor": "white",
            "linecolor": "white",
            "ticks": ""
           }
          },
          "title": {
           "x": 0.05
          },
          "xaxis": {
           "automargin": true,
           "gridcolor": "white",
           "linecolor": "white",
           "ticks": "",
           "title": {
            "standoff": 15
           },
           "zerolinecolor": "white",
           "zerolinewidth": 2
          },
          "yaxis": {
           "automargin": true,
           "gridcolor": "white",
           "linecolor": "white",
           "ticks": "",
           "title": {
            "standoff": 15
           },
           "zerolinecolor": "white",
           "zerolinewidth": 2
          }
         }
        },
        "title": {
         "text": "Constant Kernel"
        }
       }
      }
     },
     "metadata": {},
     "output_type": "display_data"
    }
   ],
   "source": [
    "x_lines = np.arange(-10, 10, 0.1)\n",
    "\n",
    "# Initialize with default parameters for the Constant kernel\n",
    "kernel = ConstantKernel()\n",
    "\n",
    "# Create the initial plot\n",
    "fig0 = go.Figure(data=[\n",
    "    go.Scatter(\n",
    "        x=x_lines,\n",
    "        y=[kernel(x, 0) for x in x_lines],\n",
    "        mode='lines'\n",
    "    )\n",
    "])\n",
    "\n",
    "# Update the layout for clarity\n",
    "fig0.update_layout(title='Constant Kernel')\n",
    "\n",
    "# Define the update function for interact\n",
    "@interact(sigma_0=(0.1, 3, 0.1), argument_2=(-10, 10, 0.1))\n",
    "def update(sigma_0=1.0, argument_2=0):\n",
    "    kernel = ConstantKernel(sigma_0=sigma_0)\n",
    "    fig0.data[0].y = [kernel(x, argument_2) for x in x_lines]\n",
    "    fig0.show()\n"
   ]
  },
  {
   "cell_type": "markdown",
   "id": "a007ec34",
   "metadata": {},
   "source": [
    "And the **Matérn kernel**."
   ]
  },
  {
   "cell_type": "code",
   "execution_count": null,
   "id": "f2f985fa",
   "metadata": {},
   "outputs": [
    {
     "data": {
      "application/vnd.jupyter.widget-view+json": {
       "model_id": "988ab7ba47c446a19a5fe6709232229e",
       "version_major": 2,
       "version_minor": 0
      },
      "text/plain": [
       "interactive(children=(FloatSlider(value=1.0, description='length', max=3.0, min=0.1), FloatSlider(value=1.5, d…"
      ]
     },
     "metadata": {},
     "output_type": "display_data"
    },
    {
     "data": {
      "application/vnd.plotly.v1+json": {
       "config": {
        "plotlyServerURL": "https://plot.ly"
       },
       "data": [
        {
         "mode": "lines",
         "type": "scatter",
         "x": [
          -10,
          -9.9,
          -9.8,
          -9.700000000000001,
          -9.600000000000001,
          -9.500000000000002,
          -9.400000000000002,
          -9.300000000000002,
          -9.200000000000003,
          -9.100000000000003,
          -9.000000000000004,
          -8.900000000000004,
          -8.800000000000004,
          -8.700000000000005,
          -8.600000000000005,
          -8.500000000000005,
          -8.400000000000006,
          -8.300000000000006,
          -8.200000000000006,
          -8.100000000000007,
          -8.000000000000007,
          -7.9000000000000075,
          -7.800000000000008,
          -7.700000000000008,
          -7.6000000000000085,
          -7.500000000000009,
          -7.400000000000009,
          -7.30000000000001,
          -7.20000000000001,
          -7.10000000000001,
          -7.000000000000011,
          -6.900000000000011,
          -6.800000000000011,
          -6.700000000000012,
          -6.600000000000012,
          -6.500000000000012,
          -6.400000000000013,
          -6.300000000000013,
          -6.2000000000000135,
          -6.100000000000014,
          -6.000000000000014,
          -5.900000000000015,
          -5.800000000000015,
          -5.700000000000015,
          -5.600000000000016,
          -5.500000000000016,
          -5.400000000000016,
          -5.300000000000017,
          -5.200000000000017,
          -5.100000000000017,
          -5.000000000000018,
          -4.900000000000018,
          -4.8000000000000185,
          -4.700000000000019,
          -4.600000000000019,
          -4.5000000000000195,
          -4.40000000000002,
          -4.30000000000002,
          -4.200000000000021,
          -4.100000000000021,
          -4.000000000000021,
          -3.9000000000000217,
          -3.800000000000022,
          -3.7000000000000224,
          -3.6000000000000227,
          -3.500000000000023,
          -3.4000000000000234,
          -3.300000000000024,
          -3.200000000000024,
          -3.1000000000000245,
          -3.000000000000025,
          -2.9000000000000252,
          -2.8000000000000256,
          -2.700000000000026,
          -2.6000000000000263,
          -2.5000000000000266,
          -2.400000000000027,
          -2.3000000000000274,
          -2.2000000000000277,
          -2.100000000000028,
          -2.0000000000000284,
          -1.9000000000000288,
          -1.8000000000000291,
          -1.7000000000000295,
          -1.6000000000000298,
          -1.5000000000000302,
          -1.4000000000000306,
          -1.300000000000031,
          -1.2000000000000313,
          -1.1000000000000316,
          -1.000000000000032,
          -0.9000000000000323,
          -0.8000000000000327,
          -0.700000000000033,
          -0.6000000000000334,
          -0.5000000000000338,
          -0.4000000000000341,
          -0.30000000000003446,
          -0.20000000000003482,
          -0.10000000000003517,
          -3.552713678800501e-14,
          0.09999999999996412,
          0.19999999999996376,
          0.2999999999999634,
          0.39999999999996305,
          0.4999999999999627,
          0.5999999999999623,
          0.699999999999962,
          0.7999999999999616,
          0.8999999999999613,
          0.9999999999999609,
          1.0999999999999606,
          1.1999999999999602,
          1.2999999999999599,
          1.3999999999999595,
          1.4999999999999591,
          1.5999999999999588,
          1.6999999999999584,
          1.799999999999958,
          1.8999999999999577,
          1.9999999999999574,
          2.099999999999957,
          2.1999999999999567,
          2.2999999999999563,
          2.399999999999956,
          2.4999999999999556,
          2.5999999999999552,
          2.699999999999955,
          2.7999999999999545,
          2.899999999999954,
          2.999999999999954,
          3.0999999999999535,
          3.199999999999953,
          3.2999999999999527,
          3.3999999999999524,
          3.499999999999952,
          3.5999999999999517,
          3.6999999999999513,
          3.799999999999951,
          3.8999999999999506,
          3.9999999999999503,
          4.09999999999995,
          4.1999999999999496,
          4.299999999999949,
          4.399999999999949,
          4.4999999999999485,
          4.599999999999948,
          4.699999999999948,
          4.799999999999947,
          4.899999999999947,
          4.999999999999947,
          5.099999999999946,
          5.199999999999946,
          5.299999999999946,
          5.399999999999945,
          5.499999999999945,
          5.599999999999945,
          5.699999999999944,
          5.799999999999944,
          5.8999999999999435,
          5.999999999999943,
          6.099999999999945,
          6.1999999999999424,
          6.29999999999994,
          6.399999999999942,
          6.499999999999943,
          6.599999999999941,
          6.699999999999939,
          6.79999999999994,
          6.899999999999942,
          6.99999999999994,
          7.0999999999999375,
          7.199999999999939,
          7.29999999999994,
          7.399999999999938,
          7.499999999999936,
          7.5999999999999375,
          7.699999999999939,
          7.799999999999937,
          7.899999999999935,
          7.999999999999936,
          8.099999999999937,
          8.199999999999935,
          8.299999999999933,
          8.399999999999935,
          8.499999999999936,
          8.599999999999934,
          8.699999999999932,
          8.799999999999933,
          8.899999999999935,
          8.999999999999932,
          9.09999999999993,
          9.199999999999932,
          9.299999999999933,
          9.399999999999931,
          9.499999999999929,
          9.59999999999993,
          9.699999999999932,
          9.79999999999993,
          9.899999999999928
         ],
         "y": [
          5.504735201255525e-7,
          6.483850911872551e-7,
          7.636424173912881e-7,
          8.993044388017348e-7,
          0.0000010589667186528345,
          0.000001246855009343352,
          0.000001467935015926674,
          0.0000017280411371511577,
          0.0000020340274363130667,
          0.0000023939446455687074,
          0.000002817247650972019,
          0.0000033150386565248445,
          0.000003900352101553765,
          0.000004588488427180298,
          0.000005397404978205385,
          0.0000063481737138108505,
          0.000007465517015844949,
          0.000008778434763840004,
          0.000010320938033773476,
          0.000012132907321978158,
          0.000014261096153135251,
          0.000016760304367208576,
          0.000019694749369668004,
          0.000023139668258897972,
          0.00002718318911370069,
          0.00003192851594640037,
          0.000037496479034064174,
          0.00004402851068157067,
          0.00005169011611690992,
          0.00006067492036663461,
          0.00007120938483047216,
          0.00008355830212196766,
          0.00009803119485401568,
          0.00011498976374958753,
          0.00013485655311629014,
          0.00015812502775238005,
          0.00018537128521603418,
          0.0002172676616087142,
          0.0002545985281764579,
          0.000298278620762212,
          0.00034937429515677555,
          0.00040912815947304916,
          0.0004789876006549897,
          0.0005606377970434128,
          0.0006560398935332732,
          0.0007674751113029698,
          0.000897595671447062,
          0.001049483532188883,
          0.0012267180737643112,
          0.0014334540145701689,
          0.0016745110076595575,
          0.001955476548841852,
          0.0022828240268999503,
          0.00266404796271649,
          0.0031078187167169393,
          0.0036241591914353923,
          0.0042246463154599866,
          0.004922640362230577,
          0.00573354542579942,
          0.006675104636708228,
          0.0077677339421016725,
          0.009034898478159721,
          0.01050353570727598,
          0.012204529547293239,
          0.014173239646532986,
          0.016450089705774648,
          0.01908121825167943,
          0.02211919444213055,
          0.02562380022652369,
          0.029662878358729976,
          0.03431324319745894,
          0.039661647714342,
          0.045805795396050765,
          0.052855379437572285,
          0.06093312336047909,
          0.07017578643093084,
          0.08073508334878289,
          0.09277844982709665,
          0.10648956288428939,
          0.12206849569727488,
          0.1397313501923094,
          0.15970916430560939,
          0.18224583271892048,
          0.20759470702581442,
          0.23601345022299386,
          0.26775660686439934,
          0.3030652089129808,
          0.34215256184242787,
          0.3851851380048897,
          0.432257235060922,
          0.48335772459649085,
          0.5383268055581608,
          0.5968001712848731,
          0.6581373763165635,
          0.7213304237514794,
          0.7848876539574295,
          0.8466868622689407,
          0.9037901598990205,
          0.9522113614772205,
          0.986624564889698,
          1.0000000000000002,
          0.986624564889716,
          0.9522113614772503,
          0.9037901598990585,
          0.8466868622689833,
          0.7848876539574746,
          0.7213304237515245,
          0.6581373763166078,
          0.5968001712849158,
          0.538326805558201,
          0.4833577245965284,
          0.4322572350609569,
          0.3851851380049215,
          0.342152561842457,
          0.30306520891300714,
          0.2677566068644231,
          0.2360134502230152,
          0.20759470702583352,
          0.1822458327189375,
          0.15970916430562443,
          0.1397313501923227,
          0.12206849569728669,
          0.10648956288429978,
          0.0927784498271058,
          0.08073508334879093,
          0.07017578643093783,
          0.060933123360485245,
          0.05285537943757768,
          0.04580579539605541,
          0.039661647714346084,
          0.0343132431974625,
          0.029662878358733043,
          0.025623800226526376,
          0.022119194442132856,
          0.01908121825168143,
          0.016450089705776393,
          0.014173239646534485,
          0.012204529547294531,
          0.010503535707277106,
          0.009034898478160688,
          0.00776773394210251,
          0.006675104636708951,
          0.005733545425800038,
          0.004922640362231114,
          0.004224646315460449,
          0.003624159191435786,
          0.00310781871671728,
          0.0026640479627167805,
          0.0022828240269002,
          0.001955476548842067,
          0.0016745110076597438,
          0.0014334540145703293,
          0.0012267180737644467,
          0.0010494835321889994,
          0.0008975956714471614,
          0.0007674751113030547,
          0.0006560398935333472,
          0.0005606377970434754,
          0.0004789876006550432,
          0.00040912815947309454,
          0.0003493742951568146,
          0.000298278620762245,
          0.0002545985281764868,
          0.00021726766160873936,
          0.00018537128521605494,
          0.00015812502775239737,
          0.00013485655311630535,
          0.0001149897637496009,
          0.00009803119485402678,
          0.00008355830212197696,
          0.00007120938483048019,
          0.00006067492036664167,
          0.000051690116116915794,
          0.0000440285106815756,
          0.00003749647903406844,
          0.0000319285159464041,
          0.000027183189113703783,
          0.000023139668258900537,
          0.000019694749369670285,
          0.000016760304367210552,
          0.000014261096153136881,
          0.000012132907321979506,
          0.000010320938033774655,
          0.000008778434763841039,
          0.000007465517015845818,
          0.000006348173713811568,
          0.000005397404978206005,
          0.000004588488427180842,
          0.000003900352101554213,
          0.0000033150386565252227,
          0.000002817247650972348,
          0.0000023939446455689915,
          0.0000020340274363133017,
          0.0000017280411371513545,
          0.0000014679350159268457,
          0.0000012468550093435024,
          0.0000010589667186529586,
          8.993044388018371e-7,
          7.636424173913781e-7,
          6.483850911873312e-7
         ]
        }
       ],
       "layout": {
        "template": {
         "data": {
          "bar": [
           {
            "error_x": {
             "color": "#2a3f5f"
            },
            "error_y": {
             "color": "#2a3f5f"
            },
            "marker": {
             "line": {
              "color": "#E5ECF6",
              "width": 0.5
             },
             "pattern": {
              "fillmode": "overlay",
              "size": 10,
              "solidity": 0.2
             }
            },
            "type": "bar"
           }
          ],
          "barpolar": [
           {
            "marker": {
             "line": {
              "color": "#E5ECF6",
              "width": 0.5
             },
             "pattern": {
              "fillmode": "overlay",
              "size": 10,
              "solidity": 0.2
             }
            },
            "type": "barpolar"
           }
          ],
          "carpet": [
           {
            "aaxis": {
             "endlinecolor": "#2a3f5f",
             "gridcolor": "white",
             "linecolor": "white",
             "minorgridcolor": "white",
             "startlinecolor": "#2a3f5f"
            },
            "baxis": {
             "endlinecolor": "#2a3f5f",
             "gridcolor": "white",
             "linecolor": "white",
             "minorgridcolor": "white",
             "startlinecolor": "#2a3f5f"
            },
            "type": "carpet"
           }
          ],
          "choropleth": [
           {
            "colorbar": {
             "outlinewidth": 0,
             "ticks": ""
            },
            "type": "choropleth"
           }
          ],
          "contour": [
           {
            "colorbar": {
             "outlinewidth": 0,
             "ticks": ""
            },
            "colorscale": [
             [
              0,
              "#0d0887"
             ],
             [
              0.1111111111111111,
              "#46039f"
             ],
             [
              0.2222222222222222,
              "#7201a8"
             ],
             [
              0.3333333333333333,
              "#9c179e"
             ],
             [
              0.4444444444444444,
              "#bd3786"
             ],
             [
              0.5555555555555556,
              "#d8576b"
             ],
             [
              0.6666666666666666,
              "#ed7953"
             ],
             [
              0.7777777777777778,
              "#fb9f3a"
             ],
             [
              0.8888888888888888,
              "#fdca26"
             ],
             [
              1,
              "#f0f921"
             ]
            ],
            "type": "contour"
           }
          ],
          "contourcarpet": [
           {
            "colorbar": {
             "outlinewidth": 0,
             "ticks": ""
            },
            "type": "contourcarpet"
           }
          ],
          "heatmap": [
           {
            "colorbar": {
             "outlinewidth": 0,
             "ticks": ""
            },
            "colorscale": [
             [
              0,
              "#0d0887"
             ],
             [
              0.1111111111111111,
              "#46039f"
             ],
             [
              0.2222222222222222,
              "#7201a8"
             ],
             [
              0.3333333333333333,
              "#9c179e"
             ],
             [
              0.4444444444444444,
              "#bd3786"
             ],
             [
              0.5555555555555556,
              "#d8576b"
             ],
             [
              0.6666666666666666,
              "#ed7953"
             ],
             [
              0.7777777777777778,
              "#fb9f3a"
             ],
             [
              0.8888888888888888,
              "#fdca26"
             ],
             [
              1,
              "#f0f921"
             ]
            ],
            "type": "heatmap"
           }
          ],
          "heatmapgl": [
           {
            "colorbar": {
             "outlinewidth": 0,
             "ticks": ""
            },
            "colorscale": [
             [
              0,
              "#0d0887"
             ],
             [
              0.1111111111111111,
              "#46039f"
             ],
             [
              0.2222222222222222,
              "#7201a8"
             ],
             [
              0.3333333333333333,
              "#9c179e"
             ],
             [
              0.4444444444444444,
              "#bd3786"
             ],
             [
              0.5555555555555556,
              "#d8576b"
             ],
             [
              0.6666666666666666,
              "#ed7953"
             ],
             [
              0.7777777777777778,
              "#fb9f3a"
             ],
             [
              0.8888888888888888,
              "#fdca26"
             ],
             [
              1,
              "#f0f921"
             ]
            ],
            "type": "heatmapgl"
           }
          ],
          "histogram": [
           {
            "marker": {
             "pattern": {
              "fillmode": "overlay",
              "size": 10,
              "solidity": 0.2
             }
            },
            "type": "histogram"
           }
          ],
          "histogram2d": [
           {
            "colorbar": {
             "outlinewidth": 0,
             "ticks": ""
            },
            "colorscale": [
             [
              0,
              "#0d0887"
             ],
             [
              0.1111111111111111,
              "#46039f"
             ],
             [
              0.2222222222222222,
              "#7201a8"
             ],
             [
              0.3333333333333333,
              "#9c179e"
             ],
             [
              0.4444444444444444,
              "#bd3786"
             ],
             [
              0.5555555555555556,
              "#d8576b"
             ],
             [
              0.6666666666666666,
              "#ed7953"
             ],
             [
              0.7777777777777778,
              "#fb9f3a"
             ],
             [
              0.8888888888888888,
              "#fdca26"
             ],
             [
              1,
              "#f0f921"
             ]
            ],
            "type": "histogram2d"
           }
          ],
          "histogram2dcontour": [
           {
            "colorbar": {
             "outlinewidth": 0,
             "ticks": ""
            },
            "colorscale": [
             [
              0,
              "#0d0887"
             ],
             [
              0.1111111111111111,
              "#46039f"
             ],
             [
              0.2222222222222222,
              "#7201a8"
             ],
             [
              0.3333333333333333,
              "#9c179e"
             ],
             [
              0.4444444444444444,
              "#bd3786"
             ],
             [
              0.5555555555555556,
              "#d8576b"
             ],
             [
              0.6666666666666666,
              "#ed7953"
             ],
             [
              0.7777777777777778,
              "#fb9f3a"
             ],
             [
              0.8888888888888888,
              "#fdca26"
             ],
             [
              1,
              "#f0f921"
             ]
            ],
            "type": "histogram2dcontour"
           }
          ],
          "mesh3d": [
           {
            "colorbar": {
             "outlinewidth": 0,
             "ticks": ""
            },
            "type": "mesh3d"
           }
          ],
          "parcoords": [
           {
            "line": {
             "colorbar": {
              "outlinewidth": 0,
              "ticks": ""
             }
            },
            "type": "parcoords"
           }
          ],
          "pie": [
           {
            "automargin": true,
            "type": "pie"
           }
          ],
          "scatter": [
           {
            "fillpattern": {
             "fillmode": "overlay",
             "size": 10,
             "solidity": 0.2
            },
            "type": "scatter"
           }
          ],
          "scatter3d": [
           {
            "line": {
             "colorbar": {
              "outlinewidth": 0,
              "ticks": ""
             }
            },
            "marker": {
             "colorbar": {
              "outlinewidth": 0,
              "ticks": ""
             }
            },
            "type": "scatter3d"
           }
          ],
          "scattercarpet": [
           {
            "marker": {
             "colorbar": {
              "outlinewidth": 0,
              "ticks": ""
             }
            },
            "type": "scattercarpet"
           }
          ],
          "scattergeo": [
           {
            "marker": {
             "colorbar": {
              "outlinewidth": 0,
              "ticks": ""
             }
            },
            "type": "scattergeo"
           }
          ],
          "scattergl": [
           {
            "marker": {
             "colorbar": {
              "outlinewidth": 0,
              "ticks": ""
             }
            },
            "type": "scattergl"
           }
          ],
          "scattermapbox": [
           {
            "marker": {
             "colorbar": {
              "outlinewidth": 0,
              "ticks": ""
             }
            },
            "type": "scattermapbox"
           }
          ],
          "scatterpolar": [
           {
            "marker": {
             "colorbar": {
              "outlinewidth": 0,
              "ticks": ""
             }
            },
            "type": "scatterpolar"
           }
          ],
          "scatterpolargl": [
           {
            "marker": {
             "colorbar": {
              "outlinewidth": 0,
              "ticks": ""
             }
            },
            "type": "scatterpolargl"
           }
          ],
          "scatterternary": [
           {
            "marker": {
             "colorbar": {
              "outlinewidth": 0,
              "ticks": ""
             }
            },
            "type": "scatterternary"
           }
          ],
          "surface": [
           {
            "colorbar": {
             "outlinewidth": 0,
             "ticks": ""
            },
            "colorscale": [
             [
              0,
              "#0d0887"
             ],
             [
              0.1111111111111111,
              "#46039f"
             ],
             [
              0.2222222222222222,
              "#7201a8"
             ],
             [
              0.3333333333333333,
              "#9c179e"
             ],
             [
              0.4444444444444444,
              "#bd3786"
             ],
             [
              0.5555555555555556,
              "#d8576b"
             ],
             [
              0.6666666666666666,
              "#ed7953"
             ],
             [
              0.7777777777777778,
              "#fb9f3a"
             ],
             [
              0.8888888888888888,
              "#fdca26"
             ],
             [
              1,
              "#f0f921"
             ]
            ],
            "type": "surface"
           }
          ],
          "table": [
           {
            "cells": {
             "fill": {
              "color": "#EBF0F8"
             },
             "line": {
              "color": "white"
             }
            },
            "header": {
             "fill": {
              "color": "#C8D4E3"
             },
             "line": {
              "color": "white"
             }
            },
            "type": "table"
           }
          ]
         },
         "layout": {
          "annotationdefaults": {
           "arrowcolor": "#2a3f5f",
           "arrowhead": 0,
           "arrowwidth": 1
          },
          "autotypenumbers": "strict",
          "coloraxis": {
           "colorbar": {
            "outlinewidth": 0,
            "ticks": ""
           }
          },
          "colorscale": {
           "diverging": [
            [
             0,
             "#8e0152"
            ],
            [
             0.1,
             "#c51b7d"
            ],
            [
             0.2,
             "#de77ae"
            ],
            [
             0.3,
             "#f1b6da"
            ],
            [
             0.4,
             "#fde0ef"
            ],
            [
             0.5,
             "#f7f7f7"
            ],
            [
             0.6,
             "#e6f5d0"
            ],
            [
             0.7,
             "#b8e186"
            ],
            [
             0.8,
             "#7fbc41"
            ],
            [
             0.9,
             "#4d9221"
            ],
            [
             1,
             "#276419"
            ]
           ],
           "sequential": [
            [
             0,
             "#0d0887"
            ],
            [
             0.1111111111111111,
             "#46039f"
            ],
            [
             0.2222222222222222,
             "#7201a8"
            ],
            [
             0.3333333333333333,
             "#9c179e"
            ],
            [
             0.4444444444444444,
             "#bd3786"
            ],
            [
             0.5555555555555556,
             "#d8576b"
            ],
            [
             0.6666666666666666,
             "#ed7953"
            ],
            [
             0.7777777777777778,
             "#fb9f3a"
            ],
            [
             0.8888888888888888,
             "#fdca26"
            ],
            [
             1,
             "#f0f921"
            ]
           ],
           "sequentialminus": [
            [
             0,
             "#0d0887"
            ],
            [
             0.1111111111111111,
             "#46039f"
            ],
            [
             0.2222222222222222,
             "#7201a8"
            ],
            [
             0.3333333333333333,
             "#9c179e"
            ],
            [
             0.4444444444444444,
             "#bd3786"
            ],
            [
             0.5555555555555556,
             "#d8576b"
            ],
            [
             0.6666666666666666,
             "#ed7953"
            ],
            [
             0.7777777777777778,
             "#fb9f3a"
            ],
            [
             0.8888888888888888,
             "#fdca26"
            ],
            [
             1,
             "#f0f921"
            ]
           ]
          },
          "colorway": [
           "#636efa",
           "#EF553B",
           "#00cc96",
           "#ab63fa",
           "#FFA15A",
           "#19d3f3",
           "#FF6692",
           "#B6E880",
           "#FF97FF",
           "#FECB52"
          ],
          "font": {
           "color": "#2a3f5f"
          },
          "geo": {
           "bgcolor": "white",
           "lakecolor": "white",
           "landcolor": "#E5ECF6",
           "showlakes": true,
           "showland": true,
           "subunitcolor": "white"
          },
          "hoverlabel": {
           "align": "left"
          },
          "hovermode": "closest",
          "mapbox": {
           "style": "light"
          },
          "paper_bgcolor": "white",
          "plot_bgcolor": "#E5ECF6",
          "polar": {
           "angularaxis": {
            "gridcolor": "white",
            "linecolor": "white",
            "ticks": ""
           },
           "bgcolor": "#E5ECF6",
           "radialaxis": {
            "gridcolor": "white",
            "linecolor": "white",
            "ticks": ""
           }
          },
          "scene": {
           "xaxis": {
            "backgroundcolor": "#E5ECF6",
            "gridcolor": "white",
            "gridwidth": 2,
            "linecolor": "white",
            "showbackground": true,
            "ticks": "",
            "zerolinecolor": "white"
           },
           "yaxis": {
            "backgroundcolor": "#E5ECF6",
            "gridcolor": "white",
            "gridwidth": 2,
            "linecolor": "white",
            "showbackground": true,
            "ticks": "",
            "zerolinecolor": "white"
           },
           "zaxis": {
            "backgroundcolor": "#E5ECF6",
            "gridcolor": "white",
            "gridwidth": 2,
            "linecolor": "white",
            "showbackground": true,
            "ticks": "",
            "zerolinecolor": "white"
           }
          },
          "shapedefaults": {
           "line": {
            "color": "#2a3f5f"
           }
          },
          "ternary": {
           "aaxis": {
            "gridcolor": "white",
            "linecolor": "white",
            "ticks": ""
           },
           "baxis": {
            "gridcolor": "white",
            "linecolor": "white",
            "ticks": ""
           },
           "bgcolor": "#E5ECF6",
           "caxis": {
            "gridcolor": "white",
            "linecolor": "white",
            "ticks": ""
           }
          },
          "title": {
           "x": 0.05
          },
          "xaxis": {
           "automargin": true,
           "gridcolor": "white",
           "linecolor": "white",
           "ticks": "",
           "title": {
            "standoff": 15
           },
           "zerolinecolor": "white",
           "zerolinewidth": 2
          },
          "yaxis": {
           "automargin": true,
           "gridcolor": "white",
           "linecolor": "white",
           "ticks": "",
           "title": {
            "standoff": 15
           },
           "zerolinecolor": "white",
           "zerolinewidth": 2
          }
         }
        },
        "title": {
         "text": "Matérn Kernel"
        }
       }
      }
     },
     "metadata": {},
     "output_type": "display_data"
    }
   ],
   "source": [
    "x_lines = np.arange(-10, 10, 0.1)\n",
    "\n",
    "# Initialize with default parameters for the Matérn kernel\n",
    "kernel = MaternKernel()\n",
    "\n",
    "# Create the initial plot\n",
    "fig0 = go.Figure(data=[\n",
    "    go.Scatter(\n",
    "        x=x_lines,\n",
    "        y=[kernel(x, 0) for x in x_lines],\n",
    "        mode='lines'\n",
    "    )\n",
    "])\n",
    "\n",
    "# Update the layout for clarity\n",
    "fig0.update_layout(title='Matérn Kernel')\n",
    "\n",
    "# Define the update function for interact\n",
    "@interact(length=(0.1, 3, 0.1), nu=(0.5, 5.0, 0.5), argument_2=(-10, 10, 0.1))\n",
    "def update(length=1.0, nu=1.5, argument_2=0):\n",
    "    kernel = MaternKernel(length=length, nu=nu)\n",
    "    fig0.data[0].y = [kernel(x, argument_2) for x in x_lines]\n",
    "    fig0.show()"
   ]
  },
  {
   "cell_type": "markdown",
   "id": "613a3946",
   "metadata": {},
   "source": [
    "In the practical implementation of the GPR one will face a couple of stability problems. Among others, numeric approximations in dealing with matrix (operations) may lead to non-invertible/non-positive-semi-definite covariance matrices which result in errors when calculating the GPR. This is not done in the paper but seems to be common practice so I include it nevertheless. We will talk about this more later on when we actually use GPR for our fast derivative pricing.\n",
    "\n",
    "In order to prevent this error we add the _machine epsilon_ to the diagonal of the later covariance matrix:"
   ]
  },
  {
   "cell_type": "code",
   "execution_count": 6,
   "id": "517a082d",
   "metadata": {},
   "outputs": [
    {
     "name": "stdout",
     "output_type": "stream",
     "text": [
      "2.220446049250313e-16\n",
      "1.1920929e-07\n"
     ]
    }
   ],
   "source": [
    "print(np.finfo(float).eps)\n",
    "# 2.22044604925e-16\n",
    "\n",
    "print(np.finfo(np.float32).eps)\n",
    "# 1.19209e-07"
   ]
  },
  {
   "cell_type": "markdown",
   "id": "18f81bfc",
   "metadata": {},
   "source": [
    "Let us shortly recall the formula:\n",
    "Given training points $x_1,...,x_n\\in \\mathbb{R}^m$ with values $y_1,...,y_n\\in \\mathbb{R}$, $y = (y_i)\\in \\mathbb{R}^n$ with noise in each point $\\mathcal{N}_{0,\\sigma}$  and points $x_{n+1},...,x_k\\in \\mathbb{R}^m$ for which we want to predict the output, adapting our probability distribution leads to:\n",
    "\n",
    "$$\\mathcal{N}(K_*K^{-1}y,K_{**}-K_*K^{-1}K_*^T)$$\n",
    "with \n",
    "$$K= (k(x_i,x_j))_{i,j\\leq n}+\\sigma^2*\\mathbb{1}_n$$\n",
    "$$K_*= (k(x_i,x_j))_{n+1\\leq i, j\\leq n}$$\n",
    "$$K_{**}= (k(x_i,x_j))_{n+1\\leq i,j}$$"
   ]
  },
  {
   "cell_type": "code",
   "execution_count": 7,
   "id": "06c65a7a",
   "metadata": {},
   "outputs": [],
   "source": [
    "# Helper function to calculate the respective covariance matrices\n",
    "def cov_matrix(x1, x2, cov_function) -> np.array:\n",
    "    return np.array([[cov_function(a, b) for a in x1] for b in x2])"
   ]
  },
  {
   "cell_type": "code",
   "execution_count": 8,
   "id": "d9bdfc5b",
   "metadata": {},
   "outputs": [],
   "source": [
    "class GPR:\n",
    "    def __init__(self,\n",
    "                 data_x: np.array,\n",
    "                 data_y: np.array,\n",
    "                 covariance_function=SquaredExponentialKernel(),\n",
    "                 white_noise_sigma: float = 0):\n",
    "        self.noise = white_noise_sigma\n",
    "        self.data_x = data_x\n",
    "        self.data_y = data_y\n",
    "        self.covariance_function = covariance_function\n",
    "\n",
    "        # Store the inverse of covariance matrix of input (+ machine epsilon on diagonal) since it is needed for every prediction\n",
    "        self._inverse_of_covariance_matrix_of_input = np.linalg.inv(\n",
    "            cov_matrix(data_x, data_x, covariance_function) +\n",
    "            (3e-7 + self.noise) * np.identity(len(self.data_x)))\n",
    "\n",
    "        self._memory = None # will later store a dictionary containing the mean, covariance matrix, and variance of the predictions.\n",
    "\n",
    "    # function to predict output at new input values. Store the mean and covariance matrix in memory.\n",
    "\n",
    "    def predict(self, at_values: np.array) -> np.array:\n",
    "        X = cov_matrix(self.data_x, at_values,\n",
    "                                  self.covariance_function) #This line calculates a covariance matrix by applying the kernel to pairs of points between \n",
    "                                                            #self.data_x (the training inputs) and at_values (the new inputs where predictions are required).\n",
    "                                                            #Corresponds to X in the paper.\n",
    "        X_star = cov_matrix(at_values, at_values,\n",
    "                                   self.covariance_function)#In the predict function, X_star represents the covariance between the new data points (at_values)\n",
    "                                                            #with themselves. This covariance provides information about the internal structure or relationships within\n",
    "                                                            #the new points alone, without reference to the training data points. Corresponds to X    * in the paper.\n",
    "\n",
    "        # Mean.\n",
    "        mean_at_values = np.dot(\n",
    "            X,\n",
    "            np.dot(self.data_y,\n",
    "                   self._inverse_of_covariance_matrix_of_input.T).T).flatten()\n",
    "\n",
    "        # Covariance.\n",
    "        cov_at_values = X_star - \\\n",
    "            np.dot(X, np.dot(\n",
    "                self._inverse_of_covariance_matrix_of_input, X.T))\n",
    "\n",
    "        # Adding value larger than machine epsilon to ensure positive semi definite\n",
    "        cov_at_values = cov_at_values + 3e-7 * np.ones(\n",
    "            np.shape(cov_at_values)[0])\n",
    "\n",
    "        var_at_values = np.diag(cov_at_values)\n",
    "\n",
    "        self._memory = {\n",
    "            'mean': mean_at_values,\n",
    "            'covariance_matrix': cov_at_values,\n",
    "            'variance': var_at_values\n",
    "        }\n",
    "        return mean_at_values"
   ]
  },
  {
   "cell_type": "markdown",
   "id": "9e6b586e",
   "metadata": {},
   "source": [
    "That's it. The GPR is ready to be used! "
   ]
  },
  {
   "cell_type": "markdown",
   "id": "a5e2f744",
   "metadata": {},
   "source": [
    "## Testing"
   ]
  },
  {
   "cell_type": "markdown",
   "id": "decbe1a4",
   "metadata": {},
   "source": [
    "Let us initialize our GPR on a random training set and visualize the GPR. "
   ]
  },
  {
   "cell_type": "markdown",
   "id": "4a9aa377",
   "metadata": {},
   "source": [
    "### Initializing training data"
   ]
  },
  {
   "cell_type": "code",
   "execution_count": 9,
   "id": "12f59452",
   "metadata": {},
   "outputs": [],
   "source": [
    "x_values = np.array([0, 0.3, 1, 3.1, 4.7])\n",
    "\n",
    "y_values = np.array([1, 0, 1.4, 0, -0.9])"
   ]
  },
  {
   "cell_type": "code",
   "execution_count": 10,
   "id": "baf9cac1",
   "metadata": {},
   "outputs": [],
   "source": [
    "x = np.arange(-1,7,0.1)"
   ]
  },
  {
   "cell_type": "markdown",
   "id": "8410f233",
   "metadata": {},
   "source": [
    "### Plot the output"
   ]
  },
  {
   "cell_type": "markdown",
   "id": "fe426230",
   "metadata": {},
   "source": [
    "Let us define a helper function which returns a list of all plots of data points, mean, etc. needed to plot a GPR."
   ]
  },
  {
   "cell_type": "code",
   "execution_count": 11,
   "id": "b99b06c2",
   "metadata": {},
   "outputs": [],
   "source": [
    "def plot_GPR(data_x, data_y, model, x, visible=True) -> list:\n",
    "    mean = model.predict(x)\n",
    "\n",
    "    std = np.sqrt(model._memory['variance'])\n",
    "    data = []\n",
    "\n",
    "    for i in range(1, 4):\n",
    "        data.append(\n",
    "            uncertainty_area_scatter(\n",
    "                x_lines=x,\n",
    "                y_lower=mean - i * std,\n",
    "                y_upper=mean + i * std,\n",
    "                name=f\"mean plus/minus {i}*standard deviation\",\n",
    "                visible=visible))\n",
    "\n",
    "    data.append(line_scatter(x_lines=x, y_lines=mean, visible=visible))\n",
    "    data.append(dot_scatter(x_dots=data_x, y_dots=data_y, visible=visible))\n",
    "    return data"
   ]
  },
  {
   "cell_type": "markdown",
   "id": "51cd9df1",
   "metadata": {},
   "source": [
    "Now, we can visualize our first GPR."
   ]
  },
  {
   "cell_type": "code",
   "execution_count": 12,
   "id": "9a82c61f",
   "metadata": {},
   "outputs": [
    {
     "data": {
      "application/vnd.plotly.v1+json": {
       "config": {
        "plotlyServerURL": "https://plot.ly"
       },
       "data": [
        {
         "fill": "toself",
         "fillcolor": "rgba(189,195,199,0.5)",
         "hoverinfo": "skip",
         "line": {
          "color": "rgba(200,200,200,0)"
         },
         "name": "mean plus/minus 1*standard deviation",
         "showlegend": true,
         "type": "scatter",
         "visible": true,
         "x": [
          -1,
          -0.9,
          -0.8,
          -0.7000000000000001,
          -0.6000000000000001,
          -0.5000000000000001,
          -0.40000000000000013,
          -0.30000000000000016,
          -0.20000000000000018,
          -0.1000000000000002,
          -2.220446049250313e-16,
          0.09999999999999964,
          0.19999999999999973,
          0.2999999999999998,
          0.3999999999999997,
          0.49999999999999956,
          0.5999999999999996,
          0.6999999999999997,
          0.7999999999999996,
          0.8999999999999995,
          0.9999999999999996,
          1.0999999999999996,
          1.1999999999999993,
          1.2999999999999994,
          1.3999999999999995,
          1.4999999999999996,
          1.5999999999999996,
          1.6999999999999993,
          1.7999999999999994,
          1.8999999999999995,
          1.9999999999999991,
          2.099999999999999,
          2.1999999999999993,
          2.2999999999999994,
          2.3999999999999995,
          2.499999999999999,
          2.599999999999999,
          2.6999999999999993,
          2.799999999999999,
          2.899999999999999,
          2.999999999999999,
          3.0999999999999988,
          3.1999999999999993,
          3.299999999999999,
          3.3999999999999986,
          3.499999999999999,
          3.5999999999999988,
          3.6999999999999993,
          3.799999999999999,
          3.8999999999999986,
          3.999999999999999,
          4.099999999999999,
          4.199999999999999,
          4.299999999999999,
          4.399999999999999,
          4.499999999999999,
          4.599999999999999,
          4.699999999999998,
          4.799999999999999,
          4.899999999999999,
          4.999999999999998,
          5.099999999999999,
          5.199999999999998,
          5.299999999999999,
          5.399999999999999,
          5.499999999999998,
          5.599999999999999,
          5.699999999999998,
          5.799999999999999,
          5.899999999999999,
          5.999999999999998,
          6.099999999999999,
          6.199999999999998,
          6.299999999999998,
          6.399999999999999,
          6.499999999999998,
          6.599999999999998,
          6.699999999999998,
          6.799999999999998,
          6.899999999999999,
          6.899999999999999,
          6.799999999999998,
          6.699999999999998,
          6.599999999999998,
          6.499999999999998,
          6.399999999999999,
          6.299999999999998,
          6.199999999999998,
          6.099999999999999,
          5.999999999999998,
          5.899999999999999,
          5.799999999999999,
          5.699999999999998,
          5.599999999999999,
          5.499999999999998,
          5.399999999999999,
          5.299999999999999,
          5.199999999999998,
          5.099999999999999,
          4.999999999999998,
          4.899999999999999,
          4.799999999999999,
          4.699999999999998,
          4.599999999999999,
          4.499999999999999,
          4.399999999999999,
          4.299999999999999,
          4.199999999999999,
          4.099999999999999,
          3.999999999999999,
          3.8999999999999986,
          3.799999999999999,
          3.6999999999999993,
          3.5999999999999988,
          3.499999999999999,
          3.3999999999999986,
          3.299999999999999,
          3.1999999999999993,
          3.0999999999999988,
          2.999999999999999,
          2.899999999999999,
          2.799999999999999,
          2.6999999999999993,
          2.599999999999999,
          2.499999999999999,
          2.3999999999999995,
          2.2999999999999994,
          2.1999999999999993,
          2.099999999999999,
          1.9999999999999991,
          1.8999999999999995,
          1.7999999999999994,
          1.6999999999999993,
          1.5999999999999996,
          1.4999999999999996,
          1.3999999999999995,
          1.2999999999999994,
          1.1999999999999993,
          1.0999999999999996,
          0.9999999999999996,
          0.8999999999999995,
          0.7999999999999996,
          0.6999999999999997,
          0.5999999999999996,
          0.49999999999999956,
          0.3999999999999997,
          0.2999999999999998,
          0.19999999999999973,
          0.09999999999999964,
          -2.220446049250313e-16,
          -0.1000000000000002,
          -0.20000000000000018,
          -0.30000000000000016,
          -0.40000000000000013,
          -0.5000000000000001,
          -0.6000000000000001,
          -0.7000000000000001,
          -0.8,
          -0.9,
          -1
         ],
         "y": [
          5.2622471803783535,
          5.1329315795017365,
          4.907301926119219,
          4.58830398421441,
          4.18409343128384,
          3.7080220411599933,
          3.1782428507071296,
          2.6169294968281087,
          2.0491400337665917,
          1.5013935020956715,
          1.0007610617595835,
          0.5832881893399903,
          0.2433098213014182,
          0.0007923226802556155,
          -0.11287861389549969,
          -0.10478859172418571,
          0.020532736528491875,
          0.25251061430682276,
          0.5745792567789582,
          0.9653375032803044,
          1.4007684651097334,
          1.9085389821331085,
          2.425297828458333,
          2.923236153660474,
          3.377205797557666,
          3.765350660371861,
          4.070173325318333,
          4.279240071939237,
          4.3855022856772905,
          4.38724693617039,
          4.287717693502854,
          4.094470152243088,
          3.8185382605380416,
          3.47349409687749,
          3.07448023913477,
          2.6372845268314307,
          2.177512920311312,
          1.7098995064194125,
          1.2477755208694203,
          0.8027033178574223,
          0.3842681526877324,
          0.0007749850160659509,
          -0.18451847594818496,
          -0.332995541894484,
          -0.44871037600913144,
          -0.535964290144533,
          -0.5996647588727309,
          -0.6449480701398553,
          -0.6768479202000759,
          -0.7000222230996822,
          -0.7185447986563285,
          -0.7357639113308722,
          -0.7542256504588656,
          -0.7756569035088543,
          -0.8010001844104371,
          -0.8304907957860328,
          -0.8637653833963143,
          -0.8992252357511616,
          -0.7583850954328242,
          -0.6135194953276523,
          -0.4681297025150037,
          -0.32466415666037685,
          -0.18526115216127237,
          -0.05173055359502543,
          0.07445804464591121,
          0.19217886652041455,
          0.3006441642669462,
          0.39938868781043013,
          0.4882447314012437,
          0.5673088139968467,
          0.6369017264811653,
          0.6975242145427527,
          0.749810893998122,
          0.794485068812333,
          0.832316923215527,
          0.8640871069690197,
          0.8905570857532823,
          0.9124468803338945,
          0.9304200811657818,
          0.9450754072048752,
          -1.0463496528479335,
          -1.0563932158353904,
          -1.067668231619064,
          -1.0800349355184538,
          -1.0932496534806502,
          -1.1069534951530464,
          -1.1206680504527442,
          -1.1338002086567363,
          -1.1456576355155557,
          -1.1554755848063558,
          -1.1624546713140522,
          -1.1658080993789655,
          -1.1648157342143661,
          -1.158881420888219,
          -1.147589181080041,
          -1.1307534177240655,
          -1.108458085479793,
          -1.081079979131816,
          -1.0492918738271175,
          -1.0140422225058014,
          -0.9765094742491512,
          -0.9380310751130965,
          -0.9007744289634545,
          -1.0353685172699523,
          -1.1612691607735344,
          -1.2742975063575115,
          -1.3708839501688013,
          -1.4473408516231603,
          -1.499907942533219,
          -1.5248080983695333,
          -1.5183171967598847,
          -1.4768525371827674,
          -1.3970841909499099,
          -1.2760728637518393,
          -1.111436294876017,
          -0.9015438199551765,
          -0.6457355043705227,
          -0.3445586282096801,
          -0.0007742081910669573,
          0.22242550901677557,
          0.48280197493111743,
          0.7790046995329901,
          1.1065077544650197,
          1.4582472195644998,
          1.8246466498592544,
          2.1938207962176026,
          2.551973467244838,
          2.8839917490955975,
          3.1742226488067193,
          3.4074003186310566,
          3.5696738383186837,
          3.649668947143248,
          3.6395041901999408,
          3.535674695315965,
          3.339716931789277,
          3.0585764234031014,
          2.7046177441769164,
          2.295241376516174,
          1.8521022130938298,
          1.3992192725587616,
          0.9270525771470925,
          0.5157135918242116,
          0.18885671672126714,
          -0.03521452842013874,
          -0.14404480761398156,
          -0.13188232648822085,
          -0.0007568649732912786,
          0.23076425222159513,
          0.569438878105304,
          0.9992118718834244,
          1.4695199799379304,
          1.965699625783457,
          2.461659857376032,
          2.9316820389242464,
          3.3526468091169646,
          3.7052784050831207,
          3.9750358457869934,
          4.152613396583469,
          4.234045982846483,
          4.220448458983969
         ]
        },
        {
         "fill": "toself",
         "fillcolor": "rgba(189,195,199,0.5)",
         "hoverinfo": "skip",
         "line": {
          "color": "rgba(200,200,200,0)"
         },
         "name": "mean plus/minus 2*standard deviation",
         "showlegend": true,
         "type": "scatter",
         "visible": true,
         "x": [
          -1,
          -0.9,
          -0.8,
          -0.7000000000000001,
          -0.6000000000000001,
          -0.5000000000000001,
          -0.40000000000000013,
          -0.30000000000000016,
          -0.20000000000000018,
          -0.1000000000000002,
          -2.220446049250313e-16,
          0.09999999999999964,
          0.19999999999999973,
          0.2999999999999998,
          0.3999999999999997,
          0.49999999999999956,
          0.5999999999999996,
          0.6999999999999997,
          0.7999999999999996,
          0.8999999999999995,
          0.9999999999999996,
          1.0999999999999996,
          1.1999999999999993,
          1.2999999999999994,
          1.3999999999999995,
          1.4999999999999996,
          1.5999999999999996,
          1.6999999999999993,
          1.7999999999999994,
          1.8999999999999995,
          1.9999999999999991,
          2.099999999999999,
          2.1999999999999993,
          2.2999999999999994,
          2.3999999999999995,
          2.499999999999999,
          2.599999999999999,
          2.6999999999999993,
          2.799999999999999,
          2.899999999999999,
          2.999999999999999,
          3.0999999999999988,
          3.1999999999999993,
          3.299999999999999,
          3.3999999999999986,
          3.499999999999999,
          3.5999999999999988,
          3.6999999999999993,
          3.799999999999999,
          3.8999999999999986,
          3.999999999999999,
          4.099999999999999,
          4.199999999999999,
          4.299999999999999,
          4.399999999999999,
          4.499999999999999,
          4.599999999999999,
          4.699999999999998,
          4.799999999999999,
          4.899999999999999,
          4.999999999999998,
          5.099999999999999,
          5.199999999999998,
          5.299999999999999,
          5.399999999999999,
          5.499999999999998,
          5.599999999999999,
          5.699999999999998,
          5.799999999999999,
          5.899999999999999,
          5.999999999999998,
          6.099999999999999,
          6.199999999999998,
          6.299999999999998,
          6.399999999999999,
          6.499999999999998,
          6.599999999999998,
          6.699999999999998,
          6.799999999999998,
          6.899999999999999,
          6.899999999999999,
          6.799999999999998,
          6.699999999999998,
          6.599999999999998,
          6.499999999999998,
          6.399999999999999,
          6.299999999999998,
          6.199999999999998,
          6.099999999999999,
          5.999999999999998,
          5.899999999999999,
          5.799999999999999,
          5.699999999999998,
          5.599999999999999,
          5.499999999999998,
          5.399999999999999,
          5.299999999999999,
          5.199999999999998,
          5.099999999999999,
          4.999999999999998,
          4.899999999999999,
          4.799999999999999,
          4.699999999999998,
          4.599999999999999,
          4.499999999999999,
          4.399999999999999,
          4.299999999999999,
          4.199999999999999,
          4.099999999999999,
          3.999999999999999,
          3.8999999999999986,
          3.799999999999999,
          3.6999999999999993,
          3.5999999999999988,
          3.499999999999999,
          3.3999999999999986,
          3.299999999999999,
          3.1999999999999993,
          3.0999999999999988,
          2.999999999999999,
          2.899999999999999,
          2.799999999999999,
          2.6999999999999993,
          2.599999999999999,
          2.499999999999999,
          2.3999999999999995,
          2.2999999999999994,
          2.1999999999999993,
          2.099999999999999,
          1.9999999999999991,
          1.8999999999999995,
          1.7999999999999994,
          1.6999999999999993,
          1.5999999999999996,
          1.4999999999999996,
          1.3999999999999995,
          1.2999999999999994,
          1.1999999999999993,
          1.0999999999999996,
          0.9999999999999996,
          0.8999999999999995,
          0.7999999999999996,
          0.6999999999999997,
          0.5999999999999996,
          0.49999999999999956,
          0.3999999999999997,
          0.2999999999999998,
          0.19999999999999973,
          0.09999999999999964,
          -2.220446049250313e-16,
          -0.1000000000000002,
          -0.20000000000000018,
          -0.30000000000000016,
          -0.40000000000000013,
          -0.5000000000000001,
          -0.6000000000000001,
          -0.7000000000000001,
          -0.8,
          -0.9,
          -1
         ],
         "y": [
          5.783146541075546,
          5.582374377829362,
          5.284646190887094,
          4.894938053428119,
          4.423500944384199,
          3.8857096571815077,
          3.3015232565985717,
          2.6945643165541475,
          2.090860237758159,
          1.517330263174542,
          1.001535656697663,
          0.5902128449573334,
          0.24958260584132974,
          0.0015669165070290626,
          -0.10337675759913913,
          -0.08516048377928778,
          0.04840636900280718,
          0.28433756309960057,
          0.6040120892563313,
          0.9844799663469103,
          1.4015430613852193,
          1.9367573666527476,
          2.490326054429412,
          3.0325453584022526,
          3.536520484634948,
          3.9781675246631534,
          4.337422640319517,
          4.599108012808886,
          4.753418954944311,
          4.796033485096244,
          4.727876380938753,
          4.554593903961273,
          4.285811516259264,
          3.934254411693816,
          3.5148099605933534,
          3.043603465317519,
          2.537145770684718,
          2.011595382396609,
          1.4821609315376356,
          0.9626539893205748,
          0.46518947452321086,
          0.001549581619632405,
          -0.10449839981743742,
          -0.17662556065646456,
          -0.22229365403610896,
          -0.2482282877787908,
          -0.26146070643317654,
          -0.2688800097348282,
          -0.2768456117087301,
          -0.29087473626958105,
          -0.31541314879972604,
          -0.35369189572969884,
          -0.4076680498767181,
          -0.47804338017888093,
          -0.5643515234369,
          -0.665101613292282,
          -0.7779638164594952,
          -0.8984506391450153,
          -0.6685621055926879,
          -0.4320245058669028,
          -0.19517344251960478,
          0.03764970192299344,
          0.26264826132399943,
          0.47663321234735834,
          0.6770637758308995,
          0.8620628903206422,
          1.0304069568445287,
          1.1814908988228283,
          1.3152711467913483,
          1.432190556652296,
          1.5330903821249258,
          1.619115139571907,
          1.6916164453255509,
          1.7520616284448716,
          1.8019521323998136,
          1.8427554871938547,
          1.8758530963891504,
          1.9025044363103738,
          1.923826729666368,
          1.9407879372312793,
          -2.0420621828743375,
          -2.0497998643359767,
          -2.0577257875955435,
          -2.065330946154322,
          -2.071918033705485,
          -2.076588704337333,
          -2.078244610085283,
          -2.0756057599841653,
          -2.06724856054471,
          -2.0516642404501164,
          -2.027336413969502,
          -1.99283451476907,
          -1.9469179452267644,
          -1.8886442134658017,
          -1.8174732048802686,
          -1.7333591489090536,
          -1.6368218514221766,
          -1.5289893926170879,
          -1.4116057324104876,
          -1.2869984825012004,
          -1.1580044637099007,
          -1.0278540649532326,
          -0.9015490255696008,
          -1.1211700842067711,
          -1.3266583432672852,
          -1.5109461673310487,
          -1.6684974734987748,
          -1.7938984522053079,
          -1.8819799581343921,
          -1.9279397482261358,
          -1.927464683589986,
          -1.8768548456741132,
          -1.773152251354937,
          -1.6142769161913937,
          -1.3991722972417593,
          -1.127960541928199,
          -0.8021054856085421,
          -0.4245787043404276,
          -0.0015488047946334114,
          0.14150418718129715,
          0.322851303467965,
          0.544619288864775,
          0.8048118784878233,
          1.0986143691910937,
          1.418327711373166,
          1.7534910747590193,
          2.0912131524285122,
          2.4167184933743755,
          2.714098897088535,
          2.9672416311951584,
          3.16088728939283,
          3.2817522778762265,
          3.319636249330293,
          3.268425380314781,
          3.1269000674979845,
          2.8992617363258195,
          2.5953085394351376,
          2.230213150545095,
          1.8238838285741907,
          1.3984446762832756,
          0.9079101140804867,
          0.48628075934683845,
          0.1570297679284893,
          -0.06308816089445404,
          -0.1636729155588795,
          -0.14138418278458142,
          -0.0015314588000647257,
          0.2244914676816836,
          0.5625142224879609,
          0.9984372769453449,
          1.4535832188590598,
          1.9239794217918893,
          2.384025037649993,
          2.8084016330328043,
          3.17495919309545,
          3.465870891982761,
          3.668401776573285,
          3.7752691318155938,
          3.7846031845188572,
          3.699549098286777
         ]
        },
        {
         "fill": "toself",
         "fillcolor": "rgba(189,195,199,0.5)",
         "hoverinfo": "skip",
         "line": {
          "color": "rgba(200,200,200,0)"
         },
         "name": "mean plus/minus 3*standard deviation",
         "showlegend": true,
         "type": "scatter",
         "visible": true,
         "x": [
          -1,
          -0.9,
          -0.8,
          -0.7000000000000001,
          -0.6000000000000001,
          -0.5000000000000001,
          -0.40000000000000013,
          -0.30000000000000016,
          -0.20000000000000018,
          -0.1000000000000002,
          -2.220446049250313e-16,
          0.09999999999999964,
          0.19999999999999973,
          0.2999999999999998,
          0.3999999999999997,
          0.49999999999999956,
          0.5999999999999996,
          0.6999999999999997,
          0.7999999999999996,
          0.8999999999999995,
          0.9999999999999996,
          1.0999999999999996,
          1.1999999999999993,
          1.2999999999999994,
          1.3999999999999995,
          1.4999999999999996,
          1.5999999999999996,
          1.6999999999999993,
          1.7999999999999994,
          1.8999999999999995,
          1.9999999999999991,
          2.099999999999999,
          2.1999999999999993,
          2.2999999999999994,
          2.3999999999999995,
          2.499999999999999,
          2.599999999999999,
          2.6999999999999993,
          2.799999999999999,
          2.899999999999999,
          2.999999999999999,
          3.0999999999999988,
          3.1999999999999993,
          3.299999999999999,
          3.3999999999999986,
          3.499999999999999,
          3.5999999999999988,
          3.6999999999999993,
          3.799999999999999,
          3.8999999999999986,
          3.999999999999999,
          4.099999999999999,
          4.199999999999999,
          4.299999999999999,
          4.399999999999999,
          4.499999999999999,
          4.599999999999999,
          4.699999999999998,
          4.799999999999999,
          4.899999999999999,
          4.999999999999998,
          5.099999999999999,
          5.199999999999998,
          5.299999999999999,
          5.399999999999999,
          5.499999999999998,
          5.599999999999999,
          5.699999999999998,
          5.799999999999999,
          5.899999999999999,
          5.999999999999998,
          6.099999999999999,
          6.199999999999998,
          6.299999999999998,
          6.399999999999999,
          6.499999999999998,
          6.599999999999998,
          6.699999999999998,
          6.799999999999998,
          6.899999999999999,
          6.899999999999999,
          6.799999999999998,
          6.699999999999998,
          6.599999999999998,
          6.499999999999998,
          6.399999999999999,
          6.299999999999998,
          6.199999999999998,
          6.099999999999999,
          5.999999999999998,
          5.899999999999999,
          5.799999999999999,
          5.699999999999998,
          5.599999999999999,
          5.499999999999998,
          5.399999999999999,
          5.299999999999999,
          5.199999999999998,
          5.099999999999999,
          4.999999999999998,
          4.899999999999999,
          4.799999999999999,
          4.699999999999998,
          4.599999999999999,
          4.499999999999999,
          4.399999999999999,
          4.299999999999999,
          4.199999999999999,
          4.099999999999999,
          3.999999999999999,
          3.8999999999999986,
          3.799999999999999,
          3.6999999999999993,
          3.5999999999999988,
          3.499999999999999,
          3.3999999999999986,
          3.299999999999999,
          3.1999999999999993,
          3.0999999999999988,
          2.999999999999999,
          2.899999999999999,
          2.799999999999999,
          2.6999999999999993,
          2.599999999999999,
          2.499999999999999,
          2.3999999999999995,
          2.2999999999999994,
          2.1999999999999993,
          2.099999999999999,
          1.9999999999999991,
          1.8999999999999995,
          1.7999999999999994,
          1.6999999999999993,
          1.5999999999999996,
          1.4999999999999996,
          1.3999999999999995,
          1.2999999999999994,
          1.1999999999999993,
          1.0999999999999996,
          0.9999999999999996,
          0.8999999999999995,
          0.7999999999999996,
          0.6999999999999997,
          0.5999999999999996,
          0.49999999999999956,
          0.3999999999999997,
          0.2999999999999998,
          0.19999999999999973,
          0.09999999999999964,
          -2.220446049250313e-16,
          -0.1000000000000002,
          -0.20000000000000018,
          -0.30000000000000016,
          -0.40000000000000013,
          -0.5000000000000001,
          -0.6000000000000001,
          -0.7000000000000001,
          -0.8,
          -0.9,
          -1
         ],
         "y": [
          6.304045901772738,
          6.031817176156989,
          5.661990455654969,
          5.201572122641827,
          4.6629084574845585,
          4.063397273203022,
          3.4248036624900133,
          2.772199136280186,
          2.132580441749727,
          1.5332670242534125,
          1.0023102516357425,
          0.5971375005746765,
          0.2558553903812413,
          0.0023415103338025097,
          -0.09387490130277856,
          -0.06553237583438987,
          0.0762800014771225,
          0.31616451189237843,
          0.6334449217337046,
          1.003622429413516,
          1.402317657660705,
          1.9649757511723869,
          2.5553542804004916,
          3.1418545631440318,
          3.6958351717122304,
          4.190984388954446,
          4.6046719553207005,
          4.918975953678533,
          5.121335624211333,
          5.204820034022097,
          5.1680350683746505,
          5.014717655679457,
          4.753084771980485,
          4.3950147265101425,
          3.9551396820519367,
          3.4499224038036074,
          2.8967786210581243,
          2.3132912583738054,
          1.716546342205851,
          1.1226046607837272,
          0.5461107963586893,
          0.0023241782231988592,
          -0.024478323686689868,
          -0.020255579418445135,
          0.004123067936913527,
          0.03950771458695135,
          0.07674334600637778,
          0.10718805067019899,
          0.12315669678261565,
          0.11827275056052011,
          0.0877185010568764,
          0.028380119871474596,
          -0.06111044929457066,
          -0.18042985684890755,
          -0.3277028624633629,
          -0.49971243079853134,
          -0.6921622495226762,
          -0.8976760425388689,
          -0.5787391157525517,
          -0.2505295164061533,
          0.07778281747579407,
          0.3999635605063637,
          0.7105576748092711,
          1.0049969782897419,
          1.2796695070158879,
          1.53194691412087,
          1.7601697494221114,
          1.9635931098352264,
          2.1422975621814526,
          2.2970722993077457,
          2.429279037768686,
          2.540706064601061,
          2.63342199665298,
          2.7096381880774105,
          2.7715873415841004,
          2.8214238674186896,
          2.8611491070250183,
          2.892561992286853,
          2.917233378166954,
          2.9365004672576838,
          -3.0377747129007417,
          -3.043206512836563,
          -3.0477833435720227,
          -3.0506269567901896,
          -3.05058641393032,
          -3.04622391352162,
          -3.0358211697178215,
          -3.0174113113115943,
          -2.988839485573864,
          -2.9478528960938766,
          -2.892218156624951,
          -2.819860930159175,
          -2.7290201562391623,
          -2.618407006043384,
          -2.487357228680496,
          -2.335964880094042,
          -2.1651856173645605,
          -1.9768988061023594,
          -1.773919590993858,
          -1.5599547424965992,
          -1.3394994531706503,
          -1.117677054793369,
          -0.9023236221757472,
          -1.2069716511435902,
          -1.492047525761036,
          -1.7475948283045857,
          -1.966110996828748,
          -2.140456052787455,
          -2.2640519737355653,
          -2.331071398082738,
          -2.336612170420087,
          -2.2768571541654588,
          -2.149220311759964,
          -1.9524809686309479,
          -1.6869082996075013,
          -1.3543772639012215,
          -0.9584754668465616,
          -0.5045987804711751,
          -0.0023234013981998656,
          0.06058286534581872,
          0.16290063200481253,
          0.3102338781965598,
          0.5031160025106269,
          0.7389815188176874,
          1.0120087728870777,
          1.3131613533004358,
          1.6304528376121858,
          1.949445237653154,
          2.253975145370351,
          2.52708294375926,
          2.7521007404669766,
          2.9138356086092054,
          2.9997683084606446,
          3.001176065313597,
          2.914083203206692,
          2.739947049248537,
          2.4859993346933584,
          2.1651849245740156,
          1.7956654440545514,
          1.39767008000779,
          0.8887676510138808,
          0.4568479268694652,
          0.12520281913571146,
          -0.09096179336876936,
          -0.18330102350377742,
          -0.15088603908094197,
          -0.002306052626838173,
          0.21821868314177206,
          0.5555895668706178,
          0.9976626820072655,
          1.4376464577801893,
          1.882259217800322,
          2.306390217923955,
          2.6851212271413627,
          2.9972715770739358,
          3.2264633788824018,
          3.361767707359577,
          3.3979248670477187,
          3.335160386191231,
          3.178649737589585
         ]
        },
        {
         "line": {
          "color": "blue",
          "width": 2
         },
         "name": "Predicted function",
         "showlegend": true,
         "type": "scatter",
         "visible": true,
         "x": [
          -1,
          -0.9,
          -0.8,
          -0.7000000000000001,
          -0.6000000000000001,
          -0.5000000000000001,
          -0.40000000000000013,
          -0.30000000000000016,
          -0.20000000000000018,
          -0.1000000000000002,
          -2.220446049250313e-16,
          0.09999999999999964,
          0.19999999999999973,
          0.2999999999999998,
          0.3999999999999997,
          0.49999999999999956,
          0.5999999999999996,
          0.6999999999999997,
          0.7999999999999996,
          0.8999999999999995,
          0.9999999999999996,
          1.0999999999999996,
          1.1999999999999993,
          1.2999999999999994,
          1.3999999999999995,
          1.4999999999999996,
          1.5999999999999996,
          1.6999999999999993,
          1.7999999999999994,
          1.8999999999999995,
          1.9999999999999991,
          2.099999999999999,
          2.1999999999999993,
          2.2999999999999994,
          2.3999999999999995,
          2.499999999999999,
          2.599999999999999,
          2.6999999999999993,
          2.799999999999999,
          2.899999999999999,
          2.999999999999999,
          3.0999999999999988,
          3.1999999999999993,
          3.299999999999999,
          3.3999999999999986,
          3.499999999999999,
          3.5999999999999988,
          3.6999999999999993,
          3.799999999999999,
          3.8999999999999986,
          3.999999999999999,
          4.099999999999999,
          4.199999999999999,
          4.299999999999999,
          4.399999999999999,
          4.499999999999999,
          4.599999999999999,
          4.699999999999998,
          4.799999999999999,
          4.899999999999999,
          4.999999999999998,
          5.099999999999999,
          5.199999999999998,
          5.299999999999999,
          5.399999999999999,
          5.499999999999998,
          5.599999999999999,
          5.699999999999998,
          5.799999999999999,
          5.899999999999999,
          5.999999999999998,
          6.099999999999999,
          6.199999999999998,
          6.299999999999998,
          6.399999999999999,
          6.499999999999998,
          6.599999999999998,
          6.699999999999998,
          6.799999999999998,
          6.899999999999999
         ],
         "y": [
          4.741347819681161,
          4.68348878117411,
          4.529957661351344,
          4.281669915000702,
          3.94468591818348,
          3.530334425138479,
          3.054962444815688,
          2.5392946771020704,
          2.0074198297750243,
          1.485456741016801,
          0.9999864668215039,
          0.5763635337226471,
          0.23703703676150667,
          0.00001772885348216846,
          -0.12238047019186027,
          -0.12441669966908364,
          -0.0073408959458234335,
          0.22068366551404495,
          0.5451464243015849,
          0.9461950402136985,
          1.3999938688342475,
          1.8803205976134691,
          2.3602696024872536,
          2.813926948918695,
          3.217891110480384,
          3.552533796080569,
          3.802924010317149,
          3.959372131069589,
          4.017585616410269,
          3.978460387244537,
          3.8475590060669553,
          3.6343464005249038,
          3.3512650048168195,
          3.012733782061164,
          2.6341505176761864,
          2.2309655883453425,
          1.8178800699379059,
          1.408203630442216,
          1.0133901102012053,
          0.6427526463942699,
          0.303346830852254,
          3.8841249949683743e-7,
          -0.2645385520789325,
          -0.48936552313250337,
          -0.675127097982154,
          -0.823700292510275,
          -0.9378688113122851,
          -1.0210161305448826,
          -1.0768502286914217,
          -1.1091697099297835,
          -1.121676448512931,
          -1.1178359269320455,
          -1.100783251041013,
          -1.0732704268388278,
          -1.0376488453839743,
          -0.9958799782797836,
          -0.9495669503331332,
          -0.8999998323573081,
          -0.8482080852729603,
          -0.7950144847884018,
          -0.7410859625104026,
          -0.6869780152437471,
          -0.6331705656465442,
          -0.5800943195374092,
          -0.5281476865390771,
          -0.47770515727981316,
          -0.4291186283106364,
          -0.38271352320196805,
          -0.3387816839888609,
          -0.29757292865860274,
          -0.2592869291625952,
          -0.22406671048640145,
          -0.19199465732930712,
          -0.1630914908202056,
          -0.13731828596875978,
          -0.1145812732558152,
          -0.09473892488258569,
          -0.07761067564258475,
          -0.06298656733480432,
          -0.050637122821529115
         ]
        },
        {
         "marker": {
          "color": "red",
          "size": 8
         },
         "mode": "markers",
         "name": "Observed points",
         "showlegend": true,
         "type": "scatter",
         "visible": true,
         "x": [
          0,
          0.3,
          1,
          3.1,
          4.7
         ],
         "y": [
          1,
          0,
          1.4,
          0,
          -0.9
         ]
        }
       ],
       "layout": {
        "autosize": false,
        "height": 600,
        "legend": {
         "x": 0.95,
         "xanchor": "right",
         "y": 0.9,
         "yanchor": "top"
        },
        "plot_bgcolor": "rgba(0,0,0,0)",
        "template": {
         "data": {
          "bar": [
           {
            "error_x": {
             "color": "#2a3f5f"
            },
            "error_y": {
             "color": "#2a3f5f"
            },
            "marker": {
             "line": {
              "color": "#E5ECF6",
              "width": 0.5
             },
             "pattern": {
              "fillmode": "overlay",
              "size": 10,
              "solidity": 0.2
             }
            },
            "type": "bar"
           }
          ],
          "barpolar": [
           {
            "marker": {
             "line": {
              "color": "#E5ECF6",
              "width": 0.5
             },
             "pattern": {
              "fillmode": "overlay",
              "size": 10,
              "solidity": 0.2
             }
            },
            "type": "barpolar"
           }
          ],
          "carpet": [
           {
            "aaxis": {
             "endlinecolor": "#2a3f5f",
             "gridcolor": "white",
             "linecolor": "white",
             "minorgridcolor": "white",
             "startlinecolor": "#2a3f5f"
            },
            "baxis": {
             "endlinecolor": "#2a3f5f",
             "gridcolor": "white",
             "linecolor": "white",
             "minorgridcolor": "white",
             "startlinecolor": "#2a3f5f"
            },
            "type": "carpet"
           }
          ],
          "choropleth": [
           {
            "colorbar": {
             "outlinewidth": 0,
             "ticks": ""
            },
            "type": "choropleth"
           }
          ],
          "contour": [
           {
            "colorbar": {
             "outlinewidth": 0,
             "ticks": ""
            },
            "colorscale": [
             [
              0,
              "#0d0887"
             ],
             [
              0.1111111111111111,
              "#46039f"
             ],
             [
              0.2222222222222222,
              "#7201a8"
             ],
             [
              0.3333333333333333,
              "#9c179e"
             ],
             [
              0.4444444444444444,
              "#bd3786"
             ],
             [
              0.5555555555555556,
              "#d8576b"
             ],
             [
              0.6666666666666666,
              "#ed7953"
             ],
             [
              0.7777777777777778,
              "#fb9f3a"
             ],
             [
              0.8888888888888888,
              "#fdca26"
             ],
             [
              1,
              "#f0f921"
             ]
            ],
            "type": "contour"
           }
          ],
          "contourcarpet": [
           {
            "colorbar": {
             "outlinewidth": 0,
             "ticks": ""
            },
            "type": "contourcarpet"
           }
          ],
          "heatmap": [
           {
            "colorbar": {
             "outlinewidth": 0,
             "ticks": ""
            },
            "colorscale": [
             [
              0,
              "#0d0887"
             ],
             [
              0.1111111111111111,
              "#46039f"
             ],
             [
              0.2222222222222222,
              "#7201a8"
             ],
             [
              0.3333333333333333,
              "#9c179e"
             ],
             [
              0.4444444444444444,
              "#bd3786"
             ],
             [
              0.5555555555555556,
              "#d8576b"
             ],
             [
              0.6666666666666666,
              "#ed7953"
             ],
             [
              0.7777777777777778,
              "#fb9f3a"
             ],
             [
              0.8888888888888888,
              "#fdca26"
             ],
             [
              1,
              "#f0f921"
             ]
            ],
            "type": "heatmap"
           }
          ],
          "heatmapgl": [
           {
            "colorbar": {
             "outlinewidth": 0,
             "ticks": ""
            },
            "colorscale": [
             [
              0,
              "#0d0887"
             ],
             [
              0.1111111111111111,
              "#46039f"
             ],
             [
              0.2222222222222222,
              "#7201a8"
             ],
             [
              0.3333333333333333,
              "#9c179e"
             ],
             [
              0.4444444444444444,
              "#bd3786"
             ],
             [
              0.5555555555555556,
              "#d8576b"
             ],
             [
              0.6666666666666666,
              "#ed7953"
             ],
             [
              0.7777777777777778,
              "#fb9f3a"
             ],
             [
              0.8888888888888888,
              "#fdca26"
             ],
             [
              1,
              "#f0f921"
             ]
            ],
            "type": "heatmapgl"
           }
          ],
          "histogram": [
           {
            "marker": {
             "pattern": {
              "fillmode": "overlay",
              "size": 10,
              "solidity": 0.2
             }
            },
            "type": "histogram"
           }
          ],
          "histogram2d": [
           {
            "colorbar": {
             "outlinewidth": 0,
             "ticks": ""
            },
            "colorscale": [
             [
              0,
              "#0d0887"
             ],
             [
              0.1111111111111111,
              "#46039f"
             ],
             [
              0.2222222222222222,
              "#7201a8"
             ],
             [
              0.3333333333333333,
              "#9c179e"
             ],
             [
              0.4444444444444444,
              "#bd3786"
             ],
             [
              0.5555555555555556,
              "#d8576b"
             ],
             [
              0.6666666666666666,
              "#ed7953"
             ],
             [
              0.7777777777777778,
              "#fb9f3a"
             ],
             [
              0.8888888888888888,
              "#fdca26"
             ],
             [
              1,
              "#f0f921"
             ]
            ],
            "type": "histogram2d"
           }
          ],
          "histogram2dcontour": [
           {
            "colorbar": {
             "outlinewidth": 0,
             "ticks": ""
            },
            "colorscale": [
             [
              0,
              "#0d0887"
             ],
             [
              0.1111111111111111,
              "#46039f"
             ],
             [
              0.2222222222222222,
              "#7201a8"
             ],
             [
              0.3333333333333333,
              "#9c179e"
             ],
             [
              0.4444444444444444,
              "#bd3786"
             ],
             [
              0.5555555555555556,
              "#d8576b"
             ],
             [
              0.6666666666666666,
              "#ed7953"
             ],
             [
              0.7777777777777778,
              "#fb9f3a"
             ],
             [
              0.8888888888888888,
              "#fdca26"
             ],
             [
              1,
              "#f0f921"
             ]
            ],
            "type": "histogram2dcontour"
           }
          ],
          "mesh3d": [
           {
            "colorbar": {
             "outlinewidth": 0,
             "ticks": ""
            },
            "type": "mesh3d"
           }
          ],
          "parcoords": [
           {
            "line": {
             "colorbar": {
              "outlinewidth": 0,
              "ticks": ""
             }
            },
            "type": "parcoords"
           }
          ],
          "pie": [
           {
            "automargin": true,
            "type": "pie"
           }
          ],
          "scatter": [
           {
            "fillpattern": {
             "fillmode": "overlay",
             "size": 10,
             "solidity": 0.2
            },
            "type": "scatter"
           }
          ],
          "scatter3d": [
           {
            "line": {
             "colorbar": {
              "outlinewidth": 0,
              "ticks": ""
             }
            },
            "marker": {
             "colorbar": {
              "outlinewidth": 0,
              "ticks": ""
             }
            },
            "type": "scatter3d"
           }
          ],
          "scattercarpet": [
           {
            "marker": {
             "colorbar": {
              "outlinewidth": 0,
              "ticks": ""
             }
            },
            "type": "scattercarpet"
           }
          ],
          "scattergeo": [
           {
            "marker": {
             "colorbar": {
              "outlinewidth": 0,
              "ticks": ""
             }
            },
            "type": "scattergeo"
           }
          ],
          "scattergl": [
           {
            "marker": {
             "colorbar": {
              "outlinewidth": 0,
              "ticks": ""
             }
            },
            "type": "scattergl"
           }
          ],
          "scattermapbox": [
           {
            "marker": {
             "colorbar": {
              "outlinewidth": 0,
              "ticks": ""
             }
            },
            "type": "scattermapbox"
           }
          ],
          "scatterpolar": [
           {
            "marker": {
             "colorbar": {
              "outlinewidth": 0,
              "ticks": ""
             }
            },
            "type": "scatterpolar"
           }
          ],
          "scatterpolargl": [
           {
            "marker": {
             "colorbar": {
              "outlinewidth": 0,
              "ticks": ""
             }
            },
            "type": "scatterpolargl"
           }
          ],
          "scatterternary": [
           {
            "marker": {
             "colorbar": {
              "outlinewidth": 0,
              "ticks": ""
             }
            },
            "type": "scatterternary"
           }
          ],
          "surface": [
           {
            "colorbar": {
             "outlinewidth": 0,
             "ticks": ""
            },
            "colorscale": [
             [
              0,
              "#0d0887"
             ],
             [
              0.1111111111111111,
              "#46039f"
             ],
             [
              0.2222222222222222,
              "#7201a8"
             ],
             [
              0.3333333333333333,
              "#9c179e"
             ],
             [
              0.4444444444444444,
              "#bd3786"
             ],
             [
              0.5555555555555556,
              "#d8576b"
             ],
             [
              0.6666666666666666,
              "#ed7953"
             ],
             [
              0.7777777777777778,
              "#fb9f3a"
             ],
             [
              0.8888888888888888,
              "#fdca26"
             ],
             [
              1,
              "#f0f921"
             ]
            ],
            "type": "surface"
           }
          ],
          "table": [
           {
            "cells": {
             "fill": {
              "color": "#EBF0F8"
             },
             "line": {
              "color": "white"
             }
            },
            "header": {
             "fill": {
              "color": "#C8D4E3"
             },
             "line": {
              "color": "white"
             }
            },
            "type": "table"
           }
          ]
         },
         "layout": {
          "annotationdefaults": {
           "arrowcolor": "#2a3f5f",
           "arrowhead": 0,
           "arrowwidth": 1
          },
          "autotypenumbers": "strict",
          "coloraxis": {
           "colorbar": {
            "outlinewidth": 0,
            "ticks": ""
           }
          },
          "colorscale": {
           "diverging": [
            [
             0,
             "#8e0152"
            ],
            [
             0.1,
             "#c51b7d"
            ],
            [
             0.2,
             "#de77ae"
            ],
            [
             0.3,
             "#f1b6da"
            ],
            [
             0.4,
             "#fde0ef"
            ],
            [
             0.5,
             "#f7f7f7"
            ],
            [
             0.6,
             "#e6f5d0"
            ],
            [
             0.7,
             "#b8e186"
            ],
            [
             0.8,
             "#7fbc41"
            ],
            [
             0.9,
             "#4d9221"
            ],
            [
             1,
             "#276419"
            ]
           ],
           "sequential": [
            [
             0,
             "#0d0887"
            ],
            [
             0.1111111111111111,
             "#46039f"
            ],
            [
             0.2222222222222222,
             "#7201a8"
            ],
            [
             0.3333333333333333,
             "#9c179e"
            ],
            [
             0.4444444444444444,
             "#bd3786"
            ],
            [
             0.5555555555555556,
             "#d8576b"
            ],
            [
             0.6666666666666666,
             "#ed7953"
            ],
            [
             0.7777777777777778,
             "#fb9f3a"
            ],
            [
             0.8888888888888888,
             "#fdca26"
            ],
            [
             1,
             "#f0f921"
            ]
           ],
           "sequentialminus": [
            [
             0,
             "#0d0887"
            ],
            [
             0.1111111111111111,
             "#46039f"
            ],
            [
             0.2222222222222222,
             "#7201a8"
            ],
            [
             0.3333333333333333,
             "#9c179e"
            ],
            [
             0.4444444444444444,
             "#bd3786"
            ],
            [
             0.5555555555555556,
             "#d8576b"
            ],
            [
             0.6666666666666666,
             "#ed7953"
            ],
            [
             0.7777777777777778,
             "#fb9f3a"
            ],
            [
             0.8888888888888888,
             "#fdca26"
            ],
            [
             1,
             "#f0f921"
            ]
           ]
          },
          "colorway": [
           "#636efa",
           "#EF553B",
           "#00cc96",
           "#ab63fa",
           "#FFA15A",
           "#19d3f3",
           "#FF6692",
           "#B6E880",
           "#FF97FF",
           "#FECB52"
          ],
          "font": {
           "color": "#2a3f5f"
          },
          "geo": {
           "bgcolor": "white",
           "lakecolor": "white",
           "landcolor": "#E5ECF6",
           "showlakes": true,
           "showland": true,
           "subunitcolor": "white"
          },
          "hoverlabel": {
           "align": "left"
          },
          "hovermode": "closest",
          "mapbox": {
           "style": "light"
          },
          "paper_bgcolor": "white",
          "plot_bgcolor": "#E5ECF6",
          "polar": {
           "angularaxis": {
            "gridcolor": "white",
            "linecolor": "white",
            "ticks": ""
           },
           "bgcolor": "#E5ECF6",
           "radialaxis": {
            "gridcolor": "white",
            "linecolor": "white",
            "ticks": ""
           }
          },
          "scene": {
           "xaxis": {
            "backgroundcolor": "#E5ECF6",
            "gridcolor": "white",
            "gridwidth": 2,
            "linecolor": "white",
            "showbackground": true,
            "ticks": "",
            "zerolinecolor": "white"
           },
           "yaxis": {
            "backgroundcolor": "#E5ECF6",
            "gridcolor": "white",
            "gridwidth": 2,
            "linecolor": "white",
            "showbackground": true,
            "ticks": "",
            "zerolinecolor": "white"
           },
           "zaxis": {
            "backgroundcolor": "#E5ECF6",
            "gridcolor": "white",
            "gridwidth": 2,
            "linecolor": "white",
            "showbackground": true,
            "ticks": "",
            "zerolinecolor": "white"
           }
          },
          "shapedefaults": {
           "line": {
            "color": "#2a3f5f"
           }
          },
          "ternary": {
           "aaxis": {
            "gridcolor": "white",
            "linecolor": "white",
            "ticks": ""
           },
           "baxis": {
            "gridcolor": "white",
            "linecolor": "white",
            "ticks": ""
           },
           "bgcolor": "#E5ECF6",
           "caxis": {
            "gridcolor": "white",
            "linecolor": "white",
            "ticks": ""
           }
          },
          "title": {
           "x": 0.05
          },
          "xaxis": {
           "automargin": true,
           "gridcolor": "white",
           "linecolor": "white",
           "ticks": "",
           "title": {
            "standoff": 15
           },
           "zerolinecolor": "white",
           "zerolinewidth": 2
          },
          "yaxis": {
           "automargin": true,
           "gridcolor": "white",
           "linecolor": "white",
           "ticks": "",
           "title": {
            "standoff": 15
           },
           "zerolinecolor": "white",
           "zerolinewidth": 2
          }
         }
        },
        "title": {
         "text": "GPR with length 1, sigma 0 and noise 0",
         "x": 0.5,
         "xanchor": "center"
        },
        "width": 800,
        "xaxis": {
         "linecolor": "black",
         "linewidth": 1,
         "showline": true,
         "title": {
          "text": "input values"
         }
        },
        "yaxis": {
         "linecolor": "black",
         "linewidth": 1,
         "showline": true,
         "title": {
          "text": "output values"
         }
        }
       }
      }
     },
     "metadata": {},
     "output_type": "display_data"
    }
   ],
   "source": [
    "model = GPR(x_values, y_values)\n",
    "data = plot_GPR(data_x=x_values, data_y=y_values, x=x, model=model)\n",
    "fig4 = go.Figure(data=data)\n",
    "fig4 = update_layout_of_graph(fig=fig4,\n",
    "                              title='GPR with length 1, sigma 0 and noise 0')\n",
    "\n",
    "fig4.show()"
   ]
  },
  {
   "cell_type": "markdown",
   "id": "b409d823",
   "metadata": {},
   "source": [
    "A cool feature of the GPR is that it is sort of a probability distribution over function - so we can literally 'draw' random functions!"
   ]
  },
  {
   "cell_type": "code",
   "execution_count": 13,
   "id": "045e7091",
   "metadata": {},
   "outputs": [
    {
     "data": {
      "application/vnd.jupyter.widget-view+json": {
       "model_id": "c906c9bc7a4647ca8aa728aa86788646",
       "version_major": 2,
       "version_minor": 0
      },
      "text/plain": [
       "VBox(children=(FigureWidget({\n",
       "    'data': [{'marker': {'color': 'red', 'size': 8},\n",
       "              'mode': 'mark…"
      ]
     },
     "metadata": {},
     "output_type": "display_data"
    }
   ],
   "source": [
    "model = GPR(x_values, y_values)\n",
    "\n",
    "mean = model.predict(x)\n",
    "covariance_matrix = model._memory['covariance_matrix']\n",
    "\n",
    "fig1 = go.FigureWidget(data=[dot_scatter(x_dots=x_values, y_dots=y_values)])\n",
    "fig1 = update_layout_of_graph(\n",
    "    fig1,\n",
    "    title='Random drawings (i.e. random functions) of the Gaussian process')\n",
    "\n",
    "button = widgets.Button(description='Add random drawing')\n",
    "\n",
    "\n",
    "def update(_):\n",
    "    with fig1.batch_update():\n",
    "        fig1.add_trace(\n",
    "            line_scatter(x_lines=x,\n",
    "                         y_lines=np.random.multivariate_normal(\n",
    "                             mean, covariance_matrix),\n",
    "                         name_line='random function',\n",
    "                         showlegend=False))\n",
    "        fig1.add_trace(\n",
    "            dot_scatter(x_dots=x_values, y_dots=y_values, showlegend=False))\n",
    "\n",
    "\n",
    "button.on_click(update)\n",
    "widgets.VBox([fig1, button])"
   ]
  },
  {
   "cell_type": "markdown",
   "id": "876ee73f",
   "metadata": {},
   "source": [
    "Doing predictions with a GPR is usually done by taking the mean function as our best guess. Since GPR's are a probabilistic model, we get in addition some sort of certainty of our prediction. (But be careful how to interpret this uncertainty area! Believing that every 'new' point must be in the uncertainty area is simply wrong!)"
   ]
  },
  {
   "cell_type": "code",
   "execution_count": 14,
   "id": "36354bda",
   "metadata": {},
   "outputs": [
    {
     "data": {
      "application/vnd.jupyter.widget-view+json": {
       "model_id": "1d678373edca4ea191ca18a49275b95b",
       "version_major": 2,
       "version_minor": 0
      },
      "text/plain": [
       "VBox(children=(FigureWidget({\n",
       "    'data': [{'fill': 'toself',\n",
       "              'fillcolor': 'rgba(189,195,199,0.5…"
      ]
     },
     "metadata": {},
     "output_type": "display_data"
    }
   ],
   "source": [
    "model = GPR(x_values[:1], y_values[:1])\n",
    "\n",
    "data = plot_GPR(data_x=x_values[:1], data_y=y_values[:1], x=x, model=model)\n",
    "\n",
    "fig2 = go.FigureWidget(data=data)\n",
    "fig2 = update_layout_of_graph(fig2, title='Prediction (i.e. mean) of GPR')\n",
    "\n",
    "button = widgets.Button(description='Add data point')\n",
    "\n",
    "number_of_points = 1\n",
    "\n",
    "# we update the y values of our 4 scatter plots \n",
    "def update(_):\n",
    "    with fig2.batch_update():\n",
    "        global number_of_points\n",
    "        if number_of_points < len(x_values):\n",
    "            number_of_points += 1\n",
    "            model = GPR(x_values[:number_of_points],\n",
    "                        y_values[:number_of_points])\n",
    "            mean = model.predict(x)\n",
    "            fig2.data[3].y = mean\n",
    "            for i in range(1, 4):\n",
    "                y_upper = mean + i * np.sqrt(model._memory['variance'])\n",
    "                y_lower = mean - i * np.sqrt(model._memory['variance'])\n",
    "                fig2.data[i - 1].y = np.concatenate((y_upper, y_lower[::-1]))\n",
    "\n",
    "            fig2.data[4].x = x_values[:number_of_points]\n",
    "            fig2.data[4].y = y_values[:number_of_points]\n",
    "\n",
    "\n",
    "button.on_click(update)\n",
    "widgets.VBox([fig2, button])"
   ]
  },
  {
   "cell_type": "markdown",
   "id": "ce23fd04",
   "metadata": {},
   "source": [
    "You can test the GPR with different data. Try using multi-dimensional input!"
   ]
  },
  {
   "cell_type": "markdown",
   "id": "1d17146a",
   "metadata": {},
   "source": [
    "### Visualization of effect of free parameters"
   ]
  },
  {
   "cell_type": "markdown",
   "id": "e7e03650",
   "metadata": {},
   "source": [
    "Awesome! Now that we can make predictions with our GPR, lets visualize how the GPR changes if we change the free parameters, i.e. length-scale, variance and white noise."
   ]
  },
  {
   "cell_type": "code",
   "execution_count": 15,
   "id": "cd6e6019",
   "metadata": {},
   "outputs": [
    {
     "data": {
      "application/vnd.jupyter.widget-view+json": {
       "model_id": "1213da59b9654933a442d34d355e5440",
       "version_major": 2,
       "version_minor": 0
      },
      "text/plain": [
       "interactive(children=(FloatSlider(value=1.0, description='sigma', max=3.0, min=0.01, step=0.01), FloatSlider(v…"
      ]
     },
     "metadata": {},
     "output_type": "display_data"
    },
    {
     "data": {
      "application/vnd.jupyter.widget-view+json": {
       "model_id": "6e3737552ae840aea43dedc77e86dc0c",
       "version_major": 2,
       "version_minor": 0
      },
      "text/plain": [
       "FigureWidget({\n",
       "    'data': [{'fill': 'toself',\n",
       "              'fillcolor': 'rgba(189,195,199,0.5)',\n",
       "           …"
      ]
     },
     "metadata": {},
     "output_type": "display_data"
    }
   ],
   "source": [
    "model = GPR(x_values,\n",
    "            y_values,\n",
    "            covariance_function=SquaredExponentialKernel(length=0.5),\n",
    "            white_noise_sigma=0.1)\n",
    "\n",
    "data = plot_GPR(x_values, y_values, model=model, x=x)\n",
    "\n",
    "fig3 = go.FigureWidget(data=data)\n",
    "\n",
    "\n",
    "# we update the y values of our 4 scatter plots \n",
    "@interact(sigma=(0.01, 3, 0.01), length=(0.01, 3, 0.01), noise=(0, 3, 0.1))\n",
    "def update(sigma=1, length=0.5, noise=0.1):\n",
    "    with fig3.batch_update():\n",
    "        model = GPR(x_values,\n",
    "                    y_values,\n",
    "                    covariance_function=SquaredExponentialKernel(\n",
    "                        sigma_f=sigma, length=length),\n",
    "                    white_noise_sigma=noise)\n",
    "\n",
    "        mean = model.predict(x)\n",
    "        y_upper = mean + np.sqrt(model._memory['variance'])\n",
    "        y_lower = mean - np.sqrt(model._memory['variance'])\n",
    "\n",
    "        \n",
    "        for i in range(1, 4):\n",
    "            y_upper = mean + i * np.sqrt(model._memory['variance'])\n",
    "            y_lower = mean - i * np.sqrt(model._memory['variance'])\n",
    "            fig3.data[i-1].y = np.concatenate((y_upper, y_lower[::-1]))\n",
    "        \n",
    "        fig3.data[3].y = mean\n",
    "\n",
    "\n",
    "fig3 = update_layout_of_graph(\n",
    "    fig3, title=\"GPR with varying length, sigma and white noise\")\n",
    "fig3"
   ]
  },
  {
   "cell_type": "markdown",
   "id": "188b1f24",
   "metadata": {},
   "source": [
    "Pretty impressive how many function 'shapes' we can generate with a GPR!\n",
    "\n",
    "But now we naturally raise the question:\n",
    "\n",
    "_What are the best parameters for our GPR and problem?_"
   ]
  }
 ],
 "metadata": {
  "kernelspec": {
   "display_name": "base",
   "language": "python",
   "name": "python3"
  },
  "language_info": {
   "codemirror_mode": {
    "name": "ipython",
    "version": 3
   },
   "file_extension": ".py",
   "mimetype": "text/x-python",
   "name": "python",
   "nbconvert_exporter": "python",
   "pygments_lexer": "ipython3",
   "version": "3.11.7"
  },
  "toc": {
   "base_numbering": 1,
   "nav_menu": {},
   "number_sections": true,
   "sideBar": true,
   "skip_h1_title": false,
   "title_cell": "Table of Contents",
   "title_sidebar": "Contents",
   "toc_cell": false,
   "toc_position": {},
   "toc_section_display": true,
   "toc_window_display": false
  },
  "varInspector": {
   "cols": {
    "lenName": 16,
    "lenType": 16,
    "lenVar": 40
   },
   "kernels_config": {
    "python": {
     "delete_cmd_postfix": "",
     "delete_cmd_prefix": "del ",
     "library": "var_list.py",
     "varRefreshCmd": "print(var_dic_list())"
    },
    "r": {
     "delete_cmd_postfix": ") ",
     "delete_cmd_prefix": "rm(",
     "library": "var_list.r",
     "varRefreshCmd": "cat(var_dic_list()) "
    }
   },
   "types_to_exclude": [
    "module",
    "function",
    "builtin_function_or_method",
    "instance",
    "_Feature"
   ],
   "window_display": false
  }
 },
 "nbformat": 4,
 "nbformat_minor": 5
}
