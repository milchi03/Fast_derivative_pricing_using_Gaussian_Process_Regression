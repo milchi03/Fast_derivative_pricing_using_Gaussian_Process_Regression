{
 "cells": [
  {
   "cell_type": "markdown",
   "id": "87a6f995",
   "metadata": {},
   "source": [
    "## Overview"
   ]
  },
  {
   "cell_type": "markdown",
   "id": "dcb462c6",
   "metadata": {},
   "source": [
    "This notebook contains a complete implementation of a Gaussian Process Regressor (GPR) with a squared exponential kernel using Numpy for matrix operations and Plotly for visualisation. \n",
    "\n",
    "The purpose of this notebook is to understand the main components of a GPR and to visualise the effects of certain parameters on the output. \n",
    "It is _not_ intended as a theoretical introduction to GPRs.\n",
    "A good introduction can be found [here](http://www.gaussianprocess.org/gpml/chapters/RW.pdf). \n",
    "\n",
    "Stable and effective implementations of GPR's are available, for example, in the [gpytorch](https://gpytorch.ai) package."
   ]
  },
  {
   "cell_type": "markdown",
   "id": "bfc98796",
   "metadata": {},
   "source": [
    "## Packages"
   ]
  },
  {
   "cell_type": "code",
   "execution_count": 17,
   "id": "b48ebe22",
   "metadata": {},
   "outputs": [],
   "source": [
    "import numpy as np\n",
    "import plotly.graph_objects as go\n",
    "from ipywidgets import interact, widgets\n",
    "from scipy.special import kv, gamma"
   ]
  },
  {
   "cell_type": "markdown",
   "id": "4575ccbd",
   "metadata": {},
   "source": [
    "## Plotting helper functions"
   ]
  },
  {
   "cell_type": "markdown",
   "id": "caa8c0bf",
   "metadata": {},
   "source": [
    "To have nice visualizations of the later GPR, we use Plotly and to have structured and lean code, we define a few commonly used 'helpers' here. "
   ]
  },
  {
   "cell_type": "code",
   "execution_count": 18,
   "id": "ad8a0219",
   "metadata": {
    "code_folding": [
     0
    ]
   },
   "outputs": [],
   "source": [
    "def update_layout_of_graph(fig: go.Figure,title: str = 'Plot')->go.Figure:\n",
    "    fig.update_layout(\n",
    "        width=800,\n",
    "        height=600,\n",
    "        autosize=False,\n",
    "        plot_bgcolor='rgba(0,0,0,0)',\n",
    "        title=title,\n",
    "        \n",
    "    )\n",
    "    fig.update_layout(plot_bgcolor='rgba(0,0,0,0)',\n",
    "                      xaxis_title = 'input values',\n",
    "                      yaxis_title = 'output values',\n",
    "                      legend=dict(yanchor=\"top\",\n",
    "                                  y=0.9,\n",
    "                                  xanchor=\"right\",\n",
    "                                  x=0.95),\n",
    "                      title={\n",
    "                          'x': 0.5,\n",
    "                          'xanchor': 'center'\n",
    "                      })\n",
    "    fig.update_xaxes(showline=True, linewidth=1, linecolor='black')\n",
    "    fig.update_yaxes(showline=True, linewidth=1, linecolor='black')\n",
    "    return fig\n",
    "\n",
    "def line_scatter(\n",
    "    visible: bool = True,\n",
    "    x_lines: np.array = np.array([]),\n",
    "    y_lines: np.array = np.array([]),\n",
    "    name_line: str = 'Predicted function',\n",
    "    showlegend: bool = True,\n",
    ") -> go.Scatter:\n",
    "    # Adding the lines\n",
    "    return go.Scatter(\n",
    "        visible=visible,\n",
    "        line=dict(color=\"blue\", width=2),\n",
    "        x=x_lines,\n",
    "        y=y_lines,\n",
    "        name=name_line,\n",
    "        showlegend= showlegend\n",
    "    )\n",
    "\n",
    "def dot_scatter(\n",
    "    visible: bool = True,\n",
    "    x_dots: np.array = np.array([]),\n",
    "    y_dots: np.array = np.array([]),\n",
    "    name_dots: str = 'Observed points',\n",
    "    showlegend: bool = True\n",
    ") -> go.Scatter:\n",
    "    # Adding the dots\n",
    "    return go.Scatter(\n",
    "        x=x_dots,\n",
    "        visible=visible,\n",
    "        y=y_dots,\n",
    "        mode=\"markers\",\n",
    "        name=name_dots,\n",
    "        marker=dict(color='red', size=8),\n",
    "        showlegend=showlegend\n",
    "    )\n",
    "\n",
    "def uncertainty_area_scatter(\n",
    "        visible: bool = True,\n",
    "        x_lines: np.array = np.array([]),\n",
    "        y_upper: np.array = np.array([]),\n",
    "        y_lower: np.array = np.array([]),\n",
    "        name: str = \"mean plus/minus standard deviation\",\n",
    ") -> go.Scatter:\n",
    "\n",
    "    return go.Scatter(\n",
    "        visible=visible,\n",
    "        x=np.concatenate((x_lines, x_lines[::-1])),  # x, then x reversed\n",
    "        # upper, then lower reversed\n",
    "        y=np.concatenate((y_upper, y_lower[::-1])),\n",
    "        fill='toself',\n",
    "        fillcolor='rgba(189,195,199,0.5)',\n",
    "        line=dict(color='rgba(200,200,200,0)'),\n",
    "        hoverinfo=\"skip\",\n",
    "        showlegend=True,\n",
    "        name= name,\n",
    "    )\n",
    "\n",
    "def add_slider_GPR(figure: go.Figure, parameters):\n",
    "    figure.data[0].visible = True\n",
    "    figure.data[1].visible = True\n",
    "\n",
    "    # Create and add slider\n",
    "    steps = []\n",
    "    for i in range(int((len(figure.data) - 1) / 2)):\n",
    "        step = dict(\n",
    "            method=\"update\",\n",
    "            label=f'{parameters[i]: .2f}',\n",
    "            args=[{\n",
    "                \"visible\": [False] * (len(figure.data) - 1) + [True]\n",
    "            }],\n",
    "        )\n",
    "        step[\"args\"][0][\"visible\"][2 *\n",
    "                                   i] = True  # Toggle i'th trace to \"visible\"\n",
    "        step[\"args\"][0][\"visible\"][2 * i + 1] = True\n",
    "        steps.append(step)\n",
    "\n",
    "    sliders = [dict(\n",
    "        active=0,\n",
    "        pad={\"t\": 50},\n",
    "        steps=steps,\n",
    "    )]\n",
    "    figure.update_layout(sliders=sliders, )\n",
    "    return figure\n",
    "\n",
    "def add_slider_to_function(figure:go.Figure, parameters):\n",
    "    figure.data[0].visible = True\n",
    "\n",
    "    # Create and add slider\n",
    "    steps = []\n",
    "    for i in range(len(figure.data)):\n",
    "        step = dict(\n",
    "            method=\"update\",\n",
    "            label=f'{parameters[i]: .2f}',\n",
    "            args=[{\n",
    "                \"visible\": [False] *len(figure.data) \n",
    "            }],\n",
    "        )\n",
    "        step[\"args\"][0][\"visible\"][i] = True  # Toggle i'th trace to \"visible\"\n",
    "        steps.append(step)\n",
    "\n",
    "    sliders = [dict(\n",
    "        active=0,\n",
    "        pad={\"t\": 50},\n",
    "        steps=steps,\n",
    "    )]\n",
    "    figure.update_layout(sliders=sliders, )\n",
    "    return figure"
   ]
  },
  {
   "cell_type": "markdown",
   "id": "9058664e",
   "metadata": {},
   "source": [
    "## Implementation of GPR with squared exponential kernel"
   ]
  },
  {
   "cell_type": "markdown",
   "id": "fa792ab3",
   "metadata": {},
   "source": [
    "In order to define a Gaussian Process Regressor (GPR), we need a covariance function (also called a kernel). The choice of this function determines the \"shape\" of the GPR and influences how the model generalizes to unseen data. Below are some commonly used kernels as stated in Rasmussen Table 4.1.:\n",
    "\n",
    "### 1. Squared Exponential Kernel\n",
    "The **squared exponential kernel** is widely used in Gaussian Process models and is defined as:\n",
    "$$ k(x_1, x_2) := \\sigma^2 \\exp\\left(-\\frac{\\|x_1 - x_2\\|^2_2}{2 l^2}\\right) $$\n",
    "where $ l > 0 $ is the length scale and  $\\sigma^2 > 0$ is the signal variance.\n",
    "\n",
    "- $ \\sigma $ controls the amplitude of variation in the function.\n",
    "- $ l $ controls the smoothness of the function, with smaller values making the function decay more rapidly with distance, while larger values smooth it out.\n",
    "\n",
    "### 2. Constant Kernel\n",
    "The **constant kernel** is defined as:\n",
    "$$ k(x_1, x_2) := \\sigma_0^2 $$\n",
    "where $ \\sigma_0^2 $ is a constant.\n",
    "\n",
    "This kernel is **stationary** but **degenerate** (more on that in 4.2.1), meaning it produces covariance matrices with finite rank, which limits its flexibility. Degenerate matrices have finite rank, resulting in limited expressiveness. The constant kernel is useful for modeling functions that are approximately constant across the input space. I find it mostly interesting to see what other kernels do, therefore this primitive selection.\n",
    "\n",
    "### 3. Matérn Kernel\n",
    "The **Matérn kernel** is a more general kernel with the **squared exponential kernel**. It is defined as:\n",
    "$$ k(x_1, x_2) := \\frac{1}{2^{\\nu-1} \\Gamma(\\nu)} \\left( \\frac{\\sqrt{2 \\nu} \\, \\|x_1 - x_2\\|}{l} \\right)^\\nu K_\\nu \\left( \\frac{\\sqrt{2 \\nu} \\, \\|x_1 - x_2\\|}{l} \\right) $$\n",
    "where:\n",
    "- $ l $  is the length scale.\n",
    "- $ \\nu > 0 $ controls the smoothness of the function, with higher values of $ \\nu $ making the function smoother.\n",
    "- $ K_\\nu $ is the modified Bessel function of the second kind. (I don't know what that is but I will keep it because it may be interesting to try out a highly complicated model)\n",
    "- $ \\Gamma $ is the gamma function.\n",
    "\n",
    "The Matérn kernel is often chosen for applications where controlling the smoothness of the function is important, as it allows for a range of behaviors. With $ \\nu = 0.5 $, the Matérn kernel becomes equivalent to the exponential kernel (that we did not cover here but it also a classic), and as $ \\nu \\to \\infty $, it approaches the squared exponential kernel. (Source: https://en.wikipedia.org/wiki/Mat%C3%A9rn_covariance_function)."
   ]
  },
  {
   "cell_type": "code",
   "execution_count": 19,
   "id": "cbc55090",
   "metadata": {},
   "outputs": [],
   "source": [
    "class SquaredExponentialKernel:\n",
    "    def __init__(self, sigma_f: float = 1, length: float = 1):\n",
    "        self.sigma_f = sigma_f\n",
    "        self.length = length\n",
    "\n",
    "    def __call__(self, argument_1: np.array, argument_2: np.array) -> float:\n",
    "        return float(self.sigma_f *\n",
    "                     np.exp(-(np.linalg.norm(argument_1 - argument_2)**2) /\n",
    "                            (2 * self.length**2)))\n",
    "    \n",
    "class ConstantKernel:\n",
    "    def __init__(self, sigma_0: float = 1):\n",
    "        self.sigma_0 = sigma_0\n",
    "    \n",
    "    def __call__(self, argument_1: np.array, argument_2: np.array) -> float:\n",
    "        return(self.sigma_0 ** 2)\n",
    "    \n",
    "class MaternKernel:\n",
    "    def __init__(self, sigma_f: float = 1, length: float = 1, nu: float = 1.5):\n",
    "        self.sigma_f = sigma_f\n",
    "        self.length = length\n",
    "        self.nu = nu\n",
    "\n",
    "    def __call__(self, argument_1: np.array, argument_2: np.array) -> float:\n",
    "        r = np.linalg.norm(argument_1 - argument_2) #Euclidean distance between the two points\n",
    "        \n",
    "        # Special case for r = 0 to avoid division by zero\n",
    "        if r == 0.0:\n",
    "            return self.sigma_f ** 2\n",
    "        \n",
    "        # Calculate the kernel value based on the Matérn function formula\n",
    "        factor = (2 ** (1 - self.nu)) / gamma(self.nu)\n",
    "        scaled_distance = (np.sqrt(2 * self.nu) * r) / self.length\n",
    "        bessel_term = kv(self.nu, scaled_distance)  # Modified Bessel function of the second kind\n",
    "        \n",
    "        return float(self.sigma_f ** 2 * factor * (scaled_distance ** self.nu) * bessel_term)"
   ]
  },
  {
   "cell_type": "markdown",
   "id": "b23258da",
   "metadata": {},
   "source": [
    "Let us visualize these kernels. We will start with the **squared exponential kernel**."
   ]
  },
  {
   "cell_type": "code",
   "execution_count": 20,
   "id": "e1cd79c0",
   "metadata": {},
   "outputs": [
    {
     "data": {
      "application/vnd.jupyter.widget-view+json": {
       "model_id": "8ba32fa4ca8f496d82a7c857ca7086f7",
       "version_major": 2,
       "version_minor": 0
      },
      "text/plain": [
       "interactive(children=(FloatSlider(value=1.0, description='length', max=3.0, min=0.1), FloatSlider(value=0.0, d…"
      ]
     },
     "metadata": {},
     "output_type": "display_data"
    },
    {
     "data": {
      "application/vnd.plotly.v1+json": {
       "config": {
        "plotlyServerURL": "https://plot.ly"
       },
       "data": [
        {
         "line": {
          "color": "blue",
          "width": 2
         },
         "name": "Predicted function",
         "showlegend": true,
         "type": "scatter",
         "visible": true,
         "x": [
          -10,
          -9.9,
          -9.8,
          -9.700000000000001,
          -9.600000000000001,
          -9.500000000000002,
          -9.400000000000002,
          -9.300000000000002,
          -9.200000000000003,
          -9.100000000000003,
          -9.000000000000004,
          -8.900000000000004,
          -8.800000000000004,
          -8.700000000000005,
          -8.600000000000005,
          -8.500000000000005,
          -8.400000000000006,
          -8.300000000000006,
          -8.200000000000006,
          -8.100000000000007,
          -8.000000000000007,
          -7.9000000000000075,
          -7.800000000000008,
          -7.700000000000008,
          -7.6000000000000085,
          -7.500000000000009,
          -7.400000000000009,
          -7.30000000000001,
          -7.20000000000001,
          -7.10000000000001,
          -7.000000000000011,
          -6.900000000000011,
          -6.800000000000011,
          -6.700000000000012,
          -6.600000000000012,
          -6.500000000000012,
          -6.400000000000013,
          -6.300000000000013,
          -6.2000000000000135,
          -6.100000000000014,
          -6.000000000000014,
          -5.900000000000015,
          -5.800000000000015,
          -5.700000000000015,
          -5.600000000000016,
          -5.500000000000016,
          -5.400000000000016,
          -5.300000000000017,
          -5.200000000000017,
          -5.100000000000017,
          -5.000000000000018,
          -4.900000000000018,
          -4.8000000000000185,
          -4.700000000000019,
          -4.600000000000019,
          -4.5000000000000195,
          -4.40000000000002,
          -4.30000000000002,
          -4.200000000000021,
          -4.100000000000021,
          -4.000000000000021,
          -3.9000000000000217,
          -3.800000000000022,
          -3.7000000000000224,
          -3.6000000000000227,
          -3.500000000000023,
          -3.4000000000000234,
          -3.300000000000024,
          -3.200000000000024,
          -3.1000000000000245,
          -3.000000000000025,
          -2.9000000000000252,
          -2.8000000000000256,
          -2.700000000000026,
          -2.6000000000000263,
          -2.5000000000000266,
          -2.400000000000027,
          -2.3000000000000274,
          -2.2000000000000277,
          -2.100000000000028,
          -2.0000000000000284,
          -1.9000000000000288,
          -1.8000000000000291,
          -1.7000000000000295,
          -1.6000000000000298,
          -1.5000000000000302,
          -1.4000000000000306,
          -1.300000000000031,
          -1.2000000000000313,
          -1.1000000000000316,
          -1.000000000000032,
          -0.9000000000000323,
          -0.8000000000000327,
          -0.700000000000033,
          -0.6000000000000334,
          -0.5000000000000338,
          -0.4000000000000341,
          -0.30000000000003446,
          -0.20000000000003482,
          -0.10000000000003517,
          -3.552713678800501e-14,
          0.09999999999996412,
          0.19999999999996376,
          0.2999999999999634,
          0.39999999999996305,
          0.4999999999999627,
          0.5999999999999623,
          0.699999999999962,
          0.7999999999999616,
          0.8999999999999613,
          0.9999999999999609,
          1.0999999999999606,
          1.1999999999999602,
          1.2999999999999599,
          1.3999999999999595,
          1.4999999999999591,
          1.5999999999999588,
          1.6999999999999584,
          1.799999999999958,
          1.8999999999999577,
          1.9999999999999574,
          2.099999999999957,
          2.1999999999999567,
          2.2999999999999563,
          2.399999999999956,
          2.4999999999999556,
          2.5999999999999552,
          2.699999999999955,
          2.7999999999999545,
          2.899999999999954,
          2.999999999999954,
          3.0999999999999535,
          3.199999999999953,
          3.2999999999999527,
          3.3999999999999524,
          3.499999999999952,
          3.5999999999999517,
          3.6999999999999513,
          3.799999999999951,
          3.8999999999999506,
          3.9999999999999503,
          4.09999999999995,
          4.1999999999999496,
          4.299999999999949,
          4.399999999999949,
          4.4999999999999485,
          4.599999999999948,
          4.699999999999948,
          4.799999999999947,
          4.899999999999947,
          4.999999999999947,
          5.099999999999946,
          5.199999999999946,
          5.299999999999946,
          5.399999999999945,
          5.499999999999945,
          5.599999999999945,
          5.699999999999944,
          5.799999999999944,
          5.8999999999999435,
          5.999999999999943,
          6.099999999999945,
          6.1999999999999424,
          6.29999999999994,
          6.399999999999942,
          6.499999999999943,
          6.599999999999941,
          6.699999999999939,
          6.79999999999994,
          6.899999999999942,
          6.99999999999994,
          7.0999999999999375,
          7.199999999999939,
          7.29999999999994,
          7.399999999999938,
          7.499999999999936,
          7.5999999999999375,
          7.699999999999939,
          7.799999999999937,
          7.899999999999935,
          7.999999999999936,
          8.099999999999937,
          8.199999999999935,
          8.299999999999933,
          8.399999999999935,
          8.499999999999936,
          8.599999999999934,
          8.699999999999932,
          8.799999999999933,
          8.899999999999935,
          8.999999999999932,
          9.09999999999993,
          9.199999999999932,
          9.299999999999933,
          9.399999999999931,
          9.499999999999929,
          9.59999999999993,
          9.699999999999932,
          9.79999999999993,
          9.899999999999928
         ],
         "y": [
          1.9287498479639178e-22,
          5.216736662027038e-22,
          1.3969439431470891e-21,
          3.7035319776523184e-21,
          9.720985020300643e-21,
          2.5261637809256567e-20,
          6.499347972070755e-20,
          1.6555226620987275e-19,
          4.1750100558503957e-19,
          1.0424061783901304e-18,
          2.5767571091548894e-18,
          6.306189893986223e-18,
          1.5279799682872503e-17,
          3.665433395600889e-17,
          8.705426622295879e-17,
          2.046971713164117e-16,
          4.765304735298851e-16,
          1.0983141298285426e-15,
          2.506221887145132e-15,
          5.6619955169486286e-15,
          1.2664165549093456e-14,
          2.804404738222628e-14,
          6.148396412704385e-14,
          1.3345660848219038e-13,
          2.8679750088879044e-13,
          6.101936677604913e-13,
          1.2853372251335588e-12,
          2.6805476373124164e-12,
          5.53461007170062e-12,
          1.1313776200064483e-11,
          2.289734845645382e-11,
          4.58796248713895e-11,
          9.101470764487257e-11,
          1.7875588711278416e-10,
          3.4758912812396506e-10,
          6.691586091292236e-10,
          1.27540762952594e-9,
          2.406722436300847e-9,
          4.496349462280486e-9,
          8.316702456827624e-9,
          1.522997974471133e-8,
          2.7612424568277996e-8,
          4.956405319172075e-8,
          8.808179196459807e-8,
          1.5497531357027618e-7,
          2.699578503362775e-7,
          4.6557157157826726e-7,
          7.949393615348435e-7,
          0.000001343812277631402,
          0.0000022490559670321426,
          0.00000372665317207834,
          0.000006113567966370859,
          0.0000099295043058502,
          0.000015966783897803327,
          0.00002541934651619699,
          0.00004006529739294758,
          0.00006252150377481481,
          0.0000965934137221756,
          0.0001477483602320208,
          0.0002237457937206011,
          0.00033546262790248323,
          0.0004979554215032314,
          0.000731802418880411,
          0.0010647662366678316,
          0.0015338106793243377,
          0.002187491118182708,
          0.0030887154082365246,
          0.004317840007632741,
          0.005976022895005481,
          0.008188701014373457,
          0.011108996538241477,
          0.014920786069066756,
          0.01984109474436887,
          0.0261214098539164,
          0.03404745473459702,
          0.04393693362340449,
          0.05613476283413009,
          0.0710053537396325,
          0.08892161745938093,
          0.11025052530447871,
          0.135335283236605,
          0.16447445657714588,
          0.1978986990836043,
          0.23574607655585172,
          0.27803730045318087,
          0.32465246735833503,
          0.37531109885138353,
          0.4295573582107219,
          0.4867522559599534,
          0.5460744266396904,
          0.606530659712614,
          0.666976810858455,
          0.726149037073672,
          0.78270453824185,
          0.8352702114112552,
          0.8824969025845805,
          0.9231163463866232,
          0.9559974818330901,
          0.9801986733067485,
          0.9950124791926788,
          1,
          0.9950124791926859,
          0.9801986733067624,
          0.9559974818331104,
          0.9231163463866494,
          0.8824969025846119,
          0.8352702114112909,
          0.782704538241889,
          0.7261490370737133,
          0.6669768108584976,
          0.6065306597126571,
          0.5460744266397332,
          0.4867522559599949,
          0.4295573582107616,
          0.37531109885142083,
          0.3246524673583696,
          0.27803730045321245,
          0.2357460765558802,
          0.1978986990836296,
          0.16447445657716808,
          0.13533528323662422,
          0.11025052530449515,
          0.08892161745939484,
          0.0710053537396441,
          0.05613476283413966,
          0.0439369336234123,
          0.03404745473460331,
          0.02612140985392141,
          0.019841094744372817,
          0.01492078606906983,
          0.011108996538243847,
          0.008188701014375261,
          0.00597602289500684,
          0.004317840007633753,
          0.003088715408237271,
          0.0021874911181832524,
          0.0015338106793247302,
          0.0010647662366681115,
          0.0007318024188806086,
          0.0004979554215033694,
          0.0003354626279025786,
          0.00022374579372066625,
          0.00014774836023206486,
          0.00009659341372220511,
          0.00006252150377483437,
          0.00004006529739296032,
          0.0000254193465162053,
          0.00001596678389780866,
          0.000009929504305853587,
          0.000006113567966372988,
          0.000003726653172079664,
          0.000002249055967032958,
          0.0000013438122776318986,
          7.949393615351428e-7,
          4.6557157157844593e-7,
          2.699578503363834e-7,
          1.5497531357033785e-7,
          8.808179196463373e-8,
          4.956405319174118e-8,
          2.761242456828957e-8,
          1.5229979744717824e-8,
          8.31670245683114e-9,
          4.496349462282467e-9,
          2.4067224363019582e-9,
          1.2754076295265198e-9,
          6.691586091295255e-10,
          3.4758912812412807e-10,
          1.7875588711287114e-10,
          9.101470764491654e-11,
          4.587962487141134e-11,
          2.289734845646521e-11,
          1.1313776200070312e-11,
          5.5346100717034514e-12,
          2.6805476373137783e-12,
          1.2853372251342348e-12,
          6.101936677608251e-13,
          2.867975008889453e-13,
          1.3345660848226152e-13,
          6.148396412707793e-14,
          2.804404738224242e-14,
          1.2664165549100655e-14,
          5.661995516951807e-15,
          2.5062218871465923e-15,
          1.0983141298292058e-15,
          4.765304735301695e-16,
          2.0469717131653097e-16,
          8.705426622301198e-17,
          3.665433395603207e-17,
          1.527979968288206e-17,
          6.3061898939900765e-18,
          2.5767571091565372e-18,
          1.0424061783908193e-18,
          4.175010055853125e-19,
          1.6555226620997978e-19,
          6.499347972075095e-20,
          2.526163780927398e-20,
          9.720985020307274e-21,
          3.703531977654792e-21,
          1.3969439431480619e-21,
          5.216736662030781e-22
         ]
        }
       ],
       "layout": {
        "autosize": false,
        "height": 600,
        "legend": {
         "x": 0.95,
         "xanchor": "right",
         "y": 0.9,
         "yanchor": "top"
        },
        "plot_bgcolor": "rgba(0,0,0,0)",
        "template": {
         "data": {
          "bar": [
           {
            "error_x": {
             "color": "#2a3f5f"
            },
            "error_y": {
             "color": "#2a3f5f"
            },
            "marker": {
             "line": {
              "color": "#E5ECF6",
              "width": 0.5
             },
             "pattern": {
              "fillmode": "overlay",
              "size": 10,
              "solidity": 0.2
             }
            },
            "type": "bar"
           }
          ],
          "barpolar": [
           {
            "marker": {
             "line": {
              "color": "#E5ECF6",
              "width": 0.5
             },
             "pattern": {
              "fillmode": "overlay",
              "size": 10,
              "solidity": 0.2
             }
            },
            "type": "barpolar"
           }
          ],
          "carpet": [
           {
            "aaxis": {
             "endlinecolor": "#2a3f5f",
             "gridcolor": "white",
             "linecolor": "white",
             "minorgridcolor": "white",
             "startlinecolor": "#2a3f5f"
            },
            "baxis": {
             "endlinecolor": "#2a3f5f",
             "gridcolor": "white",
             "linecolor": "white",
             "minorgridcolor": "white",
             "startlinecolor": "#2a3f5f"
            },
            "type": "carpet"
           }
          ],
          "choropleth": [
           {
            "colorbar": {
             "outlinewidth": 0,
             "ticks": ""
            },
            "type": "choropleth"
           }
          ],
          "contour": [
           {
            "colorbar": {
             "outlinewidth": 0,
             "ticks": ""
            },
            "colorscale": [
             [
              0,
              "#0d0887"
             ],
             [
              0.1111111111111111,
              "#46039f"
             ],
             [
              0.2222222222222222,
              "#7201a8"
             ],
             [
              0.3333333333333333,
              "#9c179e"
             ],
             [
              0.4444444444444444,
              "#bd3786"
             ],
             [
              0.5555555555555556,
              "#d8576b"
             ],
             [
              0.6666666666666666,
              "#ed7953"
             ],
             [
              0.7777777777777778,
              "#fb9f3a"
             ],
             [
              0.8888888888888888,
              "#fdca26"
             ],
             [
              1,
              "#f0f921"
             ]
            ],
            "type": "contour"
           }
          ],
          "contourcarpet": [
           {
            "colorbar": {
             "outlinewidth": 0,
             "ticks": ""
            },
            "type": "contourcarpet"
           }
          ],
          "heatmap": [
           {
            "colorbar": {
             "outlinewidth": 0,
             "ticks": ""
            },
            "colorscale": [
             [
              0,
              "#0d0887"
             ],
             [
              0.1111111111111111,
              "#46039f"
             ],
             [
              0.2222222222222222,
              "#7201a8"
             ],
             [
              0.3333333333333333,
              "#9c179e"
             ],
             [
              0.4444444444444444,
              "#bd3786"
             ],
             [
              0.5555555555555556,
              "#d8576b"
             ],
             [
              0.6666666666666666,
              "#ed7953"
             ],
             [
              0.7777777777777778,
              "#fb9f3a"
             ],
             [
              0.8888888888888888,
              "#fdca26"
             ],
             [
              1,
              "#f0f921"
             ]
            ],
            "type": "heatmap"
           }
          ],
          "heatmapgl": [
           {
            "colorbar": {
             "outlinewidth": 0,
             "ticks": ""
            },
            "colorscale": [
             [
              0,
              "#0d0887"
             ],
             [
              0.1111111111111111,
              "#46039f"
             ],
             [
              0.2222222222222222,
              "#7201a8"
             ],
             [
              0.3333333333333333,
              "#9c179e"
             ],
             [
              0.4444444444444444,
              "#bd3786"
             ],
             [
              0.5555555555555556,
              "#d8576b"
             ],
             [
              0.6666666666666666,
              "#ed7953"
             ],
             [
              0.7777777777777778,
              "#fb9f3a"
             ],
             [
              0.8888888888888888,
              "#fdca26"
             ],
             [
              1,
              "#f0f921"
             ]
            ],
            "type": "heatmapgl"
           }
          ],
          "histogram": [
           {
            "marker": {
             "pattern": {
              "fillmode": "overlay",
              "size": 10,
              "solidity": 0.2
             }
            },
            "type": "histogram"
           }
          ],
          "histogram2d": [
           {
            "colorbar": {
             "outlinewidth": 0,
             "ticks": ""
            },
            "colorscale": [
             [
              0,
              "#0d0887"
             ],
             [
              0.1111111111111111,
              "#46039f"
             ],
             [
              0.2222222222222222,
              "#7201a8"
             ],
             [
              0.3333333333333333,
              "#9c179e"
             ],
             [
              0.4444444444444444,
              "#bd3786"
             ],
             [
              0.5555555555555556,
              "#d8576b"
             ],
             [
              0.6666666666666666,
              "#ed7953"
             ],
             [
              0.7777777777777778,
              "#fb9f3a"
             ],
             [
              0.8888888888888888,
              "#fdca26"
             ],
             [
              1,
              "#f0f921"
             ]
            ],
            "type": "histogram2d"
           }
          ],
          "histogram2dcontour": [
           {
            "colorbar": {
             "outlinewidth": 0,
             "ticks": ""
            },
            "colorscale": [
             [
              0,
              "#0d0887"
             ],
             [
              0.1111111111111111,
              "#46039f"
             ],
             [
              0.2222222222222222,
              "#7201a8"
             ],
             [
              0.3333333333333333,
              "#9c179e"
             ],
             [
              0.4444444444444444,
              "#bd3786"
             ],
             [
              0.5555555555555556,
              "#d8576b"
             ],
             [
              0.6666666666666666,
              "#ed7953"
             ],
             [
              0.7777777777777778,
              "#fb9f3a"
             ],
             [
              0.8888888888888888,
              "#fdca26"
             ],
             [
              1,
              "#f0f921"
             ]
            ],
            "type": "histogram2dcontour"
           }
          ],
          "mesh3d": [
           {
            "colorbar": {
             "outlinewidth": 0,
             "ticks": ""
            },
            "type": "mesh3d"
           }
          ],
          "parcoords": [
           {
            "line": {
             "colorbar": {
              "outlinewidth": 0,
              "ticks": ""
             }
            },
            "type": "parcoords"
           }
          ],
          "pie": [
           {
            "automargin": true,
            "type": "pie"
           }
          ],
          "scatter": [
           {
            "fillpattern": {
             "fillmode": "overlay",
             "size": 10,
             "solidity": 0.2
            },
            "type": "scatter"
           }
          ],
          "scatter3d": [
           {
            "line": {
             "colorbar": {
              "outlinewidth": 0,
              "ticks": ""
             }
            },
            "marker": {
             "colorbar": {
              "outlinewidth": 0,
              "ticks": ""
             }
            },
            "type": "scatter3d"
           }
          ],
          "scattercarpet": [
           {
            "marker": {
             "colorbar": {
              "outlinewidth": 0,
              "ticks": ""
             }
            },
            "type": "scattercarpet"
           }
          ],
          "scattergeo": [
           {
            "marker": {
             "colorbar": {
              "outlinewidth": 0,
              "ticks": ""
             }
            },
            "type": "scattergeo"
           }
          ],
          "scattergl": [
           {
            "marker": {
             "colorbar": {
              "outlinewidth": 0,
              "ticks": ""
             }
            },
            "type": "scattergl"
           }
          ],
          "scattermapbox": [
           {
            "marker": {
             "colorbar": {
              "outlinewidth": 0,
              "ticks": ""
             }
            },
            "type": "scattermapbox"
           }
          ],
          "scatterpolar": [
           {
            "marker": {
             "colorbar": {
              "outlinewidth": 0,
              "ticks": ""
             }
            },
            "type": "scatterpolar"
           }
          ],
          "scatterpolargl": [
           {
            "marker": {
             "colorbar": {
              "outlinewidth": 0,
              "ticks": ""
             }
            },
            "type": "scatterpolargl"
           }
          ],
          "scatterternary": [
           {
            "marker": {
             "colorbar": {
              "outlinewidth": 0,
              "ticks": ""
             }
            },
            "type": "scatterternary"
           }
          ],
          "surface": [
           {
            "colorbar": {
             "outlinewidth": 0,
             "ticks": ""
            },
            "colorscale": [
             [
              0,
              "#0d0887"
             ],
             [
              0.1111111111111111,
              "#46039f"
             ],
             [
              0.2222222222222222,
              "#7201a8"
             ],
             [
              0.3333333333333333,
              "#9c179e"
             ],
             [
              0.4444444444444444,
              "#bd3786"
             ],
             [
              0.5555555555555556,
              "#d8576b"
             ],
             [
              0.6666666666666666,
              "#ed7953"
             ],
             [
              0.7777777777777778,
              "#fb9f3a"
             ],
             [
              0.8888888888888888,
              "#fdca26"
             ],
             [
              1,
              "#f0f921"
             ]
            ],
            "type": "surface"
           }
          ],
          "table": [
           {
            "cells": {
             "fill": {
              "color": "#EBF0F8"
             },
             "line": {
              "color": "white"
             }
            },
            "header": {
             "fill": {
              "color": "#C8D4E3"
             },
             "line": {
              "color": "white"
             }
            },
            "type": "table"
           }
          ]
         },
         "layout": {
          "annotationdefaults": {
           "arrowcolor": "#2a3f5f",
           "arrowhead": 0,
           "arrowwidth": 1
          },
          "autotypenumbers": "strict",
          "coloraxis": {
           "colorbar": {
            "outlinewidth": 0,
            "ticks": ""
           }
          },
          "colorscale": {
           "diverging": [
            [
             0,
             "#8e0152"
            ],
            [
             0.1,
             "#c51b7d"
            ],
            [
             0.2,
             "#de77ae"
            ],
            [
             0.3,
             "#f1b6da"
            ],
            [
             0.4,
             "#fde0ef"
            ],
            [
             0.5,
             "#f7f7f7"
            ],
            [
             0.6,
             "#e6f5d0"
            ],
            [
             0.7,
             "#b8e186"
            ],
            [
             0.8,
             "#7fbc41"
            ],
            [
             0.9,
             "#4d9221"
            ],
            [
             1,
             "#276419"
            ]
           ],
           "sequential": [
            [
             0,
             "#0d0887"
            ],
            [
             0.1111111111111111,
             "#46039f"
            ],
            [
             0.2222222222222222,
             "#7201a8"
            ],
            [
             0.3333333333333333,
             "#9c179e"
            ],
            [
             0.4444444444444444,
             "#bd3786"
            ],
            [
             0.5555555555555556,
             "#d8576b"
            ],
            [
             0.6666666666666666,
             "#ed7953"
            ],
            [
             0.7777777777777778,
             "#fb9f3a"
            ],
            [
             0.8888888888888888,
             "#fdca26"
            ],
            [
             1,
             "#f0f921"
            ]
           ],
           "sequentialminus": [
            [
             0,
             "#0d0887"
            ],
            [
             0.1111111111111111,
             "#46039f"
            ],
            [
             0.2222222222222222,
             "#7201a8"
            ],
            [
             0.3333333333333333,
             "#9c179e"
            ],
            [
             0.4444444444444444,
             "#bd3786"
            ],
            [
             0.5555555555555556,
             "#d8576b"
            ],
            [
             0.6666666666666666,
             "#ed7953"
            ],
            [
             0.7777777777777778,
             "#fb9f3a"
            ],
            [
             0.8888888888888888,
             "#fdca26"
            ],
            [
             1,
             "#f0f921"
            ]
           ]
          },
          "colorway": [
           "#636efa",
           "#EF553B",
           "#00cc96",
           "#ab63fa",
           "#FFA15A",
           "#19d3f3",
           "#FF6692",
           "#B6E880",
           "#FF97FF",
           "#FECB52"
          ],
          "font": {
           "color": "#2a3f5f"
          },
          "geo": {
           "bgcolor": "white",
           "lakecolor": "white",
           "landcolor": "#E5ECF6",
           "showlakes": true,
           "showland": true,
           "subunitcolor": "white"
          },
          "hoverlabel": {
           "align": "left"
          },
          "hovermode": "closest",
          "mapbox": {
           "style": "light"
          },
          "paper_bgcolor": "white",
          "plot_bgcolor": "#E5ECF6",
          "polar": {
           "angularaxis": {
            "gridcolor": "white",
            "linecolor": "white",
            "ticks": ""
           },
           "bgcolor": "#E5ECF6",
           "radialaxis": {
            "gridcolor": "white",
            "linecolor": "white",
            "ticks": ""
           }
          },
          "scene": {
           "xaxis": {
            "backgroundcolor": "#E5ECF6",
            "gridcolor": "white",
            "gridwidth": 2,
            "linecolor": "white",
            "showbackground": true,
            "ticks": "",
            "zerolinecolor": "white"
           },
           "yaxis": {
            "backgroundcolor": "#E5ECF6",
            "gridcolor": "white",
            "gridwidth": 2,
            "linecolor": "white",
            "showbackground": true,
            "ticks": "",
            "zerolinecolor": "white"
           },
           "zaxis": {
            "backgroundcolor": "#E5ECF6",
            "gridcolor": "white",
            "gridwidth": 2,
            "linecolor": "white",
            "showbackground": true,
            "ticks": "",
            "zerolinecolor": "white"
           }
          },
          "shapedefaults": {
           "line": {
            "color": "#2a3f5f"
           }
          },
          "ternary": {
           "aaxis": {
            "gridcolor": "white",
            "linecolor": "white",
            "ticks": ""
           },
           "baxis": {
            "gridcolor": "white",
            "linecolor": "white",
            "ticks": ""
           },
           "bgcolor": "#E5ECF6",
           "caxis": {
            "gridcolor": "white",
            "linecolor": "white",
            "ticks": ""
           }
          },
          "title": {
           "x": 0.05
          },
          "xaxis": {
           "automargin": true,
           "gridcolor": "white",
           "linecolor": "white",
           "ticks": "",
           "title": {
            "standoff": 15
           },
           "zerolinecolor": "white",
           "zerolinewidth": 2
          },
          "yaxis": {
           "automargin": true,
           "gridcolor": "white",
           "linecolor": "white",
           "ticks": "",
           "title": {
            "standoff": 15
           },
           "zerolinecolor": "white",
           "zerolinewidth": 2
          }
         }
        },
        "title": {
         "text": "Squared Exponential Kernel",
         "x": 0.5,
         "xanchor": "center"
        },
        "width": 800,
        "xaxis": {
         "linecolor": "black",
         "linewidth": 1,
         "showline": true,
         "title": {
          "text": "input values"
         }
        },
        "yaxis": {
         "linecolor": "black",
         "linewidth": 1,
         "showline": true,
         "title": {
          "text": "output values"
         }
        }
       }
      }
     },
     "metadata": {},
     "output_type": "display_data"
    }
   ],
   "source": [
    "x_lines = np.arange(-10, 10, 0.1)\n",
    "kernel = SquaredExponentialKernel()\n",
    "\n",
    "fig0 = go.Figure(data=[\n",
    "    line_scatter(\n",
    "        x_lines=x_lines,\n",
    "        y_lines=np.array([kernel(x, 0) for x in x_lines]),\n",
    "    )\n",
    "])\n",
    "\n",
    "fig0 = update_layout_of_graph(fig0, title='Squared Exponential Kernel')\n",
    "\n",
    "# Define the update function for interact\n",
    "@interact(length=(0.1, 3, 0.1), argument_2=(-10, 10, 0.1))\n",
    "def update(length=1, argument_2=0):\n",
    "    kernel = SquaredExponentialKernel(length=length)\n",
    "    fig0.data[0].y = np.array([kernel(x, argument_2) for x in x_lines])\n",
    "    fig0.show()\n",
    "\n"
   ]
  },
  {
   "cell_type": "markdown",
   "id": "b6f6cb45",
   "metadata": {},
   "source": [
    "The **constant kernel**."
   ]
  },
  {
   "cell_type": "code",
   "execution_count": 21,
   "id": "e44568e7",
   "metadata": {},
   "outputs": [
    {
     "data": {
      "application/vnd.jupyter.widget-view+json": {
       "model_id": "071e6078f45d487780c347e0804293f8",
       "version_major": 2,
       "version_minor": 0
      },
      "text/plain": [
       "interactive(children=(FloatSlider(value=1.0, description='sigma_0', max=3.0, min=0.1), FloatSlider(value=0.0, …"
      ]
     },
     "metadata": {},
     "output_type": "display_data"
    },
    {
     "data": {
      "application/vnd.plotly.v1+json": {
       "config": {
        "plotlyServerURL": "https://plot.ly"
       },
       "data": [
        {
         "mode": "lines",
         "type": "scatter",
         "x": [
          -10,
          -9.9,
          -9.8,
          -9.700000000000001,
          -9.600000000000001,
          -9.500000000000002,
          -9.400000000000002,
          -9.300000000000002,
          -9.200000000000003,
          -9.100000000000003,
          -9.000000000000004,
          -8.900000000000004,
          -8.800000000000004,
          -8.700000000000005,
          -8.600000000000005,
          -8.500000000000005,
          -8.400000000000006,
          -8.300000000000006,
          -8.200000000000006,
          -8.100000000000007,
          -8.000000000000007,
          -7.9000000000000075,
          -7.800000000000008,
          -7.700000000000008,
          -7.6000000000000085,
          -7.500000000000009,
          -7.400000000000009,
          -7.30000000000001,
          -7.20000000000001,
          -7.10000000000001,
          -7.000000000000011,
          -6.900000000000011,
          -6.800000000000011,
          -6.700000000000012,
          -6.600000000000012,
          -6.500000000000012,
          -6.400000000000013,
          -6.300000000000013,
          -6.2000000000000135,
          -6.100000000000014,
          -6.000000000000014,
          -5.900000000000015,
          -5.800000000000015,
          -5.700000000000015,
          -5.600000000000016,
          -5.500000000000016,
          -5.400000000000016,
          -5.300000000000017,
          -5.200000000000017,
          -5.100000000000017,
          -5.000000000000018,
          -4.900000000000018,
          -4.8000000000000185,
          -4.700000000000019,
          -4.600000000000019,
          -4.5000000000000195,
          -4.40000000000002,
          -4.30000000000002,
          -4.200000000000021,
          -4.100000000000021,
          -4.000000000000021,
          -3.9000000000000217,
          -3.800000000000022,
          -3.7000000000000224,
          -3.6000000000000227,
          -3.500000000000023,
          -3.4000000000000234,
          -3.300000000000024,
          -3.200000000000024,
          -3.1000000000000245,
          -3.000000000000025,
          -2.9000000000000252,
          -2.8000000000000256,
          -2.700000000000026,
          -2.6000000000000263,
          -2.5000000000000266,
          -2.400000000000027,
          -2.3000000000000274,
          -2.2000000000000277,
          -2.100000000000028,
          -2.0000000000000284,
          -1.9000000000000288,
          -1.8000000000000291,
          -1.7000000000000295,
          -1.6000000000000298,
          -1.5000000000000302,
          -1.4000000000000306,
          -1.300000000000031,
          -1.2000000000000313,
          -1.1000000000000316,
          -1.000000000000032,
          -0.9000000000000323,
          -0.8000000000000327,
          -0.700000000000033,
          -0.6000000000000334,
          -0.5000000000000338,
          -0.4000000000000341,
          -0.30000000000003446,
          -0.20000000000003482,
          -0.10000000000003517,
          -3.552713678800501e-14,
          0.09999999999996412,
          0.19999999999996376,
          0.2999999999999634,
          0.39999999999996305,
          0.4999999999999627,
          0.5999999999999623,
          0.699999999999962,
          0.7999999999999616,
          0.8999999999999613,
          0.9999999999999609,
          1.0999999999999606,
          1.1999999999999602,
          1.2999999999999599,
          1.3999999999999595,
          1.4999999999999591,
          1.5999999999999588,
          1.6999999999999584,
          1.799999999999958,
          1.8999999999999577,
          1.9999999999999574,
          2.099999999999957,
          2.1999999999999567,
          2.2999999999999563,
          2.399999999999956,
          2.4999999999999556,
          2.5999999999999552,
          2.699999999999955,
          2.7999999999999545,
          2.899999999999954,
          2.999999999999954,
          3.0999999999999535,
          3.199999999999953,
          3.2999999999999527,
          3.3999999999999524,
          3.499999999999952,
          3.5999999999999517,
          3.6999999999999513,
          3.799999999999951,
          3.8999999999999506,
          3.9999999999999503,
          4.09999999999995,
          4.1999999999999496,
          4.299999999999949,
          4.399999999999949,
          4.4999999999999485,
          4.599999999999948,
          4.699999999999948,
          4.799999999999947,
          4.899999999999947,
          4.999999999999947,
          5.099999999999946,
          5.199999999999946,
          5.299999999999946,
          5.399999999999945,
          5.499999999999945,
          5.599999999999945,
          5.699999999999944,
          5.799999999999944,
          5.8999999999999435,
          5.999999999999943,
          6.099999999999945,
          6.1999999999999424,
          6.29999999999994,
          6.399999999999942,
          6.499999999999943,
          6.599999999999941,
          6.699999999999939,
          6.79999999999994,
          6.899999999999942,
          6.99999999999994,
          7.0999999999999375,
          7.199999999999939,
          7.29999999999994,
          7.399999999999938,
          7.499999999999936,
          7.5999999999999375,
          7.699999999999939,
          7.799999999999937,
          7.899999999999935,
          7.999999999999936,
          8.099999999999937,
          8.199999999999935,
          8.299999999999933,
          8.399999999999935,
          8.499999999999936,
          8.599999999999934,
          8.699999999999932,
          8.799999999999933,
          8.899999999999935,
          8.999999999999932,
          9.09999999999993,
          9.199999999999932,
          9.299999999999933,
          9.399999999999931,
          9.499999999999929,
          9.59999999999993,
          9.699999999999932,
          9.79999999999993,
          9.899999999999928
         ],
         "y": [
          1,
          1,
          1,
          1,
          1,
          1,
          1,
          1,
          1,
          1,
          1,
          1,
          1,
          1,
          1,
          1,
          1,
          1,
          1,
          1,
          1,
          1,
          1,
          1,
          1,
          1,
          1,
          1,
          1,
          1,
          1,
          1,
          1,
          1,
          1,
          1,
          1,
          1,
          1,
          1,
          1,
          1,
          1,
          1,
          1,
          1,
          1,
          1,
          1,
          1,
          1,
          1,
          1,
          1,
          1,
          1,
          1,
          1,
          1,
          1,
          1,
          1,
          1,
          1,
          1,
          1,
          1,
          1,
          1,
          1,
          1,
          1,
          1,
          1,
          1,
          1,
          1,
          1,
          1,
          1,
          1,
          1,
          1,
          1,
          1,
          1,
          1,
          1,
          1,
          1,
          1,
          1,
          1,
          1,
          1,
          1,
          1,
          1,
          1,
          1,
          1,
          1,
          1,
          1,
          1,
          1,
          1,
          1,
          1,
          1,
          1,
          1,
          1,
          1,
          1,
          1,
          1,
          1,
          1,
          1,
          1,
          1,
          1,
          1,
          1,
          1,
          1,
          1,
          1,
          1,
          1,
          1,
          1,
          1,
          1,
          1,
          1,
          1,
          1,
          1,
          1,
          1,
          1,
          1,
          1,
          1,
          1,
          1,
          1,
          1,
          1,
          1,
          1,
          1,
          1,
          1,
          1,
          1,
          1,
          1,
          1,
          1,
          1,
          1,
          1,
          1,
          1,
          1,
          1,
          1,
          1,
          1,
          1,
          1,
          1,
          1,
          1,
          1,
          1,
          1,
          1,
          1,
          1,
          1,
          1,
          1,
          1,
          1,
          1,
          1,
          1,
          1,
          1,
          1,
          1,
          1,
          1,
          1,
          1,
          1
         ]
        }
       ],
       "layout": {
        "template": {
         "data": {
          "bar": [
           {
            "error_x": {
             "color": "#2a3f5f"
            },
            "error_y": {
             "color": "#2a3f5f"
            },
            "marker": {
             "line": {
              "color": "#E5ECF6",
              "width": 0.5
             },
             "pattern": {
              "fillmode": "overlay",
              "size": 10,
              "solidity": 0.2
             }
            },
            "type": "bar"
           }
          ],
          "barpolar": [
           {
            "marker": {
             "line": {
              "color": "#E5ECF6",
              "width": 0.5
             },
             "pattern": {
              "fillmode": "overlay",
              "size": 10,
              "solidity": 0.2
             }
            },
            "type": "barpolar"
           }
          ],
          "carpet": [
           {
            "aaxis": {
             "endlinecolor": "#2a3f5f",
             "gridcolor": "white",
             "linecolor": "white",
             "minorgridcolor": "white",
             "startlinecolor": "#2a3f5f"
            },
            "baxis": {
             "endlinecolor": "#2a3f5f",
             "gridcolor": "white",
             "linecolor": "white",
             "minorgridcolor": "white",
             "startlinecolor": "#2a3f5f"
            },
            "type": "carpet"
           }
          ],
          "choropleth": [
           {
            "colorbar": {
             "outlinewidth": 0,
             "ticks": ""
            },
            "type": "choropleth"
           }
          ],
          "contour": [
           {
            "colorbar": {
             "outlinewidth": 0,
             "ticks": ""
            },
            "colorscale": [
             [
              0,
              "#0d0887"
             ],
             [
              0.1111111111111111,
              "#46039f"
             ],
             [
              0.2222222222222222,
              "#7201a8"
             ],
             [
              0.3333333333333333,
              "#9c179e"
             ],
             [
              0.4444444444444444,
              "#bd3786"
             ],
             [
              0.5555555555555556,
              "#d8576b"
             ],
             [
              0.6666666666666666,
              "#ed7953"
             ],
             [
              0.7777777777777778,
              "#fb9f3a"
             ],
             [
              0.8888888888888888,
              "#fdca26"
             ],
             [
              1,
              "#f0f921"
             ]
            ],
            "type": "contour"
           }
          ],
          "contourcarpet": [
           {
            "colorbar": {
             "outlinewidth": 0,
             "ticks": ""
            },
            "type": "contourcarpet"
           }
          ],
          "heatmap": [
           {
            "colorbar": {
             "outlinewidth": 0,
             "ticks": ""
            },
            "colorscale": [
             [
              0,
              "#0d0887"
             ],
             [
              0.1111111111111111,
              "#46039f"
             ],
             [
              0.2222222222222222,
              "#7201a8"
             ],
             [
              0.3333333333333333,
              "#9c179e"
             ],
             [
              0.4444444444444444,
              "#bd3786"
             ],
             [
              0.5555555555555556,
              "#d8576b"
             ],
             [
              0.6666666666666666,
              "#ed7953"
             ],
             [
              0.7777777777777778,
              "#fb9f3a"
             ],
             [
              0.8888888888888888,
              "#fdca26"
             ],
             [
              1,
              "#f0f921"
             ]
            ],
            "type": "heatmap"
           }
          ],
          "heatmapgl": [
           {
            "colorbar": {
             "outlinewidth": 0,
             "ticks": ""
            },
            "colorscale": [
             [
              0,
              "#0d0887"
             ],
             [
              0.1111111111111111,
              "#46039f"
             ],
             [
              0.2222222222222222,
              "#7201a8"
             ],
             [
              0.3333333333333333,
              "#9c179e"
             ],
             [
              0.4444444444444444,
              "#bd3786"
             ],
             [
              0.5555555555555556,
              "#d8576b"
             ],
             [
              0.6666666666666666,
              "#ed7953"
             ],
             [
              0.7777777777777778,
              "#fb9f3a"
             ],
             [
              0.8888888888888888,
              "#fdca26"
             ],
             [
              1,
              "#f0f921"
             ]
            ],
            "type": "heatmapgl"
           }
          ],
          "histogram": [
           {
            "marker": {
             "pattern": {
              "fillmode": "overlay",
              "size": 10,
              "solidity": 0.2
             }
            },
            "type": "histogram"
           }
          ],
          "histogram2d": [
           {
            "colorbar": {
             "outlinewidth": 0,
             "ticks": ""
            },
            "colorscale": [
             [
              0,
              "#0d0887"
             ],
             [
              0.1111111111111111,
              "#46039f"
             ],
             [
              0.2222222222222222,
              "#7201a8"
             ],
             [
              0.3333333333333333,
              "#9c179e"
             ],
             [
              0.4444444444444444,
              "#bd3786"
             ],
             [
              0.5555555555555556,
              "#d8576b"
             ],
             [
              0.6666666666666666,
              "#ed7953"
             ],
             [
              0.7777777777777778,
              "#fb9f3a"
             ],
             [
              0.8888888888888888,
              "#fdca26"
             ],
             [
              1,
              "#f0f921"
             ]
            ],
            "type": "histogram2d"
           }
          ],
          "histogram2dcontour": [
           {
            "colorbar": {
             "outlinewidth": 0,
             "ticks": ""
            },
            "colorscale": [
             [
              0,
              "#0d0887"
             ],
             [
              0.1111111111111111,
              "#46039f"
             ],
             [
              0.2222222222222222,
              "#7201a8"
             ],
             [
              0.3333333333333333,
              "#9c179e"
             ],
             [
              0.4444444444444444,
              "#bd3786"
             ],
             [
              0.5555555555555556,
              "#d8576b"
             ],
             [
              0.6666666666666666,
              "#ed7953"
             ],
             [
              0.7777777777777778,
              "#fb9f3a"
             ],
             [
              0.8888888888888888,
              "#fdca26"
             ],
             [
              1,
              "#f0f921"
             ]
            ],
            "type": "histogram2dcontour"
           }
          ],
          "mesh3d": [
           {
            "colorbar": {
             "outlinewidth": 0,
             "ticks": ""
            },
            "type": "mesh3d"
           }
          ],
          "parcoords": [
           {
            "line": {
             "colorbar": {
              "outlinewidth": 0,
              "ticks": ""
             }
            },
            "type": "parcoords"
           }
          ],
          "pie": [
           {
            "automargin": true,
            "type": "pie"
           }
          ],
          "scatter": [
           {
            "fillpattern": {
             "fillmode": "overlay",
             "size": 10,
             "solidity": 0.2
            },
            "type": "scatter"
           }
          ],
          "scatter3d": [
           {
            "line": {
             "colorbar": {
              "outlinewidth": 0,
              "ticks": ""
             }
            },
            "marker": {
             "colorbar": {
              "outlinewidth": 0,
              "ticks": ""
             }
            },
            "type": "scatter3d"
           }
          ],
          "scattercarpet": [
           {
            "marker": {
             "colorbar": {
              "outlinewidth": 0,
              "ticks": ""
             }
            },
            "type": "scattercarpet"
           }
          ],
          "scattergeo": [
           {
            "marker": {
             "colorbar": {
              "outlinewidth": 0,
              "ticks": ""
             }
            },
            "type": "scattergeo"
           }
          ],
          "scattergl": [
           {
            "marker": {
             "colorbar": {
              "outlinewidth": 0,
              "ticks": ""
             }
            },
            "type": "scattergl"
           }
          ],
          "scattermapbox": [
           {
            "marker": {
             "colorbar": {
              "outlinewidth": 0,
              "ticks": ""
             }
            },
            "type": "scattermapbox"
           }
          ],
          "scatterpolar": [
           {
            "marker": {
             "colorbar": {
              "outlinewidth": 0,
              "ticks": ""
             }
            },
            "type": "scatterpolar"
           }
          ],
          "scatterpolargl": [
           {
            "marker": {
             "colorbar": {
              "outlinewidth": 0,
              "ticks": ""
             }
            },
            "type": "scatterpolargl"
           }
          ],
          "scatterternary": [
           {
            "marker": {
             "colorbar": {
              "outlinewidth": 0,
              "ticks": ""
             }
            },
            "type": "scatterternary"
           }
          ],
          "surface": [
           {
            "colorbar": {
             "outlinewidth": 0,
             "ticks": ""
            },
            "colorscale": [
             [
              0,
              "#0d0887"
             ],
             [
              0.1111111111111111,
              "#46039f"
             ],
             [
              0.2222222222222222,
              "#7201a8"
             ],
             [
              0.3333333333333333,
              "#9c179e"
             ],
             [
              0.4444444444444444,
              "#bd3786"
             ],
             [
              0.5555555555555556,
              "#d8576b"
             ],
             [
              0.6666666666666666,
              "#ed7953"
             ],
             [
              0.7777777777777778,
              "#fb9f3a"
             ],
             [
              0.8888888888888888,
              "#fdca26"
             ],
             [
              1,
              "#f0f921"
             ]
            ],
            "type": "surface"
           }
          ],
          "table": [
           {
            "cells": {
             "fill": {
              "color": "#EBF0F8"
             },
             "line": {
              "color": "white"
             }
            },
            "header": {
             "fill": {
              "color": "#C8D4E3"
             },
             "line": {
              "color": "white"
             }
            },
            "type": "table"
           }
          ]
         },
         "layout": {
          "annotationdefaults": {
           "arrowcolor": "#2a3f5f",
           "arrowhead": 0,
           "arrowwidth": 1
          },
          "autotypenumbers": "strict",
          "coloraxis": {
           "colorbar": {
            "outlinewidth": 0,
            "ticks": ""
           }
          },
          "colorscale": {
           "diverging": [
            [
             0,
             "#8e0152"
            ],
            [
             0.1,
             "#c51b7d"
            ],
            [
             0.2,
             "#de77ae"
            ],
            [
             0.3,
             "#f1b6da"
            ],
            [
             0.4,
             "#fde0ef"
            ],
            [
             0.5,
             "#f7f7f7"
            ],
            [
             0.6,
             "#e6f5d0"
            ],
            [
             0.7,
             "#b8e186"
            ],
            [
             0.8,
             "#7fbc41"
            ],
            [
             0.9,
             "#4d9221"
            ],
            [
             1,
             "#276419"
            ]
           ],
           "sequential": [
            [
             0,
             "#0d0887"
            ],
            [
             0.1111111111111111,
             "#46039f"
            ],
            [
             0.2222222222222222,
             "#7201a8"
            ],
            [
             0.3333333333333333,
             "#9c179e"
            ],
            [
             0.4444444444444444,
             "#bd3786"
            ],
            [
             0.5555555555555556,
             "#d8576b"
            ],
            [
             0.6666666666666666,
             "#ed7953"
            ],
            [
             0.7777777777777778,
             "#fb9f3a"
            ],
            [
             0.8888888888888888,
             "#fdca26"
            ],
            [
             1,
             "#f0f921"
            ]
           ],
           "sequentialminus": [
            [
             0,
             "#0d0887"
            ],
            [
             0.1111111111111111,
             "#46039f"
            ],
            [
             0.2222222222222222,
             "#7201a8"
            ],
            [
             0.3333333333333333,
             "#9c179e"
            ],
            [
             0.4444444444444444,
             "#bd3786"
            ],
            [
             0.5555555555555556,
             "#d8576b"
            ],
            [
             0.6666666666666666,
             "#ed7953"
            ],
            [
             0.7777777777777778,
             "#fb9f3a"
            ],
            [
             0.8888888888888888,
             "#fdca26"
            ],
            [
             1,
             "#f0f921"
            ]
           ]
          },
          "colorway": [
           "#636efa",
           "#EF553B",
           "#00cc96",
           "#ab63fa",
           "#FFA15A",
           "#19d3f3",
           "#FF6692",
           "#B6E880",
           "#FF97FF",
           "#FECB52"
          ],
          "font": {
           "color": "#2a3f5f"
          },
          "geo": {
           "bgcolor": "white",
           "lakecolor": "white",
           "landcolor": "#E5ECF6",
           "showlakes": true,
           "showland": true,
           "subunitcolor": "white"
          },
          "hoverlabel": {
           "align": "left"
          },
          "hovermode": "closest",
          "mapbox": {
           "style": "light"
          },
          "paper_bgcolor": "white",
          "plot_bgcolor": "#E5ECF6",
          "polar": {
           "angularaxis": {
            "gridcolor": "white",
            "linecolor": "white",
            "ticks": ""
           },
           "bgcolor": "#E5ECF6",
           "radialaxis": {
            "gridcolor": "white",
            "linecolor": "white",
            "ticks": ""
           }
          },
          "scene": {
           "xaxis": {
            "backgroundcolor": "#E5ECF6",
            "gridcolor": "white",
            "gridwidth": 2,
            "linecolor": "white",
            "showbackground": true,
            "ticks": "",
            "zerolinecolor": "white"
           },
           "yaxis": {
            "backgroundcolor": "#E5ECF6",
            "gridcolor": "white",
            "gridwidth": 2,
            "linecolor": "white",
            "showbackground": true,
            "ticks": "",
            "zerolinecolor": "white"
           },
           "zaxis": {
            "backgroundcolor": "#E5ECF6",
            "gridcolor": "white",
            "gridwidth": 2,
            "linecolor": "white",
            "showbackground": true,
            "ticks": "",
            "zerolinecolor": "white"
           }
          },
          "shapedefaults": {
           "line": {
            "color": "#2a3f5f"
           }
          },
          "ternary": {
           "aaxis": {
            "gridcolor": "white",
            "linecolor": "white",
            "ticks": ""
           },
           "baxis": {
            "gridcolor": "white",
            "linecolor": "white",
            "ticks": ""
           },
           "bgcolor": "#E5ECF6",
           "caxis": {
            "gridcolor": "white",
            "linecolor": "white",
            "ticks": ""
           }
          },
          "title": {
           "x": 0.05
          },
          "xaxis": {
           "automargin": true,
           "gridcolor": "white",
           "linecolor": "white",
           "ticks": "",
           "title": {
            "standoff": 15
           },
           "zerolinecolor": "white",
           "zerolinewidth": 2
          },
          "yaxis": {
           "automargin": true,
           "gridcolor": "white",
           "linecolor": "white",
           "ticks": "",
           "title": {
            "standoff": 15
           },
           "zerolinecolor": "white",
           "zerolinewidth": 2
          }
         }
        },
        "title": {
         "text": "Constant Kernel"
        }
       }
      }
     },
     "metadata": {},
     "output_type": "display_data"
    }
   ],
   "source": [
    "x_lines = np.arange(-10, 10, 0.1)\n",
    "\n",
    "# Initialize with default parameters for the Constant kernel\n",
    "kernel = ConstantKernel()\n",
    "\n",
    "# Create the initial plot\n",
    "fig0 = go.Figure(data=[\n",
    "    go.Scatter(\n",
    "        x=x_lines,\n",
    "        y=[kernel(x, 0) for x in x_lines],\n",
    "        mode='lines'\n",
    "    )\n",
    "])\n",
    "\n",
    "# Update the layout for clarity\n",
    "fig0.update_layout(title='Constant Kernel')\n",
    "\n",
    "# Define the update function for interact\n",
    "@interact(sigma_0=(0.1, 3, 0.1), argument_2=(-10, 10, 0.1))\n",
    "def update(sigma_0=1.0, argument_2=0):\n",
    "    kernel = ConstantKernel(sigma_0=sigma_0)\n",
    "    fig0.data[0].y = [kernel(x, argument_2) for x in x_lines]\n",
    "    fig0.show()\n"
   ]
  },
  {
   "cell_type": "markdown",
   "id": "a007ec34",
   "metadata": {},
   "source": [
    "And the **Matérn kernel**."
   ]
  },
  {
   "cell_type": "code",
   "execution_count": 22,
   "id": "f2f985fa",
   "metadata": {},
   "outputs": [
    {
     "data": {
      "application/vnd.jupyter.widget-view+json": {
       "model_id": "7a09b30ec71f4d088607f3fe060f4cac",
       "version_major": 2,
       "version_minor": 0
      },
      "text/plain": [
       "interactive(children=(FloatSlider(value=1.0, description='length', max=3.0, min=0.1), FloatSlider(value=1.5, d…"
      ]
     },
     "metadata": {},
     "output_type": "display_data"
    },
    {
     "data": {
      "application/vnd.plotly.v1+json": {
       "config": {
        "plotlyServerURL": "https://plot.ly"
       },
       "data": [
        {
         "mode": "lines",
         "type": "scatter",
         "x": [
          -10,
          -9.9,
          -9.8,
          -9.700000000000001,
          -9.600000000000001,
          -9.500000000000002,
          -9.400000000000002,
          -9.300000000000002,
          -9.200000000000003,
          -9.100000000000003,
          -9.000000000000004,
          -8.900000000000004,
          -8.800000000000004,
          -8.700000000000005,
          -8.600000000000005,
          -8.500000000000005,
          -8.400000000000006,
          -8.300000000000006,
          -8.200000000000006,
          -8.100000000000007,
          -8.000000000000007,
          -7.9000000000000075,
          -7.800000000000008,
          -7.700000000000008,
          -7.6000000000000085,
          -7.500000000000009,
          -7.400000000000009,
          -7.30000000000001,
          -7.20000000000001,
          -7.10000000000001,
          -7.000000000000011,
          -6.900000000000011,
          -6.800000000000011,
          -6.700000000000012,
          -6.600000000000012,
          -6.500000000000012,
          -6.400000000000013,
          -6.300000000000013,
          -6.2000000000000135,
          -6.100000000000014,
          -6.000000000000014,
          -5.900000000000015,
          -5.800000000000015,
          -5.700000000000015,
          -5.600000000000016,
          -5.500000000000016,
          -5.400000000000016,
          -5.300000000000017,
          -5.200000000000017,
          -5.100000000000017,
          -5.000000000000018,
          -4.900000000000018,
          -4.8000000000000185,
          -4.700000000000019,
          -4.600000000000019,
          -4.5000000000000195,
          -4.40000000000002,
          -4.30000000000002,
          -4.200000000000021,
          -4.100000000000021,
          -4.000000000000021,
          -3.9000000000000217,
          -3.800000000000022,
          -3.7000000000000224,
          -3.6000000000000227,
          -3.500000000000023,
          -3.4000000000000234,
          -3.300000000000024,
          -3.200000000000024,
          -3.1000000000000245,
          -3.000000000000025,
          -2.9000000000000252,
          -2.8000000000000256,
          -2.700000000000026,
          -2.6000000000000263,
          -2.5000000000000266,
          -2.400000000000027,
          -2.3000000000000274,
          -2.2000000000000277,
          -2.100000000000028,
          -2.0000000000000284,
          -1.9000000000000288,
          -1.8000000000000291,
          -1.7000000000000295,
          -1.6000000000000298,
          -1.5000000000000302,
          -1.4000000000000306,
          -1.300000000000031,
          -1.2000000000000313,
          -1.1000000000000316,
          -1.000000000000032,
          -0.9000000000000323,
          -0.8000000000000327,
          -0.700000000000033,
          -0.6000000000000334,
          -0.5000000000000338,
          -0.4000000000000341,
          -0.30000000000003446,
          -0.20000000000003482,
          -0.10000000000003517,
          -3.552713678800501e-14,
          0.09999999999996412,
          0.19999999999996376,
          0.2999999999999634,
          0.39999999999996305,
          0.4999999999999627,
          0.5999999999999623,
          0.699999999999962,
          0.7999999999999616,
          0.8999999999999613,
          0.9999999999999609,
          1.0999999999999606,
          1.1999999999999602,
          1.2999999999999599,
          1.3999999999999595,
          1.4999999999999591,
          1.5999999999999588,
          1.6999999999999584,
          1.799999999999958,
          1.8999999999999577,
          1.9999999999999574,
          2.099999999999957,
          2.1999999999999567,
          2.2999999999999563,
          2.399999999999956,
          2.4999999999999556,
          2.5999999999999552,
          2.699999999999955,
          2.7999999999999545,
          2.899999999999954,
          2.999999999999954,
          3.0999999999999535,
          3.199999999999953,
          3.2999999999999527,
          3.3999999999999524,
          3.499999999999952,
          3.5999999999999517,
          3.6999999999999513,
          3.799999999999951,
          3.8999999999999506,
          3.9999999999999503,
          4.09999999999995,
          4.1999999999999496,
          4.299999999999949,
          4.399999999999949,
          4.4999999999999485,
          4.599999999999948,
          4.699999999999948,
          4.799999999999947,
          4.899999999999947,
          4.999999999999947,
          5.099999999999946,
          5.199999999999946,
          5.299999999999946,
          5.399999999999945,
          5.499999999999945,
          5.599999999999945,
          5.699999999999944,
          5.799999999999944,
          5.8999999999999435,
          5.999999999999943,
          6.099999999999945,
          6.1999999999999424,
          6.29999999999994,
          6.399999999999942,
          6.499999999999943,
          6.599999999999941,
          6.699999999999939,
          6.79999999999994,
          6.899999999999942,
          6.99999999999994,
          7.0999999999999375,
          7.199999999999939,
          7.29999999999994,
          7.399999999999938,
          7.499999999999936,
          7.5999999999999375,
          7.699999999999939,
          7.799999999999937,
          7.899999999999935,
          7.999999999999936,
          8.099999999999937,
          8.199999999999935,
          8.299999999999933,
          8.399999999999935,
          8.499999999999936,
          8.599999999999934,
          8.699999999999932,
          8.799999999999933,
          8.899999999999935,
          8.999999999999932,
          9.09999999999993,
          9.199999999999932,
          9.299999999999933,
          9.399999999999931,
          9.499999999999929,
          9.59999999999993,
          9.699999999999932,
          9.79999999999993,
          9.899999999999928
         ],
         "y": [
          5.504735201255525e-7,
          6.483850911872551e-7,
          7.636424173912881e-7,
          8.993044388017348e-7,
          0.0000010589667186528345,
          0.000001246855009343352,
          0.000001467935015926674,
          0.0000017280411371511577,
          0.0000020340274363130667,
          0.0000023939446455687074,
          0.000002817247650972019,
          0.0000033150386565248445,
          0.000003900352101553765,
          0.000004588488427180298,
          0.000005397404978205385,
          0.0000063481737138108505,
          0.000007465517015844949,
          0.000008778434763840004,
          0.000010320938033773476,
          0.000012132907321978158,
          0.000014261096153135251,
          0.000016760304367208576,
          0.000019694749369668004,
          0.000023139668258897972,
          0.00002718318911370069,
          0.00003192851594640037,
          0.000037496479034064174,
          0.00004402851068157067,
          0.00005169011611690992,
          0.00006067492036663461,
          0.00007120938483047216,
          0.00008355830212196766,
          0.00009803119485401568,
          0.00011498976374958753,
          0.00013485655311629014,
          0.00015812502775238005,
          0.00018537128521603418,
          0.0002172676616087142,
          0.0002545985281764579,
          0.000298278620762212,
          0.00034937429515677555,
          0.00040912815947304916,
          0.0004789876006549897,
          0.0005606377970434128,
          0.0006560398935332732,
          0.0007674751113029698,
          0.000897595671447062,
          0.001049483532188883,
          0.0012267180737643112,
          0.0014334540145701689,
          0.0016745110076595575,
          0.001955476548841852,
          0.0022828240268999503,
          0.00266404796271649,
          0.0031078187167169393,
          0.0036241591914353923,
          0.0042246463154599866,
          0.004922640362230577,
          0.00573354542579942,
          0.006675104636708228,
          0.0077677339421016725,
          0.009034898478159721,
          0.01050353570727598,
          0.012204529547293239,
          0.014173239646532986,
          0.016450089705774648,
          0.01908121825167943,
          0.02211919444213055,
          0.02562380022652369,
          0.029662878358729976,
          0.03431324319745894,
          0.039661647714342,
          0.045805795396050765,
          0.052855379437572285,
          0.06093312336047909,
          0.07017578643093084,
          0.08073508334878289,
          0.09277844982709665,
          0.10648956288428939,
          0.12206849569727488,
          0.1397313501923094,
          0.15970916430560939,
          0.18224583271892048,
          0.20759470702581442,
          0.23601345022299386,
          0.26775660686439934,
          0.3030652089129808,
          0.34215256184242787,
          0.3851851380048897,
          0.432257235060922,
          0.48335772459649085,
          0.5383268055581608,
          0.5968001712848731,
          0.6581373763165635,
          0.7213304237514794,
          0.7848876539574295,
          0.8466868622689407,
          0.9037901598990205,
          0.9522113614772205,
          0.986624564889698,
          1.0000000000000002,
          0.986624564889716,
          0.9522113614772503,
          0.9037901598990585,
          0.8466868622689833,
          0.7848876539574746,
          0.7213304237515245,
          0.6581373763166078,
          0.5968001712849158,
          0.538326805558201,
          0.4833577245965284,
          0.4322572350609569,
          0.3851851380049215,
          0.342152561842457,
          0.30306520891300714,
          0.2677566068644231,
          0.2360134502230152,
          0.20759470702583352,
          0.1822458327189375,
          0.15970916430562443,
          0.1397313501923227,
          0.12206849569728669,
          0.10648956288429978,
          0.0927784498271058,
          0.08073508334879093,
          0.07017578643093783,
          0.060933123360485245,
          0.05285537943757768,
          0.04580579539605541,
          0.039661647714346084,
          0.0343132431974625,
          0.029662878358733043,
          0.025623800226526376,
          0.022119194442132856,
          0.01908121825168143,
          0.016450089705776393,
          0.014173239646534485,
          0.012204529547294531,
          0.010503535707277106,
          0.009034898478160688,
          0.00776773394210251,
          0.006675104636708951,
          0.005733545425800038,
          0.004922640362231114,
          0.004224646315460449,
          0.003624159191435786,
          0.00310781871671728,
          0.0026640479627167805,
          0.0022828240269002,
          0.001955476548842067,
          0.0016745110076597438,
          0.0014334540145703293,
          0.0012267180737644467,
          0.0010494835321889994,
          0.0008975956714471614,
          0.0007674751113030547,
          0.0006560398935333472,
          0.0005606377970434754,
          0.0004789876006550432,
          0.00040912815947309454,
          0.0003493742951568146,
          0.000298278620762245,
          0.0002545985281764868,
          0.00021726766160873936,
          0.00018537128521605494,
          0.00015812502775239737,
          0.00013485655311630535,
          0.0001149897637496009,
          0.00009803119485402678,
          0.00008355830212197696,
          0.00007120938483048019,
          0.00006067492036664167,
          0.000051690116116915794,
          0.0000440285106815756,
          0.00003749647903406844,
          0.0000319285159464041,
          0.000027183189113703783,
          0.000023139668258900537,
          0.000019694749369670285,
          0.000016760304367210552,
          0.000014261096153136881,
          0.000012132907321979506,
          0.000010320938033774655,
          0.000008778434763841039,
          0.000007465517015845818,
          0.000006348173713811568,
          0.000005397404978206005,
          0.000004588488427180842,
          0.000003900352101554213,
          0.0000033150386565252227,
          0.000002817247650972348,
          0.0000023939446455689915,
          0.0000020340274363133017,
          0.0000017280411371513545,
          0.0000014679350159268457,
          0.0000012468550093435024,
          0.0000010589667186529586,
          8.993044388018371e-7,
          7.636424173913781e-7,
          6.483850911873312e-7
         ]
        }
       ],
       "layout": {
        "template": {
         "data": {
          "bar": [
           {
            "error_x": {
             "color": "#2a3f5f"
            },
            "error_y": {
             "color": "#2a3f5f"
            },
            "marker": {
             "line": {
              "color": "#E5ECF6",
              "width": 0.5
             },
             "pattern": {
              "fillmode": "overlay",
              "size": 10,
              "solidity": 0.2
             }
            },
            "type": "bar"
           }
          ],
          "barpolar": [
           {
            "marker": {
             "line": {
              "color": "#E5ECF6",
              "width": 0.5
             },
             "pattern": {
              "fillmode": "overlay",
              "size": 10,
              "solidity": 0.2
             }
            },
            "type": "barpolar"
           }
          ],
          "carpet": [
           {
            "aaxis": {
             "endlinecolor": "#2a3f5f",
             "gridcolor": "white",
             "linecolor": "white",
             "minorgridcolor": "white",
             "startlinecolor": "#2a3f5f"
            },
            "baxis": {
             "endlinecolor": "#2a3f5f",
             "gridcolor": "white",
             "linecolor": "white",
             "minorgridcolor": "white",
             "startlinecolor": "#2a3f5f"
            },
            "type": "carpet"
           }
          ],
          "choropleth": [
           {
            "colorbar": {
             "outlinewidth": 0,
             "ticks": ""
            },
            "type": "choropleth"
           }
          ],
          "contour": [
           {
            "colorbar": {
             "outlinewidth": 0,
             "ticks": ""
            },
            "colorscale": [
             [
              0,
              "#0d0887"
             ],
             [
              0.1111111111111111,
              "#46039f"
             ],
             [
              0.2222222222222222,
              "#7201a8"
             ],
             [
              0.3333333333333333,
              "#9c179e"
             ],
             [
              0.4444444444444444,
              "#bd3786"
             ],
             [
              0.5555555555555556,
              "#d8576b"
             ],
             [
              0.6666666666666666,
              "#ed7953"
             ],
             [
              0.7777777777777778,
              "#fb9f3a"
             ],
             [
              0.8888888888888888,
              "#fdca26"
             ],
             [
              1,
              "#f0f921"
             ]
            ],
            "type": "contour"
           }
          ],
          "contourcarpet": [
           {
            "colorbar": {
             "outlinewidth": 0,
             "ticks": ""
            },
            "type": "contourcarpet"
           }
          ],
          "heatmap": [
           {
            "colorbar": {
             "outlinewidth": 0,
             "ticks": ""
            },
            "colorscale": [
             [
              0,
              "#0d0887"
             ],
             [
              0.1111111111111111,
              "#46039f"
             ],
             [
              0.2222222222222222,
              "#7201a8"
             ],
             [
              0.3333333333333333,
              "#9c179e"
             ],
             [
              0.4444444444444444,
              "#bd3786"
             ],
             [
              0.5555555555555556,
              "#d8576b"
             ],
             [
              0.6666666666666666,
              "#ed7953"
             ],
             [
              0.7777777777777778,
              "#fb9f3a"
             ],
             [
              0.8888888888888888,
              "#fdca26"
             ],
             [
              1,
              "#f0f921"
             ]
            ],
            "type": "heatmap"
           }
          ],
          "heatmapgl": [
           {
            "colorbar": {
             "outlinewidth": 0,
             "ticks": ""
            },
            "colorscale": [
             [
              0,
              "#0d0887"
             ],
             [
              0.1111111111111111,
              "#46039f"
             ],
             [
              0.2222222222222222,
              "#7201a8"
             ],
             [
              0.3333333333333333,
              "#9c179e"
             ],
             [
              0.4444444444444444,
              "#bd3786"
             ],
             [
              0.5555555555555556,
              "#d8576b"
             ],
             [
              0.6666666666666666,
              "#ed7953"
             ],
             [
              0.7777777777777778,
              "#fb9f3a"
             ],
             [
              0.8888888888888888,
              "#fdca26"
             ],
             [
              1,
              "#f0f921"
             ]
            ],
            "type": "heatmapgl"
           }
          ],
          "histogram": [
           {
            "marker": {
             "pattern": {
              "fillmode": "overlay",
              "size": 10,
              "solidity": 0.2
             }
            },
            "type": "histogram"
           }
          ],
          "histogram2d": [
           {
            "colorbar": {
             "outlinewidth": 0,
             "ticks": ""
            },
            "colorscale": [
             [
              0,
              "#0d0887"
             ],
             [
              0.1111111111111111,
              "#46039f"
             ],
             [
              0.2222222222222222,
              "#7201a8"
             ],
             [
              0.3333333333333333,
              "#9c179e"
             ],
             [
              0.4444444444444444,
              "#bd3786"
             ],
             [
              0.5555555555555556,
              "#d8576b"
             ],
             [
              0.6666666666666666,
              "#ed7953"
             ],
             [
              0.7777777777777778,
              "#fb9f3a"
             ],
             [
              0.8888888888888888,
              "#fdca26"
             ],
             [
              1,
              "#f0f921"
             ]
            ],
            "type": "histogram2d"
           }
          ],
          "histogram2dcontour": [
           {
            "colorbar": {
             "outlinewidth": 0,
             "ticks": ""
            },
            "colorscale": [
             [
              0,
              "#0d0887"
             ],
             [
              0.1111111111111111,
              "#46039f"
             ],
             [
              0.2222222222222222,
              "#7201a8"
             ],
             [
              0.3333333333333333,
              "#9c179e"
             ],
             [
              0.4444444444444444,
              "#bd3786"
             ],
             [
              0.5555555555555556,
              "#d8576b"
             ],
             [
              0.6666666666666666,
              "#ed7953"
             ],
             [
              0.7777777777777778,
              "#fb9f3a"
             ],
             [
              0.8888888888888888,
              "#fdca26"
             ],
             [
              1,
              "#f0f921"
             ]
            ],
            "type": "histogram2dcontour"
           }
          ],
          "mesh3d": [
           {
            "colorbar": {
             "outlinewidth": 0,
             "ticks": ""
            },
            "type": "mesh3d"
           }
          ],
          "parcoords": [
           {
            "line": {
             "colorbar": {
              "outlinewidth": 0,
              "ticks": ""
             }
            },
            "type": "parcoords"
           }
          ],
          "pie": [
           {
            "automargin": true,
            "type": "pie"
           }
          ],
          "scatter": [
           {
            "fillpattern": {
             "fillmode": "overlay",
             "size": 10,
             "solidity": 0.2
            },
            "type": "scatter"
           }
          ],
          "scatter3d": [
           {
            "line": {
             "colorbar": {
              "outlinewidth": 0,
              "ticks": ""
             }
            },
            "marker": {
             "colorbar": {
              "outlinewidth": 0,
              "ticks": ""
             }
            },
            "type": "scatter3d"
           }
          ],
          "scattercarpet": [
           {
            "marker": {
             "colorbar": {
              "outlinewidth": 0,
              "ticks": ""
             }
            },
            "type": "scattercarpet"
           }
          ],
          "scattergeo": [
           {
            "marker": {
             "colorbar": {
              "outlinewidth": 0,
              "ticks": ""
             }
            },
            "type": "scattergeo"
           }
          ],
          "scattergl": [
           {
            "marker": {
             "colorbar": {
              "outlinewidth": 0,
              "ticks": ""
             }
            },
            "type": "scattergl"
           }
          ],
          "scattermapbox": [
           {
            "marker": {
             "colorbar": {
              "outlinewidth": 0,
              "ticks": ""
             }
            },
            "type": "scattermapbox"
           }
          ],
          "scatterpolar": [
           {
            "marker": {
             "colorbar": {
              "outlinewidth": 0,
              "ticks": ""
             }
            },
            "type": "scatterpolar"
           }
          ],
          "scatterpolargl": [
           {
            "marker": {
             "colorbar": {
              "outlinewidth": 0,
              "ticks": ""
             }
            },
            "type": "scatterpolargl"
           }
          ],
          "scatterternary": [
           {
            "marker": {
             "colorbar": {
              "outlinewidth": 0,
              "ticks": ""
             }
            },
            "type": "scatterternary"
           }
          ],
          "surface": [
           {
            "colorbar": {
             "outlinewidth": 0,
             "ticks": ""
            },
            "colorscale": [
             [
              0,
              "#0d0887"
             ],
             [
              0.1111111111111111,
              "#46039f"
             ],
             [
              0.2222222222222222,
              "#7201a8"
             ],
             [
              0.3333333333333333,
              "#9c179e"
             ],
             [
              0.4444444444444444,
              "#bd3786"
             ],
             [
              0.5555555555555556,
              "#d8576b"
             ],
             [
              0.6666666666666666,
              "#ed7953"
             ],
             [
              0.7777777777777778,
              "#fb9f3a"
             ],
             [
              0.8888888888888888,
              "#fdca26"
             ],
             [
              1,
              "#f0f921"
             ]
            ],
            "type": "surface"
           }
          ],
          "table": [
           {
            "cells": {
             "fill": {
              "color": "#EBF0F8"
             },
             "line": {
              "color": "white"
             }
            },
            "header": {
             "fill": {
              "color": "#C8D4E3"
             },
             "line": {
              "color": "white"
             }
            },
            "type": "table"
           }
          ]
         },
         "layout": {
          "annotationdefaults": {
           "arrowcolor": "#2a3f5f",
           "arrowhead": 0,
           "arrowwidth": 1
          },
          "autotypenumbers": "strict",
          "coloraxis": {
           "colorbar": {
            "outlinewidth": 0,
            "ticks": ""
           }
          },
          "colorscale": {
           "diverging": [
            [
             0,
             "#8e0152"
            ],
            [
             0.1,
             "#c51b7d"
            ],
            [
             0.2,
             "#de77ae"
            ],
            [
             0.3,
             "#f1b6da"
            ],
            [
             0.4,
             "#fde0ef"
            ],
            [
             0.5,
             "#f7f7f7"
            ],
            [
             0.6,
             "#e6f5d0"
            ],
            [
             0.7,
             "#b8e186"
            ],
            [
             0.8,
             "#7fbc41"
            ],
            [
             0.9,
             "#4d9221"
            ],
            [
             1,
             "#276419"
            ]
           ],
           "sequential": [
            [
             0,
             "#0d0887"
            ],
            [
             0.1111111111111111,
             "#46039f"
            ],
            [
             0.2222222222222222,
             "#7201a8"
            ],
            [
             0.3333333333333333,
             "#9c179e"
            ],
            [
             0.4444444444444444,
             "#bd3786"
            ],
            [
             0.5555555555555556,
             "#d8576b"
            ],
            [
             0.6666666666666666,
             "#ed7953"
            ],
            [
             0.7777777777777778,
             "#fb9f3a"
            ],
            [
             0.8888888888888888,
             "#fdca26"
            ],
            [
             1,
             "#f0f921"
            ]
           ],
           "sequentialminus": [
            [
             0,
             "#0d0887"
            ],
            [
             0.1111111111111111,
             "#46039f"
            ],
            [
             0.2222222222222222,
             "#7201a8"
            ],
            [
             0.3333333333333333,
             "#9c179e"
            ],
            [
             0.4444444444444444,
             "#bd3786"
            ],
            [
             0.5555555555555556,
             "#d8576b"
            ],
            [
             0.6666666666666666,
             "#ed7953"
            ],
            [
             0.7777777777777778,
             "#fb9f3a"
            ],
            [
             0.8888888888888888,
             "#fdca26"
            ],
            [
             1,
             "#f0f921"
            ]
           ]
          },
          "colorway": [
           "#636efa",
           "#EF553B",
           "#00cc96",
           "#ab63fa",
           "#FFA15A",
           "#19d3f3",
           "#FF6692",
           "#B6E880",
           "#FF97FF",
           "#FECB52"
          ],
          "font": {
           "color": "#2a3f5f"
          },
          "geo": {
           "bgcolor": "white",
           "lakecolor": "white",
           "landcolor": "#E5ECF6",
           "showlakes": true,
           "showland": true,
           "subunitcolor": "white"
          },
          "hoverlabel": {
           "align": "left"
          },
          "hovermode": "closest",
          "mapbox": {
           "style": "light"
          },
          "paper_bgcolor": "white",
          "plot_bgcolor": "#E5ECF6",
          "polar": {
           "angularaxis": {
            "gridcolor": "white",
            "linecolor": "white",
            "ticks": ""
           },
           "bgcolor": "#E5ECF6",
           "radialaxis": {
            "gridcolor": "white",
            "linecolor": "white",
            "ticks": ""
           }
          },
          "scene": {
           "xaxis": {
            "backgroundcolor": "#E5ECF6",
            "gridcolor": "white",
            "gridwidth": 2,
            "linecolor": "white",
            "showbackground": true,
            "ticks": "",
            "zerolinecolor": "white"
           },
           "yaxis": {
            "backgroundcolor": "#E5ECF6",
            "gridcolor": "white",
            "gridwidth": 2,
            "linecolor": "white",
            "showbackground": true,
            "ticks": "",
            "zerolinecolor": "white"
           },
           "zaxis": {
            "backgroundcolor": "#E5ECF6",
            "gridcolor": "white",
            "gridwidth": 2,
            "linecolor": "white",
            "showbackground": true,
            "ticks": "",
            "zerolinecolor": "white"
           }
          },
          "shapedefaults": {
           "line": {
            "color": "#2a3f5f"
           }
          },
          "ternary": {
           "aaxis": {
            "gridcolor": "white",
            "linecolor": "white",
            "ticks": ""
           },
           "baxis": {
            "gridcolor": "white",
            "linecolor": "white",
            "ticks": ""
           },
           "bgcolor": "#E5ECF6",
           "caxis": {
            "gridcolor": "white",
            "linecolor": "white",
            "ticks": ""
           }
          },
          "title": {
           "x": 0.05
          },
          "xaxis": {
           "automargin": true,
           "gridcolor": "white",
           "linecolor": "white",
           "ticks": "",
           "title": {
            "standoff": 15
           },
           "zerolinecolor": "white",
           "zerolinewidth": 2
          },
          "yaxis": {
           "automargin": true,
           "gridcolor": "white",
           "linecolor": "white",
           "ticks": "",
           "title": {
            "standoff": 15
           },
           "zerolinecolor": "white",
           "zerolinewidth": 2
          }
         }
        },
        "title": {
         "text": "Matérn Kernel"
        }
       }
      }
     },
     "metadata": {},
     "output_type": "display_data"
    }
   ],
   "source": [
    "x_lines = np.arange(-10, 10, 0.1)\n",
    "\n",
    "# Initialize with default parameters for the Matérn kernel\n",
    "kernel = MaternKernel()\n",
    "\n",
    "# Create the initial plot\n",
    "fig0 = go.Figure(data=[\n",
    "    go.Scatter(\n",
    "        x=x_lines,\n",
    "        y=[kernel(x, 0) for x in x_lines],\n",
    "        mode='lines'\n",
    "    )\n",
    "])\n",
    "\n",
    "# Update the layout for clarity\n",
    "fig0.update_layout(title='Matérn Kernel')\n",
    "\n",
    "# Define the update function for interact\n",
    "@interact(length=(0.1, 3, 0.1), nu=(0.5, 5.0, 0.5), argument_2=(-10, 10, 0.1))\n",
    "def update(length=1.0, nu=1.5, argument_2=0):\n",
    "    kernel = MaternKernel(length=length, nu=nu)\n",
    "    fig0.data[0].y = [kernel(x, argument_2) for x in x_lines]\n",
    "    fig0.show()"
   ]
  },
  {
   "cell_type": "markdown",
   "id": "18f81bfc",
   "metadata": {},
   "source": [
    "Let us shortly recall the formula:\n",
    "Given training points $\\mathbf{x}_1, \\dots, \\mathbf{x}_n \\in \\mathbb{R}^m$ with values $y_1, \\dots, y_n \\in \\mathbb{R}$, $\\mathbf{y} = (y_i) \\in \\mathbb{R}^n$ with noise in each point $\\mathcal{N} \\sim (0, \\sigma_n)$, and points $\\mathbf{x}_{n+1}, \\dots, \\mathbf{x}_k \\in \\mathbb{R}^m$ for which we want to predict the output, adapting our probability distribution leads to:\n",
    "\n",
    "$$\n",
    "f_* | X_*, X, y \\sim \\mathcal{N}\\left(K(X, X_*) \\cdot (K(X, X) + \\sigma^2 \\cdot I)^{-1} \\cdot \\mathbf{y},\n",
    "K(X_*, X_*) - K(X, X_*) \\cdot (K(X, X) + \\sigma^2 \\cdot I)^{-1} \\cdot K(X, X_*)\\right)\n",
    "$$\n",
    "\n",
    "where $K : (\\mathbb{R}^m)^k \\times (\\mathbb{R}^m)^l \\to \\mathbb{R}^{k \\times l}$ is defined as the matrix:\n",
    "\n",
    "$$\n",
    "K(X, X') = \\begin{bmatrix}\n",
    "    k(\\mathbf{x}_1, \\mathbf{x}'_1) & \\dots & k(\\mathbf{x}_1, \\mathbf{x}'_l) \\\\\n",
    "    \\vdots & \\ddots & \\vdots \\\\\n",
    "    k(\\mathbf{x}_k, \\mathbf{x}'_1) & \\dots & k(\\mathbf{x}_k, \\mathbf{x}'_l)\n",
    "\\end{bmatrix}\n",
    "$$\n",
    "\n",
    "the covariance matrix of $X$ and $X'$ with $X, X' \\in \\{X, X_*\\}$. This can either be the covariance matrix of training data $K(X, X)$, of test data $K(X_*, X_*)$, or of training with test data $K(X, X_*)$. $\\sigma_n$ is some noise parameter which makes sense as one should not assume $y=f(x)$ for our purposes but some error $y=f(x)+\\epsilon$. For the noise free case, set $\\sigma_n=0$."
   ]
  },
  {
   "cell_type": "markdown",
   "id": "f62091b9",
   "metadata": {},
   "source": [
    "DERIVE $f_* | X_*, X, y$"
   ]
  },
  {
   "cell_type": "code",
   "execution_count": 55,
   "id": "06c65a7a",
   "metadata": {},
   "outputs": [],
   "source": [
    "# Helper function to calculate the respective covariance matrices\n",
    "def cov_matrix(x1, x2, cov_function) -> np.array:\n",
    "    return np.array([[cov_function(a, b) for a in x1] for b in x2])"
   ]
  },
  {
   "cell_type": "code",
   "execution_count": 56,
   "id": "d9bdfc5b",
   "metadata": {},
   "outputs": [],
   "source": [
    "class GPR:\n",
    "    def __init__(self, data_x, data_y, covariance_function=SquaredExponentialKernel(), white_noise_sigma: float = 0):\n",
    "        self.noise = white_noise_sigma\n",
    "        self.data_x = data_x\n",
    "        self.data_y = data_y\n",
    "        self.covariance_function = covariance_function\n",
    "\n",
    "        # Store the inverse of covariance matrix of input since it is needed for every prediction\n",
    "        self._inverse_of_covariance_matrix_of_input_noise_adj = np.linalg.inv(\n",
    "            cov_matrix(data_x, data_x, covariance_function) + self.noise * np.identity(len(self.data_x)))\n",
    "\n",
    "        self._memory = None  # Will later store a dictionary containing mean, covariance matrix, and variance of the predictions.\n",
    "\n",
    "    # Function to predict output at new input values. Store the mean and covariance matrix in memory.\n",
    "    def predict(self, test_data: np.ndarray) -> np.ndarray:\n",
    "        # Calculate covariance matrices\n",
    "        KXX_star = cov_matrix(test_data, self.data_x, self.covariance_function)  # K(X, X_*)\n",
    "        KX_starX_star = cov_matrix(test_data, test_data, self.covariance_function)  # K(X_*, X_*)\n",
    "\n",
    "        # Mean prediction using formula: K(X, X_*) * (K(X, X) + sigma^2 * I)^(-1) * y\n",
    "        mean_test_data = KXX_star @ (self._inverse_of_covariance_matrix_of_input_noise_adj @ self.data_y)  # in n x 1\n",
    "\n",
    "        # Covariance prediction using formula: K(X_*, X_*) - K(X, X_*) * (K(X, X) + sigma^2 * I)^(-1) * K(X, X_*)^T\n",
    "        cov_test_data = KX_starX_star - KXX_star @ (self._inverse_of_covariance_matrix_of_input_noise_adj @ KXX_star.T)  # in n x n\n",
    "\n",
    "        # Variance (diagonal elements of the covariance matrix).\n",
    "        var_test_data = np.diag(cov_test_data)  # in n x 1\n",
    "\n",
    "        # Store results in memory\n",
    "        self._memory = {\n",
    "            'mean': mean_test_data,\n",
    "            'covariance_matrix': cov_test_data,\n",
    "            'variance': var_test_data\n",
    "        }\n",
    "        \n",
    "        return mean_test_data"
   ]
  },
  {
   "cell_type": "markdown",
   "id": "9e6b586e",
   "metadata": {},
   "source": [
    "That's it. The GPR is ready to be used! "
   ]
  },
  {
   "cell_type": "markdown",
   "id": "a5e2f744",
   "metadata": {},
   "source": [
    "## Testing"
   ]
  },
  {
   "cell_type": "markdown",
   "id": "decbe1a4",
   "metadata": {},
   "source": [
    "Let us initialize our GPR on a random training set and visualize the GPR. "
   ]
  },
  {
   "cell_type": "markdown",
   "id": "4a9aa377",
   "metadata": {},
   "source": [
    "### Initializing training data"
   ]
  },
  {
   "cell_type": "code",
   "execution_count": 59,
   "id": "12f59452",
   "metadata": {},
   "outputs": [
    {
     "ename": "ValueError",
     "evalue": "matmul: Input operand 1 has a mismatch in its core dimension 0, with gufunc signature (n?,k),(k,m?)->(n?,m?) (size 10 is different from 100)",
     "output_type": "error",
     "traceback": [
      "\u001b[1;31m---------------------------------------------------------------------------\u001b[0m",
      "\u001b[1;31mValueError\u001b[0m                                Traceback (most recent call last)",
      "Cell \u001b[1;32mIn[59], line 10\u001b[0m\n\u001b[0;32m      8\u001b[0m \u001b[38;5;66;03m# Predict on new test data\u001b[39;00m\n\u001b[0;32m      9\u001b[0m test_data \u001b[38;5;241m=\u001b[39m np\u001b[38;5;241m.\u001b[39mlinspace(\u001b[38;5;241m-\u001b[39m\u001b[38;5;241m6\u001b[39m, \u001b[38;5;241m6\u001b[39m, \u001b[38;5;241m100\u001b[39m)\u001b[38;5;241m.\u001b[39mreshape(\u001b[38;5;241m-\u001b[39m\u001b[38;5;241m1\u001b[39m, \u001b[38;5;241m1\u001b[39m)\n\u001b[1;32m---> 10\u001b[0m mean_predictions \u001b[38;5;241m=\u001b[39m gpr_se\u001b[38;5;241m.\u001b[39mpredict(test_data)\n\u001b[0;32m     12\u001b[0m \u001b[38;5;66;03m# Print the predicted mean values for the test data\u001b[39;00m\n\u001b[0;32m     13\u001b[0m \u001b[38;5;28mprint\u001b[39m(\u001b[38;5;124m\"\u001b[39m\u001b[38;5;124mPredicted means:\u001b[39m\u001b[38;5;130;01m\\n\u001b[39;00m\u001b[38;5;124m\"\u001b[39m, mean_predictions)\n",
      "Cell \u001b[1;32mIn[56], line 21\u001b[0m, in \u001b[0;36mGPR.predict\u001b[1;34m(self, test_data)\u001b[0m\n\u001b[0;32m     18\u001b[0m KX_starX_star \u001b[38;5;241m=\u001b[39m cov_matrix(test_data, test_data, \u001b[38;5;28mself\u001b[39m\u001b[38;5;241m.\u001b[39mcovariance_function)  \u001b[38;5;66;03m# K(X_*, X_*)\u001b[39;00m\n\u001b[0;32m     20\u001b[0m \u001b[38;5;66;03m# Mean prediction using formula: K(X, X_*) * (K(X, X) + sigma^2 * I)^(-1) * y\u001b[39;00m\n\u001b[1;32m---> 21\u001b[0m mean_test_data \u001b[38;5;241m=\u001b[39m KXX_star \u001b[38;5;241m@\u001b[39m (\u001b[38;5;28mself\u001b[39m\u001b[38;5;241m.\u001b[39m_inverse_of_covariance_matrix_of_input_noise_adj \u001b[38;5;241m@\u001b[39m \u001b[38;5;28mself\u001b[39m\u001b[38;5;241m.\u001b[39mdata_y)  \u001b[38;5;66;03m# in n x 1\u001b[39;00m\n\u001b[0;32m     23\u001b[0m \u001b[38;5;66;03m# Covariance prediction using formula: K(X_*, X_*) - K(X, X_*) * (K(X, X) + sigma^2 * I)^(-1) * K(X, X_*)^T\u001b[39;00m\n\u001b[0;32m     24\u001b[0m cov_test_data \u001b[38;5;241m=\u001b[39m KX_starX_star \u001b[38;5;241m-\u001b[39m KXX_star \u001b[38;5;241m@\u001b[39m (\u001b[38;5;28mself\u001b[39m\u001b[38;5;241m.\u001b[39m_inverse_of_covariance_matrix_of_input_noise_adj \u001b[38;5;241m@\u001b[39m KXX_star\u001b[38;5;241m.\u001b[39mT)  \u001b[38;5;66;03m# in n x n\u001b[39;00m\n",
      "\u001b[1;31mValueError\u001b[0m: matmul: Input operand 1 has a mismatch in its core dimension 0, with gufunc signature (n?,k),(k,m?)->(n?,m?) (size 10 is different from 100)"
     ]
    }
   ],
   "source": [
    "np.random.seed(69)\n",
    "data_x = np.linspace(-5, 5, 10).reshape(-1, 1)\n",
    "data_y = np.sin(data_x) + 0.1 * np.random.randn(10, 1) #including noise\n",
    "\n",
    "# Instantiate GPR with Squared Exponential Kernel\n",
    "gpr_se = GPR(data_x, data_y, covariance_function=SquaredExponentialKernel(), white_noise_sigma=0.1)\n",
    "\n",
    "# Predict on new test data\n",
    "test_data = np.linspace(-6, 6, 100).reshape(-1, 1)\n",
    "mean_predictions = gpr_se.predict(test_data)\n",
    "\n",
    "# Print the predicted mean values for the test data\n",
    "print(\"Predicted means:\\n\", mean_predictions)\n"
   ]
  },
  {
   "cell_type": "code",
   "execution_count": null,
   "id": "baf9cac1",
   "metadata": {},
   "outputs": [],
   "source": []
  },
  {
   "cell_type": "markdown",
   "id": "8410f233",
   "metadata": {},
   "source": [
    "### Plot the output"
   ]
  },
  {
   "cell_type": "markdown",
   "id": "fe426230",
   "metadata": {},
   "source": [
    "Let us define a helper function which returns a list of all plots of data points, mean, etc. needed to plot a GPR."
   ]
  },
  {
   "cell_type": "code",
   "execution_count": 46,
   "id": "b99b06c2",
   "metadata": {},
   "outputs": [],
   "source": [
    "def plot_GPR(data_x, data_y, model, x, visible=True) -> list:\n",
    "    mean = model.predict(x)\n",
    "\n",
    "    std = np.sqrt(model._memory['variance'])\n",
    "    data = []\n",
    "\n",
    "    for i in range(1, 4):\n",
    "        data.append(\n",
    "            uncertainty_area_scatter(\n",
    "                x_lines=x,\n",
    "                y_lower=mean - i * std,\n",
    "                y_upper=mean + i * std,\n",
    "                name=f\"mean plus/minus {i}*standard deviation\",\n",
    "                visible=visible))\n",
    "\n",
    "    data.append(line_scatter(x_lines=x, y_lines=mean, visible=visible))\n",
    "    data.append(dot_scatter(x_dots=data_x, y_dots=data_y, visible=visible))\n",
    "    return data"
   ]
  },
  {
   "cell_type": "markdown",
   "id": "51cd9df1",
   "metadata": {},
   "source": [
    "Now, we can visualize our first GPR."
   ]
  },
  {
   "cell_type": "code",
   "execution_count": 47,
   "id": "9a82c61f",
   "metadata": {},
   "outputs": [
    {
     "ename": "ValueError",
     "evalue": "shapes (5,80) and (5,) not aligned: 80 (dim 1) != 5 (dim 0)",
     "output_type": "error",
     "traceback": [
      "\u001b[1;31m---------------------------------------------------------------------------\u001b[0m",
      "\u001b[1;31mValueError\u001b[0m                                Traceback (most recent call last)",
      "Cell \u001b[1;32mIn[47], line 2\u001b[0m\n\u001b[0;32m      1\u001b[0m model \u001b[38;5;241m=\u001b[39m GPR(x_values, y_values)\n\u001b[1;32m----> 2\u001b[0m data \u001b[38;5;241m=\u001b[39m plot_GPR(data_x\u001b[38;5;241m=\u001b[39mx_values, data_y\u001b[38;5;241m=\u001b[39my_values, x\u001b[38;5;241m=\u001b[39mx, model\u001b[38;5;241m=\u001b[39mmodel)\n\u001b[0;32m      3\u001b[0m fig4 \u001b[38;5;241m=\u001b[39m go\u001b[38;5;241m.\u001b[39mFigure(data\u001b[38;5;241m=\u001b[39mdata)\n\u001b[0;32m      4\u001b[0m fig4 \u001b[38;5;241m=\u001b[39m update_layout_of_graph(fig\u001b[38;5;241m=\u001b[39mfig4,\n\u001b[0;32m      5\u001b[0m                               title\u001b[38;5;241m=\u001b[39m\u001b[38;5;124m'\u001b[39m\u001b[38;5;124mGPR with length 1, sigma 0 and noise 0\u001b[39m\u001b[38;5;124m'\u001b[39m)\n",
      "Cell \u001b[1;32mIn[46], line 2\u001b[0m, in \u001b[0;36mplot_GPR\u001b[1;34m(data_x, data_y, model, x, visible)\u001b[0m\n\u001b[0;32m      1\u001b[0m \u001b[38;5;28;01mdef\u001b[39;00m \u001b[38;5;21mplot_GPR\u001b[39m(data_x, data_y, model, x, visible\u001b[38;5;241m=\u001b[39m\u001b[38;5;28;01mTrue\u001b[39;00m) \u001b[38;5;241m-\u001b[39m\u001b[38;5;241m>\u001b[39m \u001b[38;5;28mlist\u001b[39m:\n\u001b[1;32m----> 2\u001b[0m     mean \u001b[38;5;241m=\u001b[39m model\u001b[38;5;241m.\u001b[39mpredict(x)\n\u001b[0;32m      4\u001b[0m     std \u001b[38;5;241m=\u001b[39m np\u001b[38;5;241m.\u001b[39msqrt(model\u001b[38;5;241m.\u001b[39m_memory[\u001b[38;5;124m'\u001b[39m\u001b[38;5;124mvariance\u001b[39m\u001b[38;5;124m'\u001b[39m])\n\u001b[0;32m      5\u001b[0m     data \u001b[38;5;241m=\u001b[39m []\n",
      "Cell \u001b[1;32mIn[43], line 26\u001b[0m, in \u001b[0;36mGPR.predict\u001b[1;34m(self, test_data)\u001b[0m\n\u001b[0;32m     23\u001b[0m KX_starX_star \u001b[38;5;241m=\u001b[39m cov_matrix(test_data, test_data, \u001b[38;5;28mself\u001b[39m\u001b[38;5;241m.\u001b[39mcovariance_function)  \u001b[38;5;66;03m# K(X_*, X_*)\u001b[39;00m\n\u001b[0;32m     25\u001b[0m \u001b[38;5;66;03m# Mean prediction using formula: K(X, X_*) * (K(X, X) + sigma^2 * I)^(-1) * y\u001b[39;00m\n\u001b[1;32m---> 26\u001b[0m mean_test_data \u001b[38;5;241m=\u001b[39m np\u001b[38;5;241m.\u001b[39mdot(KXX_star, np\u001b[38;5;241m.\u001b[39mdot(\u001b[38;5;28mself\u001b[39m\u001b[38;5;241m.\u001b[39m_inverse_of_covariance_matrix_of_input, \u001b[38;5;28mself\u001b[39m\u001b[38;5;241m.\u001b[39mdata_y))\u001b[38;5;241m.\u001b[39mflatten()\n\u001b[0;32m     28\u001b[0m \u001b[38;5;66;03m# Covariance prediction using formula: K(X_*, X_*) - K(X, X_*) * (K(X, X) + sigma^2 * I)^(-1) * K(X, X_*)^T\u001b[39;00m\n\u001b[0;32m     29\u001b[0m cov_test_data \u001b[38;5;241m=\u001b[39m KX_starX_star \u001b[38;5;241m-\u001b[39m np\u001b[38;5;241m.\u001b[39mdot(\n\u001b[0;32m     30\u001b[0m     KXX_star, np\u001b[38;5;241m.\u001b[39mdot(\u001b[38;5;28mself\u001b[39m\u001b[38;5;241m.\u001b[39m_inverse_of_covariance_matrix_of_input, KXX_star\u001b[38;5;241m.\u001b[39mT))\n",
      "\u001b[1;31mValueError\u001b[0m: shapes (5,80) and (5,) not aligned: 80 (dim 1) != 5 (dim 0)"
     ]
    }
   ],
   "source": [
    "model = GPR(x_values, y_values)\n",
    "data = plot_GPR(data_x=x_values, data_y=y_values, x=x, model=model)\n",
    "fig4 = go.Figure(data=data)\n",
    "fig4 = update_layout_of_graph(fig=fig4,\n",
    "                              title='GPR with length 1, sigma 0 and noise 0')\n",
    "\n",
    "fig4.show()"
   ]
  },
  {
   "cell_type": "markdown",
   "id": "b409d823",
   "metadata": {},
   "source": [
    "A cool feature of the GPR is that it is sort of a probability distribution over function - so we can literally 'draw' random functions!"
   ]
  },
  {
   "cell_type": "code",
   "execution_count": 30,
   "id": "045e7091",
   "metadata": {},
   "outputs": [
    {
     "data": {
      "application/vnd.jupyter.widget-view+json": {
       "model_id": "c1ec5f324f8140de80ea3e0e8e8c87ba",
       "version_major": 2,
       "version_minor": 0
      },
      "text/plain": [
       "VBox(children=(FigureWidget({\n",
       "    'data': [{'marker': {'color': 'red', 'size': 8},\n",
       "              'mode': 'mark…"
      ]
     },
     "metadata": {},
     "output_type": "display_data"
    }
   ],
   "source": [
    "model = GPR(x_values, y_values)\n",
    "\n",
    "mean = model.predict(x)\n",
    "covariance_matrix = model._memory['covariance_matrix']\n",
    "\n",
    "fig1 = go.FigureWidget(data=[dot_scatter(x_dots=x_values, y_dots=y_values)])\n",
    "fig1 = update_layout_of_graph(\n",
    "    fig1,\n",
    "    title='Random drawings (i.e. random functions) of the Gaussian process')\n",
    "\n",
    "button = widgets.Button(description='Add random drawing')\n",
    "\n",
    "\n",
    "def update(_):\n",
    "    with fig1.batch_update():\n",
    "        fig1.add_trace(\n",
    "            line_scatter(x_lines=x,\n",
    "                         y_lines=np.random.multivariate_normal(\n",
    "                             mean, covariance_matrix),\n",
    "                         name_line='random function',\n",
    "                         showlegend=False))\n",
    "        fig1.add_trace(\n",
    "            dot_scatter(x_dots=x_values, y_dots=y_values, showlegend=False))\n",
    "\n",
    "\n",
    "button.on_click(update)\n",
    "widgets.VBox([fig1, button])"
   ]
  },
  {
   "cell_type": "markdown",
   "id": "876ee73f",
   "metadata": {},
   "source": [
    "Doing predictions with a GPR is usually done by taking the mean function as our best guess. Since GPR's are a probabilistic model, we get in addition some sort of certainty of our prediction. (But be careful how to interpret this uncertainty area! Believing that every 'new' point must be in the uncertainty area is simply wrong!)"
   ]
  },
  {
   "cell_type": "code",
   "execution_count": 31,
   "id": "36354bda",
   "metadata": {},
   "outputs": [
    {
     "data": {
      "application/vnd.jupyter.widget-view+json": {
       "model_id": "a76ee54eb2e34625bbd8d0eca6dc7aff",
       "version_major": 2,
       "version_minor": 0
      },
      "text/plain": [
       "VBox(children=(FigureWidget({\n",
       "    'data': [{'fill': 'toself',\n",
       "              'fillcolor': 'rgba(189,195,199,0.5…"
      ]
     },
     "metadata": {},
     "output_type": "display_data"
    }
   ],
   "source": [
    "model = GPR(x_values[:1], y_values[:1])\n",
    "\n",
    "data = plot_GPR(data_x=x_values[:1], data_y=y_values[:1], x=x, model=model)\n",
    "\n",
    "fig2 = go.FigureWidget(data=data)\n",
    "fig2 = update_layout_of_graph(fig2, title='Prediction (i.e. mean) of GPR')\n",
    "\n",
    "button = widgets.Button(description='Add data point')\n",
    "\n",
    "number_of_points = 1\n",
    "\n",
    "# we update the y values of our 4 scatter plots \n",
    "def update(_):\n",
    "    with fig2.batch_update():\n",
    "        global number_of_points\n",
    "        if number_of_points < len(x_values):\n",
    "            number_of_points += 1\n",
    "            model = GPR(x_values[:number_of_points],\n",
    "                        y_values[:number_of_points])\n",
    "            mean = model.predict(x)\n",
    "            fig2.data[3].y = mean\n",
    "            for i in range(1, 4):\n",
    "                y_upper = mean + i * np.sqrt(model._memory['variance'])\n",
    "                y_lower = mean - i * np.sqrt(model._memory['variance'])\n",
    "                fig2.data[i - 1].y = np.concatenate((y_upper, y_lower[::-1]))\n",
    "\n",
    "            fig2.data[4].x = x_values[:number_of_points]\n",
    "            fig2.data[4].y = y_values[:number_of_points]\n",
    "\n",
    "\n",
    "button.on_click(update)\n",
    "widgets.VBox([fig2, button])"
   ]
  },
  {
   "cell_type": "markdown",
   "id": "ce23fd04",
   "metadata": {},
   "source": [
    "You can test the GPR with different data. Try using multi-dimensional input!"
   ]
  },
  {
   "cell_type": "markdown",
   "id": "1d17146a",
   "metadata": {},
   "source": [
    "### Visualization of effect of free parameters"
   ]
  },
  {
   "cell_type": "markdown",
   "id": "e7e03650",
   "metadata": {},
   "source": [
    "Awesome! Now that we can make predictions with our GPR, lets visualize how the GPR changes if we change the free parameters, i.e. length-scale, variance and white noise."
   ]
  },
  {
   "cell_type": "code",
   "execution_count": 32,
   "id": "cd6e6019",
   "metadata": {},
   "outputs": [
    {
     "data": {
      "application/vnd.jupyter.widget-view+json": {
       "model_id": "c7efea07af3c44be8e089a27fb4ac8ed",
       "version_major": 2,
       "version_minor": 0
      },
      "text/plain": [
       "interactive(children=(FloatSlider(value=1.0, description='sigma', max=3.0, min=0.01, step=0.01), FloatSlider(v…"
      ]
     },
     "metadata": {},
     "output_type": "display_data"
    },
    {
     "data": {
      "application/vnd.jupyter.widget-view+json": {
       "model_id": "c13e4b541401486ca2e8215f72675951",
       "version_major": 2,
       "version_minor": 0
      },
      "text/plain": [
       "FigureWidget({\n",
       "    'data': [{'fill': 'toself',\n",
       "              'fillcolor': 'rgba(189,195,199,0.5)',\n",
       "           …"
      ]
     },
     "metadata": {},
     "output_type": "display_data"
    }
   ],
   "source": [
    "model = GPR(x_values,\n",
    "            y_values,\n",
    "            covariance_function=SquaredExponentialKernel(length=0.5),\n",
    "            white_noise_sigma=0.1)\n",
    "\n",
    "data = plot_GPR(x_values, y_values, model=model, x=x)\n",
    "\n",
    "fig3 = go.FigureWidget(data=data)\n",
    "\n",
    "\n",
    "# we update the y values of our 4 scatter plots \n",
    "@interact(sigma=(0.01, 3, 0.01), length=(0.01, 3, 0.01), noise=(0, 3, 0.1))\n",
    "def update(sigma=1, length=0.5, noise=0.1):\n",
    "    with fig3.batch_update():\n",
    "        model = GPR(x_values,\n",
    "                    y_values,\n",
    "                    covariance_function=SquaredExponentialKernel(\n",
    "                        sigma_f=sigma, length=length),\n",
    "                    white_noise_sigma=noise)\n",
    "\n",
    "        mean = model.predict(x)\n",
    "        y_upper = mean + np.sqrt(model._memory['variance'])\n",
    "        y_lower = mean - np.sqrt(model._memory['variance'])\n",
    "\n",
    "        \n",
    "        for i in range(1, 4):\n",
    "            y_upper = mean + i * np.sqrt(model._memory['variance'])\n",
    "            y_lower = mean - i * np.sqrt(model._memory['variance'])\n",
    "            fig3.data[i-1].y = np.concatenate((y_upper, y_lower[::-1]))\n",
    "        \n",
    "        fig3.data[3].y = mean\n",
    "\n",
    "\n",
    "fig3 = update_layout_of_graph(\n",
    "    fig3, title=\"GPR with varying length, sigma and white noise\")\n",
    "fig3"
   ]
  },
  {
   "cell_type": "markdown",
   "id": "188b1f24",
   "metadata": {},
   "source": [
    "Pretty impressive how many function 'shapes' we can generate with a GPR!\n",
    "\n",
    "But now we naturally raise the question:\n",
    "\n",
    "_What are the best parameters for our GPR and problem?_"
   ]
  }
 ],
 "metadata": {
  "kernelspec": {
   "display_name": "base",
   "language": "python",
   "name": "python3"
  },
  "language_info": {
   "codemirror_mode": {
    "name": "ipython",
    "version": 3
   },
   "file_extension": ".py",
   "mimetype": "text/x-python",
   "name": "python",
   "nbconvert_exporter": "python",
   "pygments_lexer": "ipython3",
   "version": "3.11.7"
  },
  "toc": {
   "base_numbering": 1,
   "nav_menu": {},
   "number_sections": true,
   "sideBar": true,
   "skip_h1_title": false,
   "title_cell": "Table of Contents",
   "title_sidebar": "Contents",
   "toc_cell": false,
   "toc_position": {},
   "toc_section_display": true,
   "toc_window_display": false
  },
  "varInspector": {
   "cols": {
    "lenName": 16,
    "lenType": 16,
    "lenVar": 40
   },
   "kernels_config": {
    "python": {
     "delete_cmd_postfix": "",
     "delete_cmd_prefix": "del ",
     "library": "var_list.py",
     "varRefreshCmd": "print(var_dic_list())"
    },
    "r": {
     "delete_cmd_postfix": ") ",
     "delete_cmd_prefix": "rm(",
     "library": "var_list.r",
     "varRefreshCmd": "cat(var_dic_list()) "
    }
   },
   "types_to_exclude": [
    "module",
    "function",
    "builtin_function_or_method",
    "instance",
    "_Feature"
   ],
   "window_display": false
  }
 },
 "nbformat": 4,
 "nbformat_minor": 5
}
